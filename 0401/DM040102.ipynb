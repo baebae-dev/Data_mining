{
 "cells": [
  {
   "cell_type": "markdown",
   "metadata": {},
   "source": [
    "## (Exercise) 클릭스트림 데이터를 사용한 성별 예측모형 개발\n",
    "<br>"
   ]
  },
  {
   "cell_type": "code",
   "execution_count": null,
   "metadata": {},
   "outputs": [],
   "source": [
    "import pandas as pd\n",
    "import numpy as np\n",
    "import matplotlib.pyplot as plt\n",
    "import seaborn as sns\n",
    "%matplotlib inline\n",
    "\n",
    "from sklearn.linear_model import LogisticRegression\n",
    "from sklearn.neighbors import KNeighborsClassifier\n",
    "from sklearn.tree import DecisionTreeClassifier\n",
    "from sklearn.neural_network import MLPClassifier\n",
    "from sklearn.svm import SVC\n",
    "from sklearn.ensemble import RandomForestClassifier, AdaBoostClassifier, GradientBoostingClassifier\n",
    "from sklearn.model_selection import cross_val_score"
   ]
  },
  {
   "cell_type": "code",
   "execution_count": null,
   "metadata": {},
   "outputs": [],
   "source": [
    "# 이 셀의 코드는 수정하지 마세요 !\n",
    "\n",
    "df_train = pd.read_csv('data_train_6964.csv', encoding='cp949')\n",
    "df_test = pd.read_csv('data_test_6964.csv', encoding='cp949')\n",
    "df_real = pd.read_csv('data_test_y.csv', usecols=[1])"
   ]
  },
  {
   "cell_type": "code",
   "execution_count": null,
   "metadata": {},
   "outputs": [],
   "source": [
    "# 이 셀의 코드는 수정하지 마세요 !\n",
    "\n",
    "X_train = df_train.drop(['CUS_ID', 'GENDER'], axis=1)\n",
    "y_train = df_train['GENDER']\n",
    "X_test = df_test.drop(['CUS_ID'], axis=1)\n",
    "y_test = df_real['GENDER']"
   ]
  },
  {
   "cell_type": "code",
   "execution_count": null,
   "metadata": {},
   "outputs": [],
   "source": [
    "# 이 셀의 코드는 수정하지 마세요 !\n",
    "\n",
    "from sklearn.preprocessing import StandardScaler\n",
    "\n",
    "scaler = StandardScaler()\n",
    "X_train = scaler.fit_transform(X_train)\n",
    "X_test = scaler.fit_transform(X_test)"
   ]
  },
  {
   "cell_type": "code",
   "execution_count": null,
   "metadata": {},
   "outputs": [],
   "source": [
    "%%time\n",
    "# 이 셀의 코드는 수정하지 마세요 !\n",
    "\n",
    "clfs = []\n",
    "LR=LogisticRegression(random_state=0); clfs.append(LR)\n",
    "SVM=SVC(random_state=0, probability=True); clfs.append(SVM)\n",
    "DT=DecisionTreeClassifier(random_state=0); clfs.append(DT)\n",
    "NN=MLPClassifier(random_state=0); clfs.append(NN)\n",
    "KNN=KNeighborsClassifier(); clfs.append(KNN)\n",
    "ADB=AdaBoostClassifier(DecisionTreeClassifier(random_state=0),random_state=0); clfs.append(ADB)\n",
    "RF=RandomForestClassifier(random_state=0); clfs.append(RF)\n",
    "GBM=GradientBoostingClassifier(random_state=0); clfs.append(GBM)\n",
    "\n",
    "cv_results = []\n",
    "pred_results = []\n",
    "for clf in clfs :\n",
    "    cv_results.append(cross_val_score(clf, X_train, y_train, scoring=\"accuracy\", cv=5, n_jobs=-1))\n",
    "    clf.fit(X_train, y_train)\n",
    "    pred_results.append(pd.Series(clf.predict_proba(X_test)[:,1], name=type(clf).__name__))\n",
    "\n",
    "cv_means = []\n",
    "cv_std = []\n",
    "for cv_result in cv_results:\n",
    "    cv_means.append(cv_result.mean())\n",
    "    cv_std.append(cv_result.std())\n",
    "    \n",
    "cv_res = pd.DataFrame({\"CrossValMeans\":cv_means, \"CrossValerrors\": cv_std, \n",
    "                       \"Algorithm\": [type(i).__name__ for i in clfs]})\n",
    "ensemble_results = pd.concat(pred_results, axis=1)\n",
    "\n",
    "plt.figure(figsize = (8,6))\n",
    "g = sns.barplot(\"CrossValMeans\",\"Algorithm\",data = cv_res, palette=\"Set3\",orient = \"h\",**{'xerr':cv_std})\n",
    "g.set_xlabel(\"Mean Accuracy\")\n",
    "g.set_title(\"Cross validation scores\")\n",
    "plt.show()\n",
    "\n",
    "plt.figure(figsize = (8,6))\n",
    "g = sns.heatmap(ensemble_results.corr(),annot=True)\n",
    "g.set_title(\"Correlation between models\")\n",
    "plt.show()"
   ]
  },
  {
   "cell_type": "markdown",
   "metadata": {},
   "source": [
    "<font color = \"#CC3D3D\">\n",
    "### Ensemble Learning을 통해 가장 성능이 우수한 예측모형을 만드시오.\n",
    "<p>\n",
    "- 위 모형 중에서 적절한 모형 선택 (성능 및 독립성 고려)\n",
    "- 다양한 앙상블 방법 적용 "
   ]
  },
  {
   "cell_type": "code",
   "execution_count": null,
   "metadata": {},
   "outputs": [],
   "source": [
    "# 위 모형을 튜닝하지 말고 진행하시오 !\n"
   ]
  }
 ],
 "metadata": {
  "kernelspec": {
   "display_name": "Python 3",
   "language": "python",
   "name": "python3"
  },
  "language_info": {
   "codemirror_mode": {
    "name": "ipython",
    "version": 3
   },
   "file_extension": ".py",
   "mimetype": "text/x-python",
   "name": "python",
   "nbconvert_exporter": "python",
   "pygments_lexer": "ipython3",
   "version": "3.6.5"
  }
 },
 "nbformat": 4,
 "nbformat_minor": 2
}

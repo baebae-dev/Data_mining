{
 "cells": [
  {
   "cell_type": "markdown",
   "metadata": {
    "colab_type": "text",
    "id": "Xi-_0qA6N5hZ"
   },
   "source": [
    "**Documentation:** \n",
    "- [scikit-learn](http://scikit-learn.org/stable/user_guide.html)\n",
    "- [pandas](http://pandas.pydata.org/pandas-docs/stable/)\n",
    "- [numpy](https://docs.scipy.org/doc/numpy-1.13.0/user/basics.html)\n",
    "- [matplotlib](https://matplotlib.org/2.0.2/users/pyplot_tutorial.html)\n",
    "- [vecstack](https://github.com/vecxoz/vecstack)\n",
    "\n",
    "<br><font color = \"#CC3D3D\">\n",
    "# Ensemble Learning #"
   ]
  },
  {
   "cell_type": "markdown",
   "metadata": {
    "colab": {
     "autoexec": {
      "startup": false,
      "wait_interval": 0
     }
    },
    "colab_type": "code",
    "id": "stensr9MN5hb"
   },
   "source": [
    "#### Data Preparation"
   ]
  },
  {
   "cell_type": "code",
   "execution_count": null,
   "metadata": {
    "colab": {
     "autoexec": {
      "startup": false,
      "wait_interval": 0
     }
    },
    "colab_type": "code",
    "id": "stensr9MN5hb"
   },
   "outputs": [],
   "source": [
    "import pandas as pd\n",
    "import numpy as np\n",
    "import matplotlib.pylab as plt\n",
    "%matplotlib inline\n",
    "import warnings\n",
    "warnings.filterwarnings(\"ignore\", category=DeprecationWarning)\n",
    "warnings.filterwarnings(\"ignore\", category=FutureWarning)"
   ]
  },
  {
   "cell_type": "code",
   "execution_count": null,
   "metadata": {
    "colab": {
     "autoexec": {
      "startup": false,
      "wait_interval": 0
     }
    },
    "colab_type": "code",
    "id": "stensr9MN5hb"
   },
   "outputs": [],
   "source": [
    "from sklearn.datasets import load_breast_cancer\n",
    "data = load_breast_cancer()\n",
    "data.data.shape, data.target.mean()"
   ]
  },
  {
   "cell_type": "code",
   "execution_count": null,
   "metadata": {},
   "outputs": [],
   "source": [
    "from sklearn.model_selection import train_test_split\n",
    "X_train, X_test, y_train, y_test = train_test_split(\n",
    "    data.data, data.target, random_state=0)"
   ]
  },
  {
   "cell_type": "markdown",
   "metadata": {
    "colab_type": "text",
    "id": "U2F37ET-N5iP"
   },
   "source": [
    "<font color = \"#CC3D3D\">\n",
    "### Ensemble with different models"
   ]
  },
  {
   "cell_type": "markdown",
   "metadata": {
    "colab_type": "text",
    "id": "U2F37ET-N5iP"
   },
   "source": [
    "### Voting ensemble"
   ]
  },
  {
   "cell_type": "code",
   "execution_count": null,
   "metadata": {
    "colab": {
     "autoexec": {
      "startup": false,
      "wait_interval": 0
     }
    },
    "colab_type": "code",
    "id": "pQqos_uaN5iQ"
   },
   "outputs": [],
   "source": [
    "from sklearn.linear_model import LogisticRegression\n",
    "from sklearn.tree import DecisionTreeClassifier\n",
    "from sklearn.neighbors import KNeighborsClassifier\n",
    "from sklearn.ensemble import VotingClassifier\n",
    "\n",
    "logreg = LogisticRegression(random_state=0)\n",
    "tree = DecisionTreeClassifier(max_depth=7, random_state=0)\n",
    "knn = KNeighborsClassifier()\n",
    "voting = VotingClassifier(\n",
    "    estimators = [('logreg', logreg), ('tree', tree), ('knn', knn)],\n",
    "    voting = 'hard')"
   ]
  },
  {
   "cell_type": "code",
   "execution_count": null,
   "metadata": {
    "colab": {
     "autoexec": {
      "startup": false,
      "wait_interval": 0
     }
    },
    "colab_type": "code",
    "id": "-PufISvNN5iR"
   },
   "outputs": [],
   "source": [
    "from sklearn.metrics import accuracy_score\n",
    "\n",
    "for clf in (logreg, tree, knn, voting) :\n",
    "    clf.fit(X_train, y_train)\n",
    "    print(clf.__class__.__name__, accuracy_score(\n",
    "        y_test, clf.predict(X_test)))"
   ]
  },
  {
   "cell_type": "markdown",
   "metadata": {},
   "source": [
    "*Plotting Decision Regions*"
   ]
  },
  {
   "cell_type": "code",
   "execution_count": null,
   "metadata": {},
   "outputs": [],
   "source": [
    "import matplotlib.gridspec as gridspec\n",
    "import itertools\n",
    "from mlxtend.plotting import plot_decision_regions\n",
    "\n",
    "X, y = X_train, y_train\n",
    "X = X[:,[0, 10]]\n",
    "\n",
    "gs = gridspec.GridSpec(2, 2)\n",
    "fig = plt.figure(figsize=(10, 8))\n",
    "\n",
    "labels = ['Logistic Regression',\n",
    "          'Decision Tree',\n",
    "          'k-NN',\n",
    "          'Voting Ensemble']\n",
    "\n",
    "for clf, lab, grd in zip([logreg, tree, knn, voting],\n",
    "                         labels,\n",
    "                         itertools.product([0, 1],\n",
    "                         repeat=2)):\n",
    "    clf.fit(X, y)\n",
    "    ax = plt.subplot(gs[grd[0], grd[1]])\n",
    "    fig = plot_decision_regions(X=X, y=y, clf=clf, legend=2)\n",
    "    plt.title(lab)\n",
    "\n",
    "plt.show()"
   ]
  },
  {
   "cell_type": "markdown",
   "metadata": {
    "colab_type": "text",
    "id": "p5BZCjnIN5iT"
   },
   "source": [
    "### Averaging predictions"
   ]
  },
  {
   "cell_type": "markdown",
   "metadata": {},
   "source": [
    "*Arithmetic mean*"
   ]
  },
  {
   "cell_type": "code",
   "execution_count": null,
   "metadata": {
    "colab": {
     "autoexec": {
      "startup": false,
      "wait_interval": 0
     }
    },
    "colab_type": "code",
    "id": "5laHXOjxN5iT"
   },
   "outputs": [],
   "source": [
    "averaging = VotingClassifier(\n",
    "    estimators = [('logreg', logreg), ('tree', tree), ('knn', knn)],\n",
    "    voting = 'soft')\n",
    "averaging.fit(X_train, y_train)"
   ]
  },
  {
   "cell_type": "code",
   "execution_count": null,
   "metadata": {
    "colab": {
     "autoexec": {
      "startup": false,
      "wait_interval": 0
     }
    },
    "colab_type": "code",
    "id": "rkLZ_375N5iW"
   },
   "outputs": [],
   "source": [
    "roc_auc_score(y_test, averaging.predict_proba(X_test)[:,1])"
   ]
  },
  {
   "cell_type": "markdown",
   "metadata": {},
   "source": [
    "<img align='left' src=\"https://t1.daumcdn.net/cfile/tistory/2454233C57FA242D11\">"
   ]
  },
  {
   "cell_type": "markdown",
   "metadata": {},
   "source": [
    "*Geometric mean*"
   ]
  },
  {
   "cell_type": "code",
   "execution_count": null,
   "metadata": {},
   "outputs": [],
   "source": [
    "from scipy.stats.mstats import gmean\n",
    "\n",
    "pred_logreg = logreg.fit(X_train, y_train).predict_proba(X_test)[:,1]\n",
    "pred_tree = tree.fit(X_train, y_train).predict_proba(X_test)[:,1]\n",
    "pred_knn = knn.fit(X_train, y_train).predict_proba(X_test)[:,1]\n",
    "\n",
    "roc_auc_score(y_test, gmean([pred_logreg, pred_tree, pred_knn], axis=0))"
   ]
  },
  {
   "cell_type": "markdown",
   "metadata": {
    "colab_type": "text",
    "id": "NI0nfQJUN5iY"
   },
   "source": [
    "### Stacking \n",
    "<br>\n",
    "<img align='left' src=\"https://rasbt.github.io/mlxtend/user_guide/classifier/StackingClassifier_files/stackingclassification_overview.png\" width=500 height=400>"
   ]
  },
  {
   "cell_type": "markdown",
   "metadata": {
    "colab_type": "text",
    "id": "ptDtIRwmN5iY"
   },
   "source": [
    "<font color = \"blue\">\n",
    "Install **vecstack** package using the following command:\n",
    "```\n",
    "!pip install vecstack\n",
    "```"
   ]
  },
  {
   "cell_type": "code",
   "execution_count": null,
   "metadata": {
    "colab": {
     "autoexec": {
      "startup": false,
      "wait_interval": 0
     }
    },
    "colab_type": "code",
    "id": "wIgoGddtN5iY"
   },
   "outputs": [],
   "source": [
    "#!pip install vecstack"
   ]
  },
  {
   "cell_type": "code",
   "execution_count": null,
   "metadata": {
    "colab": {
     "autoexec": {
      "startup": false,
      "wait_interval": 0
     }
    },
    "colab_type": "code",
    "id": "lIy4ThBsN5ib"
   },
   "outputs": [],
   "source": [
    "from vecstack import stacking\n",
    "\n",
    "models = [logreg, tree, knn]\n",
    "S_train, S_test = stacking(models,                     # list of models\n",
    "                           X_train, y_train, X_test,   # data\n",
    "                           regression=False,           # classification task (if you need \n",
    "                                                       #     regression - set to True)\n",
    "                           needs_proba=False,          # predict class labels (if you need \n",
    "                                                       #     probabilities - set to True) \n",
    "                           metric=accuracy_score,      # metric: callable\n",
    "                           n_folds=4,                  # number of folds\n",
    "                           stratified=True,            # stratified split for folds\n",
    "                           shuffle=True,               # shuffle the data\n",
    "                           random_state=0,             # ensure reproducibility\n",
    "                           verbose=2)                  # print all info\n",
    "meta_model = logreg.fit(S_train, y_train)\n",
    "accuracy_score(y_test, meta_model.predict(S_test))"
   ]
  },
  {
   "cell_type": "markdown",
   "metadata": {},
   "source": [
    "<br>\n",
    "#### Improvements in stacked model performance can be accomplished by:\n",
    "- Adding models to Level 0 and Level 1 using different algorithms\n",
    "- Tuning Hyper-parameters\n",
    "- Adding feature sets by feature engineering\n",
    "- Adding levels in the model structure"
   ]
  },
  {
   "cell_type": "markdown",
   "metadata": {},
   "source": [
    "#### Model Stacking in Kaggle: \n",
    "- [1st Place Solution of \"Home Depot Product Search Relevance\"](http://blog.kaggle.com/2016/05/18/home-depot-product-search-relevance-winners-interview-1st-place-alex-andreas-nurlan/)\n",
    "<img src=\"http://s5047.pcdn.co/wp-content/uploads/2016/05/model-1024x768.png\" width=700, height=500>\n",
    "- [1st Place Solution of \"Otto Group Product Classification Challenge\"](https://www.kaggle.com/c/otto-group-product-classification-challenge/discussion/14335)\n",
    "<br>\n",
    "<img src=\"https://kaggle2.blob.core.windows.net/forum-message-attachments/79598/2514/FINAL_ARCHITECTURE.png\" width=600, height=400>\n",
    "<br><br>\n",
    "- [1st Place Solution of \"Homesite Quote Conversion\"](http://blog.kaggle.com/2016/04/08/homesite-quote-conversion-winners-write-up-1st-place-kazanova-faron-clobber/)\n",
    "<br>\n",
    "<img src=\"http://blog.kaggle.com/wp-content/uploads/2016/04/ensemble.jpg\" width=600, height=400>\n",
    "<br><br>\n",
    "- [1st Place Solution of \"Avito Demand Prediction Challenge\"](https://www.kaggle.com/c/avito-demand-prediction/discussion/59880)\n",
    "<br>\n",
    "<img src=\"https://pbs.twimg.com/media/DgvX3pWUYAAlCAK.jpg:large\" width=650, height=500>"
   ]
  },
  {
   "cell_type": "markdown",
   "metadata": {},
   "source": [
    "<font color='#CC3D3D'>\n",
    "### Ensemble with the same model"
   ]
  },
  {
   "cell_type": "markdown",
   "metadata": {},
   "source": [
    "### Bagging\n",
    "<img src=\"http://drive.google.com/uc?export=view&id=1px4nXiYkoRZrPpnHlkYn0hWfGih9SHpB\" width=650, height=500>"
   ]
  },
  {
   "cell_type": "code",
   "execution_count": null,
   "metadata": {},
   "outputs": [],
   "source": [
    "from sklearn.ensemble import BaggingClassifier\n",
    "\n",
    "bagging = BaggingClassifier(base_estimator=KNeighborsClassifier(), random_state=0, n_estimators=200)\n",
    "bagging.fit(X_train, y_train).score(X_test, y_test)"
   ]
  },
  {
   "cell_type": "markdown",
   "metadata": {},
   "source": [
    "### Boosting\n",
    "<img src=\"https://api.ning.com/files/p15FqbgoJADVRIs8f5gZ0AA9rStpTf5RhEjk042yzPGQ4MkxRz1vgGkmb0laAusVQ6eiJ5FTD8Y80zOFTXhDz3kDeBa4jBix/Capture.PNG\" width=600, height=400>\n",
    "- AdaBoost(Adaptive Boosting)\n",
    "- Gradient Boosting"
   ]
  },
  {
   "cell_type": "code",
   "execution_count": null,
   "metadata": {},
   "outputs": [],
   "source": [
    "from sklearn.ensemble import AdaBoostClassifier\n",
    "\n",
    "ada = AdaBoostClassifier(n_estimators=200, random_state=0)\n",
    "ada.fit(X_train, y_train).score(X_test, y_test)"
   ]
  },
  {
   "cell_type": "code",
   "execution_count": null,
   "metadata": {},
   "outputs": [],
   "source": [
    "from sklearn.ensemble import GradientBoostingClassifier\n",
    "\n",
    "gbm = GradientBoostingClassifier(n_estimators=200, random_state=0)\n",
    "gbm.fit(X_train, y_train).score(X_test, y_test)"
   ]
  },
  {
   "cell_type": "markdown",
   "metadata": {},
   "source": [
    "<font color='#CC3D3D'>\n",
    "### Performance evaluation of ensemble methods"
   ]
  },
  {
   "cell_type": "code",
   "execution_count": null,
   "metadata": {},
   "outputs": [],
   "source": [
    "from sklearn.model_selection import KFold #for K-fold cross validation\n",
    "from sklearn.model_selection import cross_val_score #score evaluation\n",
    "from sklearn.model_selection import cross_val_predict #prediction\n",
    "\n",
    "kfold = KFold(n_splits=10, random_state=22) # k=10, split the data into 10 equal parts\n",
    "xyz = []\n",
    "accuracy = []\n",
    "std = []\n",
    "classifiers = ['Voting','Averaging','Bagging','AdaBoost','Gradient Boosting']\n",
    "models = [voting, averaging, bagging, ada, gbm]\n",
    "\n",
    "for model in models:\n",
    "    cv_result = cross_val_score(model, X_train, y_train, cv = kfold, scoring = \"accuracy\")\n",
    "    xyz.append(cv_result.mean())\n",
    "    std.append(cv_result.std())\n",
    "    accuracy.append(cv_result)\n",
    "\n",
    "models_dataframe = pd.DataFrame({'CV Mean':xyz,'Std':std},index=classifiers)       \n",
    "plt.subplots(figsize=(12,6))\n",
    "box = pd.DataFrame(accuracy,index=classifiers)\n",
    "box.T.boxplot()"
   ]
  },
  {
   "cell_type": "markdown",
   "metadata": {},
   "source": [
    "<font color = \"#CC3D3D\">\n",
    "## End"
   ]
  }
 ],
 "metadata": {
  "colab": {
   "default_view": {},
   "name": "M3_code_02.ipynb",
   "provenance": [],
   "version": "0.3.2",
   "views": {}
  },
  "kernelspec": {
   "display_name": "Python 3",
   "language": "python",
   "name": "python3"
  },
  "language_info": {
   "codemirror_mode": {
    "name": "ipython",
    "version": 3
   },
   "file_extension": ".py",
   "mimetype": "text/x-python",
   "name": "python",
   "nbconvert_exporter": "python",
   "pygments_lexer": "ipython3",
   "version": "3.6.5"
  }
 },
 "nbformat": 4,
 "nbformat_minor": 1
}

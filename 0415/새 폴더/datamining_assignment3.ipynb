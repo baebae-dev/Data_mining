{
 "cells": [
  {
   "cell_type": "markdown",
   "metadata": {},
   "source": [
    "# Learning from Imbalanced Data"
   ]
  },
  {
   "cell_type": "markdown",
   "metadata": {},
   "source": [
    "과제내용\n",
    "- Imbalanced learning 기법 간 성능 비교\n",
    "- 상세내용은 아래 실험방법 참조\n",
    "\n",
    "\n",
    "•데이터\n",
    "- Kaggle Competition으로 2017년말에 개최되었던 \"WSDM - KKBox's Music Recommendation Challenge\" 데이터에 Feature Engineering을 적용한 것을 사용한다. \n",
    "(첨부화일)\n",
    "\n",
    "\n",
    "•실험방법\n",
    "- class 변수인 'target' 필드에서 1의 값이 전체 데이터의 0.1%, 1%, 10%가 되도록 축소하여 3가지의 data imbalance 상황을 만든다.\n",
    "(필요시 위에 더하여 새로운 imbalance 상황을 추가할 수 있음)\n",
    "- 각각의 data imbalance 상황에서, 여러 Imbalanced learning 기법을 적용한 데이터에 대해  RandomForest 알고리즘을 적용하여 성능을 평가하고 비교한다. \n",
    "(존재하는 feature를 수정하지 않고 그대로 사용함)\n",
    "- 평가척도로는 Accuracy, ROC-AUC, Recall, Precision, F1-score 등 5가지를 사용하고, \"Survey of resampling techniques for improving classification performance in unbalanced datasets\" 논문(첨부화일)에서 테스트한 기법 중 imbalanced-learn 패키지에서 지원하는 것은 모두 테스트한다.\n",
    "\n",
    "\n",
    "•제출물\n",
    "- 소스코드(화일명: 이름1-이름2.ipynb)와 결과보고서(화일명: 이름1-이름2.ppt)\n",
    "- 4월22일 수업시간에 팀당 10분 이내 발표\n",
    "\n",
    "\n",
    "•유의사항\n",
    "- 마감시간 내에 제출한 과제만 평가함. \n",
    "- 반드시, 담당교수 이메일(www4u@kookmin.ac.kr)로 제출해야 하고, 메일 제목은 \"팀과제(2차) 이름1-이름2\"로 할 것.\n"
   ]
  },
  {
   "cell_type": "code",
   "execution_count": 21,
   "metadata": {},
   "outputs": [],
   "source": [
    "# ! pip install -U imbalanced-learn # U 하면 새버전으로 깔림."
   ]
  },
  {
   "cell_type": "code",
   "execution_count": 22,
   "metadata": {},
   "outputs": [],
   "source": [
    "import pandas as pd\n",
    "import random\n",
    "from sklearn.ensemble import RandomForestClassifier\n",
    "from sklearn.datasets import make_classification\n",
    "from sklearn.model_selection import train_test_split\n",
    "from sklearn.metrics import classification_report\n",
    "from sklearn.metrics import precision_score\n",
    "from sklearn.metrics import recall_score\n",
    "from sklearn.metrics import accuracy_score\n",
    "from sklearn.metrics import roc_auc_score\n",
    "from sklearn.metrics import f1_score\n",
    "\n",
    "import numpy as np\n",
    "import matplotlib.pylab as plt\n",
    "%matplotlib inline\n",
    "from collections import Counter\n",
    "from sklearn.svm import SVC"
   ]
  },
  {
   "cell_type": "code",
   "execution_count": 23,
   "metadata": {
    "scrolled": true
   },
   "outputs": [],
   "source": [
    "data = pd.read_csv(\"WSDM_train_full_features.csv\")"
   ]
  },
  {
   "cell_type": "code",
   "execution_count": 24,
   "metadata": {},
   "outputs": [
    {
     "data": {
      "text/html": [
       "<div>\n",
       "<style scoped>\n",
       "    .dataframe tbody tr th:only-of-type {\n",
       "        vertical-align: middle;\n",
       "    }\n",
       "\n",
       "    .dataframe tbody tr th {\n",
       "        vertical-align: top;\n",
       "    }\n",
       "\n",
       "    .dataframe thead th {\n",
       "        text-align: right;\n",
       "    }\n",
       "</style>\n",
       "<table border=\"1\" class=\"dataframe\">\n",
       "  <thead>\n",
       "    <tr style=\"text-align: right;\">\n",
       "      <th></th>\n",
       "      <th>target</th>\n",
       "      <th>user_idx</th>\n",
       "      <th>song_idx</th>\n",
       "      <th>ssn_idx</th>\n",
       "      <th>sst_idx</th>\n",
       "      <th>st_idx</th>\n",
       "      <th>song_length</th>\n",
       "      <th>genr_idx</th>\n",
       "      <th>art_idx</th>\n",
       "      <th>com_idx</th>\n",
       "      <th>...</th>\n",
       "      <th>lyricists_count</th>\n",
       "      <th>composer_count</th>\n",
       "      <th>is_featured</th>\n",
       "      <th>artist_count</th>\n",
       "      <th>artist_composer</th>\n",
       "      <th>artist_composer_lyricist</th>\n",
       "      <th>song_lang_boolean</th>\n",
       "      <th>smaller_song</th>\n",
       "      <th>count_song_played</th>\n",
       "      <th>count_artist_played</th>\n",
       "    </tr>\n",
       "  </thead>\n",
       "  <tbody>\n",
       "    <tr>\n",
       "      <th>0</th>\n",
       "      <td>1</td>\n",
       "      <td>0</td>\n",
       "      <td>0</td>\n",
       "      <td>0</td>\n",
       "      <td>0</td>\n",
       "      <td>0</td>\n",
       "      <td>206471</td>\n",
       "      <td>7</td>\n",
       "      <td>1877</td>\n",
       "      <td>7450</td>\n",
       "      <td>...</td>\n",
       "      <td>0</td>\n",
       "      <td>2</td>\n",
       "      <td>0</td>\n",
       "      <td>0</td>\n",
       "      <td>0</td>\n",
       "      <td>0</td>\n",
       "      <td>0</td>\n",
       "      <td>1</td>\n",
       "      <td>215</td>\n",
       "      <td>1140</td>\n",
       "    </tr>\n",
       "    <tr>\n",
       "      <th>1</th>\n",
       "      <td>1</td>\n",
       "      <td>1</td>\n",
       "      <td>1</td>\n",
       "      <td>1</td>\n",
       "      <td>1</td>\n",
       "      <td>1</td>\n",
       "      <td>284584</td>\n",
       "      <td>18</td>\n",
       "      <td>92</td>\n",
       "      <td>2</td>\n",
       "      <td>...</td>\n",
       "      <td>0</td>\n",
       "      <td>1</td>\n",
       "      <td>0</td>\n",
       "      <td>0</td>\n",
       "      <td>0</td>\n",
       "      <td>0</td>\n",
       "      <td>0</td>\n",
       "      <td>0</td>\n",
       "      <td>1</td>\n",
       "      <td>303616</td>\n",
       "    </tr>\n",
       "    <tr>\n",
       "      <th>2</th>\n",
       "      <td>1</td>\n",
       "      <td>1</td>\n",
       "      <td>2</td>\n",
       "      <td>1</td>\n",
       "      <td>1</td>\n",
       "      <td>1</td>\n",
       "      <td>225396</td>\n",
       "      <td>18</td>\n",
       "      <td>527</td>\n",
       "      <td>100234</td>\n",
       "      <td>...</td>\n",
       "      <td>0</td>\n",
       "      <td>1</td>\n",
       "      <td>0</td>\n",
       "      <td>0</td>\n",
       "      <td>0</td>\n",
       "      <td>0</td>\n",
       "      <td>0</td>\n",
       "      <td>1</td>\n",
       "      <td>4</td>\n",
       "      <td>289</td>\n",
       "    </tr>\n",
       "    <tr>\n",
       "      <th>3</th>\n",
       "      <td>1</td>\n",
       "      <td>1</td>\n",
       "      <td>3</td>\n",
       "      <td>1</td>\n",
       "      <td>1</td>\n",
       "      <td>1</td>\n",
       "      <td>255512</td>\n",
       "      <td>229</td>\n",
       "      <td>89592</td>\n",
       "      <td>193180</td>\n",
       "      <td>...</td>\n",
       "      <td>0</td>\n",
       "      <td>1</td>\n",
       "      <td>0</td>\n",
       "      <td>0</td>\n",
       "      <td>0</td>\n",
       "      <td>0</td>\n",
       "      <td>0</td>\n",
       "      <td>0</td>\n",
       "      <td>1</td>\n",
       "      <td>1</td>\n",
       "    </tr>\n",
       "    <tr>\n",
       "      <th>4</th>\n",
       "      <td>1</td>\n",
       "      <td>0</td>\n",
       "      <td>4</td>\n",
       "      <td>0</td>\n",
       "      <td>0</td>\n",
       "      <td>0</td>\n",
       "      <td>187802</td>\n",
       "      <td>13</td>\n",
       "      <td>195</td>\n",
       "      <td>137</td>\n",
       "      <td>...</td>\n",
       "      <td>0</td>\n",
       "      <td>3</td>\n",
       "      <td>0</td>\n",
       "      <td>0</td>\n",
       "      <td>0</td>\n",
       "      <td>0</td>\n",
       "      <td>0</td>\n",
       "      <td>1</td>\n",
       "      <td>412</td>\n",
       "      <td>427</td>\n",
       "    </tr>\n",
       "  </tbody>\n",
       "</table>\n",
       "<p>5 rows × 30 columns</p>\n",
       "</div>"
      ],
      "text/plain": [
       "   target  user_idx  song_idx  ssn_idx  sst_idx  st_idx  song_length  \\\n",
       "0       1         0         0        0        0       0       206471   \n",
       "1       1         1         1        1        1       1       284584   \n",
       "2       1         1         2        1        1       1       225396   \n",
       "3       1         1         3        1        1       1       255512   \n",
       "4       1         0         4        0        0       0       187802   \n",
       "\n",
       "   genr_idx  art_idx  com_idx         ...           lyricists_count  \\\n",
       "0         7     1877     7450         ...                         0   \n",
       "1        18       92        2         ...                         0   \n",
       "2        18      527   100234         ...                         0   \n",
       "3       229    89592   193180         ...                         0   \n",
       "4        13      195      137         ...                         0   \n",
       "\n",
       "   composer_count  is_featured  artist_count  artist_composer  \\\n",
       "0               2            0             0                0   \n",
       "1               1            0             0                0   \n",
       "2               1            0             0                0   \n",
       "3               1            0             0                0   \n",
       "4               3            0             0                0   \n",
       "\n",
       "   artist_composer_lyricist  song_lang_boolean  smaller_song  \\\n",
       "0                         0                  0             1   \n",
       "1                         0                  0             0   \n",
       "2                         0                  0             1   \n",
       "3                         0                  0             0   \n",
       "4                         0                  0             1   \n",
       "\n",
       "   count_song_played  count_artist_played  \n",
       "0                215                 1140  \n",
       "1                  1               303616  \n",
       "2                  4                  289  \n",
       "3                  1                    1  \n",
       "4                412                  427  \n",
       "\n",
       "[5 rows x 30 columns]"
      ]
     },
     "execution_count": 24,
     "metadata": {},
     "output_type": "execute_result"
    }
   ],
   "source": [
    "data.head()"
   ]
  },
  {
   "cell_type": "code",
   "execution_count": 25,
   "metadata": {},
   "outputs": [
    {
     "data": {
      "text/plain": [
       "(3688709, 30)"
      ]
     },
     "execution_count": 25,
     "metadata": {},
     "output_type": "execute_result"
    }
   ],
   "source": [
    "data=data.iloc[0:round(len(data)/2),:]\n",
    "data.shape"
   ]
  },
  {
   "cell_type": "code",
   "execution_count": 26,
   "metadata": {},
   "outputs": [
    {
     "data": {
      "text/plain": [
       "(1844354, 30)"
      ]
     },
     "execution_count": 26,
     "metadata": {},
     "output_type": "execute_result"
    }
   ],
   "source": [
    "data=data.iloc[0:round(len(data)/2),:]\n",
    "data.shape"
   ]
  },
  {
   "cell_type": "code",
   "execution_count": 27,
   "metadata": {},
   "outputs": [
    {
     "data": {
      "text/plain": [
       "(922177, 30)"
      ]
     },
     "execution_count": 27,
     "metadata": {},
     "output_type": "execute_result"
    }
   ],
   "source": [
    "data=data.iloc[0:round(len(data)/2),:]\n",
    "data.shape"
   ]
  },
  {
   "cell_type": "code",
   "execution_count": 28,
   "metadata": {},
   "outputs": [],
   "source": [
    "data_0 = data[data['target']==0]\n",
    "data_1 = data[data['target']==1]"
   ]
  },
  {
   "cell_type": "code",
   "execution_count": 29,
   "metadata": {},
   "outputs": [
    {
     "name": "stdout",
     "output_type": "stream",
     "text": [
      "279715\n",
      "642462\n"
     ]
    }
   ],
   "source": [
    "print(data_0.shape[0])\n",
    "print(data_1.shape[0])  # 비슷한 크기 -> 둘 중 하나의 값을 줄여야한다."
   ]
  },
  {
   "cell_type": "code",
   "execution_count": 30,
   "metadata": {
    "scrolled": false
   },
   "outputs": [
    {
     "name": "stdout",
     "output_type": "stream",
     "text": [
      "(31079, 30)\n",
      "        target  user_idx  song_idx  ssn_idx  sst_idx  st_idx  song_length  \\\n",
      "876981       1      8046     16941        2        4       5       263627   \n",
      "708337       1     12629       163        1        1       1       189361   \n",
      "721717       1      7232       459        1        1       2       266448   \n",
      "596165       1      8460      6498        1        1       2       196440   \n",
      "64625        1      5011        46        1        1       2       215144   \n",
      "\n",
      "        genr_idx  art_idx  com_idx         ...           lyricists_count  \\\n",
      "876981        26     2906    29791         ...                         0   \n",
      "708337        97     1146    50766         ...                         6   \n",
      "721717         4     1194    44391         ...                         0   \n",
      "596165         1       79    35768         ...                         0   \n",
      "64625          4       58       48         ...                         0   \n",
      "\n",
      "        composer_count  is_featured  artist_count  artist_composer  \\\n",
      "876981               2            0             0                0   \n",
      "708337               7            0             0                0   \n",
      "721717               1            0             0                0   \n",
      "596165               7            0             0                0   \n",
      "64625                1            0             0                0   \n",
      "\n",
      "        artist_composer_lyricist  song_lang_boolean  smaller_song  \\\n",
      "876981                         0                  0             0   \n",
      "708337                         0                  0             1   \n",
      "721717                         0                  0             0   \n",
      "596165                         0                  0             1   \n",
      "64625                          0                  0             1   \n",
      "\n",
      "        count_song_played  count_artist_played  \n",
      "876981                 51                 7635  \n",
      "708337               7522                36781  \n",
      "721717               7767                46006  \n",
      "596165               1161                24987  \n",
      "64625               13293               186776  \n",
      "\n",
      "[5 rows x 30 columns]\n"
     ]
    }
   ],
   "source": [
    "data_1_01 = data_1.iloc[np.random.randint(0,len(data_1),size=round((1/9)*len(data_0)))]\n",
    "print(data_1_01.shape)\n",
    "print(data_1_01.head())"
   ]
  },
  {
   "cell_type": "code",
   "execution_count": 31,
   "metadata": {},
   "outputs": [
    {
     "data": {
      "text/plain": [
       "(310794, 30)"
      ]
     },
     "execution_count": 31,
     "metadata": {},
     "output_type": "execute_result"
    }
   ],
   "source": [
    "df = pd.concat([data_0,data_1_01],axis=0)\n",
    "df.head()\n",
    "df.shape"
   ]
  },
  {
   "cell_type": "code",
   "execution_count": 32,
   "metadata": {},
   "outputs": [
    {
     "data": {
      "text/plain": [
       "(922177, 30)"
      ]
     },
     "execution_count": 32,
     "metadata": {},
     "output_type": "execute_result"
    }
   ],
   "source": [
    "data.shape # 원본데이터"
   ]
  },
  {
   "cell_type": "code",
   "execution_count": 33,
   "metadata": {},
   "outputs": [],
   "source": [
    "X = df.iloc[:,1:30]\n",
    "y = df.iloc[:,0]"
   ]
  },
  {
   "cell_type": "code",
   "execution_count": 34,
   "metadata": {},
   "outputs": [
    {
     "data": {
      "text/plain": [
       "((233095, 29), (77699, 29))"
      ]
     },
     "execution_count": 34,
     "metadata": {},
     "output_type": "execute_result"
    }
   ],
   "source": [
    "# 학습/평가 데이터 분할\n",
    "X_train, X_test, y_train, y_test = train_test_split(X, y, random_state=0)\n",
    "X_train.shape, X_test.shape"
   ]
  },
  {
   "cell_type": "markdown",
   "metadata": {},
   "source": [
    "## SCORE 모아두기"
   ]
  },
  {
   "cell_type": "code",
   "execution_count": 107,
   "metadata": {},
   "outputs": [],
   "source": [
    "accuracy = []\n",
    "roc_auc = []\n",
    "f1 = []\n",
    "recall = []\n",
    "precision = []"
   ]
  },
  {
   "cell_type": "code",
   "execution_count": 104,
   "metadata": {
    "scrolled": true
   },
   "outputs": [
    {
     "name": "stderr",
     "output_type": "stream",
     "text": [
      "C:\\Users\\Bae yuna\\Anaconda3\\lib\\site-packages\\sklearn\\ensemble\\forest.py:246: FutureWarning: The default value of n_estimators will change from 10 in version 0.20 to 100 in 0.22.\n",
      "  \"10 in version 0.20 to 100 in 0.22.\", FutureWarning)\n"
     ]
    },
    {
     "name": "stdout",
     "output_type": "stream",
     "text": [
      " accuracy_score : 0.9002432463738272 \n",
      " roc_auc_score : 0.9999999999999999 \n",
      " f1_score : 0.13772388474802535 \n",
      " recall_score : 0.08083050404805432 \n",
      " precision_score : 0.4650638617580766\n"
     ]
    }
   ],
   "source": [
    "# 원래 데이터를 사용했을 때의 모델성능\n",
    "y_pred = RandomForestClassifier(random_state=0).fit(X_train, y_train).predict(X_test)\n",
    "print(' accuracy_score :', accuracy_score(y_test, y_pred), '\\n' ,'roc_auc_score :',roc_auc_score(y_test, y_proba), '\\n','f1_score :', f1_score(y_test, y_pred), '\\n','recall_score :',recall_score(y_test, y_pred),'\\n','precision_score :', precision_score(y_test, y_pred))"
   ]
  },
  {
   "cell_type": "code",
   "execution_count": 108,
   "metadata": {},
   "outputs": [],
   "source": [
    "accuracy.append(accuracy_score(y_test, y_pred))\n",
    "roc_auc.append(roc_auc_score(y_test, y_proba))\n",
    "f1.append(f1_score(y_test, y_pred))\n",
    "recall.append(recall_score(y_test, y_pred))\n",
    "precision.append(precision_score(y_test, y_pred))"
   ]
  },
  {
   "cell_type": "code",
   "execution_count": 110,
   "metadata": {},
   "outputs": [
    {
     "name": "stdout",
     "output_type": "stream",
     "text": [
      "[0.9002432463738272]\n",
      "[0.9999999999999999]\n",
      "[0.13772388474802535]\n",
      "[0.08083050404805432]\n",
      "[0.4650638617580766]\n"
     ]
    }
   ],
   "source": [
    "print(accuracy)\n",
    "print(roc_auc )\n",
    "print(f1 )\n",
    "print(recall)\n",
    "print(precision )"
   ]
  },
  {
   "cell_type": "code",
   "execution_count": null,
   "metadata": {},
   "outputs": [],
   "source": [
    "plt.barplot()"
   ]
  },
  {
   "cell_type": "markdown",
   "metadata": {},
   "source": [
    "# Under_Sampling\n",
    "# 2-1. NearMiss1. "
   ]
  },
  {
   "cell_type": "code",
   "execution_count": 35,
   "metadata": {},
   "outputs": [],
   "source": [
    "from imblearn.under_sampling import NearMiss\n",
    "nm1 = NearMiss(version=1,random_state=0)"
   ]
  },
  {
   "cell_type": "code",
   "execution_count": 36,
   "metadata": {},
   "outputs": [
    {
     "data": {
      "text/plain": [
       "(46842, 29)"
      ]
     },
     "execution_count": 36,
     "metadata": {},
     "output_type": "execute_result"
    }
   ],
   "source": [
    "X_resampled_nm1, y_resampled = nm1.fit_sample(X_train, y_train)\n",
    "X_resampled_nm1.shape"
   ]
  },
  {
   "cell_type": "code",
   "execution_count": 43,
   "metadata": {},
   "outputs": [
    {
     "data": {
      "text/plain": [
       "0.6991724475218472"
      ]
     },
     "execution_count": 43,
     "metadata": {},
     "output_type": "execute_result"
    }
   ],
   "source": [
    "accuracy_score(y_test, y_pred)"
   ]
  },
  {
   "cell_type": "code",
   "execution_count": 44,
   "metadata": {},
   "outputs": [
    {
     "name": "stderr",
     "output_type": "stream",
     "text": [
      "C:\\Users\\Bae yuna\\Anaconda3\\lib\\site-packages\\sklearn\\ensemble\\forest.py:246: FutureWarning: The default value of n_estimators will change from 10 in version 0.20 to 100 in 0.22.\n",
      "  \"10 in version 0.20 to 100 in 0.22.\", FutureWarning)\n",
      "C:\\Users\\Bae yuna\\Anaconda3\\lib\\site-packages\\sklearn\\ensemble\\forest.py:246: FutureWarning: The default value of n_estimators will change from 10 in version 0.20 to 100 in 0.22.\n",
      "  \"10 in version 0.20 to 100 in 0.22.\", FutureWarning)\n"
     ]
    },
    {
     "name": "stdout",
     "output_type": "stream",
     "text": [
      " accuracy_score : 0.2677898042445849 \n",
      " roc_auc_score : 0.4844836143411864 \n",
      " f1_score : 0.16880460509014406 \n",
      " recall_score : 0.7543745103160094 \n",
      " precision_score : 0.09503520431664145\n"
     ]
    }
   ],
   "source": [
    "# 합성 데이터를 추가했을 때의 모델성능\n",
    "y_pred = RandomForestClassifier(random_state=0).fit(X_resampled_nm1, y_resampled).predict(X_test)\n",
    "y_proba = RandomForestClassifier(random_state=0).fit(X_resampled_nm1, y_resampled).predict_proba(X_test)[:,1]\n",
    "print(' accuracy_score :', accuracy_score(y_test, y_pred), '\\n' ,'roc_auc_score :',roc_auc_score(y_test, y_proba), '\\n','f1_score :', f1_score(y_test, y_pred), '\\n','recall_score :',recall_score(y_test, y_pred),'\\n','precision_score :', precision_score(y_test, y_pred))"
   ]
  },
  {
   "cell_type": "code",
   "execution_count": null,
   "metadata": {},
   "outputs": [],
   "source": [
    "accuracy.append(accuracy_score(y_test, y_pred))\n",
    "roc_auc.append(roc_auc_score(y_test, y_proba))\n",
    "f1.append(f1_score(y_test, y_pred))\n",
    "recall.append(recall_score(y_test, y_pred))\n",
    "precision.append(precision_score(y_test, y_pred))"
   ]
  },
  {
   "cell_type": "markdown",
   "metadata": {},
   "source": [
    "# 2-2. NearMiss2. "
   ]
  },
  {
   "cell_type": "markdown",
   "metadata": {},
   "source": [
    "from imblearn.under_sampling import NearMiss\n",
    "nm2 = NearMiss(version=2,random_state=0)"
   ]
  },
  {
   "cell_type": "markdown",
   "metadata": {},
   "source": [
    "X_resampled_nm2, y_resampled = nm2.fit_sample(X_train, y_train)\n",
    "X_resampled_nm2.shape"
   ]
  },
  {
   "cell_type": "markdown",
   "metadata": {},
   "source": [
    "# 합성 데이터를 추가했을 때의 모델성능\n",
    "y_pred = RandomForestClassifier(random_state=0).fit(X_resampled_nm2, y_resampled).predict(X_test)\n",
    "y_proba = RandomForestClassifier(random_state=0).fit(X_res, y_res).predict_proba(X_test)[:,1]\n",
    "print(' accuracy_score :', accuracy_score(y_test, y_pred), '\\n' ,'roc_auc_score :',roc_auc_score(y_test, y_proba), '\\n','f1_score :', f1_score(y_test, y_pred), '\\n','recall_score :',recall_score(y_test, y_pred),'\\n','precision_score :', precision_score(y_test, y_pred))"
   ]
  },
  {
   "cell_type": "markdown",
   "metadata": {},
   "source": [
    "accuracy.append(accuracy_score(y_test, y_pred))\n",
    "roc_auc.append(roc_auc_score(y_test, y_proba))\n",
    "f1.append(f1_score(y_test, y_pred))\n",
    "recall.append(recall_score(y_test, y_pred))\n",
    "precision.append(precision_score(y_test, y_pred))"
   ]
  },
  {
   "cell_type": "markdown",
   "metadata": {},
   "source": [
    "# 2-3. NearMiss3. "
   ]
  },
  {
   "cell_type": "code",
   "execution_count": 45,
   "metadata": {},
   "outputs": [],
   "source": [
    "from imblearn.under_sampling import NearMiss\n",
    "nm3 = NearMiss(version=3,random_state=0)"
   ]
  },
  {
   "cell_type": "code",
   "execution_count": 46,
   "metadata": {},
   "outputs": [
    {
     "data": {
      "text/plain": [
       "(46842, 29)"
      ]
     },
     "execution_count": 46,
     "metadata": {},
     "output_type": "execute_result"
    }
   ],
   "source": [
    "X_resampled_nm3, y_resampled = nm3.fit_sample(X_train, y_train)\n",
    "X_resampled_nm3.shape"
   ]
  },
  {
   "cell_type": "code",
   "execution_count": 47,
   "metadata": {},
   "outputs": [
    {
     "name": "stderr",
     "output_type": "stream",
     "text": [
      "C:\\Users\\Bae yuna\\Anaconda3\\lib\\site-packages\\sklearn\\ensemble\\forest.py:246: FutureWarning: The default value of n_estimators will change from 10 in version 0.20 to 100 in 0.22.\n",
      "  \"10 in version 0.20 to 100 in 0.22.\", FutureWarning)\n",
      "C:\\Users\\Bae yuna\\Anaconda3\\lib\\site-packages\\sklearn\\ensemble\\forest.py:246: FutureWarning: The default value of n_estimators will change from 10 in version 0.20 to 100 in 0.22.\n",
      "  \"10 in version 0.20 to 100 in 0.22.\", FutureWarning)\n"
     ]
    },
    {
     "name": "stdout",
     "output_type": "stream",
     "text": [
      " accuracy_score : 0.6074724256425437 \n",
      " roc_auc_score : 0.7246729883305413 \n",
      " f1_score : 0.24717991755732727 \n",
      " recall_score : 0.6538260642465396 \n",
      " precision_score : 0.15239689544970325\n"
     ]
    }
   ],
   "source": [
    "# 합성 데이터를 추가했을 때의 모델성능\n",
    "y_pred = RandomForestClassifier(random_state=0).fit(X_resampled_nm3, y_resampled).predict(X_test)\n",
    "y_proba = RandomForestClassifier(random_state=0).fit(X_res, y_res).predict_proba(X_test)[:,1]\n",
    "print(' accuracy_score :', accuracy_score(y_test, y_pred), '\\n' ,'roc_auc_score :',roc_auc_score(y_test, y_proba), '\\n','f1_score :', f1_score(y_test, y_pred), '\\n','recall_score :',recall_score(y_test, y_pred),'\\n','precision_score :', precision_score(y_test, y_pred))"
   ]
  },
  {
   "cell_type": "code",
   "execution_count": null,
   "metadata": {},
   "outputs": [],
   "source": [
    "accuracy.append(accuracy_score(y_test, y_pred))\n",
    "roc_auc.append(roc_auc_score(y_test, y_proba))\n",
    "f1.append(f1_score(y_test, y_pred))\n",
    "recall.append(recall_score(y_test, y_pred))\n",
    "precision.append(precision_score(y_test, y_pred))"
   ]
  },
  {
   "cell_type": "markdown",
   "metadata": {},
   "source": [
    "# 3. RandomUnderSampler"
   ]
  },
  {
   "cell_type": "code",
   "execution_count": 39,
   "metadata": {},
   "outputs": [],
   "source": [
    "from imblearn.under_sampling import RandomUnderSampler "
   ]
  },
  {
   "cell_type": "code",
   "execution_count": 40,
   "metadata": {},
   "outputs": [],
   "source": [
    "rus = RandomUnderSampler(random_state=0)"
   ]
  },
  {
   "cell_type": "code",
   "execution_count": 41,
   "metadata": {},
   "outputs": [],
   "source": [
    "X_res, y_res = rus.fit_resample(X_train, y_train)"
   ]
  },
  {
   "cell_type": "code",
   "execution_count": 48,
   "metadata": {},
   "outputs": [
    {
     "name": "stderr",
     "output_type": "stream",
     "text": [
      "C:\\Users\\Bae yuna\\Anaconda3\\lib\\site-packages\\sklearn\\ensemble\\forest.py:246: FutureWarning: The default value of n_estimators will change from 10 in version 0.20 to 100 in 0.22.\n",
      "  \"10 in version 0.20 to 100 in 0.22.\", FutureWarning)\n",
      "C:\\Users\\Bae yuna\\Anaconda3\\lib\\site-packages\\sklearn\\ensemble\\forest.py:246: FutureWarning: The default value of n_estimators will change from 10 in version 0.20 to 100 in 0.22.\n",
      "  \"10 in version 0.20 to 100 in 0.22.\", FutureWarning)\n"
     ]
    },
    {
     "name": "stdout",
     "output_type": "stream",
     "text": [
      " accuracy_score : 0.6991724475218472 \n",
      " roc_auc_score : 0.7246729883305413 \n",
      " f1_score : 0.28876582278481017 \n",
      " recall_score : 0.6196134761034212 \n",
      " precision_score : 0.18824882964373563\n"
     ]
    }
   ],
   "source": [
    "# 합성 데이터를 추가했을 때의 모델성능\n",
    "y_pred = RandomForestClassifier(random_state=0).fit(X_res, y_res).predict(X_test)\n",
    "y_proba = RandomForestClassifier(random_state=0).fit(X_res, y_res).predict_proba(X_test)[:,1]\n",
    "print(' accuracy_score :', accuracy_score(y_test, y_pred), '\\n roc_auc_score :',roc_auc_score(y_test, y_proba), '\\n f1_score :', f1_score(y_test, y_pred), '\\n recall_score :',recall_score(y_test, y_pred),'\\n precision_score :', precision_score(y_test, y_pred))"
   ]
  },
  {
   "cell_type": "code",
   "execution_count": null,
   "metadata": {},
   "outputs": [],
   "source": [
    "accuracy.append(accuracy_score(y_test, y_pred))\n",
    "roc_auc.append(roc_auc_score(y_test, y_proba))\n",
    "f1.append(f1_score(y_test, y_pred))\n",
    "recall.append(recall_score(y_test, y_pred))\n",
    "precision.append(precision_score(y_test, y_pred))"
   ]
  },
  {
   "cell_type": "markdown",
   "metadata": {},
   "source": [
    "# 4. Condensed Nearest Neighbor (CNN)"
   ]
  },
  {
   "cell_type": "markdown",
   "metadata": {},
   "source": [
    "from imblearn.under_sampling import CondensedNearestNeighbour"
   ]
  },
  {
   "cell_type": "markdown",
   "metadata": {},
   "source": [
    "cnn = CondensedNearestNeighbour(random_state=0)"
   ]
  },
  {
   "cell_type": "markdown",
   "metadata": {},
   "source": [
    "X_res, y_res = cnn.fit_resample(X_train, y_train)"
   ]
  },
  {
   "cell_type": "markdown",
   "metadata": {},
   "source": [
    "# 합성 데이터를 추가했을 때의 모델성능\n",
    "y_pred = RandomForestClassifier(random_state=0).fit(X_res, y_res).predict(X_test)\n",
    "y_proba = RandomForestClassifier(random_state=0).fit(X_res, y_res).predict_proba(X_test)[:,1]\n",
    "print(' accuracy_score :', accuracy_score(y_test, y_pred), '\\n' ,'roc_auc_score :',roc_auc_score(y_test, y_proba), '\\n','f1_score :', f1_score(y_test, y_pred), '\\n','recall_score :',recall_score(y_test, y_pred),'\\n','precision_score :', precision_score(y_test, y_pred)"
   ]
  },
  {
   "cell_type": "markdown",
   "metadata": {},
   "source": [
    "accuracy.append(accuracy_score(y_test, y_pred))\n",
    "roc_auc.append(roc_auc_score(y_test, y_proba))\n",
    "f1.append(f1_score(y_test, y_pred))\n",
    "recall.append(recall_score(y_test, y_pred))\n",
    "precision.append(precision_score(y_test, y_pred))"
   ]
  },
  {
   "cell_type": "markdown",
   "metadata": {},
   "source": [
    "# 5. Edited Nearest Neighbor (ENN)"
   ]
  },
  {
   "cell_type": "code",
   "execution_count": 49,
   "metadata": {},
   "outputs": [],
   "source": [
    "from imblearn.under_sampling import EditedNearestNeighbours"
   ]
  },
  {
   "cell_type": "code",
   "execution_count": 50,
   "metadata": {},
   "outputs": [],
   "source": [
    "enn = EditedNearestNeighbours(random_state=0)"
   ]
  },
  {
   "cell_type": "code",
   "execution_count": 51,
   "metadata": {},
   "outputs": [],
   "source": [
    "X_res, y_res = enn.fit_resample(X_train, y_train)"
   ]
  },
  {
   "cell_type": "code",
   "execution_count": 52,
   "metadata": {},
   "outputs": [
    {
     "name": "stderr",
     "output_type": "stream",
     "text": [
      "C:\\Users\\Bae yuna\\Anaconda3\\lib\\site-packages\\sklearn\\ensemble\\forest.py:246: FutureWarning: The default value of n_estimators will change from 10 in version 0.20 to 100 in 0.22.\n",
      "  \"10 in version 0.20 to 100 in 0.22.\", FutureWarning)\n",
      "C:\\Users\\Bae yuna\\Anaconda3\\lib\\site-packages\\sklearn\\ensemble\\forest.py:246: FutureWarning: The default value of n_estimators will change from 10 in version 0.20 to 100 in 0.22.\n",
      "  \"10 in version 0.20 to 100 in 0.22.\", FutureWarning)\n"
     ]
    },
    {
     "name": "stdout",
     "output_type": "stream",
     "text": [
      " accuracy_score : 0.8888788787500482 \n",
      " roc_auc_score : 0.7162073874881381 \n",
      " f1_score : 0.2165154264972777 \n",
      " recall_score : 0.15578480020893185 \n",
      " precision_score : 0.3548483045806068\n"
     ]
    }
   ],
   "source": [
    "# 합성 데이터를 추가했을 때의 모델성능\n",
    "y_pred = RandomForestClassifier(random_state=0).fit(X_res, y_res).predict(X_test)\n",
    "y_proba = RandomForestClassifier(random_state=0).fit(X_res, y_res).predict_proba(X_test)[:,1]\n",
    "print(' accuracy_score :', accuracy_score(y_test, y_pred), '\\n roc_auc_score :',roc_auc_score(y_test, y_proba), '\\n f1_score :', f1_score(y_test, y_pred), '\\n recall_score :',recall_score(y_test, y_pred), '\\n precision_score :', precision_score(y_test, y_pred))"
   ]
  },
  {
   "cell_type": "code",
   "execution_count": null,
   "metadata": {},
   "outputs": [],
   "source": [
    "accuracy.append(accuracy_score(y_test, y_pred))\n",
    "roc_auc.append(roc_auc_score(y_test, y_proba))\n",
    "f1.append(f1_score(y_test, y_pred))\n",
    "recall.append(recall_score(y_test, y_pred))\n",
    "precision.append(precision_score(y_test, y_pred))"
   ]
  },
  {
   "cell_type": "markdown",
   "metadata": {},
   "source": [
    "# 6. Repeated Edited Nearest Neighbor "
   ]
  },
  {
   "cell_type": "code",
   "execution_count": 53,
   "metadata": {},
   "outputs": [],
   "source": [
    "from imblearn.under_sampling import RepeatedEditedNearestNeighbours "
   ]
  },
  {
   "cell_type": "code",
   "execution_count": 54,
   "metadata": {},
   "outputs": [],
   "source": [
    "renn = RepeatedEditedNearestNeighbours(random_state=0)"
   ]
  },
  {
   "cell_type": "code",
   "execution_count": 55,
   "metadata": {},
   "outputs": [],
   "source": [
    "X_res, y_res = renn.fit_resample(X_train, y_train)"
   ]
  },
  {
   "cell_type": "code",
   "execution_count": 56,
   "metadata": {},
   "outputs": [
    {
     "name": "stderr",
     "output_type": "stream",
     "text": [
      "C:\\Users\\Bae yuna\\Anaconda3\\lib\\site-packages\\sklearn\\ensemble\\forest.py:246: FutureWarning: The default value of n_estimators will change from 10 in version 0.20 to 100 in 0.22.\n",
      "  \"10 in version 0.20 to 100 in 0.22.\", FutureWarning)\n",
      "C:\\Users\\Bae yuna\\Anaconda3\\lib\\site-packages\\sklearn\\ensemble\\forest.py:246: FutureWarning: The default value of n_estimators will change from 10 in version 0.20 to 100 in 0.22.\n",
      "  \"10 in version 0.20 to 100 in 0.22.\", FutureWarning)\n"
     ]
    },
    {
     "name": "stdout",
     "output_type": "stream",
     "text": [
      " accuracy_score : 0.8679905790293312 \n",
      " roc_auc_score : 0.7198761001414576 \n",
      " f1_score : 0.25343911492830623 \n",
      " recall_score : 0.22734395403499608 \n",
      " precision_score : 0.2863015951323795\n"
     ]
    }
   ],
   "source": [
    "# 합성 데이터를 추가했을 때의 모델성능\n",
    "y_pred = RandomForestClassifier(random_state=0).fit(X_res, y_res).predict(X_test)\n",
    "y_proba = RandomForestClassifier(random_state=0).fit(X_res, y_res).predict_proba(X_test)[:,1]\n",
    "print(' accuracy_score :', accuracy_score(y_test, y_pred), '\\n' ,'roc_auc_score :',roc_auc_score(y_test, y_proba), '\\n','f1_score :', f1_score(y_test, y_pred), '\\n','recall_score :',recall_score(y_test, y_pred),'\\n','precision_score :', precision_score(y_test, y_pred))"
   ]
  },
  {
   "cell_type": "code",
   "execution_count": null,
   "metadata": {},
   "outputs": [],
   "source": [
    "accuracy.append(accuracy_score(y_test, y_pred))\n",
    "roc_auc.append(roc_auc_score(y_test, y_proba))\n",
    "f1.append(f1_score(y_test, y_pred))\n",
    "recall.append(recall_score(y_test, y_pred))\n",
    "precision.append(precision_score(y_test, y_pred))"
   ]
  },
  {
   "cell_type": "markdown",
   "metadata": {},
   "source": [
    "# 7. Tomek Link Removal"
   ]
  },
  {
   "cell_type": "code",
   "execution_count": 57,
   "metadata": {},
   "outputs": [],
   "source": [
    "from imblearn.under_sampling import TomekLinks "
   ]
  },
  {
   "cell_type": "code",
   "execution_count": 58,
   "metadata": {},
   "outputs": [],
   "source": [
    "tl = TomekLinks(random_state=0)"
   ]
  },
  {
   "cell_type": "code",
   "execution_count": 59,
   "metadata": {},
   "outputs": [],
   "source": [
    "X_res, y_res = tl.fit_resample(X_train, y_train)"
   ]
  },
  {
   "cell_type": "code",
   "execution_count": 60,
   "metadata": {},
   "outputs": [
    {
     "name": "stderr",
     "output_type": "stream",
     "text": [
      "C:\\Users\\Bae yuna\\Anaconda3\\lib\\site-packages\\sklearn\\ensemble\\forest.py:246: FutureWarning: The default value of n_estimators will change from 10 in version 0.20 to 100 in 0.22.\n",
      "  \"10 in version 0.20 to 100 in 0.22.\", FutureWarning)\n",
      "C:\\Users\\Bae yuna\\Anaconda3\\lib\\site-packages\\sklearn\\ensemble\\forest.py:246: FutureWarning: The default value of n_estimators will change from 10 in version 0.20 to 100 in 0.22.\n",
      "  \"10 in version 0.20 to 100 in 0.22.\", FutureWarning)\n"
     ]
    },
    {
     "name": "stdout",
     "output_type": "stream",
     "text": [
      " accuracy_score : 0.8984156810254958 \n",
      " roc_auc_score : 0.7060543613843996 \n",
      " f1_score : 0.15465352897076148 \n",
      " recall_score : 0.09428049098981457 \n",
      " precision_score : 0.43001786777843953\n"
     ]
    }
   ],
   "source": [
    "# 합성 데이터를 추가했을 때의 모델성능\n",
    "y_pred = RandomForestClassifier(random_state=0).fit(X_res, y_res).predict(X_test)\n",
    "y_proba = RandomForestClassifier(random_state=0).fit(X_res, y_res).predict_proba(X_test)[:,1]\n",
    "print(' accuracy_score :', accuracy_score(y_test, y_pred), '\\n' ,'roc_auc_score :',roc_auc_score(y_test, y_proba), '\\n','f1_score :', f1_score(y_test, y_pred), '\\n','recall_score :',recall_score(y_test, y_pred),'\\n','precision_score :', precision_score(y_test, y_pred))"
   ]
  },
  {
   "cell_type": "code",
   "execution_count": null,
   "metadata": {},
   "outputs": [],
   "source": [
    "accuracy.append(accuracy_score(y_test, y_pred))\n",
    "roc_auc.append(roc_auc_score(y_test, y_proba))\n",
    "f1.append(f1_score(y_test, y_pred))\n",
    "recall.append(recall_score(y_test, y_pred))\n",
    "precision.append(precision_score(y_test, y_pred))"
   ]
  },
  {
   "cell_type": "markdown",
   "metadata": {},
   "source": [
    "# Oversampling methods\n",
    "# 1. Random oversampling of minority class"
   ]
  },
  {
   "cell_type": "code",
   "execution_count": 61,
   "metadata": {},
   "outputs": [],
   "source": [
    "from imblearn.over_sampling import RandomOverSampler"
   ]
  },
  {
   "cell_type": "code",
   "execution_count": 62,
   "metadata": {},
   "outputs": [],
   "source": [
    "ros = RandomOverSampler(random_state=0)"
   ]
  },
  {
   "cell_type": "code",
   "execution_count": 63,
   "metadata": {},
   "outputs": [],
   "source": [
    "X_res, y_res = ros.fit_resample(X_train, y_train)"
   ]
  },
  {
   "cell_type": "code",
   "execution_count": 64,
   "metadata": {},
   "outputs": [
    {
     "name": "stderr",
     "output_type": "stream",
     "text": [
      "C:\\Users\\Bae yuna\\Anaconda3\\lib\\site-packages\\sklearn\\ensemble\\forest.py:246: FutureWarning: The default value of n_estimators will change from 10 in version 0.20 to 100 in 0.22.\n",
      "  \"10 in version 0.20 to 100 in 0.22.\", FutureWarning)\n",
      "C:\\Users\\Bae yuna\\Anaconda3\\lib\\site-packages\\sklearn\\ensemble\\forest.py:246: FutureWarning: The default value of n_estimators will change from 10 in version 0.20 to 100 in 0.22.\n",
      "  \"10 in version 0.20 to 100 in 0.22.\", FutureWarning)\n"
     ]
    },
    {
     "name": "stdout",
     "output_type": "stream",
     "text": [
      " accuracy_score : 0.8933448306928017 \n",
      " roc_auc_score : 0.7195308214597987 \n",
      " f1_score : 0.1920639563225115 \n",
      " recall_score : 0.1286236615304257 \n",
      " precision_score : 0.37899191996921894\n"
     ]
    }
   ],
   "source": [
    "# 합성 데이터를 추가했을 때의 모델성능\n",
    "y_pred = RandomForestClassifier(random_state=0).fit(X_res, y_res).predict(X_test)\n",
    "y_proba = RandomForestClassifier(random_state=0).fit(X_res, y_res).predict_proba(X_test)[:,1]\n",
    "print(' accuracy_score :', accuracy_score(y_test, y_pred), '\\n' ,'roc_auc_score :',roc_auc_score(y_test, y_proba), '\\n','f1_score :', f1_score(y_test, y_pred), '\\n','recall_score :',recall_score(y_test, y_pred),'\\n','precision_score :', precision_score(y_test, y_pred))"
   ]
  },
  {
   "cell_type": "code",
   "execution_count": null,
   "metadata": {},
   "outputs": [],
   "source": [
    "accuracy.append(accuracy_score(y_test, y_pred))\n",
    "roc_auc.append(roc_auc_score(y_test, y_proba))\n",
    "f1.append(f1_score(y_test, y_pred))\n",
    "recall.append(recall_score(y_test, y_pred))\n",
    "precision.append(precision_score(y_test, y_pred))"
   ]
  },
  {
   "cell_type": "markdown",
   "metadata": {},
   "source": [
    "# 2. SMOTE"
   ]
  },
  {
   "cell_type": "code",
   "execution_count": 65,
   "metadata": {},
   "outputs": [],
   "source": [
    "from imblearn.over_sampling import SMOTE"
   ]
  },
  {
   "cell_type": "code",
   "execution_count": 66,
   "metadata": {},
   "outputs": [],
   "source": [
    "X_resampled, y_resampled = SMOTE(random_state=0).fit_resample(X_train, y_train)"
   ]
  },
  {
   "cell_type": "code",
   "execution_count": 67,
   "metadata": {},
   "outputs": [
    {
     "name": "stderr",
     "output_type": "stream",
     "text": [
      "C:\\Users\\Bae yuna\\Anaconda3\\lib\\site-packages\\sklearn\\ensemble\\forest.py:246: FutureWarning: The default value of n_estimators will change from 10 in version 0.20 to 100 in 0.22.\n",
      "  \"10 in version 0.20 to 100 in 0.22.\", FutureWarning)\n",
      "C:\\Users\\Bae yuna\\Anaconda3\\lib\\site-packages\\sklearn\\ensemble\\forest.py:246: FutureWarning: The default value of n_estimators will change from 10 in version 0.20 to 100 in 0.22.\n",
      "  \"10 in version 0.20 to 100 in 0.22.\", FutureWarning)\n"
     ]
    },
    {
     "name": "stdout",
     "output_type": "stream",
     "text": [
      " accuracy_score : 0.8777976550534756 \n",
      " roc_auc_score : 0.7195308214597987 \n",
      " f1_score : 0.287643484132343 \n",
      " recall_score : 0.25032645599373204 \n",
      " precision_score : 0.3380356198201375\n"
     ]
    }
   ],
   "source": [
    "# 합성 데이터를 추가했을 때의 모델성능\n",
    "y_pred = RandomForestClassifier(random_state=0).fit(X_resampled, y_resampled).predict(X_test)\n",
    "y_proba = RandomForestClassifier(random_state=0).fit(X_res, y_res).predict_proba(X_test)[:,1]\n",
    "print(' accuracy_score :', accuracy_score(y_test, y_pred), '\\n' ,'roc_auc_score :',roc_auc_score(y_test, y_proba), '\\n','f1_score :', f1_score(y_test, y_pred), '\\n','recall_score :',recall_score(y_test, y_pred),'\\n','precision_score :', precision_score(y_test, y_pred))"
   ]
  },
  {
   "cell_type": "code",
   "execution_count": null,
   "metadata": {},
   "outputs": [],
   "source": [
    "accuracy.append(accuracy_score(y_test, y_pred))\n",
    "roc_auc.append(roc_auc_score(y_test, y_proba))\n",
    "f1.append(f1_score(y_test, y_pred))\n",
    "recall.append(recall_score(y_test, y_pred))\n",
    "precision.append(precision_score(y_test, y_pred))"
   ]
  },
  {
   "cell_type": "markdown",
   "metadata": {},
   "source": [
    "# 3-1. Borderline-SMOTE1"
   ]
  },
  {
   "cell_type": "code",
   "execution_count": 68,
   "metadata": {},
   "outputs": [],
   "source": [
    "from imblearn.over_sampling import BorderlineSMOTE"
   ]
  },
  {
   "cell_type": "code",
   "execution_count": 69,
   "metadata": {},
   "outputs": [],
   "source": [
    "X_resampled, y_resampled = BorderlineSMOTE(kind='borderline-1',random_state=0).fit_resample(X_train, y_train)"
   ]
  },
  {
   "cell_type": "code",
   "execution_count": 70,
   "metadata": {
    "scrolled": true
   },
   "outputs": [
    {
     "name": "stderr",
     "output_type": "stream",
     "text": [
      "C:\\Users\\Bae yuna\\Anaconda3\\lib\\site-packages\\sklearn\\ensemble\\forest.py:246: FutureWarning: The default value of n_estimators will change from 10 in version 0.20 to 100 in 0.22.\n",
      "  \"10 in version 0.20 to 100 in 0.22.\", FutureWarning)\n",
      "C:\\Users\\Bae yuna\\Anaconda3\\lib\\site-packages\\sklearn\\ensemble\\forest.py:246: FutureWarning: The default value of n_estimators will change from 10 in version 0.20 to 100 in 0.22.\n",
      "  \"10 in version 0.20 to 100 in 0.22.\", FutureWarning)\n"
     ]
    },
    {
     "name": "stdout",
     "output_type": "stream",
     "text": [
      " accuracy_score : 0.8815814875352321 \n",
      " roc_auc_score : 0.7195308214597987 \n",
      " f1_score : 0.27097694318992155 \n",
      " recall_score : 0.22329589971271874 \n",
      " precision_score : 0.3445496675397945\n"
     ]
    }
   ],
   "source": [
    "# 합성 데이터를 추가했을 때의 모델성능\n",
    "y_pred = RandomForestClassifier(random_state=0).fit(X_resampled, y_resampled).predict(X_test)\n",
    "y_proba = RandomForestClassifier(random_state=0).fit(X_res, y_res).predict_proba(X_test)[:,1]\n",
    "print(' accuracy_score :', accuracy_score(y_test, y_pred), '\\n' ,'roc_auc_score :',roc_auc_score(y_test, y_proba), '\\n','f1_score :', f1_score(y_test, y_pred), '\\n','recall_score :',recall_score(y_test, y_pred),'\\n','precision_score :', precision_score(y_test, y_pred))"
   ]
  },
  {
   "cell_type": "code",
   "execution_count": null,
   "metadata": {},
   "outputs": [],
   "source": [
    "accuracy.append(accuracy_score(y_test, y_pred))\n",
    "roc_auc.append(roc_auc_score(y_test, y_proba))\n",
    "f1.append(f1_score(y_test, y_pred))\n",
    "recall.append(recall_score(y_test, y_pred))\n",
    "precision.append(precision_score(y_test, y_pred))"
   ]
  },
  {
   "cell_type": "markdown",
   "metadata": {},
   "source": [
    "# 3-2.Borderline-SMOTE2"
   ]
  },
  {
   "cell_type": "code",
   "execution_count": 71,
   "metadata": {},
   "outputs": [],
   "source": [
    "X_resampled, y_resampled = BorderlineSMOTE(kind='borderline-2',random_state=0).fit_resample(X_train, y_train)"
   ]
  },
  {
   "cell_type": "code",
   "execution_count": 72,
   "metadata": {},
   "outputs": [
    {
     "name": "stderr",
     "output_type": "stream",
     "text": [
      "C:\\Users\\Bae yuna\\Anaconda3\\lib\\site-packages\\sklearn\\ensemble\\forest.py:246: FutureWarning: The default value of n_estimators will change from 10 in version 0.20 to 100 in 0.22.\n",
      "  \"10 in version 0.20 to 100 in 0.22.\", FutureWarning)\n",
      "C:\\Users\\Bae yuna\\Anaconda3\\lib\\site-packages\\sklearn\\ensemble\\forest.py:246: FutureWarning: The default value of n_estimators will change from 10 in version 0.20 to 100 in 0.22.\n",
      "  \"10 in version 0.20 to 100 in 0.22.\", FutureWarning)\n"
     ]
    },
    {
     "name": "stdout",
     "output_type": "stream",
     "text": [
      " accuracy_score : 0.8772571075560818 \n",
      " roc_auc_score : 0.7195308214597987 \n",
      " f1_score : 0.2664410429966926 \n",
      " recall_score : 0.22616871245756073 \n",
      " precision_score : 0.3241624555493169\n"
     ]
    }
   ],
   "source": [
    "# 합성 데이터를 추가했을 때의 모델성능\n",
    "y_pred = RandomForestClassifier(random_state=0).fit(X_resampled, y_resampled).predict(X_test)\n",
    "y_proba = RandomForestClassifier(random_state=0).fit(X_res, y_res).predict_proba(X_test)[:,1]\n",
    "print(' accuracy_score :', accuracy_score(y_test, y_pred), '\\n' ,'roc_auc_score :',roc_auc_score(y_test, y_proba), '\\n','f1_score :', f1_score(y_test, y_pred), '\\n','recall_score :',recall_score(y_test, y_pred),'\\n','precision_score :', precision_score(y_test, y_pred))"
   ]
  },
  {
   "cell_type": "code",
   "execution_count": null,
   "metadata": {},
   "outputs": [],
   "source": [
    "accuracy.append(accuracy_score(y_test, y_pred))\n",
    "roc_auc.append(roc_auc_score(y_test, y_proba))\n",
    "f1.append(f1_score(y_test, y_pred))\n",
    "recall.append(recall_score(y_test, y_pred))\n",
    "precision.append(precision_score(y_test, y_pred))"
   ]
  },
  {
   "cell_type": "markdown",
   "metadata": {},
   "source": [
    "# Combination methods\n",
    "# 1. SMOTE + Tomek Link Removal"
   ]
  },
  {
   "cell_type": "code",
   "execution_count": 73,
   "metadata": {},
   "outputs": [],
   "source": [
    "from imblearn.combine import SMOTETomek"
   ]
  },
  {
   "cell_type": "code",
   "execution_count": 74,
   "metadata": {},
   "outputs": [],
   "source": [
    "smt = SMOTETomek(random_state=0)"
   ]
  },
  {
   "cell_type": "code",
   "execution_count": 75,
   "metadata": {},
   "outputs": [],
   "source": [
    " X_res, y_res = smt.fit_resample(X_train, y_train)"
   ]
  },
  {
   "cell_type": "code",
   "execution_count": 76,
   "metadata": {},
   "outputs": [
    {
     "name": "stderr",
     "output_type": "stream",
     "text": [
      "C:\\Users\\Bae yuna\\Anaconda3\\lib\\site-packages\\sklearn\\ensemble\\forest.py:246: FutureWarning: The default value of n_estimators will change from 10 in version 0.20 to 100 in 0.22.\n",
      "  \"10 in version 0.20 to 100 in 0.22.\", FutureWarning)\n",
      "C:\\Users\\Bae yuna\\Anaconda3\\lib\\site-packages\\sklearn\\ensemble\\forest.py:246: FutureWarning: The default value of n_estimators will change from 10 in version 0.20 to 100 in 0.22.\n",
      "  \"10 in version 0.20 to 100 in 0.22.\", FutureWarning)\n"
     ]
    },
    {
     "name": "stdout",
     "output_type": "stream",
     "text": [
      " accuracy_score : 0.8744642788195472 \n",
      " roc_auc_score : 0.7378991761975447 \n",
      " f1_score : 0.2773744258408653 \n",
      " recall_score : 0.24445024810655525 \n",
      " precision_score : 0.32054794520547947\n"
     ]
    }
   ],
   "source": [
    "# 합성 데이터를 추가했을 때의 모델성능\n",
    "y_pred = RandomForestClassifier(random_state=0).fit(X_res, y_res).predict(X_test)\n",
    "y_proba = RandomForestClassifier(random_state=0).fit(X_res, y_res).predict_proba(X_test)[:,1]\n",
    "print(' accuracy_score :', accuracy_score(y_test, y_pred), '\\n' ,'roc_auc_score :',roc_auc_score(y_test, y_proba), '\\n','f1_score :', f1_score(y_test, y_pred), '\\n','recall_score :',recall_score(y_test, y_pred),'\\n','precision_score :', precision_score(y_test, y_pred))"
   ]
  },
  {
   "cell_type": "code",
   "execution_count": null,
   "metadata": {},
   "outputs": [],
   "source": [
    "accuracy.append(accuracy_score(y_test, y_pred))\n",
    "roc_auc.append(roc_auc_score(y_test, y_proba))\n",
    "f1.append(f1_score(y_test, y_pred))\n",
    "recall.append(recall_score(y_test, y_pred))\n",
    "precision.append(precision_score(y_test, y_pred))"
   ]
  },
  {
   "cell_type": "markdown",
   "metadata": {},
   "source": [
    "# 2. SMOTE + ENN"
   ]
  },
  {
   "cell_type": "code",
   "execution_count": 77,
   "metadata": {},
   "outputs": [],
   "source": [
    " from imblearn.combine import SMOTEENN"
   ]
  },
  {
   "cell_type": "code",
   "execution_count": 78,
   "metadata": {},
   "outputs": [],
   "source": [
    "sme = SMOTEENN(random_state=42)"
   ]
  },
  {
   "cell_type": "code",
   "execution_count": 79,
   "metadata": {},
   "outputs": [],
   "source": [
    "X_res, y_res = sme.fit_resample(X_train, y_train)"
   ]
  },
  {
   "cell_type": "code",
   "execution_count": 80,
   "metadata": {},
   "outputs": [
    {
     "name": "stderr",
     "output_type": "stream",
     "text": [
      "C:\\Users\\Bae yuna\\Anaconda3\\lib\\site-packages\\sklearn\\ensemble\\forest.py:246: FutureWarning: The default value of n_estimators will change from 10 in version 0.20 to 100 in 0.22.\n",
      "  \"10 in version 0.20 to 100 in 0.22.\", FutureWarning)\n",
      "C:\\Users\\Bae yuna\\Anaconda3\\lib\\site-packages\\sklearn\\ensemble\\forest.py:246: FutureWarning: The default value of n_estimators will change from 10 in version 0.20 to 100 in 0.22.\n",
      "  \"10 in version 0.20 to 100 in 0.22.\", FutureWarning)\n"
     ]
    },
    {
     "name": "stdout",
     "output_type": "stream",
     "text": [
      " accuracy_score : 0.8470250582375578 \n",
      " roc_auc_score : 0.7402385234654318 \n",
      " f1_score : 0.3024647887323944 \n",
      " recall_score : 0.3365108383389919 \n",
      " precision_score : 0.2746749094009806\n"
     ]
    }
   ],
   "source": [
    "# 합성 데이터를 추가했을 때의 모델성능\n",
    "y_pred = RandomForestClassifier(random_state=0).fit(X_res, y_res).predict(X_test)\n",
    "y_proba = RandomForestClassifier(random_state=0).fit(X_res, y_res).predict_proba(X_test)[:,1]\n",
    "print(' accuracy_score :', accuracy_score(y_test, y_pred), '\\n' ,'roc_auc_score :',roc_auc_score(y_test, y_proba), '\\n','f1_score :', f1_score(y_test, y_pred), '\\n','recall_score :',recall_score(y_test, y_pred),'\\n','precision_score :', precision_score(y_test, y_pred))"
   ]
  },
  {
   "cell_type": "code",
   "execution_count": null,
   "metadata": {},
   "outputs": [],
   "source": [
    "accuracy.append(accuracy_score(y_test, y_pred))\n",
    "roc_auc.append(roc_auc_score(y_test, y_proba))\n",
    "f1.append(f1_score(y_test, y_pred))\n",
    "recall.append(recall_score(y_test, y_pred))\n",
    "precision.append(precision_score(y_test, y_pred))"
   ]
  },
  {
   "cell_type": "markdown",
   "metadata": {},
   "source": [
    "# Ensemble Methods\n",
    "# 1. EasyEnsemble"
   ]
  },
  {
   "cell_type": "code",
   "execution_count": 81,
   "metadata": {},
   "outputs": [],
   "source": [
    "from imblearn.ensemble import EasyEnsemble"
   ]
  },
  {
   "cell_type": "code",
   "execution_count": 82,
   "metadata": {},
   "outputs": [
    {
     "name": "stderr",
     "output_type": "stream",
     "text": [
      "C:\\Users\\Bae yuna\\Anaconda3\\lib\\site-packages\\sklearn\\utils\\deprecation.py:58: DeprecationWarning: Class EasyEnsemble is deprecated; EasyEnsemble is deprecated in 0.4 and will be removed in 0.6. Use EasyEnsembleClassifier instead.\n",
      "  warnings.warn(msg, category=DeprecationWarning)\n"
     ]
    }
   ],
   "source": [
    "ee = EasyEnsemble(random_state=0)"
   ]
  },
  {
   "cell_type": "code",
   "execution_count": 83,
   "metadata": {},
   "outputs": [],
   "source": [
    "X_res, y_res = ee.fit_resample(X, y)"
   ]
  },
  {
   "cell_type": "code",
   "execution_count": 84,
   "metadata": {},
   "outputs": [],
   "source": [
    "X_res=X_res.reshape(-1,29) # -1 행개수를 지정하지 않겠다.\n",
    "y_res=y_res.reshape(-1,1) # -1 행개수를 지정하지 않겠다."
   ]
  },
  {
   "cell_type": "code",
   "execution_count": 85,
   "metadata": {
    "scrolled": true
   },
   "outputs": [
    {
     "name": "stderr",
     "output_type": "stream",
     "text": [
      "C:\\Users\\Bae yuna\\Anaconda3\\lib\\site-packages\\sklearn\\ensemble\\forest.py:246: FutureWarning: The default value of n_estimators will change from 10 in version 0.20 to 100 in 0.22.\n",
      "  \"10 in version 0.20 to 100 in 0.22.\", FutureWarning)\n",
      "C:\\Users\\Bae yuna\\Anaconda3\\lib\\site-packages\\ipykernel_launcher.py:2: DataConversionWarning: A column-vector y was passed when a 1d array was expected. Please change the shape of y to (n_samples,), for example using ravel().\n",
      "  \n",
      "C:\\Users\\Bae yuna\\Anaconda3\\lib\\site-packages\\sklearn\\ensemble\\forest.py:246: FutureWarning: The default value of n_estimators will change from 10 in version 0.20 to 100 in 0.22.\n",
      "  \"10 in version 0.20 to 100 in 0.22.\", FutureWarning)\n",
      "C:\\Users\\Bae yuna\\Anaconda3\\lib\\site-packages\\ipykernel_launcher.py:3: DataConversionWarning: A column-vector y was passed when a 1d array was expected. Please change the shape of y to (n_samples,), for example using ravel().\n",
      "  This is separate from the ipykernel package so we can avoid doing imports until\n"
     ]
    }
   ],
   "source": [
    "# 합성 데이터를 추가했을 때의 모델성능\n",
    "y_pred = RandomForestClassifier(random_state=0).fit(X_res, y_res).predict(X_test)\n",
    "y_proba = RandomForestClassifier(random_state=0).fit(X_res, y_res).predict_proba(X_test)[:,1]"
   ]
  },
  {
   "cell_type": "code",
   "execution_count": 86,
   "metadata": {},
   "outputs": [
    {
     "name": "stdout",
     "output_type": "stream",
     "text": [
      " accuracy_score : 0.9904117170105149 \n",
      " roc_auc_score : 0.9998999466748926 \n",
      " f1_score : 0.9536143453085113 \n",
      " recall_score : 1.0 \n",
      " precision_score : 0.9113411876710699\n"
     ]
    }
   ],
   "source": [
    "print(' accuracy_score :', accuracy_score(y_test, y_pred), '\\n roc_auc_score :',roc_auc_score(y_test, y_proba), '\\n f1_score :', f1_score(y_test, y_pred), '\\n recall_score :',recall_score(y_test, y_pred),'\\n precision_score :', precision_score(y_test, y_pred))"
   ]
  },
  {
   "cell_type": "code",
   "execution_count": null,
   "metadata": {},
   "outputs": [],
   "source": [
    "accuracy.append(accuracy_score(y_test, y_pred))\n",
    "roc_auc.append(roc_auc_score(y_test, y_proba))\n",
    "f1.append(f1_score(y_test, y_pred))\n",
    "recall.append(recall_score(y_test, y_pred))\n",
    "precision.append(precision_score(y_test, y_pred))"
   ]
  },
  {
   "cell_type": "markdown",
   "metadata": {},
   "source": [
    "# 2. BalanceCascade"
   ]
  },
  {
   "cell_type": "code",
   "execution_count": 87,
   "metadata": {},
   "outputs": [],
   "source": [
    "from imblearn.ensemble import BalanceCascade"
   ]
  },
  {
   "cell_type": "code",
   "execution_count": 88,
   "metadata": {},
   "outputs": [
    {
     "name": "stderr",
     "output_type": "stream",
     "text": [
      "C:\\Users\\Bae yuna\\Anaconda3\\lib\\site-packages\\sklearn\\utils\\deprecation.py:58: DeprecationWarning: Class BalanceCascade is deprecated; BalanceCascade is deprecated in 0.4 and will be removed in 0.6.\n",
      "  warnings.warn(msg, category=DeprecationWarning)\n"
     ]
    }
   ],
   "source": [
    "bc = BalanceCascade(random_state=42)"
   ]
  },
  {
   "cell_type": "code",
   "execution_count": 89,
   "metadata": {},
   "outputs": [],
   "source": [
    "X_res, y_res = bc.fit_resample(X, y)"
   ]
  },
  {
   "cell_type": "code",
   "execution_count": 90,
   "metadata": {},
   "outputs": [],
   "source": [
    "X_res=X_res.reshape(-1,29) # -1 행개수를 지정하지 않겠다.\n",
    "y_res=y_res.reshape(-1,1) # -1 행개수를 지정하지 않겠다."
   ]
  },
  {
   "cell_type": "code",
   "execution_count": 91,
   "metadata": {},
   "outputs": [
    {
     "name": "stderr",
     "output_type": "stream",
     "text": [
      "C:\\Users\\Bae yuna\\Anaconda3\\lib\\site-packages\\sklearn\\ensemble\\forest.py:246: FutureWarning: The default value of n_estimators will change from 10 in version 0.20 to 100 in 0.22.\n",
      "  \"10 in version 0.20 to 100 in 0.22.\", FutureWarning)\n",
      "C:\\Users\\Bae yuna\\Anaconda3\\lib\\site-packages\\ipykernel_launcher.py:2: DataConversionWarning: A column-vector y was passed when a 1d array was expected. Please change the shape of y to (n_samples,), for example using ravel().\n",
      "  \n",
      "C:\\Users\\Bae yuna\\Anaconda3\\lib\\site-packages\\sklearn\\ensemble\\forest.py:246: FutureWarning: The default value of n_estimators will change from 10 in version 0.20 to 100 in 0.22.\n",
      "  \"10 in version 0.20 to 100 in 0.22.\", FutureWarning)\n",
      "C:\\Users\\Bae yuna\\Anaconda3\\lib\\site-packages\\ipykernel_launcher.py:3: DataConversionWarning: A column-vector y was passed when a 1d array was expected. Please change the shape of y to (n_samples,), for example using ravel().\n",
      "  This is separate from the ipykernel package so we can avoid doing imports until\n"
     ]
    },
    {
     "name": "stdout",
     "output_type": "stream",
     "text": [
      " accuracy_score : 0.9998841683934157 \n",
      " roc_auc_score : 0.9999999999999999 \n",
      " f1_score : 0.9994127243066884 \n",
      " recall_score : 1.0 \n",
      " precision_score : 0.9988261379940002\n"
     ]
    }
   ],
   "source": [
    "# 합성 데이터를 추가했을 때의 모델성능\n",
    "y_pred = RandomForestClassifier(random_state=0).fit(X_res, y_res).predict(X_test)\n",
    "y_proba = RandomForestClassifier(random_state=0).fit(X_res, y_res).predict_proba(X_test)[:,1]\n",
    "print(' accuracy_score :', accuracy_score(y_test, y_pred), '\\n' ,'roc_auc_score :',roc_auc_score(y_test, y_proba), '\\n','f1_score :', f1_score(y_test, y_pred), '\\n','recall_score :',recall_score(y_test, y_pred),'\\n','precision_score :', precision_score(y_test, y_pred))"
   ]
  },
  {
   "cell_type": "code",
   "execution_count": null,
   "metadata": {},
   "outputs": [],
   "source": [
    "accuracy.append(accuracy_score(y_test, y_pred))\n",
    "roc_auc.append(roc_auc_score(y_test, y_proba))\n",
    "f1.append(f1_score(y_test, y_pred))\n",
    "recall.append(recall_score(y_test, y_pred))\n",
    "precision.append(precision_score(y_test, y_pred))"
   ]
  },
  {
   "cell_type": "code",
   "execution_count": null,
   "metadata": {},
   "outputs": [],
   "source": [
    "print(accuracy)\n",
    "print(roc_auc )\n",
    "print(f1 )\n",
    "print(recall)\n",
    "print(precision )"
   ]
  }
 ],
 "metadata": {
  "kernelspec": {
   "display_name": "Python 3",
   "language": "python",
   "name": "python3"
  },
  "language_info": {
   "codemirror_mode": {
    "name": "ipython",
    "version": 3
   },
   "file_extension": ".py",
   "mimetype": "text/x-python",
   "name": "python",
   "nbconvert_exporter": "python",
   "pygments_lexer": "ipython3",
   "version": "3.6.8"
  }
 },
 "nbformat": 4,
 "nbformat_minor": 2
}

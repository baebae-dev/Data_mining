{
 "cells": [
  {
   "cell_type": "markdown",
   "metadata": {},
   "source": [
    "# Learning from Imbalanced Data"
   ]
  },
  {
   "cell_type": "markdown",
   "metadata": {},
   "source": [
    "과제내용\n",
    "- Imbalanced learning 기법 간 성능 비교\n",
    "- 상세내용은 아래 실험방법 참조\n",
    "\n",
    "\n",
    "•데이터\n",
    "- Kaggle Competition으로 2017년말에 개최되었던 \"WSDM - KKBox's Music Recommendation Challenge\" 데이터에 Feature Engineering을 적용한 것을 사용한다. \n",
    "(첨부화일)\n",
    "\n",
    "\n",
    "•실험방법\n",
    "- class 변수인 'target' 필드에서 1의 값이 전체 데이터의 0.1%, 1%, 10%가 되도록 축소하여 3가지의 data imbalance 상황을 만든다.\n",
    "(필요시 위에 더하여 새로운 imbalance 상황을 추가할 수 있음)\n",
    "- 각각의 data imbalance 상황에서, 여러 Imbalanced learning 기법을 적용한 데이터에 대해  RandomForest 알고리즘을 적용하여 성능을 평가하고 비교한다. \n",
    "(존재하는 feature를 수정하지 않고 그대로 사용함)\n",
    "- 평가척도로는 Accuracy, ROC-AUC, Recall, Precision, F1-score 등 5가지를 사용하고, \"Survey of resampling techniques for improving classification performance in unbalanced datasets\" 논문(첨부화일)에서 테스트한 기법 중 imbalanced-learn 패키지에서 지원하는 것은 모두 테스트한다.\n",
    "\n",
    "\n",
    "•제출물\n",
    "- 소스코드(화일명: 이름1-이름2.ipynb)와 결과보고서(화일명: 이름1-이름2.ppt)\n",
    "- 4월22일 수업시간에 팀당 10분 이내 발표\n",
    "\n",
    "\n",
    "•유의사항\n",
    "- 마감시간 내에 제출한 과제만 평가함. \n",
    "- 반드시, 담당교수 이메일(www4u@kookmin.ac.kr)로 제출해야 하고, 메일 제목은 \"팀과제(2차) 이름1-이름2\"로 할 것.\n"
   ]
  },
  {
   "cell_type": "code",
   "execution_count": 265,
   "metadata": {},
   "outputs": [],
   "source": [
    "# ! pip install -U imbalanced-learn # U 하면 새버전으로 깔림."
   ]
  },
  {
   "cell_type": "code",
   "execution_count": 266,
   "metadata": {},
   "outputs": [],
   "source": [
    "import pandas as pd\n",
    "import random\n",
    "from sklearn.ensemble import RandomForestClassifier\n",
    "from sklearn.datasets import make_classification\n",
    "from sklearn.model_selection import train_test_split\n",
    "from sklearn.metrics import classification_report\n",
    "from sklearn.metrics import precision_score\n",
    "from sklearn.metrics import recall_score\n",
    "from sklearn.metrics import accuracy_score\n",
    "from sklearn.metrics import roc_auc_score\n",
    "from sklearn.metrics import f1_score\n",
    "\n",
    "import numpy as np\n",
    "import matplotlib.pylab as plt\n",
    "%matplotlib inline\n",
    "from collections import Counter\n",
    "from sklearn.svm import SVC"
   ]
  },
  {
   "cell_type": "code",
   "execution_count": 267,
   "metadata": {
    "scrolled": true
   },
   "outputs": [],
   "source": [
    "data = pd.read_csv(\"WSDM_train_full_features.csv\")"
   ]
  },
  {
   "cell_type": "code",
   "execution_count": 268,
   "metadata": {},
   "outputs": [
    {
     "data": {
      "text/html": [
       "<div>\n",
       "<style scoped>\n",
       "    .dataframe tbody tr th:only-of-type {\n",
       "        vertical-align: middle;\n",
       "    }\n",
       "\n",
       "    .dataframe tbody tr th {\n",
       "        vertical-align: top;\n",
       "    }\n",
       "\n",
       "    .dataframe thead th {\n",
       "        text-align: right;\n",
       "    }\n",
       "</style>\n",
       "<table border=\"1\" class=\"dataframe\">\n",
       "  <thead>\n",
       "    <tr style=\"text-align: right;\">\n",
       "      <th></th>\n",
       "      <th>target</th>\n",
       "      <th>user_idx</th>\n",
       "      <th>song_idx</th>\n",
       "      <th>ssn_idx</th>\n",
       "      <th>sst_idx</th>\n",
       "      <th>st_idx</th>\n",
       "      <th>song_length</th>\n",
       "      <th>genr_idx</th>\n",
       "      <th>art_idx</th>\n",
       "      <th>com_idx</th>\n",
       "      <th>...</th>\n",
       "      <th>lyricists_count</th>\n",
       "      <th>composer_count</th>\n",
       "      <th>is_featured</th>\n",
       "      <th>artist_count</th>\n",
       "      <th>artist_composer</th>\n",
       "      <th>artist_composer_lyricist</th>\n",
       "      <th>song_lang_boolean</th>\n",
       "      <th>smaller_song</th>\n",
       "      <th>count_song_played</th>\n",
       "      <th>count_artist_played</th>\n",
       "    </tr>\n",
       "  </thead>\n",
       "  <tbody>\n",
       "    <tr>\n",
       "      <th>0</th>\n",
       "      <td>1</td>\n",
       "      <td>0</td>\n",
       "      <td>0</td>\n",
       "      <td>0</td>\n",
       "      <td>0</td>\n",
       "      <td>0</td>\n",
       "      <td>206471</td>\n",
       "      <td>7</td>\n",
       "      <td>1877</td>\n",
       "      <td>7450</td>\n",
       "      <td>...</td>\n",
       "      <td>0</td>\n",
       "      <td>2</td>\n",
       "      <td>0</td>\n",
       "      <td>0</td>\n",
       "      <td>0</td>\n",
       "      <td>0</td>\n",
       "      <td>0</td>\n",
       "      <td>1</td>\n",
       "      <td>215</td>\n",
       "      <td>1140</td>\n",
       "    </tr>\n",
       "    <tr>\n",
       "      <th>1</th>\n",
       "      <td>1</td>\n",
       "      <td>1</td>\n",
       "      <td>1</td>\n",
       "      <td>1</td>\n",
       "      <td>1</td>\n",
       "      <td>1</td>\n",
       "      <td>284584</td>\n",
       "      <td>18</td>\n",
       "      <td>92</td>\n",
       "      <td>2</td>\n",
       "      <td>...</td>\n",
       "      <td>0</td>\n",
       "      <td>1</td>\n",
       "      <td>0</td>\n",
       "      <td>0</td>\n",
       "      <td>0</td>\n",
       "      <td>0</td>\n",
       "      <td>0</td>\n",
       "      <td>0</td>\n",
       "      <td>1</td>\n",
       "      <td>303616</td>\n",
       "    </tr>\n",
       "    <tr>\n",
       "      <th>2</th>\n",
       "      <td>1</td>\n",
       "      <td>1</td>\n",
       "      <td>2</td>\n",
       "      <td>1</td>\n",
       "      <td>1</td>\n",
       "      <td>1</td>\n",
       "      <td>225396</td>\n",
       "      <td>18</td>\n",
       "      <td>527</td>\n",
       "      <td>100234</td>\n",
       "      <td>...</td>\n",
       "      <td>0</td>\n",
       "      <td>1</td>\n",
       "      <td>0</td>\n",
       "      <td>0</td>\n",
       "      <td>0</td>\n",
       "      <td>0</td>\n",
       "      <td>0</td>\n",
       "      <td>1</td>\n",
       "      <td>4</td>\n",
       "      <td>289</td>\n",
       "    </tr>\n",
       "    <tr>\n",
       "      <th>3</th>\n",
       "      <td>1</td>\n",
       "      <td>1</td>\n",
       "      <td>3</td>\n",
       "      <td>1</td>\n",
       "      <td>1</td>\n",
       "      <td>1</td>\n",
       "      <td>255512</td>\n",
       "      <td>229</td>\n",
       "      <td>89592</td>\n",
       "      <td>193180</td>\n",
       "      <td>...</td>\n",
       "      <td>0</td>\n",
       "      <td>1</td>\n",
       "      <td>0</td>\n",
       "      <td>0</td>\n",
       "      <td>0</td>\n",
       "      <td>0</td>\n",
       "      <td>0</td>\n",
       "      <td>0</td>\n",
       "      <td>1</td>\n",
       "      <td>1</td>\n",
       "    </tr>\n",
       "    <tr>\n",
       "      <th>4</th>\n",
       "      <td>1</td>\n",
       "      <td>0</td>\n",
       "      <td>4</td>\n",
       "      <td>0</td>\n",
       "      <td>0</td>\n",
       "      <td>0</td>\n",
       "      <td>187802</td>\n",
       "      <td>13</td>\n",
       "      <td>195</td>\n",
       "      <td>137</td>\n",
       "      <td>...</td>\n",
       "      <td>0</td>\n",
       "      <td>3</td>\n",
       "      <td>0</td>\n",
       "      <td>0</td>\n",
       "      <td>0</td>\n",
       "      <td>0</td>\n",
       "      <td>0</td>\n",
       "      <td>1</td>\n",
       "      <td>412</td>\n",
       "      <td>427</td>\n",
       "    </tr>\n",
       "  </tbody>\n",
       "</table>\n",
       "<p>5 rows × 30 columns</p>\n",
       "</div>"
      ],
      "text/plain": [
       "   target  user_idx  song_idx  ssn_idx  sst_idx  st_idx  song_length  \\\n",
       "0       1         0         0        0        0       0       206471   \n",
       "1       1         1         1        1        1       1       284584   \n",
       "2       1         1         2        1        1       1       225396   \n",
       "3       1         1         3        1        1       1       255512   \n",
       "4       1         0         4        0        0       0       187802   \n",
       "\n",
       "   genr_idx  art_idx  com_idx         ...           lyricists_count  \\\n",
       "0         7     1877     7450         ...                         0   \n",
       "1        18       92        2         ...                         0   \n",
       "2        18      527   100234         ...                         0   \n",
       "3       229    89592   193180         ...                         0   \n",
       "4        13      195      137         ...                         0   \n",
       "\n",
       "   composer_count  is_featured  artist_count  artist_composer  \\\n",
       "0               2            0             0                0   \n",
       "1               1            0             0                0   \n",
       "2               1            0             0                0   \n",
       "3               1            0             0                0   \n",
       "4               3            0             0                0   \n",
       "\n",
       "   artist_composer_lyricist  song_lang_boolean  smaller_song  \\\n",
       "0                         0                  0             1   \n",
       "1                         0                  0             0   \n",
       "2                         0                  0             1   \n",
       "3                         0                  0             0   \n",
       "4                         0                  0             1   \n",
       "\n",
       "   count_song_played  count_artist_played  \n",
       "0                215                 1140  \n",
       "1                  1               303616  \n",
       "2                  4                  289  \n",
       "3                  1                    1  \n",
       "4                412                  427  \n",
       "\n",
       "[5 rows x 30 columns]"
      ]
     },
     "execution_count": 268,
     "metadata": {},
     "output_type": "execute_result"
    }
   ],
   "source": [
    "data.head()"
   ]
  },
  {
   "cell_type": "code",
   "execution_count": 269,
   "metadata": {},
   "outputs": [],
   "source": [
    "#data=data.iloc[0:round(len(data)/2),:]\n",
    "#data.shape"
   ]
  },
  {
   "cell_type": "code",
   "execution_count": 270,
   "metadata": {},
   "outputs": [],
   "source": [
    "#data=data.iloc[0:round(len(data)/2),:]\n",
    "#data.shape"
   ]
  },
  {
   "cell_type": "code",
   "execution_count": 271,
   "metadata": {},
   "outputs": [],
   "source": [
    "#data=data.iloc[0:round(len(data)/2),:]\n",
    "#data.shape"
   ]
  },
  {
   "cell_type": "code",
   "execution_count": 272,
   "metadata": {},
   "outputs": [
    {
     "data": {
      "text/plain": [
       "(461089, 30)"
      ]
     },
     "execution_count": 272,
     "metadata": {},
     "output_type": "execute_result"
    }
   ],
   "source": [
    "data=data.iloc[0:round(len(data)/16),:]\n",
    "data.shape"
   ]
  },
  {
   "cell_type": "raw",
   "metadata": {},
   "source": [
    "data_0 = data[data['target']==0]\n",
    "data_1 = data[data['target']==1]"
   ]
  },
  {
   "cell_type": "code",
   "execution_count": 274,
   "metadata": {},
   "outputs": [
    {
     "name": "stdout",
     "output_type": "stream",
     "text": [
      "124940\n",
      "336149\n"
     ]
    }
   ],
   "source": [
    "print(data_0.shape[0])\n",
    "print(data_1.shape[0])  "
   ]
  },
  {
   "cell_type": "code",
   "execution_count": 275,
   "metadata": {
    "scrolled": false
   },
   "outputs": [
    {
     "name": "stdout",
     "output_type": "stream",
     "text": [
      "(13882, 30)\n",
      "        target  user_idx  song_idx  ssn_idx  sst_idx  st_idx  song_length  \\\n",
      "59772        1      4531       779        2        3       0       212973   \n",
      "201715       1      9832      4252        4        3       0       161149   \n",
      "80403        1      1269     20184        1        1       1       228670   \n",
      "125226       1       357      1494        1        1       2       210624   \n",
      "59047        1      1623      5801        1        1       2       257906   \n",
      "\n",
      "        genr_idx  art_idx  com_idx         ...           lyricists_count  \\\n",
      "59772          1     6373     1963         ...                         0   \n",
      "201715         8     1093     1392         ...                         5   \n",
      "80403          0      618        2         ...                         0   \n",
      "125226        32     1921   103685         ...                         0   \n",
      "59047         21     3805     2520         ...                         0   \n",
      "\n",
      "        composer_count  is_featured  artist_count  artist_composer  \\\n",
      "59772                1            0             0                0   \n",
      "201715               6            0             0                0   \n",
      "80403                1            0             0                0   \n",
      "125226               3            0             0                0   \n",
      "59047                1            0             0                0   \n",
      "\n",
      "        artist_composer_lyricist  song_lang_boolean  smaller_song  \\\n",
      "59772                          0                  0             1   \n",
      "201715                         0                  0             1   \n",
      "80403                          0                  0             1   \n",
      "125226                         0                  0             1   \n",
      "59047                          0                  0             0   \n",
      "\n",
      "        count_song_played  count_artist_played  \n",
      "59772                6111                22443  \n",
      "201715               2569                44215  \n",
      "80403                 156                 4816  \n",
      "125226               3278                70445  \n",
      "59047                 323                  410  \n",
      "\n",
      "[5 rows x 30 columns]\n"
     ]
    }
   ],
   "source": [
    "data_1_01 = data_1.iloc[np.random.randint(0,len(data_1),size=round((1/9)*len(data_0)))]\n",
    "print(data_1_01.shape)\n",
    "print(data_1_01.head())"
   ]
  },
  {
   "cell_type": "code",
   "execution_count": 276,
   "metadata": {},
   "outputs": [
    {
     "data": {
      "text/plain": [
       "(138822, 30)"
      ]
     },
     "execution_count": 276,
     "metadata": {},
     "output_type": "execute_result"
    }
   ],
   "source": [
    "df = pd.concat([data_0,data_1_01],axis=0)\n",
    "df.head()\n",
    "df.shape"
   ]
  },
  {
   "cell_type": "code",
   "execution_count": 277,
   "metadata": {},
   "outputs": [
    {
     "data": {
      "text/plain": [
       "(461089, 30)"
      ]
     },
     "execution_count": 277,
     "metadata": {},
     "output_type": "execute_result"
    }
   ],
   "source": [
    "data.shape # 원본데이터"
   ]
  },
  {
   "cell_type": "code",
   "execution_count": 278,
   "metadata": {},
   "outputs": [],
   "source": [
    "X = df.iloc[:,1:30]\n",
    "y = df.iloc[:,0]"
   ]
  },
  {
   "cell_type": "code",
   "execution_count": 279,
   "metadata": {},
   "outputs": [
    {
     "data": {
      "text/plain": [
       "((104116, 29), (34706, 29))"
      ]
     },
     "execution_count": 279,
     "metadata": {},
     "output_type": "execute_result"
    }
   ],
   "source": [
    "# 학습/평가 데이터 분할\n",
    "X_train, X_test, y_train, y_test = train_test_split(X, y, random_state=0)\n",
    "X_train.shape, X_test.shape"
   ]
  },
  {
   "cell_type": "markdown",
   "metadata": {},
   "source": [
    "## SCORE 모아두기"
   ]
  },
  {
   "cell_type": "code",
   "execution_count": 280,
   "metadata": {},
   "outputs": [],
   "source": [
    "accuracy = []\n",
    "roc_auc = []\n",
    "f1 = []\n",
    "recall = []\n",
    "precision = []"
   ]
  },
  {
   "cell_type": "markdown",
   "metadata": {},
   "source": [
    "# 1. BaseLine"
   ]
  },
  {
   "cell_type": "code",
   "execution_count": 281,
   "metadata": {
    "scrolled": true
   },
   "outputs": [
    {
     "name": "stderr",
     "output_type": "stream",
     "text": [
      "C:\\Users\\Bae yuna\\Anaconda3\\lib\\site-packages\\sklearn\\ensemble\\forest.py:246: FutureWarning: The default value of n_estimators will change from 10 in version 0.20 to 100 in 0.22.\n",
      "  \"10 in version 0.20 to 100 in 0.22.\", FutureWarning)\n",
      "C:\\Users\\Bae yuna\\Anaconda3\\lib\\site-packages\\sklearn\\ensemble\\forest.py:246: FutureWarning: The default value of n_estimators will change from 10 in version 0.20 to 100 in 0.22.\n",
      "  \"10 in version 0.20 to 100 in 0.22.\", FutureWarning)\n"
     ]
    },
    {
     "name": "stdout",
     "output_type": "stream",
     "text": [
      " accuracy_score : 0.8976257707600991 \n",
      " roc_auc_score : 0.7084781276037304 \n",
      " f1_score : 0.1276700220967346 \n",
      " recall_score : 0.07367526211391329 \n",
      " precision_score : 0.47794117647058826\n"
     ]
    }
   ],
   "source": [
    "# 원래 데이터를 사용했을 때의 모델성능\n",
    "y_pred = RandomForestClassifier(random_state=0).fit(X_train, y_train).predict(X_test)\n",
    "y_proba = RandomForestClassifier(random_state=0).fit(X_train, y_train).predict_proba(X_test)[:,1]\n",
    "print(' accuracy_score :', accuracy_score(y_test, y_pred), '\\n' ,'roc_auc_score :',roc_auc_score(y_test, y_proba), '\\n','f1_score :', f1_score(y_test, y_pred), '\\n','recall_score :',recall_score(y_test, y_pred),'\\n','precision_score :', precision_score(y_test, y_pred))"
   ]
  },
  {
   "cell_type": "code",
   "execution_count": 282,
   "metadata": {},
   "outputs": [],
   "source": [
    "accuracy.append(accuracy_score(y_test, y_pred))\n",
    "roc_auc.append(roc_auc_score(y_test, y_proba))\n",
    "f1.append(f1_score(y_test, y_pred))\n",
    "recall.append(recall_score(y_test, y_pred))\n",
    "precision.append(precision_score(y_test, y_pred))"
   ]
  },
  {
   "cell_type": "code",
   "execution_count": 283,
   "metadata": {},
   "outputs": [
    {
     "name": "stdout",
     "output_type": "stream",
     "text": [
      "[0.8976257707600991]\n",
      "[0.7084781276037304]\n",
      "[0.1276700220967346]\n",
      "[0.07367526211391329]\n",
      "[0.47794117647058826]\n"
     ]
    }
   ],
   "source": [
    "print(accuracy)\n",
    "print(roc_auc )\n",
    "print(f1 )\n",
    "print(recall)\n",
    "print(precision )"
   ]
  },
  {
   "cell_type": "markdown",
   "metadata": {},
   "source": [
    "# Under_Sampling\n",
    "# 2-1. NearMiss1. "
   ]
  },
  {
   "cell_type": "code",
   "execution_count": 284,
   "metadata": {},
   "outputs": [],
   "source": [
    "from imblearn.under_sampling import NearMiss\n",
    "nm1 = NearMiss(version=1,random_state=0)"
   ]
  },
  {
   "cell_type": "code",
   "execution_count": 285,
   "metadata": {},
   "outputs": [
    {
     "data": {
      "text/plain": [
       "(20706, 29)"
      ]
     },
     "execution_count": 285,
     "metadata": {},
     "output_type": "execute_result"
    }
   ],
   "source": [
    "X_resampled_nm1, y_resampled = nm1.fit_sample(X_train, y_train)\n",
    "X_resampled_nm1.shape"
   ]
  },
  {
   "cell_type": "code",
   "execution_count": 286,
   "metadata": {},
   "outputs": [
    {
     "data": {
      "text/plain": [
       "0.8976257707600991"
      ]
     },
     "execution_count": 286,
     "metadata": {},
     "output_type": "execute_result"
    }
   ],
   "source": [
    "accuracy_score(y_test, y_pred)"
   ]
  },
  {
   "cell_type": "code",
   "execution_count": 287,
   "metadata": {},
   "outputs": [
    {
     "name": "stderr",
     "output_type": "stream",
     "text": [
      "C:\\Users\\Bae yuna\\Anaconda3\\lib\\site-packages\\sklearn\\ensemble\\forest.py:246: FutureWarning: The default value of n_estimators will change from 10 in version 0.20 to 100 in 0.22.\n",
      "  \"10 in version 0.20 to 100 in 0.22.\", FutureWarning)\n",
      "C:\\Users\\Bae yuna\\Anaconda3\\lib\\site-packages\\sklearn\\ensemble\\forest.py:246: FutureWarning: The default value of n_estimators will change from 10 in version 0.20 to 100 in 0.22.\n",
      "  \"10 in version 0.20 to 100 in 0.22.\", FutureWarning)\n"
     ]
    },
    {
     "name": "stdout",
     "output_type": "stream",
     "text": [
      " accuracy_score : 0.2760329626001268 \n",
      " roc_auc_score : 0.49060050125776167 \n",
      " f1_score : 0.17560207362687844 \n",
      " recall_score : 0.7582884669878153 \n",
      " precision_score : 0.09929867527552043\n",
      "\n"
     ]
    }
   ],
   "source": [
    "# 합성 데이터를 추가했을 때의 모델성능\n",
    "y_pred = RandomForestClassifier(random_state=0).fit(X_resampled_nm1, y_resampled).predict(X_test)\n",
    "y_proba = RandomForestClassifier(random_state=0).fit(X_resampled_nm1, y_resampled).predict_proba(X_test)[:,1]\n",
    "print(' accuracy_score :', accuracy_score(y_test, y_pred), '\\n' ,'roc_auc_score :',roc_auc_score(y_test, y_proba), '\\n','f1_score :', f1_score(y_test, y_pred), '\\n','recall_score :',recall_score(y_test, y_pred),'\\n','precision_score :', precision_score(y_test, y_pred))\n",
    "print()"
   ]
  },
  {
   "cell_type": "code",
   "execution_count": 288,
   "metadata": {},
   "outputs": [
    {
     "name": "stdout",
     "output_type": "stream",
     "text": [
      "              precision    recall  f1-score   support\n",
      "\n",
      "           0       0.89      0.22      0.35     31177\n",
      "           1       0.10      0.76      0.18      3529\n",
      "\n",
      "   micro avg       0.28      0.28      0.28     34706\n",
      "   macro avg       0.49      0.49      0.27     34706\n",
      "weighted avg       0.81      0.28      0.34     34706\n",
      "\n"
     ]
    }
   ],
   "source": [
    "print(classification_report(y_test, y_pred))"
   ]
  },
  {
   "cell_type": "code",
   "execution_count": 289,
   "metadata": {},
   "outputs": [],
   "source": [
    "accuracy.append(accuracy_score(y_test, y_pred))\n",
    "roc_auc.append(roc_auc_score(y_test, y_proba))\n",
    "f1.append(f1_score(y_test, y_pred))\n",
    "recall.append(recall_score(y_test, y_pred))\n",
    "precision.append(precision_score(y_test, y_pred))"
   ]
  },
  {
   "cell_type": "markdown",
   "metadata": {},
   "source": [
    "# 2-2. NearMiss2. "
   ]
  },
  {
   "cell_type": "code",
   "execution_count": 290,
   "metadata": {},
   "outputs": [],
   "source": [
    "from imblearn.under_sampling import NearMiss\n",
    "nm2 = NearMiss(version=2,random_state=0)"
   ]
  },
  {
   "cell_type": "code",
   "execution_count": 292,
   "metadata": {},
   "outputs": [
    {
     "data": {
      "text/plain": [
       "(20706, 29)"
      ]
     },
     "execution_count": 292,
     "metadata": {},
     "output_type": "execute_result"
    }
   ],
   "source": [
    "X_resampled_nm2, y_resampled = nm2.fit_sample(X_train, y_train)\n",
    "X_resampled_nm2.shape"
   ]
  },
  {
   "cell_type": "code",
   "execution_count": 293,
   "metadata": {},
   "outputs": [
    {
     "name": "stderr",
     "output_type": "stream",
     "text": [
      "C:\\Users\\Bae yuna\\Anaconda3\\lib\\site-packages\\sklearn\\ensemble\\forest.py:246: FutureWarning: The default value of n_estimators will change from 10 in version 0.20 to 100 in 0.22.\n",
      "  \"10 in version 0.20 to 100 in 0.22.\", FutureWarning)\n",
      "C:\\Users\\Bae yuna\\Anaconda3\\lib\\site-packages\\sklearn\\ensemble\\forest.py:246: FutureWarning: The default value of n_estimators will change from 10 in version 0.20 to 100 in 0.22.\n",
      "  \"10 in version 0.20 to 100 in 0.22.\", FutureWarning)\n"
     ]
    },
    {
     "name": "stdout",
     "output_type": "stream",
     "text": [
      " accuracy_score : 0.19258917766380454 \n",
      " roc_auc_score : 0.5405276155532875 \n",
      " f1_score : 0.18540697674418605 \n",
      " recall_score : 0.903655426466421 \n",
      " precision_score : 0.10330083249651777\n"
     ]
    }
   ],
   "source": [
    "# 합성 데이터를 추가했을 때의 모델성능\n",
    "y_pred = RandomForestClassifier(random_state=0).fit(X_resampled_nm2, y_resampled).predict(X_test)\n",
    "y_proba = RandomForestClassifier(random_state=0).fit(X_resampled_nm2, y_resampled).predict_proba(X_test)[:,1]\n",
    "print(' accuracy_score :', accuracy_score(y_test, y_pred), '\\n' ,'roc_auc_score :',roc_auc_score(y_test, y_proba), '\\n','f1_score :', f1_score(y_test, y_pred), '\\n','recall_score :',recall_score(y_test, y_pred),'\\n','precision_score :', precision_score(y_test, y_pred))"
   ]
  },
  {
   "cell_type": "code",
   "execution_count": 294,
   "metadata": {},
   "outputs": [],
   "source": [
    "accuracy.append(accuracy_score(y_test, y_pred))\n",
    "roc_auc.append(roc_auc_score(y_test, y_proba))\n",
    "f1.append(f1_score(y_test, y_pred))\n",
    "recall.append(recall_score(y_test, y_pred))\n",
    "precision.append(precision_score(y_test, y_pred))"
   ]
  },
  {
   "cell_type": "markdown",
   "metadata": {},
   "source": [
    "# 2-3. NearMiss3. "
   ]
  },
  {
   "cell_type": "code",
   "execution_count": 295,
   "metadata": {},
   "outputs": [],
   "source": [
    "from imblearn.under_sampling import NearMiss\n",
    "nm3 = NearMiss(version=3,random_state=0)"
   ]
  },
  {
   "cell_type": "code",
   "execution_count": 296,
   "metadata": {},
   "outputs": [
    {
     "data": {
      "text/plain": [
       "(20706, 29)"
      ]
     },
     "execution_count": 296,
     "metadata": {},
     "output_type": "execute_result"
    }
   ],
   "source": [
    "X_resampled_nm3, y_resampled = nm3.fit_sample(X_train, y_train)\n",
    "X_resampled_nm3.shape"
   ]
  },
  {
   "cell_type": "code",
   "execution_count": 297,
   "metadata": {},
   "outputs": [
    {
     "name": "stderr",
     "output_type": "stream",
     "text": [
      "C:\\Users\\Bae yuna\\Anaconda3\\lib\\site-packages\\sklearn\\ensemble\\forest.py:246: FutureWarning: The default value of n_estimators will change from 10 in version 0.20 to 100 in 0.22.\n",
      "  \"10 in version 0.20 to 100 in 0.22.\", FutureWarning)\n",
      "C:\\Users\\Bae yuna\\Anaconda3\\lib\\site-packages\\sklearn\\ensemble\\forest.py:246: FutureWarning: The default value of n_estimators will change from 10 in version 0.20 to 100 in 0.22.\n",
      "  \"10 in version 0.20 to 100 in 0.22.\", FutureWarning)\n"
     ]
    },
    {
     "name": "stdout",
     "output_type": "stream",
     "text": [
      " accuracy_score : 0.6106148792715956 \n",
      " roc_auc_score : 0.681067457570684 \n",
      " f1_score : 0.25402958710532125 \n",
      " recall_score : 0.6520260697081326 \n",
      " precision_score : 0.1577431959964352\n"
     ]
    }
   ],
   "source": [
    "# 합성 데이터를 추가했을 때의 모델성능\n",
    "y_pred = RandomForestClassifier(random_state=0).fit(X_resampled_nm3, y_resampled).predict(X_test)\n",
    "y_proba = RandomForestClassifier(random_state=0).fit(X_resampled_nm3, y_resampled).predict_proba(X_test)[:,1]\n",
    "print(' accuracy_score :', accuracy_score(y_test, y_pred), '\\n' ,'roc_auc_score :',roc_auc_score(y_test, y_proba), '\\n','f1_score :', f1_score(y_test, y_pred), '\\n','recall_score :',recall_score(y_test, y_pred),'\\n','precision_score :', precision_score(y_test, y_pred))"
   ]
  },
  {
   "cell_type": "code",
   "execution_count": 298,
   "metadata": {},
   "outputs": [],
   "source": [
    "accuracy.append(accuracy_score(y_test, y_pred))\n",
    "roc_auc.append(roc_auc_score(y_test, y_proba))\n",
    "f1.append(f1_score(y_test, y_pred))\n",
    "recall.append(recall_score(y_test, y_pred))\n",
    "precision.append(precision_score(y_test, y_pred))"
   ]
  },
  {
   "cell_type": "markdown",
   "metadata": {},
   "source": [
    "# 3. RandomUnderSampler"
   ]
  },
  {
   "cell_type": "code",
   "execution_count": 299,
   "metadata": {},
   "outputs": [],
   "source": [
    "from imblearn.under_sampling import RandomUnderSampler "
   ]
  },
  {
   "cell_type": "code",
   "execution_count": 300,
   "metadata": {},
   "outputs": [],
   "source": [
    "rus = RandomUnderSampler(random_state=0)"
   ]
  },
  {
   "cell_type": "code",
   "execution_count": 301,
   "metadata": {},
   "outputs": [],
   "source": [
    "X_res, y_res = rus.fit_resample(X_train, y_train)"
   ]
  },
  {
   "cell_type": "code",
   "execution_count": 302,
   "metadata": {},
   "outputs": [
    {
     "name": "stderr",
     "output_type": "stream",
     "text": [
      "C:\\Users\\Bae yuna\\Anaconda3\\lib\\site-packages\\sklearn\\ensemble\\forest.py:246: FutureWarning: The default value of n_estimators will change from 10 in version 0.20 to 100 in 0.22.\n",
      "  \"10 in version 0.20 to 100 in 0.22.\", FutureWarning)\n",
      "C:\\Users\\Bae yuna\\Anaconda3\\lib\\site-packages\\sklearn\\ensemble\\forest.py:246: FutureWarning: The default value of n_estimators will change from 10 in version 0.20 to 100 in 0.22.\n",
      "  \"10 in version 0.20 to 100 in 0.22.\", FutureWarning)\n"
     ]
    },
    {
     "name": "stdout",
     "output_type": "stream",
     "text": [
      " accuracy_score : 0.6993603411513859 \n",
      " roc_auc_score : 0.7227424175313317 \n",
      " f1_score : 0.2901074976187236 \n",
      " recall_score : 0.604137149334089 \n",
      " precision_score : 0.19088548661473723\n"
     ]
    }
   ],
   "source": [
    "# 합성 데이터를 추가했을 때의 모델성능\n",
    "y_pred = RandomForestClassifier(random_state=0).fit(X_res, y_res).predict(X_test)\n",
    "y_proba = RandomForestClassifier(random_state=0).fit(X_res, y_res).predict_proba(X_test)[:,1]\n",
    "print(' accuracy_score :', accuracy_score(y_test, y_pred), '\\n roc_auc_score :',roc_auc_score(y_test, y_proba), '\\n f1_score :', f1_score(y_test, y_pred), '\\n recall_score :',recall_score(y_test, y_pred),'\\n precision_score :', precision_score(y_test, y_pred))"
   ]
  },
  {
   "cell_type": "code",
   "execution_count": 303,
   "metadata": {},
   "outputs": [],
   "source": [
    "accuracy.append(accuracy_score(y_test, y_pred))\n",
    "roc_auc.append(roc_auc_score(y_test, y_proba))\n",
    "f1.append(f1_score(y_test, y_pred))\n",
    "recall.append(recall_score(y_test, y_pred))\n",
    "precision.append(precision_score(y_test, y_pred))"
   ]
  },
  {
   "cell_type": "markdown",
   "metadata": {},
   "source": [
    "# 4. Condensed Nearest Neighbor (CNN)"
   ]
  },
  {
   "cell_type": "code",
   "execution_count": null,
   "metadata": {},
   "outputs": [],
   "source": [
    "from imblearn.under_sampling import CondensedNearestNeighbour"
   ]
  },
  {
   "cell_type": "code",
   "execution_count": null,
   "metadata": {},
   "outputs": [],
   "source": [
    "cnn = CondensedNearestNeighbour(random_state=0)"
   ]
  },
  {
   "cell_type": "code",
   "execution_count": null,
   "metadata": {},
   "outputs": [],
   "source": [
    "X_res, y_res = cnn.fit_resample(X_train, y_train)"
   ]
  },
  {
   "cell_type": "code",
   "execution_count": null,
   "metadata": {},
   "outputs": [],
   "source": [
    "# 합성 데이터를 추가했을 때의 모델성능\n",
    "y_pred = RandomForestClassifier(random_state=0).fit(X_res, y_res).predict(X_test)\n",
    "y_proba = RandomForestClassifier(random_state=0).fit(X_res, y_res).predict_proba(X_test)[:,1]\n",
    "print(' accuracy_score :', accuracy_score(y_test, y_pred), '\\n' ,'roc_auc_score :',roc_auc_score(y_test, y_proba), '\\n','f1_score :', f1_score(y_test, y_pred), '\\n','recall_score :',recall_score(y_test, y_pred),'\\n','precision_score :', precision_score(y_test, y_pred)"
   ]
  },
  {
   "cell_type": "code",
   "execution_count": null,
   "metadata": {},
   "outputs": [],
   "source": [
    "accuracy.append(accuracy_score(y_test, y_pred))\n",
    "roc_auc.append(roc_auc_score(y_test, y_proba))\n",
    "f1.append(f1_score(y_test, y_pred))\n",
    "recall.append(recall_score(y_test, y_pred))\n",
    "precision.append(precision_score(y_test, y_pred))"
   ]
  },
  {
   "cell_type": "markdown",
   "metadata": {},
   "source": [
    "# 5. Edited Nearest Neighbor (ENN)"
   ]
  },
  {
   "cell_type": "code",
   "execution_count": 304,
   "metadata": {},
   "outputs": [],
   "source": [
    "from imblearn.under_sampling import EditedNearestNeighbours"
   ]
  },
  {
   "cell_type": "code",
   "execution_count": 305,
   "metadata": {},
   "outputs": [],
   "source": [
    "enn = EditedNearestNeighbours(random_state=0)"
   ]
  },
  {
   "cell_type": "code",
   "execution_count": 306,
   "metadata": {},
   "outputs": [],
   "source": [
    "X_res, y_res = enn.fit_resample(X_train, y_train)"
   ]
  },
  {
   "cell_type": "code",
   "execution_count": 307,
   "metadata": {},
   "outputs": [
    {
     "name": "stderr",
     "output_type": "stream",
     "text": [
      "C:\\Users\\Bae yuna\\Anaconda3\\lib\\site-packages\\sklearn\\ensemble\\forest.py:246: FutureWarning: The default value of n_estimators will change from 10 in version 0.20 to 100 in 0.22.\n",
      "  \"10 in version 0.20 to 100 in 0.22.\", FutureWarning)\n",
      "C:\\Users\\Bae yuna\\Anaconda3\\lib\\site-packages\\sklearn\\ensemble\\forest.py:246: FutureWarning: The default value of n_estimators will change from 10 in version 0.20 to 100 in 0.22.\n",
      "  \"10 in version 0.20 to 100 in 0.22.\", FutureWarning)\n"
     ]
    },
    {
     "name": "stdout",
     "output_type": "stream",
     "text": [
      " accuracy_score : 0.8870224168731632 \n",
      " roc_auc_score : 0.7143837542612322 \n",
      " f1_score : 0.2038578680203046 \n",
      " recall_score : 0.14224992915840182 \n",
      " precision_score : 0.35959885386819485\n"
     ]
    }
   ],
   "source": [
    "# 합성 데이터를 추가했을 때의 모델성능\n",
    "y_pred = RandomForestClassifier(random_state=0).fit(X_res, y_res).predict(X_test)\n",
    "y_proba = RandomForestClassifier(random_state=0).fit(X_res, y_res).predict_proba(X_test)[:,1]\n",
    "print(' accuracy_score :', accuracy_score(y_test, y_pred), '\\n roc_auc_score :',roc_auc_score(y_test, y_proba), '\\n f1_score :', f1_score(y_test, y_pred), '\\n recall_score :',recall_score(y_test, y_pred), '\\n precision_score :', precision_score(y_test, y_pred))"
   ]
  },
  {
   "cell_type": "code",
   "execution_count": 308,
   "metadata": {},
   "outputs": [],
   "source": [
    "accuracy.append(accuracy_score(y_test, y_pred))\n",
    "roc_auc.append(roc_auc_score(y_test, y_proba))\n",
    "f1.append(f1_score(y_test, y_pred))\n",
    "recall.append(recall_score(y_test, y_pred))\n",
    "precision.append(precision_score(y_test, y_pred))"
   ]
  },
  {
   "cell_type": "markdown",
   "metadata": {},
   "source": [
    "# 6. Repeated Edited Nearest Neighbor "
   ]
  },
  {
   "cell_type": "code",
   "execution_count": 309,
   "metadata": {},
   "outputs": [],
   "source": [
    "from imblearn.under_sampling import RepeatedEditedNearestNeighbours "
   ]
  },
  {
   "cell_type": "code",
   "execution_count": 310,
   "metadata": {},
   "outputs": [],
   "source": [
    "renn = RepeatedEditedNearestNeighbours(random_state=0)"
   ]
  },
  {
   "cell_type": "code",
   "execution_count": 311,
   "metadata": {},
   "outputs": [],
   "source": [
    "X_res, y_res = renn.fit_resample(X_train, y_train)"
   ]
  },
  {
   "cell_type": "code",
   "execution_count": 312,
   "metadata": {},
   "outputs": [
    {
     "name": "stderr",
     "output_type": "stream",
     "text": [
      "C:\\Users\\Bae yuna\\Anaconda3\\lib\\site-packages\\sklearn\\ensemble\\forest.py:246: FutureWarning: The default value of n_estimators will change from 10 in version 0.20 to 100 in 0.22.\n",
      "  \"10 in version 0.20 to 100 in 0.22.\", FutureWarning)\n",
      "C:\\Users\\Bae yuna\\Anaconda3\\lib\\site-packages\\sklearn\\ensemble\\forest.py:246: FutureWarning: The default value of n_estimators will change from 10 in version 0.20 to 100 in 0.22.\n",
      "  \"10 in version 0.20 to 100 in 0.22.\", FutureWarning)\n"
     ]
    },
    {
     "name": "stdout",
     "output_type": "stream",
     "text": [
      " accuracy_score : 0.869158070650608 \n",
      " roc_auc_score : 0.7130668917286161 \n",
      " f1_score : 0.2532478210820589 \n",
      " recall_score : 0.21819212241428165 \n",
      " precision_score : 0.3017241379310345\n"
     ]
    }
   ],
   "source": [
    "# 합성 데이터를 추가했을 때의 모델성능\n",
    "y_pred = RandomForestClassifier(random_state=0).fit(X_res, y_res).predict(X_test)\n",
    "y_proba = RandomForestClassifier(random_state=0).fit(X_res, y_res).predict_proba(X_test)[:,1]\n",
    "print(' accuracy_score :', accuracy_score(y_test, y_pred), '\\n' ,'roc_auc_score :',roc_auc_score(y_test, y_proba), '\\n','f1_score :', f1_score(y_test, y_pred), '\\n','recall_score :',recall_score(y_test, y_pred),'\\n','precision_score :', precision_score(y_test, y_pred))"
   ]
  },
  {
   "cell_type": "code",
   "execution_count": 313,
   "metadata": {},
   "outputs": [],
   "source": [
    "accuracy.append(accuracy_score(y_test, y_pred))\n",
    "roc_auc.append(roc_auc_score(y_test, y_proba))\n",
    "f1.append(f1_score(y_test, y_pred))\n",
    "recall.append(recall_score(y_test, y_pred))\n",
    "precision.append(precision_score(y_test, y_pred))"
   ]
  },
  {
   "cell_type": "markdown",
   "metadata": {},
   "source": [
    "# 7. Tomek Link Removal"
   ]
  },
  {
   "cell_type": "code",
   "execution_count": 314,
   "metadata": {},
   "outputs": [],
   "source": [
    "from imblearn.under_sampling import TomekLinks "
   ]
  },
  {
   "cell_type": "code",
   "execution_count": 315,
   "metadata": {},
   "outputs": [],
   "source": [
    "tl = TomekLinks(random_state=0)"
   ]
  },
  {
   "cell_type": "code",
   "execution_count": 316,
   "metadata": {},
   "outputs": [],
   "source": [
    "X_res, y_res = tl.fit_resample(X_train, y_train)"
   ]
  },
  {
   "cell_type": "code",
   "execution_count": 317,
   "metadata": {},
   "outputs": [
    {
     "name": "stderr",
     "output_type": "stream",
     "text": [
      "C:\\Users\\Bae yuna\\Anaconda3\\lib\\site-packages\\sklearn\\ensemble\\forest.py:246: FutureWarning: The default value of n_estimators will change from 10 in version 0.20 to 100 in 0.22.\n",
      "  \"10 in version 0.20 to 100 in 0.22.\", FutureWarning)\n",
      "C:\\Users\\Bae yuna\\Anaconda3\\lib\\site-packages\\sklearn\\ensemble\\forest.py:246: FutureWarning: The default value of n_estimators will change from 10 in version 0.20 to 100 in 0.22.\n",
      "  \"10 in version 0.20 to 100 in 0.22.\", FutureWarning)\n"
     ]
    },
    {
     "name": "stdout",
     "output_type": "stream",
     "text": [
      " accuracy_score : 0.897510516913502 \n",
      " roc_auc_score : 0.7193709373330728 \n",
      " f1_score : 0.13685998544042707 \n",
      " recall_score : 0.07990932275432133 \n",
      " precision_score : 0.47635135135135137\n"
     ]
    }
   ],
   "source": [
    "# 합성 데이터를 추가했을 때의 모델성능\n",
    "y_pred = RandomForestClassifier(random_state=0).fit(X_res, y_res).predict(X_test)\n",
    "y_proba = RandomForestClassifier(random_state=0).fit(X_res, y_res).predict_proba(X_test)[:,1]\n",
    "print(' accuracy_score :', accuracy_score(y_test, y_pred), '\\n' ,'roc_auc_score :',roc_auc_score(y_test, y_proba), '\\n','f1_score :', f1_score(y_test, y_pred), '\\n','recall_score :',recall_score(y_test, y_pred),'\\n','precision_score :', precision_score(y_test, y_pred))"
   ]
  },
  {
   "cell_type": "code",
   "execution_count": 318,
   "metadata": {},
   "outputs": [],
   "source": [
    "accuracy.append(accuracy_score(y_test, y_pred))\n",
    "roc_auc.append(roc_auc_score(y_test, y_proba))\n",
    "f1.append(f1_score(y_test, y_pred))\n",
    "recall.append(recall_score(y_test, y_pred))\n",
    "precision.append(precision_score(y_test, y_pred))"
   ]
  },
  {
   "cell_type": "markdown",
   "metadata": {},
   "source": [
    "# Oversampling methods\n",
    "# 1. Random oversampling of minority class"
   ]
  },
  {
   "cell_type": "code",
   "execution_count": 319,
   "metadata": {},
   "outputs": [],
   "source": [
    "from imblearn.over_sampling import RandomOverSampler"
   ]
  },
  {
   "cell_type": "code",
   "execution_count": 320,
   "metadata": {},
   "outputs": [],
   "source": [
    "ros = RandomOverSampler(random_state=0)"
   ]
  },
  {
   "cell_type": "code",
   "execution_count": 321,
   "metadata": {},
   "outputs": [],
   "source": [
    "X_res, y_res = ros.fit_resample(X_train, y_train)"
   ]
  },
  {
   "cell_type": "code",
   "execution_count": 322,
   "metadata": {},
   "outputs": [
    {
     "name": "stderr",
     "output_type": "stream",
     "text": [
      "C:\\Users\\Bae yuna\\Anaconda3\\lib\\site-packages\\sklearn\\ensemble\\forest.py:246: FutureWarning: The default value of n_estimators will change from 10 in version 0.20 to 100 in 0.22.\n",
      "  \"10 in version 0.20 to 100 in 0.22.\", FutureWarning)\n",
      "C:\\Users\\Bae yuna\\Anaconda3\\lib\\site-packages\\sklearn\\ensemble\\forest.py:246: FutureWarning: The default value of n_estimators will change from 10 in version 0.20 to 100 in 0.22.\n",
      "  \"10 in version 0.20 to 100 in 0.22.\", FutureWarning)\n"
     ]
    },
    {
     "name": "stdout",
     "output_type": "stream",
     "text": [
      " accuracy_score : 0.8915461303521005 \n",
      " roc_auc_score : 0.7280117036309827 \n",
      " f1_score : 0.18739205526770294 \n",
      " recall_score : 0.12298101445168604 \n",
      " precision_score : 0.39347234814143245\n"
     ]
    }
   ],
   "source": [
    "# 합성 데이터를 추가했을 때의 모델성능\n",
    "y_pred = RandomForestClassifier(random_state=0).fit(X_res, y_res).predict(X_test)\n",
    "y_proba = RandomForestClassifier(random_state=0).fit(X_res, y_res).predict_proba(X_test)[:,1]\n",
    "print(' accuracy_score :', accuracy_score(y_test, y_pred), '\\n' ,'roc_auc_score :',roc_auc_score(y_test, y_proba), '\\n','f1_score :', f1_score(y_test, y_pred), '\\n','recall_score :',recall_score(y_test, y_pred),'\\n','precision_score :', precision_score(y_test, y_pred))"
   ]
  },
  {
   "cell_type": "code",
   "execution_count": 323,
   "metadata": {},
   "outputs": [],
   "source": [
    "accuracy.append(accuracy_score(y_test, y_pred))\n",
    "roc_auc.append(roc_auc_score(y_test, y_proba))\n",
    "f1.append(f1_score(y_test, y_pred))\n",
    "recall.append(recall_score(y_test, y_pred))\n",
    "precision.append(precision_score(y_test, y_pred))"
   ]
  },
  {
   "cell_type": "markdown",
   "metadata": {},
   "source": [
    "# 2. SMOTE"
   ]
  },
  {
   "cell_type": "code",
   "execution_count": 324,
   "metadata": {},
   "outputs": [],
   "source": [
    "from imblearn.over_sampling import SMOTE"
   ]
  },
  {
   "cell_type": "code",
   "execution_count": 325,
   "metadata": {},
   "outputs": [],
   "source": [
    "X_resampled, y_resampled = SMOTE(random_state=0).fit_resample(X_train, y_train)"
   ]
  },
  {
   "cell_type": "code",
   "execution_count": 326,
   "metadata": {},
   "outputs": [
    {
     "name": "stderr",
     "output_type": "stream",
     "text": [
      "C:\\Users\\Bae yuna\\Anaconda3\\lib\\site-packages\\sklearn\\ensemble\\forest.py:246: FutureWarning: The default value of n_estimators will change from 10 in version 0.20 to 100 in 0.22.\n",
      "  \"10 in version 0.20 to 100 in 0.22.\", FutureWarning)\n",
      "C:\\Users\\Bae yuna\\Anaconda3\\lib\\site-packages\\sklearn\\ensemble\\forest.py:246: FutureWarning: The default value of n_estimators will change from 10 in version 0.20 to 100 in 0.22.\n",
      "  \"10 in version 0.20 to 100 in 0.22.\", FutureWarning)\n"
     ]
    },
    {
     "name": "stdout",
     "output_type": "stream",
     "text": [
      " accuracy_score : 0.8763326226012793 \n",
      " roc_auc_score : 0.7457077108151846 \n",
      " f1_score : 0.2872799734307539 \n",
      " recall_score : 0.2451119297251346 \n",
      " precision_score : 0.3469715202567188\n"
     ]
    }
   ],
   "source": [
    "# 합성 데이터를 추가했을 때의 모델성능\n",
    "y_pred = RandomForestClassifier(random_state=0).fit(X_resampled, y_resampled).predict(X_test)\n",
    "y_proba = RandomForestClassifier(random_state=0).fit(X_resampled, y_resampled).predict_proba(X_test)[:,1]\n",
    "print(' accuracy_score :', accuracy_score(y_test, y_pred), '\\n' ,'roc_auc_score :',roc_auc_score(y_test, y_proba), '\\n','f1_score :', f1_score(y_test, y_pred), '\\n','recall_score :',recall_score(y_test, y_pred),'\\n','precision_score :', precision_score(y_test, y_pred))"
   ]
  },
  {
   "cell_type": "code",
   "execution_count": 327,
   "metadata": {},
   "outputs": [],
   "source": [
    "accuracy.append(accuracy_score(y_test, y_pred))\n",
    "roc_auc.append(roc_auc_score(y_test, y_proba))\n",
    "f1.append(f1_score(y_test, y_pred))\n",
    "recall.append(recall_score(y_test, y_pred))\n",
    "precision.append(precision_score(y_test, y_pred))"
   ]
  },
  {
   "cell_type": "markdown",
   "metadata": {},
   "source": [
    "# 3-1. Borderline-SMOTE1"
   ]
  },
  {
   "cell_type": "code",
   "execution_count": 328,
   "metadata": {},
   "outputs": [],
   "source": [
    "from imblearn.over_sampling import BorderlineSMOTE"
   ]
  },
  {
   "cell_type": "code",
   "execution_count": 329,
   "metadata": {},
   "outputs": [],
   "source": [
    "X_resampled, y_resampled = BorderlineSMOTE(kind='borderline-1',random_state=0).fit_resample(X_train, y_train)"
   ]
  },
  {
   "cell_type": "code",
   "execution_count": 330,
   "metadata": {
    "scrolled": true
   },
   "outputs": [
    {
     "name": "stderr",
     "output_type": "stream",
     "text": [
      "C:\\Users\\Bae yuna\\Anaconda3\\lib\\site-packages\\sklearn\\ensemble\\forest.py:246: FutureWarning: The default value of n_estimators will change from 10 in version 0.20 to 100 in 0.22.\n",
      "  \"10 in version 0.20 to 100 in 0.22.\", FutureWarning)\n",
      "C:\\Users\\Bae yuna\\Anaconda3\\lib\\site-packages\\sklearn\\ensemble\\forest.py:246: FutureWarning: The default value of n_estimators will change from 10 in version 0.20 to 100 in 0.22.\n",
      "  \"10 in version 0.20 to 100 in 0.22.\", FutureWarning)\n"
     ]
    },
    {
     "name": "stdout",
     "output_type": "stream",
     "text": [
      " accuracy_score : 0.880683455310321 \n",
      " roc_auc_score : 0.7455858551771327 \n",
      " f1_score : 0.26643046944198406 \n",
      " recall_score : 0.2130915273448569 \n",
      " precision_score : 0.3553875236294896\n"
     ]
    }
   ],
   "source": [
    "# 합성 데이터를 추가했을 때의 모델성능\n",
    "y_pred = RandomForestClassifier(random_state=0).fit(X_resampled, y_resampled).predict(X_test)\n",
    "y_proba = RandomForestClassifier(random_state=0).fit(X_resampled, y_resampled).predict_proba(X_test)[:,1]\n",
    "print(' accuracy_score :', accuracy_score(y_test, y_pred), '\\n' ,'roc_auc_score :',roc_auc_score(y_test, y_proba), '\\n','f1_score :', f1_score(y_test, y_pred), '\\n','recall_score :',recall_score(y_test, y_pred),'\\n','precision_score :', precision_score(y_test, y_pred))"
   ]
  },
  {
   "cell_type": "code",
   "execution_count": 331,
   "metadata": {},
   "outputs": [],
   "source": [
    "accuracy.append(accuracy_score(y_test, y_pred))\n",
    "roc_auc.append(roc_auc_score(y_test, y_proba))\n",
    "f1.append(f1_score(y_test, y_pred))\n",
    "recall.append(recall_score(y_test, y_pred))\n",
    "precision.append(precision_score(y_test, y_pred))"
   ]
  },
  {
   "cell_type": "markdown",
   "metadata": {},
   "source": [
    "# 3-2.Borderline-SMOTE2"
   ]
  },
  {
   "cell_type": "code",
   "execution_count": 332,
   "metadata": {},
   "outputs": [],
   "source": [
    "X_resampled, y_resampled = BorderlineSMOTE(kind='borderline-2',random_state=0).fit_resample(X_train, y_train)"
   ]
  },
  {
   "cell_type": "code",
   "execution_count": 333,
   "metadata": {},
   "outputs": [
    {
     "name": "stderr",
     "output_type": "stream",
     "text": [
      "C:\\Users\\Bae yuna\\Anaconda3\\lib\\site-packages\\sklearn\\ensemble\\forest.py:246: FutureWarning: The default value of n_estimators will change from 10 in version 0.20 to 100 in 0.22.\n",
      "  \"10 in version 0.20 to 100 in 0.22.\", FutureWarning)\n",
      "C:\\Users\\Bae yuna\\Anaconda3\\lib\\site-packages\\sklearn\\ensemble\\forest.py:246: FutureWarning: The default value of n_estimators will change from 10 in version 0.20 to 100 in 0.22.\n",
      "  \"10 in version 0.20 to 100 in 0.22.\", FutureWarning)\n"
     ]
    },
    {
     "name": "stdout",
     "output_type": "stream",
     "text": [
      " accuracy_score : 0.8759004206765401 \n",
      " roc_auc_score : 0.7357566351222015 \n",
      " f1_score : 0.2671431002212013 \n",
      " recall_score : 0.22244261830546896 \n",
      " precision_score : 0.33432708688245316\n"
     ]
    }
   ],
   "source": [
    "# 합성 데이터를 추가했을 때의 모델성능\n",
    "y_pred = RandomForestClassifier(random_state=0).fit(X_resampled, y_resampled).predict(X_test)\n",
    "y_proba = RandomForestClassifier(random_state=0).fit(X_resampled, y_resampled).predict_proba(X_test)[:,1]\n",
    "print(' accuracy_score :', accuracy_score(y_test, y_pred), '\\n' ,'roc_auc_score :',roc_auc_score(y_test, y_proba), '\\n','f1_score :', f1_score(y_test, y_pred), '\\n','recall_score :',recall_score(y_test, y_pred),'\\n','precision_score :', precision_score(y_test, y_pred))"
   ]
  },
  {
   "cell_type": "code",
   "execution_count": 334,
   "metadata": {},
   "outputs": [],
   "source": [
    "accuracy.append(accuracy_score(y_test, y_pred))\n",
    "roc_auc.append(roc_auc_score(y_test, y_proba))\n",
    "f1.append(f1_score(y_test, y_pred))\n",
    "recall.append(recall_score(y_test, y_pred))\n",
    "precision.append(precision_score(y_test, y_pred))"
   ]
  },
  {
   "cell_type": "markdown",
   "metadata": {},
   "source": [
    "# Combination methods\n",
    "# 1. SMOTE + Tomek Link Removal"
   ]
  },
  {
   "cell_type": "code",
   "execution_count": 335,
   "metadata": {},
   "outputs": [],
   "source": [
    "from imblearn.combine import SMOTETomek"
   ]
  },
  {
   "cell_type": "code",
   "execution_count": 336,
   "metadata": {},
   "outputs": [],
   "source": [
    "smt = SMOTETomek(random_state=0)"
   ]
  },
  {
   "cell_type": "code",
   "execution_count": 337,
   "metadata": {},
   "outputs": [],
   "source": [
    " X_res, y_res = smt.fit_resample(X_train, y_train)"
   ]
  },
  {
   "cell_type": "code",
   "execution_count": 338,
   "metadata": {},
   "outputs": [
    {
     "name": "stderr",
     "output_type": "stream",
     "text": [
      "C:\\Users\\Bae yuna\\Anaconda3\\lib\\site-packages\\sklearn\\ensemble\\forest.py:246: FutureWarning: The default value of n_estimators will change from 10 in version 0.20 to 100 in 0.22.\n",
      "  \"10 in version 0.20 to 100 in 0.22.\", FutureWarning)\n",
      "C:\\Users\\Bae yuna\\Anaconda3\\lib\\site-packages\\sklearn\\ensemble\\forest.py:246: FutureWarning: The default value of n_estimators will change from 10 in version 0.20 to 100 in 0.22.\n",
      "  \"10 in version 0.20 to 100 in 0.22.\", FutureWarning)\n"
     ]
    },
    {
     "name": "stdout",
     "output_type": "stream",
     "text": [
      " accuracy_score : 0.8721834841237827 \n",
      " roc_auc_score : 0.7441680643285066 \n",
      " f1_score : 0.2675033025099075 \n",
      " recall_score : 0.22952677812411448 \n",
      " precision_score : 0.32053818757419866\n"
     ]
    }
   ],
   "source": [
    "# 합성 데이터를 추가했을 때의 모델성능\n",
    "y_pred = RandomForestClassifier(random_state=0).fit(X_res, y_res).predict(X_test)\n",
    "y_proba = RandomForestClassifier(random_state=0).fit(X_res, y_res).predict_proba(X_test)[:,1]\n",
    "print(' accuracy_score :', accuracy_score(y_test, y_pred), '\\n' ,'roc_auc_score :',roc_auc_score(y_test, y_proba), '\\n','f1_score :', f1_score(y_test, y_pred), '\\n','recall_score :',recall_score(y_test, y_pred),'\\n','precision_score :', precision_score(y_test, y_pred))"
   ]
  },
  {
   "cell_type": "code",
   "execution_count": 339,
   "metadata": {},
   "outputs": [],
   "source": [
    "accuracy.append(accuracy_score(y_test, y_pred))\n",
    "roc_auc.append(roc_auc_score(y_test, y_proba))\n",
    "f1.append(f1_score(y_test, y_pred))\n",
    "recall.append(recall_score(y_test, y_pred))\n",
    "precision.append(precision_score(y_test, y_pred))"
   ]
  },
  {
   "cell_type": "markdown",
   "metadata": {},
   "source": [
    "# 2. SMOTE + ENN"
   ]
  },
  {
   "cell_type": "code",
   "execution_count": 340,
   "metadata": {},
   "outputs": [],
   "source": [
    " from imblearn.combine import SMOTEENN"
   ]
  },
  {
   "cell_type": "code",
   "execution_count": 341,
   "metadata": {},
   "outputs": [],
   "source": [
    "sme = SMOTEENN(random_state=42)"
   ]
  },
  {
   "cell_type": "code",
   "execution_count": 342,
   "metadata": {},
   "outputs": [],
   "source": [
    "X_res, y_res = sme.fit_resample(X_train, y_train)"
   ]
  },
  {
   "cell_type": "code",
   "execution_count": 343,
   "metadata": {},
   "outputs": [
    {
     "name": "stderr",
     "output_type": "stream",
     "text": [
      "C:\\Users\\Bae yuna\\Anaconda3\\lib\\site-packages\\sklearn\\ensemble\\forest.py:246: FutureWarning: The default value of n_estimators will change from 10 in version 0.20 to 100 in 0.22.\n",
      "  \"10 in version 0.20 to 100 in 0.22.\", FutureWarning)\n",
      "C:\\Users\\Bae yuna\\Anaconda3\\lib\\site-packages\\sklearn\\ensemble\\forest.py:246: FutureWarning: The default value of n_estimators will change from 10 in version 0.20 to 100 in 0.22.\n",
      "  \"10 in version 0.20 to 100 in 0.22.\", FutureWarning)\n"
     ]
    },
    {
     "name": "stdout",
     "output_type": "stream",
     "text": [
      " accuracy_score : 0.8447242551720163 \n",
      " roc_auc_score : 0.7380758277632952 \n",
      " f1_score : 0.2971175166297118 \n",
      " recall_score : 0.3227543213374894 \n",
      " precision_score : 0.27525374577090383\n"
     ]
    }
   ],
   "source": [
    "# 합성 데이터를 추가했을 때의 모델성능\n",
    "y_pred = RandomForestClassifier(random_state=0).fit(X_res, y_res).predict(X_test)\n",
    "y_proba = RandomForestClassifier(random_state=0).fit(X_res, y_res).predict_proba(X_test)[:,1]\n",
    "print(' accuracy_score :', accuracy_score(y_test, y_pred), '\\n' ,'roc_auc_score :',roc_auc_score(y_test, y_proba), '\\n','f1_score :', f1_score(y_test, y_pred), '\\n','recall_score :',recall_score(y_test, y_pred),'\\n','precision_score :', precision_score(y_test, y_pred))"
   ]
  },
  {
   "cell_type": "code",
   "execution_count": 344,
   "metadata": {},
   "outputs": [],
   "source": [
    "accuracy.append(accuracy_score(y_test, y_pred))\n",
    "roc_auc.append(roc_auc_score(y_test, y_proba))\n",
    "f1.append(f1_score(y_test, y_pred))\n",
    "recall.append(recall_score(y_test, y_pred))\n",
    "precision.append(precision_score(y_test, y_pred))"
   ]
  },
  {
   "cell_type": "markdown",
   "metadata": {},
   "source": [
    "# Ensemble Methods\n",
    "# 1. EasyEnsemble"
   ]
  },
  {
   "cell_type": "code",
   "execution_count": 345,
   "metadata": {},
   "outputs": [],
   "source": [
    "from imblearn.ensemble import EasyEnsemble"
   ]
  },
  {
   "cell_type": "code",
   "execution_count": 346,
   "metadata": {},
   "outputs": [
    {
     "name": "stderr",
     "output_type": "stream",
     "text": [
      "C:\\Users\\Bae yuna\\Anaconda3\\lib\\site-packages\\sklearn\\utils\\deprecation.py:58: DeprecationWarning: Class EasyEnsemble is deprecated; EasyEnsemble is deprecated in 0.4 and will be removed in 0.6. Use EasyEnsembleClassifier instead.\n",
      "  warnings.warn(msg, category=DeprecationWarning)\n"
     ]
    }
   ],
   "source": [
    "ee = EasyEnsemble(random_state=0)"
   ]
  },
  {
   "cell_type": "code",
   "execution_count": 347,
   "metadata": {},
   "outputs": [],
   "source": [
    "X_res, y_res = ee.fit_resample(X, y)"
   ]
  },
  {
   "cell_type": "code",
   "execution_count": 348,
   "metadata": {},
   "outputs": [],
   "source": [
    "X_res=X_res.reshape(-1,29) # -1 행개수를 지정하지 않겠다.\n",
    "y_res=y_res.reshape(-1,1) # -1 행개수를 지정하지 않겠다."
   ]
  },
  {
   "cell_type": "code",
   "execution_count": 349,
   "metadata": {
    "scrolled": true
   },
   "outputs": [
    {
     "name": "stderr",
     "output_type": "stream",
     "text": [
      "C:\\Users\\Bae yuna\\Anaconda3\\lib\\site-packages\\sklearn\\ensemble\\forest.py:246: FutureWarning: The default value of n_estimators will change from 10 in version 0.20 to 100 in 0.22.\n",
      "  \"10 in version 0.20 to 100 in 0.22.\", FutureWarning)\n",
      "C:\\Users\\Bae yuna\\Anaconda3\\lib\\site-packages\\ipykernel_launcher.py:2: DataConversionWarning: A column-vector y was passed when a 1d array was expected. Please change the shape of y to (n_samples,), for example using ravel().\n",
      "  \n",
      "C:\\Users\\Bae yuna\\Anaconda3\\lib\\site-packages\\sklearn\\ensemble\\forest.py:246: FutureWarning: The default value of n_estimators will change from 10 in version 0.20 to 100 in 0.22.\n",
      "  \"10 in version 0.20 to 100 in 0.22.\", FutureWarning)\n",
      "C:\\Users\\Bae yuna\\Anaconda3\\lib\\site-packages\\ipykernel_launcher.py:3: DataConversionWarning: A column-vector y was passed when a 1d array was expected. Please change the shape of y to (n_samples,), for example using ravel().\n",
      "  This is separate from the ipykernel package so we can avoid doing imports until\n"
     ]
    }
   ],
   "source": [
    "# 합성 데이터를 추가했을 때의 모델성능\n",
    "y_pred = RandomForestClassifier(random_state=0).fit(X_res, y_res).predict(X_test)\n",
    "y_proba = RandomForestClassifier(random_state=0).fit(X_res, y_res).predict_proba(X_test)[:,1]"
   ]
  },
  {
   "cell_type": "code",
   "execution_count": 350,
   "metadata": {},
   "outputs": [
    {
     "name": "stdout",
     "output_type": "stream",
     "text": [
      " accuracy_score : 0.9900593557309976 \n",
      " roc_auc_score : 0.999887624143442 \n",
      " f1_score : 0.953397271376469 \n",
      " recall_score : 1.0 \n",
      " precision_score : 0.9109447599380486\n"
     ]
    }
   ],
   "source": [
    "print(' accuracy_score :', accuracy_score(y_test, y_pred), '\\n roc_auc_score :',roc_auc_score(y_test, y_proba), '\\n f1_score :', f1_score(y_test, y_pred), '\\n recall_score :',recall_score(y_test, y_pred),'\\n precision_score :', precision_score(y_test, y_pred))"
   ]
  },
  {
   "cell_type": "code",
   "execution_count": 351,
   "metadata": {},
   "outputs": [],
   "source": [
    "accuracy.append(accuracy_score(y_test, y_pred))\n",
    "roc_auc.append(roc_auc_score(y_test, y_proba))\n",
    "f1.append(f1_score(y_test, y_pred))\n",
    "recall.append(recall_score(y_test, y_pred))\n",
    "precision.append(precision_score(y_test, y_pred))"
   ]
  },
  {
   "cell_type": "markdown",
   "metadata": {},
   "source": [
    "# 2. BalanceCascade"
   ]
  },
  {
   "cell_type": "code",
   "execution_count": 352,
   "metadata": {},
   "outputs": [],
   "source": [
    "from imblearn.ensemble import BalanceCascade"
   ]
  },
  {
   "cell_type": "code",
   "execution_count": 353,
   "metadata": {},
   "outputs": [
    {
     "name": "stderr",
     "output_type": "stream",
     "text": [
      "C:\\Users\\Bae yuna\\Anaconda3\\lib\\site-packages\\sklearn\\utils\\deprecation.py:58: DeprecationWarning: Class BalanceCascade is deprecated; BalanceCascade is deprecated in 0.4 and will be removed in 0.6.\n",
      "  warnings.warn(msg, category=DeprecationWarning)\n"
     ]
    }
   ],
   "source": [
    "bc = BalanceCascade(random_state=42)"
   ]
  },
  {
   "cell_type": "code",
   "execution_count": 354,
   "metadata": {},
   "outputs": [],
   "source": [
    "X_res, y_res = bc.fit_resample(X, y)"
   ]
  },
  {
   "cell_type": "code",
   "execution_count": 355,
   "metadata": {},
   "outputs": [],
   "source": [
    "X_res=X_res.reshape(-1,29) # -1 행개수를 지정하지 않겠다.\n",
    "y_res=y_res.reshape(-1,1) # -1 행개수를 지정하지 않겠다."
   ]
  },
  {
   "cell_type": "code",
   "execution_count": 356,
   "metadata": {},
   "outputs": [
    {
     "name": "stderr",
     "output_type": "stream",
     "text": [
      "C:\\Users\\Bae yuna\\Anaconda3\\lib\\site-packages\\sklearn\\ensemble\\forest.py:246: FutureWarning: The default value of n_estimators will change from 10 in version 0.20 to 100 in 0.22.\n",
      "  \"10 in version 0.20 to 100 in 0.22.\", FutureWarning)\n",
      "C:\\Users\\Bae yuna\\Anaconda3\\lib\\site-packages\\ipykernel_launcher.py:2: DataConversionWarning: A column-vector y was passed when a 1d array was expected. Please change the shape of y to (n_samples,), for example using ravel().\n",
      "  \n",
      "C:\\Users\\Bae yuna\\Anaconda3\\lib\\site-packages\\sklearn\\ensemble\\forest.py:246: FutureWarning: The default value of n_estimators will change from 10 in version 0.20 to 100 in 0.22.\n",
      "  \"10 in version 0.20 to 100 in 0.22.\", FutureWarning)\n",
      "C:\\Users\\Bae yuna\\Anaconda3\\lib\\site-packages\\ipykernel_launcher.py:3: DataConversionWarning: A column-vector y was passed when a 1d array was expected. Please change the shape of y to (n_samples,), for example using ravel().\n",
      "  This is separate from the ipykernel package so we can avoid doing imports until\n"
     ]
    },
    {
     "name": "stdout",
     "output_type": "stream",
     "text": [
      " accuracy_score : 0.9999135596150521 \n",
      " roc_auc_score : 1.0 \n",
      " f1_score : 0.9995751310012746 \n",
      " recall_score : 1.0 \n",
      " precision_score : 0.9991506228765572\n"
     ]
    }
   ],
   "source": [
    "# 합성 데이터를 추가했을 때의 모델성능\n",
    "y_pred = RandomForestClassifier(random_state=0).fit(X_res, y_res).predict(X_test)\n",
    "y_proba = RandomForestClassifier(random_state=0).fit(X_res, y_res).predict_proba(X_test)[:,1]\n",
    "print(' accuracy_score :', accuracy_score(y_test, y_pred), '\\n' ,'roc_auc_score :',roc_auc_score(y_test, y_proba), '\\n','f1_score :', f1_score(y_test, y_pred), '\\n','recall_score :',recall_score(y_test, y_pred),'\\n','precision_score :', precision_score(y_test, y_pred))"
   ]
  },
  {
   "cell_type": "code",
   "execution_count": 357,
   "metadata": {},
   "outputs": [],
   "source": [
    "accuracy.append(accuracy_score(y_test, y_pred))\n",
    "roc_auc.append(roc_auc_score(y_test, y_proba))\n",
    "f1.append(f1_score(y_test, y_pred))\n",
    "recall.append(recall_score(y_test, y_pred))\n",
    "precision.append(precision_score(y_test, y_pred))"
   ]
  },
  {
   "cell_type": "code",
   "execution_count": 358,
   "metadata": {},
   "outputs": [
    {
     "name": "stdout",
     "output_type": "stream",
     "text": [
      "[0.8976257707600991, 0.2760329626001268, 0.19258917766380454, 0.6106148792715956, 0.6993603411513859, 0.8870224168731632, 0.869158070650608, 0.897510516913502, 0.8915461303521005, 0.8763326226012793, 0.880683455310321, 0.8759004206765401, 0.8721834841237827, 0.8447242551720163, 0.9900593557309976, 0.9999135596150521]\n",
      "[0.7084781276037304, 0.49060050125776167, 0.5405276155532875, 0.681067457570684, 0.7227424175313317, 0.7143837542612322, 0.7130668917286161, 0.7193709373330728, 0.7280117036309827, 0.7457077108151846, 0.7455858551771327, 0.7357566351222015, 0.7441680643285066, 0.7380758277632952, 0.999887624143442, 1.0]\n",
      "[0.1276700220967346, 0.17560207362687844, 0.18540697674418605, 0.25402958710532125, 0.2901074976187236, 0.2038578680203046, 0.2532478210820589, 0.13685998544042707, 0.18739205526770294, 0.2872799734307539, 0.26643046944198406, 0.2671431002212013, 0.2675033025099075, 0.2971175166297118, 0.953397271376469, 0.9995751310012746]\n",
      "[0.07367526211391329, 0.7582884669878153, 0.903655426466421, 0.6520260697081326, 0.604137149334089, 0.14224992915840182, 0.21819212241428165, 0.07990932275432133, 0.12298101445168604, 0.2451119297251346, 0.2130915273448569, 0.22244261830546896, 0.22952677812411448, 0.3227543213374894, 1.0, 1.0]\n",
      "[0.47794117647058826, 0.09929867527552043, 0.10330083249651777, 0.1577431959964352, 0.19088548661473723, 0.35959885386819485, 0.3017241379310345, 0.47635135135135137, 0.39347234814143245, 0.3469715202567188, 0.3553875236294896, 0.33432708688245316, 0.32053818757419866, 0.27525374577090383, 0.9109447599380486, 0.9991506228765572]\n"
     ]
    }
   ],
   "source": [
    "print(accuracy)\n",
    "print(roc_auc )\n",
    "print(f1 )\n",
    "print(recall)\n",
    "print(precision )"
   ]
  },
  {
   "cell_type": "markdown",
   "metadata": {},
   "source": [
    "# 시각화"
   ]
  },
  {
   "cell_type": "code",
   "execution_count": 359,
   "metadata": {},
   "outputs": [
    {
     "name": "stdout",
     "output_type": "stream",
     "text": [
      "                 0         1         2         3         4         5   \\\n",
      "accuracy   0.897626  0.276033  0.192589  0.610615  0.699360  0.887022   \n",
      "roc_auc    0.708478  0.490601  0.540528  0.681067  0.722742  0.714384   \n",
      "f1         0.127670  0.175602  0.185407  0.254030  0.290107  0.203858   \n",
      "recall     0.073675  0.758288  0.903655  0.652026  0.604137  0.142250   \n",
      "precision  0.477941  0.099299  0.103301  0.157743  0.190885  0.359599   \n",
      "\n",
      "                 6         7         8         9         10        11  \\\n",
      "accuracy   0.869158  0.897511  0.891546  0.876333  0.880683  0.875900   \n",
      "roc_auc    0.713067  0.719371  0.728012  0.745708  0.745586  0.735757   \n",
      "f1         0.253248  0.136860  0.187392  0.287280  0.266430  0.267143   \n",
      "recall     0.218192  0.079909  0.122981  0.245112  0.213092  0.222443   \n",
      "precision  0.301724  0.476351  0.393472  0.346972  0.355388  0.334327   \n",
      "\n",
      "                 12        13        14        15  \n",
      "accuracy   0.872183  0.844724  0.990059  0.999914  \n",
      "roc_auc    0.744168  0.738076  0.999888  1.000000  \n",
      "f1         0.267503  0.297118  0.953397  0.999575  \n",
      "recall     0.229527  0.322754  1.000000  1.000000  \n",
      "precision  0.320538  0.275254  0.910945  0.999151  \n"
     ]
    }
   ],
   "source": [
    "lsts = [accuracy, roc_auc, f1, recall, precision]\n",
    "score = pd.DataFrame(lsts,index=['accuracy', 'roc_auc', 'f1', 'recall', 'precision'])\n",
    "print(score)"
   ]
  },
  {
   "cell_type": "code",
   "execution_count": 360,
   "metadata": {},
   "outputs": [
    {
     "name": "stdout",
     "output_type": "stream",
     "text": [
      "           BaseLine  NearMiss1  NearMiss2  NearMiss3  RandomUnderSampler  \\\n",
      "accuracy   0.897626   0.276033   0.192589   0.610615            0.699360   \n",
      "roc_auc    0.708478   0.490601   0.540528   0.681067            0.722742   \n",
      "f1         0.127670   0.175602   0.185407   0.254030            0.290107   \n",
      "recall     0.073675   0.758288   0.903655   0.652026            0.604137   \n",
      "precision  0.477941   0.099299   0.103301   0.157743            0.190885   \n",
      "\n",
      "                ENN  Repeated_edites_nearest_neighbor  Tomek_Link_Removal  \\\n",
      "accuracy   0.887022                          0.869158            0.897511   \n",
      "roc_auc    0.714384                          0.713067            0.719371   \n",
      "f1         0.203858                          0.253248            0.136860   \n",
      "recall     0.142250                          0.218192            0.079909   \n",
      "precision  0.359599                          0.301724            0.476351   \n",
      "\n",
      "           Random_Oversampling_of_minority_class     SMOTE    SMOTE1  \\\n",
      "accuracy                                0.891546  0.876333  0.880683   \n",
      "roc_auc                                 0.728012  0.745708  0.745586   \n",
      "f1                                      0.187392  0.287280  0.266430   \n",
      "recall                                  0.122981  0.245112  0.213092   \n",
      "precision                               0.393472  0.346972  0.355388   \n",
      "\n",
      "             SMOTE2  SMOTE+TOMEK  SMOTE+ENN  EasyEnsemble  BalanceCascade  \n",
      "accuracy   0.875900     0.872183   0.844724      0.990059        0.999914  \n",
      "roc_auc    0.735757     0.744168   0.738076      0.999888        1.000000  \n",
      "f1         0.267143     0.267503   0.297118      0.953397        0.999575  \n",
      "recall     0.222443     0.229527   0.322754      1.000000        1.000000  \n",
      "precision  0.334327     0.320538   0.275254      0.910945        0.999151  \n"
     ]
    }
   ],
   "source": [
    "score.columns=['BaseLine','NearMiss1','NearMiss2','NearMiss3','RandomUnderSampler','CNN','ENN','Repeated_edites_nearest_neighbor','Tomek_Link_Removal','Random_Oversampling_of_minority_class','SMOTE','SMOTE1','SMOTE2','SMOTE+TOMEK','SMOTE+ENN','EasyEnsemble','BalanceCascade']\n",
    "print(score)"
   ]
  },
  {
   "cell_type": "code",
   "execution_count": 361,
   "metadata": {},
   "outputs": [],
   "source": [
    "score['score']=['accuracy','roc_auc','f1','recall','precision']"
   ]
  },
  {
   "cell_type": "code",
   "execution_count": 362,
   "metadata": {},
   "outputs": [
    {
     "name": "stdout",
     "output_type": "stream",
     "text": [
      "           BaseLine  NearMiss1  NearMiss2  NearMiss3  RandomUnderSampler  \\\n",
      "accuracy   0.897626   0.276033   0.192589   0.610615            0.699360   \n",
      "roc_auc    0.708478   0.490601   0.540528   0.681067            0.722742   \n",
      "f1         0.127670   0.175602   0.185407   0.254030            0.290107   \n",
      "recall     0.073675   0.758288   0.903655   0.652026            0.604137   \n",
      "precision  0.477941   0.099299   0.103301   0.157743            0.190885   \n",
      "\n",
      "                ENN  Repeated_edites_nearest_neighbor  Tomek_Link_Removal  \\\n",
      "accuracy   0.887022                          0.869158            0.897511   \n",
      "roc_auc    0.714384                          0.713067            0.719371   \n",
      "f1         0.203858                          0.253248            0.136860   \n",
      "recall     0.142250                          0.218192            0.079909   \n",
      "precision  0.359599                          0.301724            0.476351   \n",
      "\n",
      "           Random_Oversampling_of_minority_class     SMOTE    SMOTE1  \\\n",
      "accuracy                                0.891546  0.876333  0.880683   \n",
      "roc_auc                                 0.728012  0.745708  0.745586   \n",
      "f1                                      0.187392  0.287280  0.266430   \n",
      "recall                                  0.122981  0.245112  0.213092   \n",
      "precision                               0.393472  0.346972  0.355388   \n",
      "\n",
      "             SMOTE2  SMOTE+TOMEK  SMOTE+ENN  EasyEnsemble  BalanceCascade  \\\n",
      "accuracy   0.875900     0.872183   0.844724      0.990059        0.999914   \n",
      "roc_auc    0.735757     0.744168   0.738076      0.999888        1.000000   \n",
      "f1         0.267143     0.267503   0.297118      0.953397        0.999575   \n",
      "recall     0.222443     0.229527   0.322754      1.000000        1.000000   \n",
      "precision  0.334327     0.320538   0.275254      0.910945        0.999151   \n",
      "\n",
      "               score  \n",
      "accuracy    accuracy  \n",
      "roc_auc      roc_auc  \n",
      "f1                f1  \n",
      "recall        recall  \n",
      "precision  precision  \n"
     ]
    }
   ],
   "source": [
    "print(score)"
   ]
  },
  {
   "cell_type": "markdown",
   "metadata": {},
   "source": [
    "## 각 모델별 score 시각화"
   ]
  },
  {
   "cell_type": "markdown",
   "metadata": {},
   "source": [
    "## 1. BaseLine score 시각화"
   ]
  },
  {
   "cell_type": "code",
   "execution_count": 363,
   "metadata": {},
   "outputs": [
    {
     "data": {
      "text/plain": [
       "Text(0.5, 1.0, 'BaseLine Score')"
      ]
     },
     "execution_count": 363,
     "metadata": {},
     "output_type": "execute_result"
    },
    {
     "data": {
      "image/png": "[encoded data removed]",
      "text/plain": [
       "<Figure size 432x288 with 1 Axes>"
      ]
     },
     "metadata": {},
     "output_type": "display_data"
    }
   ],
   "source": [
    "import seaborn as sns\n",
    "sns.set(style=\"whitegrid\")\n",
    "ax = sns.barplot(x=\"score\", y=\"BaseLine\", data=score)\n",
    "ax.set_title('BaseLine Score')"
   ]
  },
  {
   "cell_type": "markdown",
   "metadata": {},
   "source": [
    "## 2. UnderSampling 시각화"
   ]
  },
  {
   "cell_type": "code",
   "execution_count": 364,
   "metadata": {},
   "outputs": [
    {
     "data": {
      "text/plain": [
       "Text(0.5, 1.0, 'NearMiss1 Score')"
      ]
     },
     "execution_count": 364,
     "metadata": {},
     "output_type": "execute_result"
    },
    {
     "data": {
      "image/png": "[encoded data removed]",
      "text/plain": [
       "<Figure size 432x288 with 1 Axes>"
      ]
     },
     "metadata": {},
     "output_type": "display_data"
    }
   ],
   "source": [
    "import seaborn as sns\n",
    "sns.set(style=\"whitegrid\")\n",
    "ax = sns.barplot(x=\"score\", y=\"NearMiss1\", data=score)\n",
    "ax.set_title('NearMiss1 Score')"
   ]
  },
  {
   "cell_type": "code",
   "execution_count": 365,
   "metadata": {},
   "outputs": [
    {
     "data": {
      "text/plain": [
       "Text(0.5, 1.0, 'NearMiss2 Score')"
      ]
     },
     "execution_count": 365,
     "metadata": {},
     "output_type": "execute_result"
    },
    {
     "data": {
      "image/png": "[encoded data removed]",
      "text/plain": [
       "<Figure size 432x288 with 1 Axes>"
      ]
     },
     "metadata": {},
     "output_type": "display_data"
    }
   ],
   "source": [
    "import seaborn as sns\n",
    "sns.set(style=\"whitegrid\")\n",
    "ax = sns.barplot(x=\"score\", y=\"NearMiss2\", data=score)\n",
    "ax.set_title('NearMiss2 Score')"
   ]
  },
  {
   "cell_type": "code",
   "execution_count": 366,
   "metadata": {},
   "outputs": [
    {
     "data": {
      "text/plain": [
       "Text(0.5, 1.0, 'NearMiss3 Score')"
      ]
     },
     "execution_count": 366,
     "metadata": {},
     "output_type": "execute_result"
    },
    {
     "data": {
      "image/png": "[encoded data removed]",
      "text/plain": [
       "<Figure size 432x288 with 1 Axes>"
      ]
     },
     "metadata": {},
     "output_type": "display_data"
    }
   ],
   "source": [
    "import seaborn as sns\n",
    "sns.set(style=\"whitegrid\")\n",
    "ax = sns.barplot(x=\"score\", y=\"NearMiss3\", data=score)\n",
    "ax.set_title('NearMiss3 Score')"
   ]
  },
  {
   "cell_type": "code",
   "execution_count": 367,
   "metadata": {},
   "outputs": [
    {
     "data": {
      "text/plain": [
       "Text(0.5, 1.0, 'RandomUnderSampler')"
      ]
     },
     "execution_count": 367,
     "metadata": {},
     "output_type": "execute_result"
    },
    {
     "data": {
      "image/png": "[encoded data removed]",
      "text/plain": [
       "<Figure size 432x288 with 1 Axes>"
      ]
     },
     "metadata": {},
     "output_type": "display_data"
    }
   ],
   "source": [
    "import seaborn as sns\n",
    "sns.set(style=\"whitegrid\")\n",
    "ax = sns.barplot(x=\"score\", y=\"RandomUnderSampler\", data=score)\n",
    "ax.set_title('RandomUnderSampler')"
   ]
  },
  {
   "cell_type": "code",
   "execution_count": null,
   "metadata": {},
   "outputs": [],
   "source": [
    "import seaborn as sns\n",
    "sns.set(style=\"whitegrid\")\n",
    "ax = sns.barplot(x=\"score\", y=\"CNN\", data=score)\n",
    "ax.set_title('CNN')"
   ]
  },
  {
   "cell_type": "code",
   "execution_count": 368,
   "metadata": {},
   "outputs": [
    {
     "data": {
      "text/plain": [
       "Text(0.5, 1.0, 'ENN')"
      ]
     },
     "execution_count": 368,
     "metadata": {},
     "output_type": "execute_result"
    },
    {
     "data": {
      "image/png": "[encoded data removed]",
      "text/plain": [
       "<Figure size 432x288 with 1 Axes>"
      ]
     },
     "metadata": {},
     "output_type": "display_data"
    }
   ],
   "source": [
    "import seaborn as sns\n",
    "sns.set(style=\"whitegrid\")\n",
    "ax = sns.barplot(x=\"score\", y=\"ENN\", data=score)\n",
    "ax.set_title('ENN')"
   ]
  },
  {
   "cell_type": "code",
   "execution_count": 369,
   "metadata": {},
   "outputs": [
    {
     "data": {
      "text/plain": [
       "Text(0.5, 1.0, 'Repeated_edites_nearest_neighbor Score')"
      ]
     },
     "execution_count": 369,
     "metadata": {},
     "output_type": "execute_result"
    },
    {
     "data": {
      "image/png": "[encoded data removed]",
      "text/plain": [
       "<Figure size 432x288 with 1 Axes>"
      ]
     },
     "metadata": {},
     "output_type": "display_data"
    }
   ],
   "source": [
    "import seaborn as sns\n",
    "sns.set(style=\"whitegrid\")\n",
    "ax = sns.barplot(x=\"score\", y=\"Repeated_edites_nearest_neighbor\", data=score)\n",
    "ax.set_title('Repeated_edites_nearest_neighbor Score')"
   ]
  },
  {
   "cell_type": "code",
   "execution_count": 370,
   "metadata": {},
   "outputs": [
    {
     "data": {
      "text/plain": [
       "Text(0.5, 1.0, 'Tomek_Link_Removal Score')"
      ]
     },
     "execution_count": 370,
     "metadata": {},
     "output_type": "execute_result"
    },
    {
     "data": {
      "image/png": "[encoded data removed]",
      "text/plain": [
       "<Figure size 432x288 with 1 Axes>"
      ]
     },
     "metadata": {},
     "output_type": "display_data"
    }
   ],
   "source": [
    "import seaborn as sns\n",
    "sns.set(style=\"whitegrid\")\n",
    "ax = sns.barplot(x=\"score\", y=\"Tomek_Link_Removal\", data=score)\n",
    "ax.set_title('Tomek_Link_Removal Score')"
   ]
  },
  {
   "cell_type": "markdown",
   "metadata": {},
   "source": [
    "## OverSampling 시각화"
   ]
  },
  {
   "cell_type": "code",
   "execution_count": 371,
   "metadata": {},
   "outputs": [
    {
     "data": {
      "text/plain": [
       "Text(0.5, 1.0, 'Random_Oversampling_of_minority_class Score')"
      ]
     },
     "execution_count": 371,
     "metadata": {},
     "output_type": "execute_result"
    },
    {
     "data": {
      "image/png": "[encoded data removed]",
      "text/plain": [
       "<Figure size 432x288 with 1 Axes>"
      ]
     },
     "metadata": {},
     "output_type": "display_data"
    }
   ],
   "source": [
    "import seaborn as sns\n",
    "sns.set(style=\"whitegrid\")\n",
    "ax = sns.barplot(x=\"score\", y=\"Random_Oversampling_of_minority_class\", data=score)\n",
    "ax.set_title('Random_Oversampling_of_minority_class Score')"
   ]
  },
  {
   "cell_type": "code",
   "execution_count": 372,
   "metadata": {},
   "outputs": [
    {
     "data": {
      "text/plain": [
       "Text(0.5, 1.0, 'SMOTE Score')"
      ]
     },
     "execution_count": 372,
     "metadata": {},
     "output_type": "execute_result"
    },
    {
     "data": {
      "image/png": "[encoded data removed]",
      "text/plain": [
       "<Figure size 432x288 with 1 Axes>"
      ]
     },
     "metadata": {},
     "output_type": "display_data"
    }
   ],
   "source": [
    "import seaborn as sns\n",
    "sns.set(style=\"whitegrid\")\n",
    "ax = sns.barplot(x=\"score\", y=\"SMOTE\", data=score)\n",
    "ax.set_title('SMOTE Score')"
   ]
  },
  {
   "cell_type": "code",
   "execution_count": 373,
   "metadata": {},
   "outputs": [
    {
     "data": {
      "text/plain": [
       "Text(0.5, 1.0, 'SMOTE1 Score')"
      ]
     },
     "execution_count": 373,
     "metadata": {},
     "output_type": "execute_result"
    },
    {
     "data": {
      "image/png": "[encoded data removed]",
      "text/plain": [
       "<Figure size 432x288 with 1 Axes>"
      ]
     },
     "metadata": {},
     "output_type": "display_data"
    }
   ],
   "source": [
    "import seaborn as sns\n",
    "sns.set(style=\"whitegrid\")\n",
    "ax = sns.barplot(x=\"score\", y=\"SMOTE1\", data=score)\n",
    "ax.set_title('SMOTE1 Score')"
   ]
  },
  {
   "cell_type": "code",
   "execution_count": 374,
   "metadata": {},
   "outputs": [
    {
     "data": {
      "text/plain": [
       "Text(0.5, 1.0, 'SMOTE2 Score')"
      ]
     },
     "execution_count": 374,
     "metadata": {},
     "output_type": "execute_result"
    },
    {
     "data": {
      "image/png": "[encoded data removed]",
      "text/plain": [
       "<Figure size 432x288 with 1 Axes>"
      ]
     },
     "metadata": {},
     "output_type": "display_data"
    }
   ],
   "source": [
    "import seaborn as sns\n",
    "sns.set(style=\"whitegrid\")\n",
    "ax = sns.barplot(x=\"score\", y=\"SMOTE2\", data=score)\n",
    "ax.set_title('SMOTE2 Score')"
   ]
  },
  {
   "cell_type": "code",
   "execution_count": 375,
   "metadata": {},
   "outputs": [
    {
     "data": {
      "text/plain": [
       "Text(0.5, 1.0, 'SMOTE+TOMEK Score')"
      ]
     },
     "execution_count": 375,
     "metadata": {},
     "output_type": "execute_result"
    },
    {
     "data": {
      "image/png": "[encoded data removed]",
      "text/plain": [
       "<Figure size 432x288 with 1 Axes>"
      ]
     },
     "metadata": {},
     "output_type": "display_data"
    }
   ],
   "source": [
    "import seaborn as sns\n",
    "sns.set(style=\"whitegrid\")\n",
    "ax = sns.barplot(x=\"score\", y=\"SMOTE+TOMEK\", data=score)\n",
    "ax.set_title('SMOTE+TOMEK Score')"
   ]
  },
  {
   "cell_type": "code",
   "execution_count": 376,
   "metadata": {},
   "outputs": [
    {
     "data": {
      "text/plain": [
       "Text(0.5, 1.0, 'SMOTE+ENN Score')"
      ]
     },
     "execution_count": 376,
     "metadata": {},
     "output_type": "execute_result"
    },
    {
     "data": {
      "image/png": "[encoded data removed]",
      "text/plain": [
       "<Figure size 432x288 with 1 Axes>"
      ]
     },
     "metadata": {},
     "output_type": "display_data"
    }
   ],
   "source": [
    "import seaborn as sns\n",
    "sns.set(style=\"whitegrid\")\n",
    "ax = sns.barplot(x=\"score\", y=\"SMOTE+ENN\", data=score)\n",
    "ax.set_title('SMOTE+ENN Score')"
   ]
  },
  {
   "cell_type": "markdown",
   "metadata": {},
   "source": [
    "## 3. Ensemble 시각화"
   ]
  },
  {
   "cell_type": "code",
   "execution_count": 377,
   "metadata": {},
   "outputs": [
    {
     "data": {
      "text/plain": [
       "Text(0.5, 1.0, 'EasyEnsemble Score')"
      ]
     },
     "execution_count": 377,
     "metadata": {},
     "output_type": "execute_result"
    },
    {
     "data": {
      "image/png": "[encoded data removed]",
      "text/plain": [
       "<Figure size 432x288 with 1 Axes>"
      ]
     },
     "metadata": {},
     "output_type": "display_data"
    }
   ],
   "source": [
    "import seaborn as sns\n",
    "sns.set(style=\"whitegrid\")\n",
    "ax = sns.barplot(x=\"score\", y=\"EasyEnsemble\", data=score)\n",
    "ax.set_title('EasyEnsemble Score')"
   ]
  },
  {
   "cell_type": "code",
   "execution_count": 378,
   "metadata": {},
   "outputs": [
    {
     "data": {
      "text/plain": [
       "(0.9, 1)"
      ]
     },
     "execution_count": 378,
     "metadata": {},
     "output_type": "execute_result"
    },
    {
     "data": {
      "image/png": "[encoded data removed]",
      "text/plain": [
       "<Figure size 432x288 with 1 Axes>"
      ]
     },
     "metadata": {},
     "output_type": "display_data"
    }
   ],
   "source": [
    "# 다 너무 값이 높아서 확대함.\n",
    "import seaborn as sns\n",
    "sns.set(style=\"whitegrid\")\n",
    "ax = sns.barplot(x=\"score\", y=\"EasyEnsemble\", data=score)\n",
    "ax.set_title('EasyEnsemble Score')\n",
    "ax.set_ylim([0.9, 1])"
   ]
  },
  {
   "cell_type": "code",
   "execution_count": 379,
   "metadata": {},
   "outputs": [
    {
     "data": {
      "text/plain": [
       "Text(0.5, 1.0, 'BalanceCascade Score')"
      ]
     },
     "execution_count": 379,
     "metadata": {},
     "output_type": "execute_result"
    },
    {
     "data": {
      "image/png": "[encoded data removed]",
      "text/plain": [
       "<Figure size 432x288 with 1 Axes>"
      ]
     },
     "metadata": {},
     "output_type": "display_data"
    }
   ],
   "source": [
    "import seaborn as sns\n",
    "sns.set(style=\"whitegrid\")\n",
    "ax = sns.barplot(x=\"score\", y=\"BalanceCascade\", data=score)\n",
    "ax.set_title('BalanceCascade Score')"
   ]
  },
  {
   "cell_type": "code",
   "execution_count": 380,
   "metadata": {},
   "outputs": [
    {
     "data": {
      "text/plain": [
       "(0.9985, 1)"
      ]
     },
     "execution_count": 380,
     "metadata": {},
     "output_type": "execute_result"
    },
    {
     "data": {
      "image/png": "[encoded data removed]",
      "text/plain": [
       "<Figure size 432x288 with 1 Axes>"
      ]
     },
     "metadata": {},
     "output_type": "display_data"
    }
   ],
   "source": [
    "# 다 너무 값이 높아서 확대함.\n",
    "import seaborn as sns\n",
    "sns.set(style=\"whitegrid\")\n",
    "ax = sns.barplot(x=\"score\", y=\"BalanceCascade\", data=score)\n",
    "ax.set_title('BalanceCascade Score')\n",
    "ax.set_ylim([0.9985, 1])"
   ]
  },
  {
   "cell_type": "markdown",
   "metadata": {},
   "source": [
    "## 불균형(원본)데이터 & 모델 적용 후 데이터 recall & precision 값 비교"
   ]
  },
  {
   "cell_type": "code",
   "execution_count": 381,
   "metadata": {},
   "outputs": [
    {
     "data": {
      "text/html": [
       "<div>\n",
       "<style scoped>\n",
       "    .dataframe tbody tr th:only-of-type {\n",
       "        vertical-align: middle;\n",
       "    }\n",
       "\n",
       "    .dataframe tbody tr th {\n",
       "        vertical-align: top;\n",
       "    }\n",
       "\n",
       "    .dataframe thead th {\n",
       "        text-align: right;\n",
       "    }\n",
       "</style>\n",
       "<table border=\"1\" class=\"dataframe\">\n",
       "  <thead>\n",
       "    <tr style=\"text-align: right;\">\n",
       "      <th></th>\n",
       "      <th>BaseLine</th>\n",
       "      <th>NearMiss1</th>\n",
       "      <th>NearMiss2</th>\n",
       "      <th>NearMiss3</th>\n",
       "      <th>RandomUnderSampler</th>\n",
       "      <th>ENN</th>\n",
       "      <th>Repeated_edites_nearest_neighbor</th>\n",
       "      <th>Tomek_Link_Removal</th>\n",
       "      <th>Random_Oversampling_of_minority_class</th>\n",
       "      <th>SMOTE</th>\n",
       "      <th>SMOTE1</th>\n",
       "      <th>SMOTE2</th>\n",
       "      <th>SMOTE+TOMEK</th>\n",
       "      <th>SMOTE+ENN</th>\n",
       "      <th>EasyEnsemble</th>\n",
       "      <th>BalanceCascade</th>\n",
       "      <th>score</th>\n",
       "    </tr>\n",
       "  </thead>\n",
       "  <tbody>\n",
       "    <tr>\n",
       "      <th>accuracy</th>\n",
       "      <td>0.897626</td>\n",
       "      <td>0.276033</td>\n",
       "      <td>0.192589</td>\n",
       "      <td>0.610615</td>\n",
       "      <td>0.699360</td>\n",
       "      <td>0.887022</td>\n",
       "      <td>0.869158</td>\n",
       "      <td>0.897511</td>\n",
       "      <td>0.891546</td>\n",
       "      <td>0.876333</td>\n",
       "      <td>0.880683</td>\n",
       "      <td>0.875900</td>\n",
       "      <td>0.872183</td>\n",
       "      <td>0.844724</td>\n",
       "      <td>0.990059</td>\n",
       "      <td>0.999914</td>\n",
       "      <td>accuracy</td>\n",
       "    </tr>\n",
       "    <tr>\n",
       "      <th>roc_auc</th>\n",
       "      <td>0.708478</td>\n",
       "      <td>0.490601</td>\n",
       "      <td>0.540528</td>\n",
       "      <td>0.681067</td>\n",
       "      <td>0.722742</td>\n",
       "      <td>0.714384</td>\n",
       "      <td>0.713067</td>\n",
       "      <td>0.719371</td>\n",
       "      <td>0.728012</td>\n",
       "      <td>0.745708</td>\n",
       "      <td>0.745586</td>\n",
       "      <td>0.735757</td>\n",
       "      <td>0.744168</td>\n",
       "      <td>0.738076</td>\n",
       "      <td>0.999888</td>\n",
       "      <td>1.000000</td>\n",
       "      <td>roc_auc</td>\n",
       "    </tr>\n",
       "    <tr>\n",
       "      <th>f1</th>\n",
       "      <td>0.127670</td>\n",
       "      <td>0.175602</td>\n",
       "      <td>0.185407</td>\n",
       "      <td>0.254030</td>\n",
       "      <td>0.290107</td>\n",
       "      <td>0.203858</td>\n",
       "      <td>0.253248</td>\n",
       "      <td>0.136860</td>\n",
       "      <td>0.187392</td>\n",
       "      <td>0.287280</td>\n",
       "      <td>0.266430</td>\n",
       "      <td>0.267143</td>\n",
       "      <td>0.267503</td>\n",
       "      <td>0.297118</td>\n",
       "      <td>0.953397</td>\n",
       "      <td>0.999575</td>\n",
       "      <td>f1</td>\n",
       "    </tr>\n",
       "    <tr>\n",
       "      <th>recall</th>\n",
       "      <td>0.073675</td>\n",
       "      <td>0.758288</td>\n",
       "      <td>0.903655</td>\n",
       "      <td>0.652026</td>\n",
       "      <td>0.604137</td>\n",
       "      <td>0.142250</td>\n",
       "      <td>0.218192</td>\n",
       "      <td>0.079909</td>\n",
       "      <td>0.122981</td>\n",
       "      <td>0.245112</td>\n",
       "      <td>0.213092</td>\n",
       "      <td>0.222443</td>\n",
       "      <td>0.229527</td>\n",
       "      <td>0.322754</td>\n",
       "      <td>1.000000</td>\n",
       "      <td>1.000000</td>\n",
       "      <td>recall</td>\n",
       "    </tr>\n",
       "    <tr>\n",
       "      <th>precision</th>\n",
       "      <td>0.477941</td>\n",
       "      <td>0.099299</td>\n",
       "      <td>0.103301</td>\n",
       "      <td>0.157743</td>\n",
       "      <td>0.190885</td>\n",
       "      <td>0.359599</td>\n",
       "      <td>0.301724</td>\n",
       "      <td>0.476351</td>\n",
       "      <td>0.393472</td>\n",
       "      <td>0.346972</td>\n",
       "      <td>0.355388</td>\n",
       "      <td>0.334327</td>\n",
       "      <td>0.320538</td>\n",
       "      <td>0.275254</td>\n",
       "      <td>0.910945</td>\n",
       "      <td>0.999151</td>\n",
       "      <td>precision</td>\n",
       "    </tr>\n",
       "  </tbody>\n",
       "</table>\n",
       "</div>"
      ],
      "text/plain": [
       "           BaseLine  NearMiss1  NearMiss2  NearMiss3  RandomUnderSampler  \\\n",
       "accuracy   0.897626   0.276033   0.192589   0.610615            0.699360   \n",
       "roc_auc    0.708478   0.490601   0.540528   0.681067            0.722742   \n",
       "f1         0.127670   0.175602   0.185407   0.254030            0.290107   \n",
       "recall     0.073675   0.758288   0.903655   0.652026            0.604137   \n",
       "precision  0.477941   0.099299   0.103301   0.157743            0.190885   \n",
       "\n",
       "                ENN  Repeated_edites_nearest_neighbor  Tomek_Link_Removal  \\\n",
       "accuracy   0.887022                          0.869158            0.897511   \n",
       "roc_auc    0.714384                          0.713067            0.719371   \n",
       "f1         0.203858                          0.253248            0.136860   \n",
       "recall     0.142250                          0.218192            0.079909   \n",
       "precision  0.359599                          0.301724            0.476351   \n",
       "\n",
       "           Random_Oversampling_of_minority_class     SMOTE    SMOTE1  \\\n",
       "accuracy                                0.891546  0.876333  0.880683   \n",
       "roc_auc                                 0.728012  0.745708  0.745586   \n",
       "f1                                      0.187392  0.287280  0.266430   \n",
       "recall                                  0.122981  0.245112  0.213092   \n",
       "precision                               0.393472  0.346972  0.355388   \n",
       "\n",
       "             SMOTE2  SMOTE+TOMEK  SMOTE+ENN  EasyEnsemble  BalanceCascade  \\\n",
       "accuracy   0.875900     0.872183   0.844724      0.990059        0.999914   \n",
       "roc_auc    0.735757     0.744168   0.738076      0.999888        1.000000   \n",
       "f1         0.267143     0.267503   0.297118      0.953397        0.999575   \n",
       "recall     0.222443     0.229527   0.322754      1.000000        1.000000   \n",
       "precision  0.334327     0.320538   0.275254      0.910945        0.999151   \n",
       "\n",
       "               score  \n",
       "accuracy    accuracy  \n",
       "roc_auc      roc_auc  \n",
       "f1                f1  \n",
       "recall        recall  \n",
       "precision  precision  "
      ]
     },
     "execution_count": 381,
     "metadata": {},
     "output_type": "execute_result"
    }
   ],
   "source": [
    "score"
   ]
  },
  {
   "cell_type": "code",
   "execution_count": 382,
   "metadata": {},
   "outputs": [
    {
     "data": {
      "text/html": [
       "<div>\n",
       "<style scoped>\n",
       "    .dataframe tbody tr th:only-of-type {\n",
       "        vertical-align: middle;\n",
       "    }\n",
       "\n",
       "    .dataframe tbody tr th {\n",
       "        vertical-align: top;\n",
       "    }\n",
       "\n",
       "    .dataframe thead th {\n",
       "        text-align: right;\n",
       "    }\n",
       "</style>\n",
       "<table border=\"1\" class=\"dataframe\">\n",
       "  <thead>\n",
       "    <tr style=\"text-align: right;\">\n",
       "      <th></th>\n",
       "      <th>BaseLine</th>\n",
       "      <th>NearMiss1</th>\n",
       "      <th>NearMiss2</th>\n",
       "      <th>NearMiss3</th>\n",
       "      <th>RandomUnderSampler</th>\n",
       "      <th>ENN</th>\n",
       "      <th>Repeated_edites_nearest_neighbor</th>\n",
       "      <th>Tomek_Link_Removal</th>\n",
       "      <th>Random_Oversampling_of_minority_class</th>\n",
       "      <th>SMOTE</th>\n",
       "      <th>SMOTE1</th>\n",
       "      <th>SMOTE2</th>\n",
       "      <th>SMOTE+TOMEK</th>\n",
       "      <th>SMOTE+ENN</th>\n",
       "      <th>EasyEnsemble</th>\n",
       "      <th>BalanceCascade</th>\n",
       "      <th>score</th>\n",
       "    </tr>\n",
       "  </thead>\n",
       "  <tbody>\n",
       "    <tr>\n",
       "      <th>recall</th>\n",
       "      <td>0.073675</td>\n",
       "      <td>0.758288</td>\n",
       "      <td>0.903655</td>\n",
       "      <td>0.652026</td>\n",
       "      <td>0.604137</td>\n",
       "      <td>0.142250</td>\n",
       "      <td>0.218192</td>\n",
       "      <td>0.079909</td>\n",
       "      <td>0.122981</td>\n",
       "      <td>0.245112</td>\n",
       "      <td>0.213092</td>\n",
       "      <td>0.222443</td>\n",
       "      <td>0.229527</td>\n",
       "      <td>0.322754</td>\n",
       "      <td>1.000000</td>\n",
       "      <td>1.000000</td>\n",
       "      <td>recall</td>\n",
       "    </tr>\n",
       "    <tr>\n",
       "      <th>precision</th>\n",
       "      <td>0.477941</td>\n",
       "      <td>0.099299</td>\n",
       "      <td>0.103301</td>\n",
       "      <td>0.157743</td>\n",
       "      <td>0.190885</td>\n",
       "      <td>0.359599</td>\n",
       "      <td>0.301724</td>\n",
       "      <td>0.476351</td>\n",
       "      <td>0.393472</td>\n",
       "      <td>0.346972</td>\n",
       "      <td>0.355388</td>\n",
       "      <td>0.334327</td>\n",
       "      <td>0.320538</td>\n",
       "      <td>0.275254</td>\n",
       "      <td>0.910945</td>\n",
       "      <td>0.999151</td>\n",
       "      <td>precision</td>\n",
       "    </tr>\n",
       "  </tbody>\n",
       "</table>\n",
       "</div>"
      ],
      "text/plain": [
       "           BaseLine  NearMiss1  NearMiss2  NearMiss3  RandomUnderSampler  \\\n",
       "recall     0.073675   0.758288   0.903655   0.652026            0.604137   \n",
       "precision  0.477941   0.099299   0.103301   0.157743            0.190885   \n",
       "\n",
       "                ENN  Repeated_edites_nearest_neighbor  Tomek_Link_Removal  \\\n",
       "recall     0.142250                          0.218192            0.079909   \n",
       "precision  0.359599                          0.301724            0.476351   \n",
       "\n",
       "           Random_Oversampling_of_minority_class     SMOTE    SMOTE1  \\\n",
       "recall                                  0.122981  0.245112  0.213092   \n",
       "precision                               0.393472  0.346972  0.355388   \n",
       "\n",
       "             SMOTE2  SMOTE+TOMEK  SMOTE+ENN  EasyEnsemble  BalanceCascade  \\\n",
       "recall     0.222443     0.229527   0.322754      1.000000        1.000000   \n",
       "precision  0.334327     0.320538   0.275254      0.910945        0.999151   \n",
       "\n",
       "               score  \n",
       "recall        recall  \n",
       "precision  precision  "
      ]
     },
     "execution_count": 382,
     "metadata": {},
     "output_type": "execute_result"
    }
   ],
   "source": [
    "score2 = score.loc[['recall','precision'],:]\n",
    "score2"
   ]
  },
  {
   "cell_type": "code",
   "execution_count": 383,
   "metadata": {},
   "outputs": [
    {
     "data": {
      "image/png": "[encoded data removed]",
      "text/plain": [
       "<Figure size 1440x576 with 2 Axes>"
      ]
     },
     "metadata": {},
     "output_type": "display_data"
    }
   ],
   "source": [
    "f, ax = plt.subplots(1, 2, figsize=(20,8)) \n",
    "sns.barplot(x=\"score\", y=\"BaseLine\", data=score2, ax=ax[0])\n",
    "ax[0].set_title('BaseLine')\n",
    "ax[0].set_ylim([0, 0.8])\n",
    "sns.barplot(x=\"score\", y=\"NearMiss1\", data=score2, ax=ax[1])\n",
    "ax[1].set_title('NearMiss1')\n",
    "ax[1].set_ylim([0, 0.8])\n",
    "plt.show()"
   ]
  },
  {
   "cell_type": "code",
   "execution_count": 384,
   "metadata": {},
   "outputs": [
    {
     "data": {
      "image/png": "[encoded data removed]",
      "text/plain": [
       "<Figure size 1440x576 with 2 Axes>"
      ]
     },
     "metadata": {},
     "output_type": "display_data"
    }
   ],
   "source": [
    "f, ax = plt.subplots(1, 2, figsize=(20,8)) \n",
    "sns.barplot(x=\"score\", y=\"BaseLine\", data=score2, ax=ax[0])\n",
    "ax[0].set_title('BaseLine')\n",
    "ax[0].set_ylim([0, 0.7])\n",
    "sns.barplot(x=\"score\", y=\"NearMiss2\", data=score2, ax=ax[1])\n",
    "ax[1].set_title('NearMiss2')\n",
    "ax[1].set_ylim([0, 0.7])\n",
    "plt.show()"
   ]
  },
  {
   "cell_type": "code",
   "execution_count": 385,
   "metadata": {},
   "outputs": [
    {
     "data": {
      "image/png": "[encoded data removed]",
      "text/plain": [
       "<Figure size 1440x576 with 2 Axes>"
      ]
     },
     "metadata": {},
     "output_type": "display_data"
    }
   ],
   "source": [
    "f, ax = plt.subplots(1, 2, figsize=(20,8)) \n",
    "sns.barplot(x=\"score\", y=\"BaseLine\", data=score2, ax=ax[0])\n",
    "ax[0].set_title('BaseLine')\n",
    "ax[0].set_ylim([0, 0.7])\n",
    "sns.barplot(x=\"score\", y=\"NearMiss3\", data=score2, ax=ax[1])\n",
    "ax[1].set_title('NearMiss3')\n",
    "ax[1].set_ylim([0, 0.7])\n",
    "plt.show()"
   ]
  },
  {
   "cell_type": "code",
   "execution_count": 386,
   "metadata": {},
   "outputs": [
    {
     "data": {
      "image/png": "[encoded data removed]",
      "text/plain": [
       "<Figure size 1440x576 with 2 Axes>"
      ]
     },
     "metadata": {},
     "output_type": "display_data"
    }
   ],
   "source": [
    "f, ax = plt.subplots(1, 2, figsize=(20,8)) \n",
    "sns.barplot(x=\"score\", y=\"BaseLine\", data=score2, ax=ax[0])\n",
    "ax[0].set_title('BaseLine')\n",
    "ax[0].set_ylim([0, 0.7])\n",
    "sns.barplot(x=\"score\", y=\"RandomUnderSampler\", data=score2, ax=ax[1])\n",
    "ax[1].set_title('RandomUnderSampler')\n",
    "ax[1].set_ylim([0, 0.7])\n",
    "plt.show()"
   ]
  },
  {
   "cell_type": "code",
   "execution_count": null,
   "metadata": {},
   "outputs": [],
   "source": [
    "f, ax = plt.subplots(1, 2, figsize=(20,8)) \n",
    "sns.barplot(x=\"score\", y=\"BaseLine\", data=score2, ax=ax[0])\n",
    "ax[0].set_title('BaseLine')\n",
    "ax[0].set_ylim([0, 0.5])\n",
    "sns.barplot(x=\"score\", y=\"CNN\", data=score2, ax=ax[1])\n",
    "ax[1].set_title('CNN')\n",
    "ax[1].set_ylim([0, 0.5])\n",
    "plt.show()"
   ]
  },
  {
   "cell_type": "code",
   "execution_count": 387,
   "metadata": {},
   "outputs": [
    {
     "data": {
      "image/png": "[encoded data removed]",
      "text/plain": [
       "<Figure size 1440x576 with 2 Axes>"
      ]
     },
     "metadata": {},
     "output_type": "display_data"
    }
   ],
   "source": [
    "f, ax = plt.subplots(1, 2, figsize=(20,8)) \n",
    "sns.barplot(x=\"score\", y=\"BaseLine\", data=score2, ax=ax[0])\n",
    "ax[0].set_title('BaseLine')\n",
    "ax[0].set_ylim([0, 0.5])\n",
    "sns.barplot(x=\"score\", y=\"ENN\", data=score2, ax=ax[1])\n",
    "ax[1].set_title('ENN')\n",
    "ax[1].set_ylim([0, 0.5])\n",
    "plt.show()"
   ]
  },
  {
   "cell_type": "code",
   "execution_count": 388,
   "metadata": {},
   "outputs": [
    {
     "data": {
      "image/png": "[encoded data removed]",
      "text/plain": [
       "<Figure size 1440x576 with 2 Axes>"
      ]
     },
     "metadata": {},
     "output_type": "display_data"
    }
   ],
   "source": [
    "f, ax = plt.subplots(1, 2, figsize=(20,8)) \n",
    "sns.barplot(x=\"score\", y=\"BaseLine\", data=score2, ax=ax[0])\n",
    "ax[0].set_title('BaseLine')\n",
    "ax[0].set_ylim([0, 0.5])\n",
    "sns.barplot(x=\"score\", y=\"Repeated_edites_nearest_neighbor\", data=score2, ax=ax[1])\n",
    "ax[1].set_title('Repeated_edites_nearest_neighbor')\n",
    "ax[1].set_ylim([0, 0.5])\n",
    "plt.show()"
   ]
  },
  {
   "cell_type": "code",
   "execution_count": 389,
   "metadata": {},
   "outputs": [
    {
     "data": {
      "image/png": "[encoded data removed]",
      "text/plain": [
       "<Figure size 1440x576 with 2 Axes>"
      ]
     },
     "metadata": {},
     "output_type": "display_data"
    }
   ],
   "source": [
    "f, ax = plt.subplots(1, 2, figsize=(20,8)) \n",
    "sns.barplot(x=\"score\", y=\"BaseLine\", data=score2, ax=ax[0])\n",
    "ax[0].set_title('BaseLine')\n",
    "ax[0].set_ylim([0, 0.5])\n",
    "sns.barplot(x=\"score\", y=\"Tomek_Link_Removal\", data=score2, ax=ax[1])\n",
    "ax[1].set_title('Tomek_Link_Removal')\n",
    "ax[1].set_ylim([0, 0.5])\n",
    "plt.show()"
   ]
  },
  {
   "cell_type": "code",
   "execution_count": 390,
   "metadata": {},
   "outputs": [
    {
     "data": {
      "image/png": "[encoded data removed]",
      "text/plain": [
       "<Figure size 1440x576 with 2 Axes>"
      ]
     },
     "metadata": {},
     "output_type": "display_data"
    }
   ],
   "source": [
    "f, ax = plt.subplots(1, 2, figsize=(20,8)) \n",
    "sns.barplot(x=\"score\", y=\"BaseLine\", data=score2, ax=ax[0])\n",
    "ax[0].set_title('BaseLine')\n",
    "ax[0].set_ylim([0, 0.5])\n",
    "sns.barplot(x=\"score\", y=\"Random_Oversampling_of_minority_class\", data=score2, ax=ax[1])\n",
    "ax[1].set_title('Random_Oversampling_of_minority_class')\n",
    "ax[1].set_ylim([0, 0.5])\n",
    "plt.show()"
   ]
  },
  {
   "cell_type": "code",
   "execution_count": 391,
   "metadata": {},
   "outputs": [
    {
     "data": {
      "image/png": "[encoded data removed]",
      "text/plain": [
       "<Figure size 1440x576 with 2 Axes>"
      ]
     },
     "metadata": {},
     "output_type": "display_data"
    }
   ],
   "source": [
    "f, ax = plt.subplots(1, 2, figsize=(20,8)) \n",
    "sns.barplot(x=\"score\", y=\"BaseLine\", data=score2, ax=ax[0])\n",
    "ax[0].set_title('BaseLine')\n",
    "ax[0].set_ylim([0, 0.5])\n",
    "sns.barplot(x=\"score\", y=\"SMOTE\", data=score2, ax=ax[1])\n",
    "ax[1].set_title('SMOTE')\n",
    "ax[1].set_ylim([0, 0.5])\n",
    "plt.show()"
   ]
  },
  {
   "cell_type": "code",
   "execution_count": 392,
   "metadata": {},
   "outputs": [
    {
     "data": {
      "image/png": "[encoded data removed]",
      "text/plain": [
       "<Figure size 1440x576 with 2 Axes>"
      ]
     },
     "metadata": {},
     "output_type": "display_data"
    }
   ],
   "source": [
    "f, ax = plt.subplots(1, 2, figsize=(20,8)) \n",
    "sns.barplot(x=\"score\", y=\"BaseLine\", data=score2, ax=ax[0])\n",
    "ax[0].set_title('BaseLine')\n",
    "ax[0].set_ylim([0, 0.5])\n",
    "sns.barplot(x=\"score\", y=\"SMOTE1\", data=score2, ax=ax[1])\n",
    "ax[1].set_title('SMOTE1')\n",
    "ax[1].set_ylim([0, 0.5])\n",
    "plt.show()"
   ]
  },
  {
   "cell_type": "code",
   "execution_count": 393,
   "metadata": {},
   "outputs": [
    {
     "data": {
      "image/png": "[encoded data removed]",
      "text/plain": [
       "<Figure size 1440x576 with 2 Axes>"
      ]
     },
     "metadata": {},
     "output_type": "display_data"
    }
   ],
   "source": [
    "f, ax = plt.subplots(1, 2, figsize=(20,8)) \n",
    "sns.barplot(x=\"score\", y=\"BaseLine\", data=score2, ax=ax[0])\n",
    "ax[0].set_title('BaseLine')\n",
    "ax[0].set_ylim([0, 0.5])\n",
    "sns.barplot(x=\"score\", y=\"SMOTE2\", data=score2, ax=ax[1])\n",
    "ax[1].set_title('SMOTE2')\n",
    "ax[1].set_ylim([0, 0.5])\n",
    "plt.show()"
   ]
  },
  {
   "cell_type": "code",
   "execution_count": 394,
   "metadata": {},
   "outputs": [
    {
     "data": {
      "image/png": "[encoded data removed]",
      "text/plain": [
       "<Figure size 1440x576 with 2 Axes>"
      ]
     },
     "metadata": {},
     "output_type": "display_data"
    }
   ],
   "source": [
    "f, ax = plt.subplots(1, 2, figsize=(20,8)) \n",
    "sns.barplot(x=\"score\", y=\"BaseLine\", data=score2, ax=ax[0])\n",
    "ax[0].set_title('BaseLine')\n",
    "ax[0].set_ylim([0, 0.5])\n",
    "sns.barplot(x=\"score\", y=\"SMOTE+TOMEK\", data=score2, ax=ax[1])\n",
    "ax[1].set_title('SMOTE+TOMEK')\n",
    "ax[1].set_ylim([0, 0.5])\n",
    "plt.show()"
   ]
  },
  {
   "cell_type": "code",
   "execution_count": 395,
   "metadata": {},
   "outputs": [
    {
     "data": {
      "image/png": "[encoded data removed]",
      "text/plain": [
       "<Figure size 1440x576 with 2 Axes>"
      ]
     },
     "metadata": {},
     "output_type": "display_data"
    }
   ],
   "source": [
    "f, ax = plt.subplots(1, 2, figsize=(20,8)) \n",
    "sns.barplot(x=\"score\", y=\"BaseLine\", data=score2, ax=ax[0])\n",
    "ax[0].set_title('BaseLine')\n",
    "ax[0].set_ylim([0, 0.5])\n",
    "sns.barplot(x=\"score\", y=\"SMOTE+ENN\", data=score2, ax=ax[1])\n",
    "ax[1].set_title('SMOTE+ENN')\n",
    "ax[1].set_ylim([0, 0.5])\n",
    "plt.show()"
   ]
  },
  {
   "cell_type": "code",
   "execution_count": 396,
   "metadata": {},
   "outputs": [
    {
     "data": {
      "image/png": "[encoded data removed]",
      "text/plain": [
       "<Figure size 1440x576 with 2 Axes>"
      ]
     },
     "metadata": {},
     "output_type": "display_data"
    }
   ],
   "source": [
    "f, ax = plt.subplots(1, 2, figsize=(20,8)) \n",
    "sns.barplot(x=\"score\", y=\"BaseLine\", data=score2, ax=ax[0])\n",
    "ax[0].set_title('BaseLine')\n",
    "ax[0].set_ylim([0, 1])\n",
    "sns.barplot(x=\"score\", y=\"EasyEnsemble\", data=score2, ax=ax[1])\n",
    "ax[1].set_title('EasyEnsemble')\n",
    "ax[1].set_ylim([0, 1])\n",
    "plt.show()"
   ]
  },
  {
   "cell_type": "code",
   "execution_count": 397,
   "metadata": {},
   "outputs": [
    {
     "data": {
      "image/png": "[encoded data removed]",
      "text/plain": [
       "<Figure size 1440x576 with 2 Axes>"
      ]
     },
     "metadata": {},
     "output_type": "display_data"
    }
   ],
   "source": [
    "f, ax = plt.subplots(1, 2, figsize=(20,8)) \n",
    "sns.barplot(x=\"score\", y=\"BaseLine\", data=score2, ax=ax[0])\n",
    "ax[0].set_title('BaseLine')\n",
    "ax[0].set_ylim([0, 1])\n",
    "sns.barplot(x=\"score\", y=\"BalanceCascade\", data=score2, ax=ax[1])\n",
    "ax[1].set_title('BalanceCascade')\n",
    "ax[1].set_ylim([0, 1])\n",
    "plt.show()"
   ]
  }
 ],
 "metadata": {
  "kernelspec": {
   "display_name": "Python 3",
   "language": "python",
   "name": "python3"
  },
  "language_info": {
   "codemirror_mode": {
    "name": "ipython",
    "version": 3
   },
   "file_extension": ".py",
   "mimetype": "text/x-python",
   "name": "python",
   "nbconvert_exporter": "python",
   "pygments_lexer": "ipython3",
   "version": "3.6.8"
  }
 },
 "nbformat": 4,
 "nbformat_minor": 2
}

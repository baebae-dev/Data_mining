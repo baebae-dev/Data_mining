{
 "cells": [
  {
   "cell_type": "markdown",
   "metadata": {},
   "source": [
    "# Learning from Imbalanced Data"
   ]
  },
  {
   "cell_type": "markdown",
   "metadata": {},
   "source": [
    "과제내용\n",
    "- Imbalanced learning 기법 간 성능 비교\n",
    "- 상세내용은 아래 실험방법 참조\n",
    "\n",
    "\n",
    "•데이터\n",
    "- Kaggle Competition으로 2017년말에 개최되었던 \"WSDM - KKBox's Music Recommendation Challenge\" 데이터에 Feature Engineering을 적용한 것을 사용한다. \n",
    "(첨부화일)\n",
    "\n",
    "\n",
    "•실험방법\n",
    "- class 변수인 'target' 필드에서 1의 값이 전체 데이터의 0.1%, 1%, 10%가 되도록 축소하여 3가지의 data imbalance 상황을 만든다.\n",
    "(필요시 위에 더하여 새로운 imbalance 상황을 추가할 수 있음)\n",
    "- 각각의 data imbalance 상황에서, 여러 Imbalanced learning 기법을 적용한 데이터에 대해  RandomForest 알고리즘을 적용하여 성능을 평가하고 비교한다. \n",
    "(존재하는 feature를 수정하지 않고 그대로 사용함)\n",
    "- 평가척도로는 Accuracy, ROC-AUC, Recall, Precision, F1-score 등 5가지를 사용하고, \"Survey of resampling techniques for improving classification performance in unbalanced datasets\" 논문(첨부화일)에서 테스트한 기법 중 imbalanced-learn 패키지에서 지원하는 것은 모두 테스트한다.\n",
    "\n",
    "\n",
    "•제출물\n",
    "- 소스코드(화일명: 이름1-이름2.ipynb)와 결과보고서(화일명: 이름1-이름2.ppt)\n",
    "- 4월22일 수업시간에 팀당 10분 이내 발표\n",
    "\n",
    "\n",
    "•유의사항\n",
    "- 마감시간 내에 제출한 과제만 평가함. \n",
    "- 반드시, 담당교수 이메일(www4u@kookmin.ac.kr)로 제출해야 하고, 메일 제목은 \"팀과제(2차) 이름1-이름2\"로 할 것.\n"
   ]
  },
  {
   "cell_type": "code",
   "execution_count": 112,
   "metadata": {},
   "outputs": [],
   "source": [
    "# ! pip install -U imbalanced-learn # U 하면 새버전으로 깔림."
   ]
  },
  {
   "cell_type": "code",
   "execution_count": 113,
   "metadata": {},
   "outputs": [],
   "source": [
    "import pandas as pd\n",
    "import random\n",
    "from sklearn.ensemble import RandomForestClassifier\n",
    "from sklearn.datasets import make_classification\n",
    "from sklearn.model_selection import train_test_split\n",
    "from sklearn.metrics import classification_report\n",
    "from sklearn.metrics import precision_score\n",
    "from sklearn.metrics import recall_score\n",
    "from sklearn.metrics import accuracy_score\n",
    "from sklearn.metrics import roc_auc_score\n",
    "from sklearn.metrics import f1_score\n",
    "\n",
    "import numpy as np\n",
    "import matplotlib.pylab as plt\n",
    "%matplotlib inline\n",
    "from collections import Counter\n",
    "from sklearn.svm import SVC"
   ]
  },
  {
   "cell_type": "code",
   "execution_count": 114,
   "metadata": {
    "scrolled": true
   },
   "outputs": [],
   "source": [
    "data = pd.read_csv(\"WSDM_train_full_features.csv\")"
   ]
  },
  {
   "cell_type": "code",
   "execution_count": 115,
   "metadata": {},
   "outputs": [
    {
     "data": {
      "text/html": [
       "<div>\n",
       "<style scoped>\n",
       "    .dataframe tbody tr th:only-of-type {\n",
       "        vertical-align: middle;\n",
       "    }\n",
       "\n",
       "    .dataframe tbody tr th {\n",
       "        vertical-align: top;\n",
       "    }\n",
       "\n",
       "    .dataframe thead th {\n",
       "        text-align: right;\n",
       "    }\n",
       "</style>\n",
       "<table border=\"1\" class=\"dataframe\">\n",
       "  <thead>\n",
       "    <tr style=\"text-align: right;\">\n",
       "      <th></th>\n",
       "      <th>target</th>\n",
       "      <th>user_idx</th>\n",
       "      <th>song_idx</th>\n",
       "      <th>ssn_idx</th>\n",
       "      <th>sst_idx</th>\n",
       "      <th>st_idx</th>\n",
       "      <th>song_length</th>\n",
       "      <th>genr_idx</th>\n",
       "      <th>art_idx</th>\n",
       "      <th>com_idx</th>\n",
       "      <th>...</th>\n",
       "      <th>lyricists_count</th>\n",
       "      <th>composer_count</th>\n",
       "      <th>is_featured</th>\n",
       "      <th>artist_count</th>\n",
       "      <th>artist_composer</th>\n",
       "      <th>artist_composer_lyricist</th>\n",
       "      <th>song_lang_boolean</th>\n",
       "      <th>smaller_song</th>\n",
       "      <th>count_song_played</th>\n",
       "      <th>count_artist_played</th>\n",
       "    </tr>\n",
       "  </thead>\n",
       "  <tbody>\n",
       "    <tr>\n",
       "      <th>0</th>\n",
       "      <td>1</td>\n",
       "      <td>0</td>\n",
       "      <td>0</td>\n",
       "      <td>0</td>\n",
       "      <td>0</td>\n",
       "      <td>0</td>\n",
       "      <td>206471</td>\n",
       "      <td>7</td>\n",
       "      <td>1877</td>\n",
       "      <td>7450</td>\n",
       "      <td>...</td>\n",
       "      <td>0</td>\n",
       "      <td>2</td>\n",
       "      <td>0</td>\n",
       "      <td>0</td>\n",
       "      <td>0</td>\n",
       "      <td>0</td>\n",
       "      <td>0</td>\n",
       "      <td>1</td>\n",
       "      <td>215</td>\n",
       "      <td>1140</td>\n",
       "    </tr>\n",
       "    <tr>\n",
       "      <th>1</th>\n",
       "      <td>1</td>\n",
       "      <td>1</td>\n",
       "      <td>1</td>\n",
       "      <td>1</td>\n",
       "      <td>1</td>\n",
       "      <td>1</td>\n",
       "      <td>284584</td>\n",
       "      <td>18</td>\n",
       "      <td>92</td>\n",
       "      <td>2</td>\n",
       "      <td>...</td>\n",
       "      <td>0</td>\n",
       "      <td>1</td>\n",
       "      <td>0</td>\n",
       "      <td>0</td>\n",
       "      <td>0</td>\n",
       "      <td>0</td>\n",
       "      <td>0</td>\n",
       "      <td>0</td>\n",
       "      <td>1</td>\n",
       "      <td>303616</td>\n",
       "    </tr>\n",
       "    <tr>\n",
       "      <th>2</th>\n",
       "      <td>1</td>\n",
       "      <td>1</td>\n",
       "      <td>2</td>\n",
       "      <td>1</td>\n",
       "      <td>1</td>\n",
       "      <td>1</td>\n",
       "      <td>225396</td>\n",
       "      <td>18</td>\n",
       "      <td>527</td>\n",
       "      <td>100234</td>\n",
       "      <td>...</td>\n",
       "      <td>0</td>\n",
       "      <td>1</td>\n",
       "      <td>0</td>\n",
       "      <td>0</td>\n",
       "      <td>0</td>\n",
       "      <td>0</td>\n",
       "      <td>0</td>\n",
       "      <td>1</td>\n",
       "      <td>4</td>\n",
       "      <td>289</td>\n",
       "    </tr>\n",
       "    <tr>\n",
       "      <th>3</th>\n",
       "      <td>1</td>\n",
       "      <td>1</td>\n",
       "      <td>3</td>\n",
       "      <td>1</td>\n",
       "      <td>1</td>\n",
       "      <td>1</td>\n",
       "      <td>255512</td>\n",
       "      <td>229</td>\n",
       "      <td>89592</td>\n",
       "      <td>193180</td>\n",
       "      <td>...</td>\n",
       "      <td>0</td>\n",
       "      <td>1</td>\n",
       "      <td>0</td>\n",
       "      <td>0</td>\n",
       "      <td>0</td>\n",
       "      <td>0</td>\n",
       "      <td>0</td>\n",
       "      <td>0</td>\n",
       "      <td>1</td>\n",
       "      <td>1</td>\n",
       "    </tr>\n",
       "    <tr>\n",
       "      <th>4</th>\n",
       "      <td>1</td>\n",
       "      <td>0</td>\n",
       "      <td>4</td>\n",
       "      <td>0</td>\n",
       "      <td>0</td>\n",
       "      <td>0</td>\n",
       "      <td>187802</td>\n",
       "      <td>13</td>\n",
       "      <td>195</td>\n",
       "      <td>137</td>\n",
       "      <td>...</td>\n",
       "      <td>0</td>\n",
       "      <td>3</td>\n",
       "      <td>0</td>\n",
       "      <td>0</td>\n",
       "      <td>0</td>\n",
       "      <td>0</td>\n",
       "      <td>0</td>\n",
       "      <td>1</td>\n",
       "      <td>412</td>\n",
       "      <td>427</td>\n",
       "    </tr>\n",
       "  </tbody>\n",
       "</table>\n",
       "<p>5 rows × 30 columns</p>\n",
       "</div>"
      ],
      "text/plain": [
       "   target  user_idx  song_idx  ssn_idx  sst_idx  st_idx  song_length  \\\n",
       "0       1         0         0        0        0       0       206471   \n",
       "1       1         1         1        1        1       1       284584   \n",
       "2       1         1         2        1        1       1       225396   \n",
       "3       1         1         3        1        1       1       255512   \n",
       "4       1         0         4        0        0       0       187802   \n",
       "\n",
       "   genr_idx  art_idx  com_idx         ...           lyricists_count  \\\n",
       "0         7     1877     7450         ...                         0   \n",
       "1        18       92        2         ...                         0   \n",
       "2        18      527   100234         ...                         0   \n",
       "3       229    89592   193180         ...                         0   \n",
       "4        13      195      137         ...                         0   \n",
       "\n",
       "   composer_count  is_featured  artist_count  artist_composer  \\\n",
       "0               2            0             0                0   \n",
       "1               1            0             0                0   \n",
       "2               1            0             0                0   \n",
       "3               1            0             0                0   \n",
       "4               3            0             0                0   \n",
       "\n",
       "   artist_composer_lyricist  song_lang_boolean  smaller_song  \\\n",
       "0                         0                  0             1   \n",
       "1                         0                  0             0   \n",
       "2                         0                  0             1   \n",
       "3                         0                  0             0   \n",
       "4                         0                  0             1   \n",
       "\n",
       "   count_song_played  count_artist_played  \n",
       "0                215                 1140  \n",
       "1                  1               303616  \n",
       "2                  4                  289  \n",
       "3                  1                    1  \n",
       "4                412                  427  \n",
       "\n",
       "[5 rows x 30 columns]"
      ]
     },
     "execution_count": 115,
     "metadata": {},
     "output_type": "execute_result"
    }
   ],
   "source": [
    "data.head()"
   ]
  },
  {
   "cell_type": "code",
   "execution_count": 116,
   "metadata": {},
   "outputs": [
    {
     "data": {
      "text/plain": [
       "(3688709, 30)"
      ]
     },
     "execution_count": 116,
     "metadata": {},
     "output_type": "execute_result"
    }
   ],
   "source": [
    "data=data.iloc[0:round(len(data)/2),:]\n",
    "data.shape"
   ]
  },
  {
   "cell_type": "code",
   "execution_count": 117,
   "metadata": {},
   "outputs": [
    {
     "data": {
      "text/plain": [
       "(1844354, 30)"
      ]
     },
     "execution_count": 117,
     "metadata": {},
     "output_type": "execute_result"
    }
   ],
   "source": [
    "data=data.iloc[0:round(len(data)/2),:]\n",
    "data.shape"
   ]
  },
  {
   "cell_type": "code",
   "execution_count": 118,
   "metadata": {},
   "outputs": [
    {
     "data": {
      "text/plain": [
       "(922177, 30)"
      ]
     },
     "execution_count": 118,
     "metadata": {},
     "output_type": "execute_result"
    }
   ],
   "source": [
    "data=data.iloc[0:round(len(data)/2),:]\n",
    "data.shape"
   ]
  },
  {
   "cell_type": "code",
   "execution_count": 119,
   "metadata": {},
   "outputs": [],
   "source": [
    "data_0 = data[data['target']==0]\n",
    "data_1 = data[data['target']==1]"
   ]
  },
  {
   "cell_type": "code",
   "execution_count": 120,
   "metadata": {},
   "outputs": [
    {
     "name": "stdout",
     "output_type": "stream",
     "text": [
      "279715\n",
      "642462\n"
     ]
    }
   ],
   "source": [
    "print(data_0.shape[0])\n",
    "print(data_1.shape[0])  # 비슷한 크기 -> 둘 중 하나의 값을 줄여야한다."
   ]
  },
  {
   "cell_type": "code",
   "execution_count": 121,
   "metadata": {
    "scrolled": false
   },
   "outputs": [
    {
     "name": "stdout",
     "output_type": "stream",
     "text": [
      "(31079, 30)\n",
      "        target  user_idx  song_idx  ssn_idx  sst_idx  st_idx  song_length  \\\n",
      "222838       1      1935      2210        1        1       2       231084   \n",
      "404666       1     12612      1813        1        1       2       220734   \n",
      "229139       1      4559      1189        3        1       2       288705   \n",
      "109156       1      3705     18140        9        5       7       196255   \n",
      "478408       1     13559      2310        1        1       2       233314   \n",
      "\n",
      "        genr_idx  art_idx  com_idx         ...           lyricists_count  \\\n",
      "222838         4      844     1217         ...                         0   \n",
      "404666         0     2194     1661         ...                         0   \n",
      "229139         4       58       48         ...                         0   \n",
      "109156         0     6320    17448         ...                         0   \n",
      "478408         0        6        7         ...                         0   \n",
      "\n",
      "        composer_count  is_featured  artist_count  artist_composer  \\\n",
      "222838               1            0             0                0   \n",
      "404666               2            0             0                0   \n",
      "229139               1            0             0                0   \n",
      "109156               4            0             0                0   \n",
      "478408               1            0             0                0   \n",
      "\n",
      "        artist_composer_lyricist  song_lang_boolean  smaller_song  \\\n",
      "222838                         0                  0             1   \n",
      "404666                         0                  0             1   \n",
      "229139                         0                  0             0   \n",
      "109156                         0                  0             1   \n",
      "478408                         0                  0             1   \n",
      "\n",
      "        count_song_played  count_artist_played  \n",
      "222838               1822                 4499  \n",
      "404666               4686                32391  \n",
      "229139               2724               186776  \n",
      "109156                 31                  500  \n",
      "478408                509                 5918  \n",
      "\n",
      "[5 rows x 30 columns]\n"
     ]
    }
   ],
   "source": [
    "data_1_01 = data_1.iloc[np.random.randint(0,len(data_1),size=round((1/9)*len(data_0)))]\n",
    "print(data_1_01.shape)\n",
    "print(data_1_01.head())"
   ]
  },
  {
   "cell_type": "code",
   "execution_count": 122,
   "metadata": {},
   "outputs": [
    {
     "data": {
      "text/plain": [
       "(310794, 30)"
      ]
     },
     "execution_count": 122,
     "metadata": {},
     "output_type": "execute_result"
    }
   ],
   "source": [
    "df = pd.concat([data_0,data_1_01],axis=0)\n",
    "df.head()\n",
    "df.shape"
   ]
  },
  {
   "cell_type": "code",
   "execution_count": 123,
   "metadata": {},
   "outputs": [
    {
     "data": {
      "text/plain": [
       "(922177, 30)"
      ]
     },
     "execution_count": 123,
     "metadata": {},
     "output_type": "execute_result"
    }
   ],
   "source": [
    "data.shape # 원본데이터"
   ]
  },
  {
   "cell_type": "code",
   "execution_count": 124,
   "metadata": {},
   "outputs": [],
   "source": [
    "X = df.iloc[:,1:30]\n",
    "y = df.iloc[:,0]"
   ]
  },
  {
   "cell_type": "code",
   "execution_count": 125,
   "metadata": {},
   "outputs": [
    {
     "data": {
      "text/plain": [
       "((233095, 29), (77699, 29))"
      ]
     },
     "execution_count": 125,
     "metadata": {},
     "output_type": "execute_result"
    }
   ],
   "source": [
    "# 학습/평가 데이터 분할\n",
    "X_train, X_test, y_train, y_test = train_test_split(X, y, random_state=0)\n",
    "X_train.shape, X_test.shape"
   ]
  },
  {
   "cell_type": "markdown",
   "metadata": {},
   "source": [
    "## SCORE 모아두기"
   ]
  },
  {
   "cell_type": "code",
   "execution_count": 126,
   "metadata": {},
   "outputs": [],
   "source": [
    "accuracy = []\n",
    "roc_auc = []\n",
    "f1 = []\n",
    "recall = []\n",
    "precision = []"
   ]
  },
  {
   "cell_type": "markdown",
   "metadata": {},
   "source": [
    "# 1. BaseLine"
   ]
  },
  {
   "cell_type": "code",
   "execution_count": 127,
   "metadata": {
    "scrolled": true
   },
   "outputs": [
    {
     "name": "stderr",
     "output_type": "stream",
     "text": [
      "C:\\Users\\Bae yuna\\Anaconda3\\lib\\site-packages\\sklearn\\ensemble\\forest.py:246: FutureWarning: The default value of n_estimators will change from 10 in version 0.20 to 100 in 0.22.\n",
      "  \"10 in version 0.20 to 100 in 0.22.\", FutureWarning)\n"
     ]
    },
    {
     "name": "stdout",
     "output_type": "stream",
     "text": [
      " accuracy_score : 0.9001660253027709 \n",
      " roc_auc_score : 0.9999999999999999 \n",
      " f1_score : 0.13455316300345865 \n",
      " recall_score : 0.07874118568816924 \n",
      " precision_score : 0.46206896551724136\n"
     ]
    }
   ],
   "source": [
    "# 원래 데이터를 사용했을 때의 모델성능\n",
    "y_pred = RandomForestClassifier(random_state=0).fit(X_train, y_train).predict(X_test)\n",
    "print(' accuracy_score :', accuracy_score(y_test, y_pred), '\\n' ,'roc_auc_score :',roc_auc_score(y_test, y_proba), '\\n','f1_score :', f1_score(y_test, y_pred), '\\n','recall_score :',recall_score(y_test, y_pred),'\\n','precision_score :', precision_score(y_test, y_pred))"
   ]
  },
  {
   "cell_type": "code",
   "execution_count": 128,
   "metadata": {},
   "outputs": [],
   "source": [
    "accuracy.append(accuracy_score(y_test, y_pred))\n",
    "roc_auc.append(roc_auc_score(y_test, y_proba))\n",
    "f1.append(f1_score(y_test, y_pred))\n",
    "recall.append(recall_score(y_test, y_pred))\n",
    "precision.append(precision_score(y_test, y_pred))"
   ]
  },
  {
   "cell_type": "code",
   "execution_count": 129,
   "metadata": {},
   "outputs": [
    {
     "name": "stdout",
     "output_type": "stream",
     "text": [
      "[0.9001660253027709]\n",
      "[0.9999999999999999]\n",
      "[0.13455316300345865]\n",
      "[0.07874118568816924]\n",
      "[0.46206896551724136]\n"
     ]
    }
   ],
   "source": [
    "print(accuracy)\n",
    "print(roc_auc )\n",
    "print(f1 )\n",
    "print(recall)\n",
    "print(precision )"
   ]
  },
  {
   "cell_type": "markdown",
   "metadata": {},
   "source": [
    "# Under_Sampling\n",
    "# 2-1. NearMiss1. "
   ]
  },
  {
   "cell_type": "code",
   "execution_count": 130,
   "metadata": {},
   "outputs": [],
   "source": [
    "from imblearn.under_sampling import NearMiss\n",
    "nm1 = NearMiss(version=1,random_state=0)"
   ]
  },
  {
   "cell_type": "code",
   "execution_count": 131,
   "metadata": {},
   "outputs": [
    {
     "data": {
      "text/plain": [
       "(46842, 29)"
      ]
     },
     "execution_count": 131,
     "metadata": {},
     "output_type": "execute_result"
    }
   ],
   "source": [
    "X_resampled_nm1, y_resampled = nm1.fit_sample(X_train, y_train)\n",
    "X_resampled_nm1.shape"
   ]
  },
  {
   "cell_type": "code",
   "execution_count": 132,
   "metadata": {},
   "outputs": [
    {
     "data": {
      "text/plain": [
       "0.9001660253027709"
      ]
     },
     "execution_count": 132,
     "metadata": {},
     "output_type": "execute_result"
    }
   ],
   "source": [
    "accuracy_score(y_test, y_pred)"
   ]
  },
  {
   "cell_type": "code",
   "execution_count": 133,
   "metadata": {},
   "outputs": [
    {
     "name": "stderr",
     "output_type": "stream",
     "text": [
      "C:\\Users\\Bae yuna\\Anaconda3\\lib\\site-packages\\sklearn\\ensemble\\forest.py:246: FutureWarning: The default value of n_estimators will change from 10 in version 0.20 to 100 in 0.22.\n",
      "  \"10 in version 0.20 to 100 in 0.22.\", FutureWarning)\n",
      "C:\\Users\\Bae yuna\\Anaconda3\\lib\\site-packages\\sklearn\\ensemble\\forest.py:246: FutureWarning: The default value of n_estimators will change from 10 in version 0.20 to 100 in 0.22.\n",
      "  \"10 in version 0.20 to 100 in 0.22.\", FutureWarning)\n"
     ]
    },
    {
     "name": "stdout",
     "output_type": "stream",
     "text": [
      " accuracy_score : 0.27220427547330084 \n",
      " roc_auc_score : 0.47579945796699336 \n",
      " f1_score : 0.16867824118312924 \n",
      " recall_score : 0.7491512144162967 \n",
      " precision_score : 0.09503851569618156\n",
      "\n"
     ]
    }
   ],
   "source": [
    "# 합성 데이터를 추가했을 때의 모델성능\n",
    "y_pred = RandomForestClassifier(random_state=0).fit(X_resampled_nm1, y_resampled).predict(X_test)\n",
    "y_proba = RandomForestClassifier(random_state=0).fit(X_resampled_nm1, y_resampled).predict_proba(X_test)[:,1]\n",
    "print(' accuracy_score :', accuracy_score(y_test, y_pred), '\\n' ,'roc_auc_score :',roc_auc_score(y_test, y_proba), '\\n','f1_score :', f1_score(y_test, y_pred), '\\n','recall_score :',recall_score(y_test, y_pred),'\\n','precision_score :', precision_score(y_test, y_pred))\n",
    "print()"
   ]
  },
  {
   "cell_type": "code",
   "execution_count": 134,
   "metadata": {},
   "outputs": [
    {
     "name": "stdout",
     "output_type": "stream",
     "text": [
      "              precision    recall  f1-score   support\n",
      "\n",
      "           0       0.89      0.22      0.35     70041\n",
      "           1       0.10      0.75      0.17      7658\n",
      "\n",
      "   micro avg       0.27      0.27      0.27     77699\n",
      "   macro avg       0.49      0.48      0.26     77699\n",
      "weighted avg       0.81      0.27      0.33     77699\n",
      "\n"
     ]
    }
   ],
   "source": [
    "print(classification_report(y_test, y_pred))"
   ]
  },
  {
   "cell_type": "code",
   "execution_count": 135,
   "metadata": {},
   "outputs": [],
   "source": [
    "accuracy.append(accuracy_score(y_test, y_pred))\n",
    "roc_auc.append(roc_auc_score(y_test, y_proba))\n",
    "f1.append(f1_score(y_test, y_pred))\n",
    "recall.append(recall_score(y_test, y_pred))\n",
    "precision.append(precision_score(y_test, y_pred))"
   ]
  },
  {
   "cell_type": "markdown",
   "metadata": {},
   "source": [
    "# 2-2. NearMiss2. "
   ]
  },
  {
   "cell_type": "markdown",
   "metadata": {},
   "source": [
    "from imblearn.under_sampling import NearMiss\n",
    "nm2 = NearMiss(version=2,random_state=0)"
   ]
  },
  {
   "cell_type": "markdown",
   "metadata": {},
   "source": [
    "X_resampled_nm2, y_resampled = nm2.fit_sample(X_train, y_train)\n",
    "X_resampled_nm2.shape"
   ]
  },
  {
   "cell_type": "markdown",
   "metadata": {},
   "source": [
    "# 합성 데이터를 추가했을 때의 모델성능\n",
    "y_pred = RandomForestClassifier(random_state=0).fit(X_resampled_nm2, y_resampled).predict(X_test)\n",
    "y_proba = RandomForestClassifier(random_state=0).fit(X_res, y_res).predict_proba(X_test)[:,1]\n",
    "print(' accuracy_score :', accuracy_score(y_test, y_pred), '\\n' ,'roc_auc_score :',roc_auc_score(y_test, y_proba), '\\n','f1_score :', f1_score(y_test, y_pred), '\\n','recall_score :',recall_score(y_test, y_pred),'\\n','precision_score :', precision_score(y_test, y_pred))"
   ]
  },
  {
   "cell_type": "markdown",
   "metadata": {},
   "source": [
    "accuracy.append(accuracy_score(y_test, y_pred))\n",
    "roc_auc.append(roc_auc_score(y_test, y_proba))\n",
    "f1.append(f1_score(y_test, y_pred))\n",
    "recall.append(recall_score(y_test, y_pred))\n",
    "precision.append(precision_score(y_test, y_pred))"
   ]
  },
  {
   "cell_type": "markdown",
   "metadata": {},
   "source": [
    "# 2-3. NearMiss3. "
   ]
  },
  {
   "cell_type": "code",
   "execution_count": 136,
   "metadata": {},
   "outputs": [],
   "source": [
    "from imblearn.under_sampling import NearMiss\n",
    "nm3 = NearMiss(version=3,random_state=0)"
   ]
  },
  {
   "cell_type": "code",
   "execution_count": 137,
   "metadata": {},
   "outputs": [
    {
     "data": {
      "text/plain": [
       "(46842, 29)"
      ]
     },
     "execution_count": 137,
     "metadata": {},
     "output_type": "execute_result"
    }
   ],
   "source": [
    "X_resampled_nm3, y_resampled = nm3.fit_sample(X_train, y_train)\n",
    "X_resampled_nm3.shape"
   ]
  },
  {
   "cell_type": "code",
   "execution_count": 138,
   "metadata": {},
   "outputs": [
    {
     "name": "stderr",
     "output_type": "stream",
     "text": [
      "C:\\Users\\Bae yuna\\Anaconda3\\lib\\site-packages\\sklearn\\ensemble\\forest.py:246: FutureWarning: The default value of n_estimators will change from 10 in version 0.20 to 100 in 0.22.\n",
      "  \"10 in version 0.20 to 100 in 0.22.\", FutureWarning)\n",
      "C:\\Users\\Bae yuna\\Anaconda3\\lib\\site-packages\\sklearn\\ensemble\\forest.py:246: FutureWarning: The default value of n_estimators will change from 10 in version 0.20 to 100 in 0.22.\n",
      "  \"10 in version 0.20 to 100 in 0.22.\", FutureWarning)\n",
      "C:\\Users\\Bae yuna\\Anaconda3\\lib\\site-packages\\ipykernel_launcher.py:3: DataConversionWarning: A column-vector y was passed when a 1d array was expected. Please change the shape of y to (n_samples,), for example using ravel().\n",
      "  This is separate from the ipykernel package so we can avoid doing imports until\n"
     ]
    },
    {
     "name": "stdout",
     "output_type": "stream",
     "text": [
      " accuracy_score : 0.6038301651243903 \n",
      " roc_auc_score : 0.8670817043253354 \n",
      " f1_score : 0.24760461478294873 \n",
      " recall_score : 0.661399843301123 \n",
      " precision_score : 0.15231250375894628\n"
     ]
    }
   ],
   "source": [
    "# 합성 데이터를 추가했을 때의 모델성능\n",
    "y_pred = RandomForestClassifier(random_state=0).fit(X_resampled_nm3, y_resampled).predict(X_test)\n",
    "y_proba = RandomForestClassifier(random_state=0).fit(X_res, y_res).predict_proba(X_test)[:,1]\n",
    "print(' accuracy_score :', accuracy_score(y_test, y_pred), '\\n' ,'roc_auc_score :',roc_auc_score(y_test, y_proba), '\\n','f1_score :', f1_score(y_test, y_pred), '\\n','recall_score :',recall_score(y_test, y_pred),'\\n','precision_score :', precision_score(y_test, y_pred))"
   ]
  },
  {
   "cell_type": "code",
   "execution_count": 139,
   "metadata": {},
   "outputs": [],
   "source": [
    "accuracy.append(accuracy_score(y_test, y_pred))\n",
    "roc_auc.append(roc_auc_score(y_test, y_proba))\n",
    "f1.append(f1_score(y_test, y_pred))\n",
    "recall.append(recall_score(y_test, y_pred))\n",
    "precision.append(precision_score(y_test, y_pred))"
   ]
  },
  {
   "cell_type": "markdown",
   "metadata": {},
   "source": [
    "# 3. RandomUnderSampler"
   ]
  },
  {
   "cell_type": "code",
   "execution_count": 140,
   "metadata": {},
   "outputs": [],
   "source": [
    "from imblearn.under_sampling import RandomUnderSampler "
   ]
  },
  {
   "cell_type": "code",
   "execution_count": 141,
   "metadata": {},
   "outputs": [],
   "source": [
    "rus = RandomUnderSampler(random_state=0)"
   ]
  },
  {
   "cell_type": "code",
   "execution_count": 142,
   "metadata": {},
   "outputs": [],
   "source": [
    "X_res, y_res = rus.fit_resample(X_train, y_train)"
   ]
  },
  {
   "cell_type": "code",
   "execution_count": 143,
   "metadata": {},
   "outputs": [
    {
     "name": "stderr",
     "output_type": "stream",
     "text": [
      "C:\\Users\\Bae yuna\\Anaconda3\\lib\\site-packages\\sklearn\\ensemble\\forest.py:246: FutureWarning: The default value of n_estimators will change from 10 in version 0.20 to 100 in 0.22.\n",
      "  \"10 in version 0.20 to 100 in 0.22.\", FutureWarning)\n",
      "C:\\Users\\Bae yuna\\Anaconda3\\lib\\site-packages\\sklearn\\ensemble\\forest.py:246: FutureWarning: The default value of n_estimators will change from 10 in version 0.20 to 100 in 0.22.\n",
      "  \"10 in version 0.20 to 100 in 0.22.\", FutureWarning)\n"
     ]
    },
    {
     "name": "stdout",
     "output_type": "stream",
     "text": [
      " accuracy_score : 0.6951312114699031 \n",
      " roc_auc_score : 0.7255490627101229 \n",
      " f1_score : 0.288092805193244 \n",
      " recall_score : 0.6258814311830765 \n",
      " precision_score : 0.18710961898813241\n"
     ]
    }
   ],
   "source": [
    "# 합성 데이터를 추가했을 때의 모델성능\n",
    "y_pred = RandomForestClassifier(random_state=0).fit(X_res, y_res).predict(X_test)\n",
    "y_proba = RandomForestClassifier(random_state=0).fit(X_res, y_res).predict_proba(X_test)[:,1]\n",
    "print(' accuracy_score :', accuracy_score(y_test, y_pred), '\\n roc_auc_score :',roc_auc_score(y_test, y_proba), '\\n f1_score :', f1_score(y_test, y_pred), '\\n recall_score :',recall_score(y_test, y_pred),'\\n precision_score :', precision_score(y_test, y_pred))"
   ]
  },
  {
   "cell_type": "code",
   "execution_count": 144,
   "metadata": {},
   "outputs": [],
   "source": [
    "accuracy.append(accuracy_score(y_test, y_pred))\n",
    "roc_auc.append(roc_auc_score(y_test, y_proba))\n",
    "f1.append(f1_score(y_test, y_pred))\n",
    "recall.append(recall_score(y_test, y_pred))\n",
    "precision.append(precision_score(y_test, y_pred))"
   ]
  },
  {
   "cell_type": "markdown",
   "metadata": {},
   "source": [
    "# 4. Condensed Nearest Neighbor (CNN)"
   ]
  },
  {
   "cell_type": "markdown",
   "metadata": {},
   "source": [
    "from imblearn.under_sampling import CondensedNearestNeighbour"
   ]
  },
  {
   "cell_type": "markdown",
   "metadata": {},
   "source": [
    "cnn = CondensedNearestNeighbour(random_state=0)"
   ]
  },
  {
   "cell_type": "markdown",
   "metadata": {},
   "source": [
    "X_res, y_res = cnn.fit_resample(X_train, y_train)"
   ]
  },
  {
   "cell_type": "markdown",
   "metadata": {},
   "source": [
    "# 합성 데이터를 추가했을 때의 모델성능\n",
    "y_pred = RandomForestClassifier(random_state=0).fit(X_res, y_res).predict(X_test)\n",
    "y_proba = RandomForestClassifier(random_state=0).fit(X_res, y_res).predict_proba(X_test)[:,1]\n",
    "print(' accuracy_score :', accuracy_score(y_test, y_pred), '\\n' ,'roc_auc_score :',roc_auc_score(y_test, y_proba), '\\n','f1_score :', f1_score(y_test, y_pred), '\\n','recall_score :',recall_score(y_test, y_pred),'\\n','precision_score :', precision_score(y_test, y_pred)"
   ]
  },
  {
   "cell_type": "markdown",
   "metadata": {},
   "source": [
    "accuracy.append(accuracy_score(y_test, y_pred))\n",
    "roc_auc.append(roc_auc_score(y_test, y_proba))\n",
    "f1.append(f1_score(y_test, y_pred))\n",
    "recall.append(recall_score(y_test, y_pred))\n",
    "precision.append(precision_score(y_test, y_pred))"
   ]
  },
  {
   "cell_type": "markdown",
   "metadata": {},
   "source": [
    "# 5. Edited Nearest Neighbor (ENN)"
   ]
  },
  {
   "cell_type": "code",
   "execution_count": 145,
   "metadata": {},
   "outputs": [],
   "source": [
    "from imblearn.under_sampling import EditedNearestNeighbours"
   ]
  },
  {
   "cell_type": "code",
   "execution_count": 146,
   "metadata": {},
   "outputs": [],
   "source": [
    "enn = EditedNearestNeighbours(random_state=0)"
   ]
  },
  {
   "cell_type": "code",
   "execution_count": 147,
   "metadata": {},
   "outputs": [],
   "source": [
    "X_res, y_res = enn.fit_resample(X_train, y_train)"
   ]
  },
  {
   "cell_type": "code",
   "execution_count": 148,
   "metadata": {},
   "outputs": [
    {
     "name": "stderr",
     "output_type": "stream",
     "text": [
      "C:\\Users\\Bae yuna\\Anaconda3\\lib\\site-packages\\sklearn\\ensemble\\forest.py:246: FutureWarning: The default value of n_estimators will change from 10 in version 0.20 to 100 in 0.22.\n",
      "  \"10 in version 0.20 to 100 in 0.22.\", FutureWarning)\n",
      "C:\\Users\\Bae yuna\\Anaconda3\\lib\\site-packages\\sklearn\\ensemble\\forest.py:246: FutureWarning: The default value of n_estimators will change from 10 in version 0.20 to 100 in 0.22.\n",
      "  \"10 in version 0.20 to 100 in 0.22.\", FutureWarning)\n"
     ]
    },
    {
     "name": "stdout",
     "output_type": "stream",
     "text": [
      " accuracy_score : 0.8873601976859419 \n",
      " roc_auc_score : 0.712786193367494 \n",
      " f1_score : 0.21153153153153154 \n",
      " recall_score : 0.1533037346565683 \n",
      " precision_score : 0.3410807669959326\n"
     ]
    }
   ],
   "source": [
    "# 합성 데이터를 추가했을 때의 모델성능\n",
    "y_pred = RandomForestClassifier(random_state=0).fit(X_res, y_res).predict(X_test)\n",
    "y_proba = RandomForestClassifier(random_state=0).fit(X_res, y_res).predict_proba(X_test)[:,1]\n",
    "print(' accuracy_score :', accuracy_score(y_test, y_pred), '\\n roc_auc_score :',roc_auc_score(y_test, y_proba), '\\n f1_score :', f1_score(y_test, y_pred), '\\n recall_score :',recall_score(y_test, y_pred), '\\n precision_score :', precision_score(y_test, y_pred))"
   ]
  },
  {
   "cell_type": "code",
   "execution_count": 149,
   "metadata": {},
   "outputs": [],
   "source": [
    "accuracy.append(accuracy_score(y_test, y_pred))\n",
    "roc_auc.append(roc_auc_score(y_test, y_proba))\n",
    "f1.append(f1_score(y_test, y_pred))\n",
    "recall.append(recall_score(y_test, y_pred))\n",
    "precision.append(precision_score(y_test, y_pred))"
   ]
  },
  {
   "cell_type": "markdown",
   "metadata": {},
   "source": [
    "# 6. Repeated Edited Nearest Neighbor "
   ]
  },
  {
   "cell_type": "code",
   "execution_count": 150,
   "metadata": {},
   "outputs": [],
   "source": [
    "from imblearn.under_sampling import RepeatedEditedNearestNeighbours "
   ]
  },
  {
   "cell_type": "code",
   "execution_count": 151,
   "metadata": {},
   "outputs": [],
   "source": [
    "renn = RepeatedEditedNearestNeighbours(random_state=0)"
   ]
  },
  {
   "cell_type": "code",
   "execution_count": 152,
   "metadata": {},
   "outputs": [],
   "source": [
    "X_res, y_res = renn.fit_resample(X_train, y_train)"
   ]
  },
  {
   "cell_type": "code",
   "execution_count": 153,
   "metadata": {},
   "outputs": [
    {
     "name": "stderr",
     "output_type": "stream",
     "text": [
      "C:\\Users\\Bae yuna\\Anaconda3\\lib\\site-packages\\sklearn\\ensemble\\forest.py:246: FutureWarning: The default value of n_estimators will change from 10 in version 0.20 to 100 in 0.22.\n",
      "  \"10 in version 0.20 to 100 in 0.22.\", FutureWarning)\n",
      "C:\\Users\\Bae yuna\\Anaconda3\\lib\\site-packages\\sklearn\\ensemble\\forest.py:246: FutureWarning: The default value of n_estimators will change from 10 in version 0.20 to 100 in 0.22.\n",
      "  \"10 in version 0.20 to 100 in 0.22.\", FutureWarning)\n"
     ]
    },
    {
     "name": "stdout",
     "output_type": "stream",
     "text": [
      " accuracy_score : 0.8655452451125497 \n",
      " roc_auc_score : 0.7175821186090425 \n",
      " f1_score : 0.2545843738851231 \n",
      " recall_score : 0.23295899712718726 \n",
      " precision_score : 0.28063551989932356\n"
     ]
    }
   ],
   "source": [
    "# 합성 데이터를 추가했을 때의 모델성능\n",
    "y_pred = RandomForestClassifier(random_state=0).fit(X_res, y_res).predict(X_test)\n",
    "y_proba = RandomForestClassifier(random_state=0).fit(X_res, y_res).predict_proba(X_test)[:,1]\n",
    "print(' accuracy_score :', accuracy_score(y_test, y_pred), '\\n' ,'roc_auc_score :',roc_auc_score(y_test, y_proba), '\\n','f1_score :', f1_score(y_test, y_pred), '\\n','recall_score :',recall_score(y_test, y_pred),'\\n','precision_score :', precision_score(y_test, y_pred))"
   ]
  },
  {
   "cell_type": "code",
   "execution_count": 154,
   "metadata": {},
   "outputs": [],
   "source": [
    "accuracy.append(accuracy_score(y_test, y_pred))\n",
    "roc_auc.append(roc_auc_score(y_test, y_proba))\n",
    "f1.append(f1_score(y_test, y_pred))\n",
    "recall.append(recall_score(y_test, y_pred))\n",
    "precision.append(precision_score(y_test, y_pred))"
   ]
  },
  {
   "cell_type": "markdown",
   "metadata": {},
   "source": [
    "# 7. Tomek Link Removal"
   ]
  },
  {
   "cell_type": "code",
   "execution_count": 155,
   "metadata": {},
   "outputs": [],
   "source": [
    "from imblearn.under_sampling import TomekLinks "
   ]
  },
  {
   "cell_type": "code",
   "execution_count": 156,
   "metadata": {},
   "outputs": [],
   "source": [
    "tl = TomekLinks(random_state=0)"
   ]
  },
  {
   "cell_type": "code",
   "execution_count": 157,
   "metadata": {},
   "outputs": [],
   "source": [
    "X_res, y_res = tl.fit_resample(X_train, y_train)"
   ]
  },
  {
   "cell_type": "code",
   "execution_count": 158,
   "metadata": {},
   "outputs": [
    {
     "name": "stderr",
     "output_type": "stream",
     "text": [
      "C:\\Users\\Bae yuna\\Anaconda3\\lib\\site-packages\\sklearn\\ensemble\\forest.py:246: FutureWarning: The default value of n_estimators will change from 10 in version 0.20 to 100 in 0.22.\n",
      "  \"10 in version 0.20 to 100 in 0.22.\", FutureWarning)\n",
      "C:\\Users\\Bae yuna\\Anaconda3\\lib\\site-packages\\sklearn\\ensemble\\forest.py:246: FutureWarning: The default value of n_estimators will change from 10 in version 0.20 to 100 in 0.22.\n",
      "  \"10 in version 0.20 to 100 in 0.22.\", FutureWarning)\n"
     ]
    },
    {
     "name": "stdout",
     "output_type": "stream",
     "text": [
      " accuracy_score : 0.8992007619145678 \n",
      " roc_auc_score : 0.7094249555484587 \n",
      " f1_score : 0.15219744533448798 \n",
      " recall_score : 0.09179942543745104 \n",
      " precision_score : 0.4449367088607595\n"
     ]
    }
   ],
   "source": [
    "# 합성 데이터를 추가했을 때의 모델성능\n",
    "y_pred = RandomForestClassifier(random_state=0).fit(X_res, y_res).predict(X_test)\n",
    "y_proba = RandomForestClassifier(random_state=0).fit(X_res, y_res).predict_proba(X_test)[:,1]\n",
    "print(' accuracy_score :', accuracy_score(y_test, y_pred), '\\n' ,'roc_auc_score :',roc_auc_score(y_test, y_proba), '\\n','f1_score :', f1_score(y_test, y_pred), '\\n','recall_score :',recall_score(y_test, y_pred),'\\n','precision_score :', precision_score(y_test, y_pred))"
   ]
  },
  {
   "cell_type": "code",
   "execution_count": 159,
   "metadata": {},
   "outputs": [],
   "source": [
    "accuracy.append(accuracy_score(y_test, y_pred))\n",
    "roc_auc.append(roc_auc_score(y_test, y_proba))\n",
    "f1.append(f1_score(y_test, y_pred))\n",
    "recall.append(recall_score(y_test, y_pred))\n",
    "precision.append(precision_score(y_test, y_pred))"
   ]
  },
  {
   "cell_type": "markdown",
   "metadata": {},
   "source": [
    "# Oversampling methods\n",
    "# 1. Random oversampling of minority class"
   ]
  },
  {
   "cell_type": "code",
   "execution_count": 160,
   "metadata": {},
   "outputs": [],
   "source": [
    "from imblearn.over_sampling import RandomOverSampler"
   ]
  },
  {
   "cell_type": "code",
   "execution_count": 161,
   "metadata": {},
   "outputs": [],
   "source": [
    "ros = RandomOverSampler(random_state=0)"
   ]
  },
  {
   "cell_type": "code",
   "execution_count": 162,
   "metadata": {},
   "outputs": [],
   "source": [
    "X_res, y_res = ros.fit_resample(X_train, y_train)"
   ]
  },
  {
   "cell_type": "code",
   "execution_count": 163,
   "metadata": {},
   "outputs": [
    {
     "name": "stderr",
     "output_type": "stream",
     "text": [
      "C:\\Users\\Bae yuna\\Anaconda3\\lib\\site-packages\\sklearn\\ensemble\\forest.py:246: FutureWarning: The default value of n_estimators will change from 10 in version 0.20 to 100 in 0.22.\n",
      "  \"10 in version 0.20 to 100 in 0.22.\", FutureWarning)\n",
      "C:\\Users\\Bae yuna\\Anaconda3\\lib\\site-packages\\sklearn\\ensemble\\forest.py:246: FutureWarning: The default value of n_estimators will change from 10 in version 0.20 to 100 in 0.22.\n",
      "  \"10 in version 0.20 to 100 in 0.22.\", FutureWarning)\n"
     ]
    },
    {
     "name": "stdout",
     "output_type": "stream",
     "text": [
      " accuracy_score : 0.893627974620008 \n",
      " roc_auc_score : 0.7172965678435653 \n",
      " f1_score : 0.19357986144989756 \n",
      " recall_score : 0.12953773831287543 \n",
      " precision_score : 0.382863759166345\n"
     ]
    }
   ],
   "source": [
    "# 합성 데이터를 추가했을 때의 모델성능\n",
    "y_pred = RandomForestClassifier(random_state=0).fit(X_res, y_res).predict(X_test)\n",
    "y_proba = RandomForestClassifier(random_state=0).fit(X_res, y_res).predict_proba(X_test)[:,1]\n",
    "print(' accuracy_score :', accuracy_score(y_test, y_pred), '\\n' ,'roc_auc_score :',roc_auc_score(y_test, y_proba), '\\n','f1_score :', f1_score(y_test, y_pred), '\\n','recall_score :',recall_score(y_test, y_pred),'\\n','precision_score :', precision_score(y_test, y_pred))"
   ]
  },
  {
   "cell_type": "code",
   "execution_count": 164,
   "metadata": {},
   "outputs": [],
   "source": [
    "accuracy.append(accuracy_score(y_test, y_pred))\n",
    "roc_auc.append(roc_auc_score(y_test, y_proba))\n",
    "f1.append(f1_score(y_test, y_pred))\n",
    "recall.append(recall_score(y_test, y_pred))\n",
    "precision.append(precision_score(y_test, y_pred))"
   ]
  },
  {
   "cell_type": "markdown",
   "metadata": {},
   "source": [
    "# 2. SMOTE"
   ]
  },
  {
   "cell_type": "code",
   "execution_count": 165,
   "metadata": {},
   "outputs": [],
   "source": [
    "from imblearn.over_sampling import SMOTE"
   ]
  },
  {
   "cell_type": "code",
   "execution_count": 166,
   "metadata": {},
   "outputs": [],
   "source": [
    "X_resampled, y_resampled = SMOTE(random_state=0).fit_resample(X_train, y_train)"
   ]
  },
  {
   "cell_type": "code",
   "execution_count": 167,
   "metadata": {},
   "outputs": [
    {
     "name": "stderr",
     "output_type": "stream",
     "text": [
      "C:\\Users\\Bae yuna\\Anaconda3\\lib\\site-packages\\sklearn\\ensemble\\forest.py:246: FutureWarning: The default value of n_estimators will change from 10 in version 0.20 to 100 in 0.22.\n",
      "  \"10 in version 0.20 to 100 in 0.22.\", FutureWarning)\n",
      "C:\\Users\\Bae yuna\\Anaconda3\\lib\\site-packages\\sklearn\\ensemble\\forest.py:246: FutureWarning: The default value of n_estimators will change from 10 in version 0.20 to 100 in 0.22.\n",
      "  \"10 in version 0.20 to 100 in 0.22.\", FutureWarning)\n"
     ]
    },
    {
     "name": "stdout",
     "output_type": "stream",
     "text": [
      " accuracy_score : 0.8786985675491319 \n",
      " roc_auc_score : 0.7172965678435653 \n",
      " f1_score : 0.2851725445582101 \n",
      " recall_score : 0.24549490728649778 \n",
      " precision_score : 0.34014836258368014\n"
     ]
    }
   ],
   "source": [
    "# 합성 데이터를 추가했을 때의 모델성능\n",
    "y_pred = RandomForestClassifier(random_state=0).fit(X_resampled, y_resampled).predict(X_test)\n",
    "y_proba = RandomForestClassifier(random_state=0).fit(X_res, y_res).predict_proba(X_test)[:,1]\n",
    "print(' accuracy_score :', accuracy_score(y_test, y_pred), '\\n' ,'roc_auc_score :',roc_auc_score(y_test, y_proba), '\\n','f1_score :', f1_score(y_test, y_pred), '\\n','recall_score :',recall_score(y_test, y_pred),'\\n','precision_score :', precision_score(y_test, y_pred))"
   ]
  },
  {
   "cell_type": "code",
   "execution_count": 168,
   "metadata": {},
   "outputs": [],
   "source": [
    "accuracy.append(accuracy_score(y_test, y_pred))\n",
    "roc_auc.append(roc_auc_score(y_test, y_proba))\n",
    "f1.append(f1_score(y_test, y_pred))\n",
    "recall.append(recall_score(y_test, y_pred))\n",
    "precision.append(precision_score(y_test, y_pred))"
   ]
  },
  {
   "cell_type": "markdown",
   "metadata": {},
   "source": [
    "# 3-1. Borderline-SMOTE1"
   ]
  },
  {
   "cell_type": "code",
   "execution_count": 169,
   "metadata": {},
   "outputs": [],
   "source": [
    "from imblearn.over_sampling import BorderlineSMOTE"
   ]
  },
  {
   "cell_type": "code",
   "execution_count": 170,
   "metadata": {},
   "outputs": [],
   "source": [
    "X_resampled, y_resampled = BorderlineSMOTE(kind='borderline-1',random_state=0).fit_resample(X_train, y_train)"
   ]
  },
  {
   "cell_type": "code",
   "execution_count": 171,
   "metadata": {
    "scrolled": true
   },
   "outputs": [
    {
     "name": "stderr",
     "output_type": "stream",
     "text": [
      "C:\\Users\\Bae yuna\\Anaconda3\\lib\\site-packages\\sklearn\\ensemble\\forest.py:246: FutureWarning: The default value of n_estimators will change from 10 in version 0.20 to 100 in 0.22.\n",
      "  \"10 in version 0.20 to 100 in 0.22.\", FutureWarning)\n",
      "C:\\Users\\Bae yuna\\Anaconda3\\lib\\site-packages\\sklearn\\ensemble\\forest.py:246: FutureWarning: The default value of n_estimators will change from 10 in version 0.20 to 100 in 0.22.\n",
      "  \"10 in version 0.20 to 100 in 0.22.\", FutureWarning)\n"
     ]
    },
    {
     "name": "stdout",
     "output_type": "stream",
     "text": [
      " accuracy_score : 0.8812082523584602 \n",
      " roc_auc_score : 0.7172965678435653 \n",
      " f1_score : 0.2650103519668737 \n",
      " recall_score : 0.2172891094280491 \n",
      " precision_score : 0.3395918367346939\n"
     ]
    }
   ],
   "source": [
    "# 합성 데이터를 추가했을 때의 모델성능\n",
    "y_pred = RandomForestClassifier(random_state=0).fit(X_resampled, y_resampled).predict(X_test)\n",
    "y_proba = RandomForestClassifier(random_state=0).fit(X_res, y_res).predict_proba(X_test)[:,1]\n",
    "print(' accuracy_score :', accuracy_score(y_test, y_pred), '\\n' ,'roc_auc_score :',roc_auc_score(y_test, y_proba), '\\n','f1_score :', f1_score(y_test, y_pred), '\\n','recall_score :',recall_score(y_test, y_pred),'\\n','precision_score :', precision_score(y_test, y_pred))"
   ]
  },
  {
   "cell_type": "code",
   "execution_count": 172,
   "metadata": {},
   "outputs": [],
   "source": [
    "accuracy.append(accuracy_score(y_test, y_pred))\n",
    "roc_auc.append(roc_auc_score(y_test, y_proba))\n",
    "f1.append(f1_score(y_test, y_pred))\n",
    "recall.append(recall_score(y_test, y_pred))\n",
    "precision.append(precision_score(y_test, y_pred))"
   ]
  },
  {
   "cell_type": "markdown",
   "metadata": {},
   "source": [
    "# 3-2.Borderline-SMOTE2"
   ]
  },
  {
   "cell_type": "code",
   "execution_count": 173,
   "metadata": {},
   "outputs": [],
   "source": [
    "X_resampled, y_resampled = BorderlineSMOTE(kind='borderline-2',random_state=0).fit_resample(X_train, y_train)"
   ]
  },
  {
   "cell_type": "code",
   "execution_count": 174,
   "metadata": {},
   "outputs": [
    {
     "name": "stderr",
     "output_type": "stream",
     "text": [
      "C:\\Users\\Bae yuna\\Anaconda3\\lib\\site-packages\\sklearn\\ensemble\\forest.py:246: FutureWarning: The default value of n_estimators will change from 10 in version 0.20 to 100 in 0.22.\n",
      "  \"10 in version 0.20 to 100 in 0.22.\", FutureWarning)\n",
      "C:\\Users\\Bae yuna\\Anaconda3\\lib\\site-packages\\sklearn\\ensemble\\forest.py:246: FutureWarning: The default value of n_estimators will change from 10 in version 0.20 to 100 in 0.22.\n",
      "  \"10 in version 0.20 to 100 in 0.22.\", FutureWarning)\n"
     ]
    },
    {
     "name": "stdout",
     "output_type": "stream",
     "text": [
      " accuracy_score : 0.8788015289772069 \n",
      " roc_auc_score : 0.7172965678435653 \n",
      " f1_score : 0.2698301930681553 \n",
      " recall_score : 0.22721337163750327 \n",
      " precision_score : 0.332124451231151\n"
     ]
    }
   ],
   "source": [
    "# 합성 데이터를 추가했을 때의 모델성능\n",
    "y_pred = RandomForestClassifier(random_state=0).fit(X_resampled, y_resampled).predict(X_test)\n",
    "y_proba = RandomForestClassifier(random_state=0).fit(X_res, y_res).predict_proba(X_test)[:,1]\n",
    "print(' accuracy_score :', accuracy_score(y_test, y_pred), '\\n' ,'roc_auc_score :',roc_auc_score(y_test, y_proba), '\\n','f1_score :', f1_score(y_test, y_pred), '\\n','recall_score :',recall_score(y_test, y_pred),'\\n','precision_score :', precision_score(y_test, y_pred))"
   ]
  },
  {
   "cell_type": "code",
   "execution_count": 175,
   "metadata": {},
   "outputs": [],
   "source": [
    "accuracy.append(accuracy_score(y_test, y_pred))\n",
    "roc_auc.append(roc_auc_score(y_test, y_proba))\n",
    "f1.append(f1_score(y_test, y_pred))\n",
    "recall.append(recall_score(y_test, y_pred))\n",
    "precision.append(precision_score(y_test, y_pred))"
   ]
  },
  {
   "cell_type": "markdown",
   "metadata": {},
   "source": [
    "# Combination methods\n",
    "# 1. SMOTE + Tomek Link Removal"
   ]
  },
  {
   "cell_type": "code",
   "execution_count": 176,
   "metadata": {},
   "outputs": [],
   "source": [
    "from imblearn.combine import SMOTETomek"
   ]
  },
  {
   "cell_type": "code",
   "execution_count": 177,
   "metadata": {},
   "outputs": [],
   "source": [
    "smt = SMOTETomek(random_state=0)"
   ]
  },
  {
   "cell_type": "code",
   "execution_count": 178,
   "metadata": {},
   "outputs": [],
   "source": [
    " X_res, y_res = smt.fit_resample(X_train, y_train)"
   ]
  },
  {
   "cell_type": "code",
   "execution_count": 179,
   "metadata": {},
   "outputs": [
    {
     "name": "stderr",
     "output_type": "stream",
     "text": [
      "C:\\Users\\Bae yuna\\Anaconda3\\lib\\site-packages\\sklearn\\ensemble\\forest.py:246: FutureWarning: The default value of n_estimators will change from 10 in version 0.20 to 100 in 0.22.\n",
      "  \"10 in version 0.20 to 100 in 0.22.\", FutureWarning)\n",
      "C:\\Users\\Bae yuna\\Anaconda3\\lib\\site-packages\\sklearn\\ensemble\\forest.py:246: FutureWarning: The default value of n_estimators will change from 10 in version 0.20 to 100 in 0.22.\n",
      "  \"10 in version 0.20 to 100 in 0.22.\", FutureWarning)\n"
     ]
    },
    {
     "name": "stdout",
     "output_type": "stream",
     "text": [
      " accuracy_score : 0.8746702016756972 \n",
      " roc_auc_score : 0.7377087279204286 \n",
      " f1_score : 0.28175247086590943 \n",
      " recall_score : 0.24941237921128231 \n",
      " precision_score : 0.32372881355932204\n"
     ]
    }
   ],
   "source": [
    "# 합성 데이터를 추가했을 때의 모델성능\n",
    "y_pred = RandomForestClassifier(random_state=0).fit(X_res, y_res).predict(X_test)\n",
    "y_proba = RandomForestClassifier(random_state=0).fit(X_res, y_res).predict_proba(X_test)[:,1]\n",
    "print(' accuracy_score :', accuracy_score(y_test, y_pred), '\\n' ,'roc_auc_score :',roc_auc_score(y_test, y_proba), '\\n','f1_score :', f1_score(y_test, y_pred), '\\n','recall_score :',recall_score(y_test, y_pred),'\\n','precision_score :', precision_score(y_test, y_pred))"
   ]
  },
  {
   "cell_type": "code",
   "execution_count": 180,
   "metadata": {},
   "outputs": [],
   "source": [
    "accuracy.append(accuracy_score(y_test, y_pred))\n",
    "roc_auc.append(roc_auc_score(y_test, y_proba))\n",
    "f1.append(f1_score(y_test, y_pred))\n",
    "recall.append(recall_score(y_test, y_pred))\n",
    "precision.append(precision_score(y_test, y_pred))"
   ]
  },
  {
   "cell_type": "markdown",
   "metadata": {},
   "source": [
    "# 2. SMOTE + ENN"
   ]
  },
  {
   "cell_type": "code",
   "execution_count": 181,
   "metadata": {},
   "outputs": [],
   "source": [
    " from imblearn.combine import SMOTEENN"
   ]
  },
  {
   "cell_type": "code",
   "execution_count": 182,
   "metadata": {},
   "outputs": [],
   "source": [
    "sme = SMOTEENN(random_state=42)"
   ]
  },
  {
   "cell_type": "code",
   "execution_count": 183,
   "metadata": {},
   "outputs": [],
   "source": [
    "X_res, y_res = sme.fit_resample(X_train, y_train)"
   ]
  },
  {
   "cell_type": "code",
   "execution_count": 184,
   "metadata": {},
   "outputs": [
    {
     "name": "stderr",
     "output_type": "stream",
     "text": [
      "C:\\Users\\Bae yuna\\Anaconda3\\lib\\site-packages\\sklearn\\ensemble\\forest.py:246: FutureWarning: The default value of n_estimators will change from 10 in version 0.20 to 100 in 0.22.\n",
      "  \"10 in version 0.20 to 100 in 0.22.\", FutureWarning)\n",
      "C:\\Users\\Bae yuna\\Anaconda3\\lib\\site-packages\\sklearn\\ensemble\\forest.py:246: FutureWarning: The default value of n_estimators will change from 10 in version 0.20 to 100 in 0.22.\n",
      "  \"10 in version 0.20 to 100 in 0.22.\", FutureWarning)\n"
     ]
    },
    {
     "name": "stdout",
     "output_type": "stream",
     "text": [
      " accuracy_score : 0.8453519350313389 \n",
      " roc_auc_score : 0.7381273043413751 \n",
      " f1_score : 0.3018824076225889 \n",
      " recall_score : 0.3392530686863411 \n",
      " precision_score : 0.2719279882771614\n"
     ]
    }
   ],
   "source": [
    "# 합성 데이터를 추가했을 때의 모델성능\n",
    "y_pred = RandomForestClassifier(random_state=0).fit(X_res, y_res).predict(X_test)\n",
    "y_proba = RandomForestClassifier(random_state=0).fit(X_res, y_res).predict_proba(X_test)[:,1]\n",
    "print(' accuracy_score :', accuracy_score(y_test, y_pred), '\\n' ,'roc_auc_score :',roc_auc_score(y_test, y_proba), '\\n','f1_score :', f1_score(y_test, y_pred), '\\n','recall_score :',recall_score(y_test, y_pred),'\\n','precision_score :', precision_score(y_test, y_pred))"
   ]
  },
  {
   "cell_type": "code",
   "execution_count": 185,
   "metadata": {},
   "outputs": [],
   "source": [
    "accuracy.append(accuracy_score(y_test, y_pred))\n",
    "roc_auc.append(roc_auc_score(y_test, y_proba))\n",
    "f1.append(f1_score(y_test, y_pred))\n",
    "recall.append(recall_score(y_test, y_pred))\n",
    "precision.append(precision_score(y_test, y_pred))"
   ]
  },
  {
   "cell_type": "markdown",
   "metadata": {},
   "source": [
    "# Ensemble Methods\n",
    "# 1. EasyEnsemble"
   ]
  },
  {
   "cell_type": "code",
   "execution_count": 186,
   "metadata": {},
   "outputs": [],
   "source": [
    "from imblearn.ensemble import EasyEnsemble"
   ]
  },
  {
   "cell_type": "code",
   "execution_count": 187,
   "metadata": {},
   "outputs": [
    {
     "name": "stderr",
     "output_type": "stream",
     "text": [
      "C:\\Users\\Bae yuna\\Anaconda3\\lib\\site-packages\\sklearn\\utils\\deprecation.py:58: DeprecationWarning: Class EasyEnsemble is deprecated; EasyEnsemble is deprecated in 0.4 and will be removed in 0.6. Use EasyEnsembleClassifier instead.\n",
      "  warnings.warn(msg, category=DeprecationWarning)\n"
     ]
    }
   ],
   "source": [
    "ee = EasyEnsemble(random_state=0)"
   ]
  },
  {
   "cell_type": "code",
   "execution_count": 188,
   "metadata": {},
   "outputs": [],
   "source": [
    "X_res, y_res = ee.fit_resample(X, y)"
   ]
  },
  {
   "cell_type": "code",
   "execution_count": 189,
   "metadata": {},
   "outputs": [],
   "source": [
    "X_res=X_res.reshape(-1,29) # -1 행개수를 지정하지 않겠다.\n",
    "y_res=y_res.reshape(-1,1) # -1 행개수를 지정하지 않겠다."
   ]
  },
  {
   "cell_type": "code",
   "execution_count": 190,
   "metadata": {
    "scrolled": true
   },
   "outputs": [
    {
     "name": "stderr",
     "output_type": "stream",
     "text": [
      "C:\\Users\\Bae yuna\\Anaconda3\\lib\\site-packages\\sklearn\\ensemble\\forest.py:246: FutureWarning: The default value of n_estimators will change from 10 in version 0.20 to 100 in 0.22.\n",
      "  \"10 in version 0.20 to 100 in 0.22.\", FutureWarning)\n",
      "C:\\Users\\Bae yuna\\Anaconda3\\lib\\site-packages\\ipykernel_launcher.py:2: DataConversionWarning: A column-vector y was passed when a 1d array was expected. Please change the shape of y to (n_samples,), for example using ravel().\n",
      "  \n",
      "C:\\Users\\Bae yuna\\Anaconda3\\lib\\site-packages\\sklearn\\ensemble\\forest.py:246: FutureWarning: The default value of n_estimators will change from 10 in version 0.20 to 100 in 0.22.\n",
      "  \"10 in version 0.20 to 100 in 0.22.\", FutureWarning)\n",
      "C:\\Users\\Bae yuna\\Anaconda3\\lib\\site-packages\\ipykernel_launcher.py:3: DataConversionWarning: A column-vector y was passed when a 1d array was expected. Please change the shape of y to (n_samples,), for example using ravel().\n",
      "  This is separate from the ipykernel package so we can avoid doing imports until\n"
     ]
    }
   ],
   "source": [
    "# 합성 데이터를 추가했을 때의 모델성능\n",
    "y_pred = RandomForestClassifier(random_state=0).fit(X_res, y_res).predict(X_test)\n",
    "y_proba = RandomForestClassifier(random_state=0).fit(X_res, y_res).predict_proba(X_test)[:,1]"
   ]
  },
  {
   "cell_type": "code",
   "execution_count": 191,
   "metadata": {},
   "outputs": [
    {
     "name": "stdout",
     "output_type": "stream",
     "text": [
      " accuracy_score : 0.9906305100451743 \n",
      " roc_auc_score : 0.9998928667266554 \n",
      " f1_score : 0.9546247818499128 \n",
      " recall_score : 1.0 \n",
      " precision_score : 0.9131886477462438\n"
     ]
    }
   ],
   "source": [
    "print(' accuracy_score :', accuracy_score(y_test, y_pred), '\\n roc_auc_score :',roc_auc_score(y_test, y_proba), '\\n f1_score :', f1_score(y_test, y_pred), '\\n recall_score :',recall_score(y_test, y_pred),'\\n precision_score :', precision_score(y_test, y_pred))"
   ]
  },
  {
   "cell_type": "code",
   "execution_count": 192,
   "metadata": {},
   "outputs": [],
   "source": [
    "accuracy.append(accuracy_score(y_test, y_pred))\n",
    "roc_auc.append(roc_auc_score(y_test, y_proba))\n",
    "f1.append(f1_score(y_test, y_pred))\n",
    "recall.append(recall_score(y_test, y_pred))\n",
    "precision.append(precision_score(y_test, y_pred))"
   ]
  },
  {
   "cell_type": "markdown",
   "metadata": {},
   "source": [
    "# 2. BalanceCascade"
   ]
  },
  {
   "cell_type": "code",
   "execution_count": 193,
   "metadata": {},
   "outputs": [],
   "source": [
    "from imblearn.ensemble import BalanceCascade"
   ]
  },
  {
   "cell_type": "code",
   "execution_count": 194,
   "metadata": {},
   "outputs": [
    {
     "name": "stderr",
     "output_type": "stream",
     "text": [
      "C:\\Users\\Bae yuna\\Anaconda3\\lib\\site-packages\\sklearn\\utils\\deprecation.py:58: DeprecationWarning: Class BalanceCascade is deprecated; BalanceCascade is deprecated in 0.4 and will be removed in 0.6.\n",
      "  warnings.warn(msg, category=DeprecationWarning)\n"
     ]
    }
   ],
   "source": [
    "bc = BalanceCascade(random_state=42)"
   ]
  },
  {
   "cell_type": "code",
   "execution_count": 195,
   "metadata": {},
   "outputs": [],
   "source": [
    "X_res, y_res = bc.fit_resample(X, y)"
   ]
  },
  {
   "cell_type": "code",
   "execution_count": 196,
   "metadata": {},
   "outputs": [],
   "source": [
    "X_res=X_res.reshape(-1,29) # -1 행개수를 지정하지 않겠다.\n",
    "y_res=y_res.reshape(-1,1) # -1 행개수를 지정하지 않겠다."
   ]
  },
  {
   "cell_type": "code",
   "execution_count": 197,
   "metadata": {},
   "outputs": [
    {
     "name": "stderr",
     "output_type": "stream",
     "text": [
      "C:\\Users\\Bae yuna\\Anaconda3\\lib\\site-packages\\sklearn\\ensemble\\forest.py:246: FutureWarning: The default value of n_estimators will change from 10 in version 0.20 to 100 in 0.22.\n",
      "  \"10 in version 0.20 to 100 in 0.22.\", FutureWarning)\n",
      "C:\\Users\\Bae yuna\\Anaconda3\\lib\\site-packages\\ipykernel_launcher.py:2: DataConversionWarning: A column-vector y was passed when a 1d array was expected. Please change the shape of y to (n_samples,), for example using ravel().\n",
      "  \n",
      "C:\\Users\\Bae yuna\\Anaconda3\\lib\\site-packages\\sklearn\\ensemble\\forest.py:246: FutureWarning: The default value of n_estimators will change from 10 in version 0.20 to 100 in 0.22.\n",
      "  \"10 in version 0.20 to 100 in 0.22.\", FutureWarning)\n",
      "C:\\Users\\Bae yuna\\Anaconda3\\lib\\site-packages\\ipykernel_launcher.py:3: DataConversionWarning: A column-vector y was passed when a 1d array was expected. Please change the shape of y to (n_samples,), for example using ravel().\n",
      "  This is separate from the ipykernel package so we can avoid doing imports until\n"
     ]
    },
    {
     "name": "stdout",
     "output_type": "stream",
     "text": [
      " accuracy_score : 0.9999099087504344 \n",
      " roc_auc_score : 1.0 \n",
      " f1_score : 0.9995431703974418 \n",
      " recall_score : 1.0 \n",
      " precision_score : 0.9990867579908675\n"
     ]
    }
   ],
   "source": [
    "# 합성 데이터를 추가했을 때의 모델성능\n",
    "y_pred = RandomForestClassifier(random_state=0).fit(X_res, y_res).predict(X_test)\n",
    "y_proba = RandomForestClassifier(random_state=0).fit(X_res, y_res).predict_proba(X_test)[:,1]\n",
    "print(' accuracy_score :', accuracy_score(y_test, y_pred), '\\n' ,'roc_auc_score :',roc_auc_score(y_test, y_proba), '\\n','f1_score :', f1_score(y_test, y_pred), '\\n','recall_score :',recall_score(y_test, y_pred),'\\n','precision_score :', precision_score(y_test, y_pred))"
   ]
  },
  {
   "cell_type": "code",
   "execution_count": 198,
   "metadata": {},
   "outputs": [],
   "source": [
    "accuracy.append(accuracy_score(y_test, y_pred))\n",
    "roc_auc.append(roc_auc_score(y_test, y_proba))\n",
    "f1.append(f1_score(y_test, y_pred))\n",
    "recall.append(recall_score(y_test, y_pred))\n",
    "precision.append(precision_score(y_test, y_pred))"
   ]
  },
  {
   "cell_type": "code",
   "execution_count": 199,
   "metadata": {},
   "outputs": [
    {
     "name": "stdout",
     "output_type": "stream",
     "text": [
      "[0.9001660253027709, 0.27220427547330084, 0.6038301651243903, 0.6951312114699031, 0.8873601976859419, 0.8655452451125497, 0.8992007619145678, 0.893627974620008, 0.8786985675491319, 0.8812082523584602, 0.8788015289772069, 0.8746702016756972, 0.8453519350313389, 0.9906305100451743, 0.9999099087504344]\n",
      "[0.9999999999999999, 0.47579945796699336, 0.8670817043253354, 0.7255490627101229, 0.712786193367494, 0.7175821186090425, 0.7094249555484587, 0.7172965678435653, 0.7172965678435653, 0.7172965678435653, 0.7172965678435653, 0.7377087279204286, 0.7381273043413751, 0.9998928667266554, 1.0]\n",
      "[0.13455316300345865, 0.16867824118312924, 0.24760461478294873, 0.288092805193244, 0.21153153153153154, 0.2545843738851231, 0.15219744533448798, 0.19357986144989756, 0.2851725445582101, 0.2650103519668737, 0.2698301930681553, 0.28175247086590943, 0.3018824076225889, 0.9546247818499128, 0.9995431703974418]\n",
      "[0.07874118568816924, 0.7491512144162967, 0.661399843301123, 0.6258814311830765, 0.1533037346565683, 0.23295899712718726, 0.09179942543745104, 0.12953773831287543, 0.24549490728649778, 0.2172891094280491, 0.22721337163750327, 0.24941237921128231, 0.3392530686863411, 1.0, 1.0]\n",
      "[0.46206896551724136, 0.09503851569618156, 0.15231250375894628, 0.18710961898813241, 0.3410807669959326, 0.28063551989932356, 0.4449367088607595, 0.382863759166345, 0.34014836258368014, 0.3395918367346939, 0.332124451231151, 0.32372881355932204, 0.2719279882771614, 0.9131886477462438, 0.9990867579908675]\n"
     ]
    }
   ],
   "source": [
    "print(accuracy)\n",
    "print(roc_auc )\n",
    "print(f1 )\n",
    "print(recall)\n",
    "print(precision )"
   ]
  },
  {
   "cell_type": "markdown",
   "metadata": {},
   "source": [
    "# 시각화"
   ]
  },
  {
   "cell_type": "code",
   "execution_count": 200,
   "metadata": {},
   "outputs": [
    {
     "name": "stdout",
     "output_type": "stream",
     "text": [
      "                 0         1         2         3         4         5   \\\n",
      "accuracy   0.900166  0.272204  0.603830  0.695131  0.887360  0.865545   \n",
      "roc_auc    1.000000  0.475799  0.867082  0.725549  0.712786  0.717582   \n",
      "f1         0.134553  0.168678  0.247605  0.288093  0.211532  0.254584   \n",
      "recall     0.078741  0.749151  0.661400  0.625881  0.153304  0.232959   \n",
      "precision  0.462069  0.095039  0.152313  0.187110  0.341081  0.280636   \n",
      "\n",
      "                 6         7         8         9         10        11  \\\n",
      "accuracy   0.899201  0.893628  0.878699  0.881208  0.878802  0.874670   \n",
      "roc_auc    0.709425  0.717297  0.717297  0.717297  0.717297  0.737709   \n",
      "f1         0.152197  0.193580  0.285173  0.265010  0.269830  0.281752   \n",
      "recall     0.091799  0.129538  0.245495  0.217289  0.227213  0.249412   \n",
      "precision  0.444937  0.382864  0.340148  0.339592  0.332124  0.323729   \n",
      "\n",
      "                 12        13        14  \n",
      "accuracy   0.845352  0.990631  0.999910  \n",
      "roc_auc    0.738127  0.999893  1.000000  \n",
      "f1         0.301882  0.954625  0.999543  \n",
      "recall     0.339253  1.000000  1.000000  \n",
      "precision  0.271928  0.913189  0.999087  \n"
     ]
    }
   ],
   "source": [
    "lsts = [accuracy, roc_auc, f1, recall, precision]\n",
    "score = pd.DataFrame(lsts,index=['accuracy', 'roc_auc', 'f1', 'recall', 'precision'])\n",
    "print(score)"
   ]
  },
  {
   "cell_type": "code",
   "execution_count": 201,
   "metadata": {},
   "outputs": [
    {
     "name": "stdout",
     "output_type": "stream",
     "text": [
      "           BaseLine  NearMiss1  NearMiss3  RandomUnderSampler       ENN  \\\n",
      "accuracy   0.900166   0.272204   0.603830            0.695131  0.887360   \n",
      "roc_auc    1.000000   0.475799   0.867082            0.725549  0.712786   \n",
      "f1         0.134553   0.168678   0.247605            0.288093  0.211532   \n",
      "recall     0.078741   0.749151   0.661400            0.625881  0.153304   \n",
      "precision  0.462069   0.095039   0.152313            0.187110  0.341081   \n",
      "\n",
      "           Repeated_edites_nearest_neighbor  Tomek_Link_Removal  \\\n",
      "accuracy                           0.865545            0.899201   \n",
      "roc_auc                            0.717582            0.709425   \n",
      "f1                                 0.254584            0.152197   \n",
      "recall                             0.232959            0.091799   \n",
      "precision                          0.280636            0.444937   \n",
      "\n",
      "           Random_Oversampling_of_minority_class     SMOTE    SMOTE1  \\\n",
      "accuracy                                0.893628  0.878699  0.881208   \n",
      "roc_auc                                 0.717297  0.717297  0.717297   \n",
      "f1                                      0.193580  0.285173  0.265010   \n",
      "recall                                  0.129538  0.245495  0.217289   \n",
      "precision                               0.382864  0.340148  0.339592   \n",
      "\n",
      "             SMOTE2  SMOTE+TOMEK  SMOTE+ENN  EasyEnsemble  BalanceCascade  \n",
      "accuracy   0.878802     0.874670   0.845352      0.990631        0.999910  \n",
      "roc_auc    0.717297     0.737709   0.738127      0.999893        1.000000  \n",
      "f1         0.269830     0.281752   0.301882      0.954625        0.999543  \n",
      "recall     0.227213     0.249412   0.339253      1.000000        1.000000  \n",
      "precision  0.332124     0.323729   0.271928      0.913189        0.999087  \n"
     ]
    }
   ],
   "source": [
    "score.columns=['BaseLine','NearMiss1','NearMiss3','RandomUnderSampler','ENN','Repeated_edites_nearest_neighbor','Tomek_Link_Removal','Random_Oversampling_of_minority_class','SMOTE','SMOTE1','SMOTE2','SMOTE+TOMEK','SMOTE+ENN','EasyEnsemble','BalanceCascade']\n",
    "print(score)"
   ]
  },
  {
   "cell_type": "code",
   "execution_count": 205,
   "metadata": {},
   "outputs": [],
   "source": [
    "score['score']=['accuracy','roc_auc','f1','recall','precision']"
   ]
  },
  {
   "cell_type": "code",
   "execution_count": 206,
   "metadata": {},
   "outputs": [
    {
     "name": "stdout",
     "output_type": "stream",
     "text": [
      "           BaseLine  NearMiss1  NearMiss3  RandomUnderSampler       ENN  \\\n",
      "accuracy   0.900166   0.272204   0.603830            0.695131  0.887360   \n",
      "roc_auc    1.000000   0.475799   0.867082            0.725549  0.712786   \n",
      "f1         0.134553   0.168678   0.247605            0.288093  0.211532   \n",
      "recall     0.078741   0.749151   0.661400            0.625881  0.153304   \n",
      "precision  0.462069   0.095039   0.152313            0.187110  0.341081   \n",
      "\n",
      "           Repeated_edites_nearest_neighbor  Tomek_Link_Removal  \\\n",
      "accuracy                           0.865545            0.899201   \n",
      "roc_auc                            0.717582            0.709425   \n",
      "f1                                 0.254584            0.152197   \n",
      "recall                             0.232959            0.091799   \n",
      "precision                          0.280636            0.444937   \n",
      "\n",
      "           Random_Oversampling_of_minority_class     SMOTE    SMOTE1  \\\n",
      "accuracy                                0.893628  0.878699  0.881208   \n",
      "roc_auc                                 0.717297  0.717297  0.717297   \n",
      "f1                                      0.193580  0.285173  0.265010   \n",
      "recall                                  0.129538  0.245495  0.217289   \n",
      "precision                               0.382864  0.340148  0.339592   \n",
      "\n",
      "             SMOTE2  SMOTE+TOMEK  SMOTE+ENN  EasyEnsemble  BalanceCascade  \\\n",
      "accuracy   0.878802     0.874670   0.845352      0.990631        0.999910   \n",
      "roc_auc    0.717297     0.737709   0.738127      0.999893        1.000000   \n",
      "f1         0.269830     0.281752   0.301882      0.954625        0.999543   \n",
      "recall     0.227213     0.249412   0.339253      1.000000        1.000000   \n",
      "precision  0.332124     0.323729   0.271928      0.913189        0.999087   \n",
      "\n",
      "               score  \n",
      "accuracy    accuracy  \n",
      "roc_auc      roc_auc  \n",
      "f1                f1  \n",
      "recall        recall  \n",
      "precision  precision  \n"
     ]
    }
   ],
   "source": [
    "print(score)"
   ]
  },
  {
   "cell_type": "markdown",
   "metadata": {},
   "source": [
    "## 각 모델별 score 시각화"
   ]
  },
  {
   "cell_type": "markdown",
   "metadata": {},
   "source": [
    "## 1. BaseLine score 시각화"
   ]
  },
  {
   "cell_type": "code",
   "execution_count": 209,
   "metadata": {},
   "outputs": [
    {
     "data": {
      "text/plain": [
       "Text(0.5, 1.0, 'BaseLine Score')"
      ]
     },
     "execution_count": 209,
     "metadata": {},
     "output_type": "execute_result"
    },
    {
     "data": {
      "image/png": "[encoded data removed]",
      "text/plain": [
       "<Figure size 432x288 with 1 Axes>"
      ]
     },
     "metadata": {},
     "output_type": "display_data"
    }
   ],
   "source": [
    "import seaborn as sns\n",
    "sns.set(style=\"whitegrid\")\n",
    "ax = sns.barplot(x=\"score\", y=\"BaseLine\", data=score)\n",
    "ax.set_title('BaseLine Score')"
   ]
  },
  {
   "cell_type": "markdown",
   "metadata": {},
   "source": [
    "## 2. UnderSampling 시각화"
   ]
  },
  {
   "cell_type": "code",
   "execution_count": 210,
   "metadata": {},
   "outputs": [
    {
     "data": {
      "text/plain": [
       "Text(0.5, 1.0, 'NearMiss1 Score')"
      ]
     },
     "execution_count": 210,
     "metadata": {},
     "output_type": "execute_result"
    },
    {
     "data": {
      "image/png": "[encoded data removed]",
      "text/plain": [
       "<Figure size 432x288 with 1 Axes>"
      ]
     },
     "metadata": {},
     "output_type": "display_data"
    }
   ],
   "source": [
    "import seaborn as sns\n",
    "sns.set(style=\"whitegrid\")\n",
    "ax = sns.barplot(x=\"score\", y=\"NearMiss1\", data=score)\n",
    "ax.set_title('NearMiss1 Score')"
   ]
  },
  {
   "cell_type": "code",
   "execution_count": 211,
   "metadata": {},
   "outputs": [
    {
     "data": {
      "text/plain": [
       "Text(0.5, 1.0, 'NearMiss3 Score')"
      ]
     },
     "execution_count": 211,
     "metadata": {},
     "output_type": "execute_result"
    },
    {
     "data": {
      "image/png": "[encoded data removed]",
      "text/plain": [
       "<Figure size 432x288 with 1 Axes>"
      ]
     },
     "metadata": {},
     "output_type": "display_data"
    }
   ],
   "source": [
    "import seaborn as sns\n",
    "sns.set(style=\"whitegrid\")\n",
    "ax = sns.barplot(x=\"score\", y=\"NearMiss3\", data=score)\n",
    "ax.set_title('NearMiss3 Score')"
   ]
  },
  {
   "cell_type": "code",
   "execution_count": 212,
   "metadata": {},
   "outputs": [
    {
     "data": {
      "text/plain": [
       "Text(0.5, 1.0, 'RandomUnderSampler')"
      ]
     },
     "execution_count": 212,
     "metadata": {},
     "output_type": "execute_result"
    },
    {
     "data": {
      "image/png": "[encoded data removed]",
      "text/plain": [
       "<Figure size 432x288 with 1 Axes>"
      ]
     },
     "metadata": {},
     "output_type": "display_data"
    }
   ],
   "source": [
    "import seaborn as sns\n",
    "sns.set(style=\"whitegrid\")\n",
    "ax = sns.barplot(x=\"score\", y=\"RandomUnderSampler\", data=score)\n",
    "ax.set_title('RandomUnderSampler')"
   ]
  },
  {
   "cell_type": "code",
   "execution_count": 213,
   "metadata": {},
   "outputs": [
    {
     "data": {
      "text/plain": [
       "Text(0.5, 1.0, 'ENN')"
      ]
     },
     "execution_count": 213,
     "metadata": {},
     "output_type": "execute_result"
    },
    {
     "data": {
      "image/png": "[encoded data removed]",
      "text/plain": [
       "<Figure size 432x288 with 1 Axes>"
      ]
     },
     "metadata": {},
     "output_type": "display_data"
    }
   ],
   "source": [
    "import seaborn as sns\n",
    "sns.set(style=\"whitegrid\")\n",
    "ax = sns.barplot(x=\"score\", y=\"ENN\", data=score)\n",
    "ax.set_title('ENN')"
   ]
  },
  {
   "cell_type": "code",
   "execution_count": 214,
   "metadata": {},
   "outputs": [
    {
     "data": {
      "text/plain": [
       "Text(0.5, 1.0, 'Repeated_edites_nearest_neighbor Score')"
      ]
     },
     "execution_count": 214,
     "metadata": {},
     "output_type": "execute_result"
    },
    {
     "data": {
      "image/png": "[encoded data removed]",
      "text/plain": [
       "<Figure size 432x288 with 1 Axes>"
      ]
     },
     "metadata": {},
     "output_type": "display_data"
    }
   ],
   "source": [
    "import seaborn as sns\n",
    "sns.set(style=\"whitegrid\")\n",
    "ax = sns.barplot(x=\"score\", y=\"Repeated_edites_nearest_neighbor\", data=score)\n",
    "ax.set_title('Repeated_edites_nearest_neighbor Score')"
   ]
  },
  {
   "cell_type": "code",
   "execution_count": 215,
   "metadata": {},
   "outputs": [
    {
     "data": {
      "text/plain": [
       "Text(0.5, 1.0, 'Tomek_Link_Removal Score')"
      ]
     },
     "execution_count": 215,
     "metadata": {},
     "output_type": "execute_result"
    },
    {
     "data": {
      "image/png": "[encoded data removed]",
      "text/plain": [
       "<Figure size 432x288 with 1 Axes>"
      ]
     },
     "metadata": {},
     "output_type": "display_data"
    }
   ],
   "source": [
    "import seaborn as sns\n",
    "sns.set(style=\"whitegrid\")\n",
    "ax = sns.barplot(x=\"score\", y=\"Tomek_Link_Removal\", data=score)\n",
    "ax.set_title('Tomek_Link_Removal Score')"
   ]
  },
  {
   "cell_type": "markdown",
   "metadata": {},
   "source": [
    "## OverSampling 시각화"
   ]
  },
  {
   "cell_type": "code",
   "execution_count": 216,
   "metadata": {},
   "outputs": [
    {
     "data": {
      "text/plain": [
       "Text(0.5, 1.0, 'Random_Oversampling_of_minority_class Score')"
      ]
     },
     "execution_count": 216,
     "metadata": {},
     "output_type": "execute_result"
    },
    {
     "data": {
      "image/png": "[encoded data removed]",
      "text/plain": [
       "<Figure size 432x288 with 1 Axes>"
      ]
     },
     "metadata": {},
     "output_type": "display_data"
    }
   ],
   "source": [
    "import seaborn as sns\n",
    "sns.set(style=\"whitegrid\")\n",
    "ax = sns.barplot(x=\"score\", y=\"Random_Oversampling_of_minority_class\", data=score)\n",
    "ax.set_title('Random_Oversampling_of_minority_class Score')"
   ]
  },
  {
   "cell_type": "code",
   "execution_count": 217,
   "metadata": {},
   "outputs": [
    {
     "data": {
      "text/plain": [
       "Text(0.5, 1.0, 'SMOTE Score')"
      ]
     },
     "execution_count": 217,
     "metadata": {},
     "output_type": "execute_result"
    },
    {
     "data": {
      "image/png": "[encoded data removed]",
      "text/plain": [
       "<Figure size 432x288 with 1 Axes>"
      ]
     },
     "metadata": {},
     "output_type": "display_data"
    }
   ],
   "source": [
    "import seaborn as sns\n",
    "sns.set(style=\"whitegrid\")\n",
    "ax = sns.barplot(x=\"score\", y=\"SMOTE\", data=score)\n",
    "ax.set_title('SMOTE Score')"
   ]
  },
  {
   "cell_type": "code",
   "execution_count": 218,
   "metadata": {},
   "outputs": [
    {
     "data": {
      "text/plain": [
       "Text(0.5, 1.0, 'SMOTE1 Score')"
      ]
     },
     "execution_count": 218,
     "metadata": {},
     "output_type": "execute_result"
    },
    {
     "data": {
      "image/png": "[encoded data removed]",
      "text/plain": [
       "<Figure size 432x288 with 1 Axes>"
      ]
     },
     "metadata": {},
     "output_type": "display_data"
    }
   ],
   "source": [
    "import seaborn as sns\n",
    "sns.set(style=\"whitegrid\")\n",
    "ax = sns.barplot(x=\"score\", y=\"SMOTE1\", data=score)\n",
    "ax.set_title('SMOTE1 Score')"
   ]
  },
  {
   "cell_type": "code",
   "execution_count": 219,
   "metadata": {},
   "outputs": [
    {
     "data": {
      "text/plain": [
       "Text(0.5, 1.0, 'SMOTE2 Score')"
      ]
     },
     "execution_count": 219,
     "metadata": {},
     "output_type": "execute_result"
    },
    {
     "data": {
      "image/png": "[encoded data removed]",
      "text/plain": [
       "<Figure size 432x288 with 1 Axes>"
      ]
     },
     "metadata": {},
     "output_type": "display_data"
    }
   ],
   "source": [
    "import seaborn as sns\n",
    "sns.set(style=\"whitegrid\")\n",
    "ax = sns.barplot(x=\"score\", y=\"SMOTE2\", data=score)\n",
    "ax.set_title('SMOTE2 Score')"
   ]
  },
  {
   "cell_type": "code",
   "execution_count": 221,
   "metadata": {},
   "outputs": [
    {
     "data": {
      "text/plain": [
       "Text(0.5, 1.0, 'SMOTE+TOMEK Score')"
      ]
     },
     "execution_count": 221,
     "metadata": {},
     "output_type": "execute_result"
    },
    {
     "data": {
      "image/png": "[encoded data removed]",
      "text/plain": [
       "<Figure size 432x288 with 1 Axes>"
      ]
     },
     "metadata": {},
     "output_type": "display_data"
    }
   ],
   "source": [
    "import seaborn as sns\n",
    "sns.set(style=\"whitegrid\")\n",
    "ax = sns.barplot(x=\"score\", y=\"SMOTE+TOMEK\", data=score)\n",
    "ax.set_title('SMOTE+TOMEK Score')"
   ]
  },
  {
   "cell_type": "code",
   "execution_count": 222,
   "metadata": {},
   "outputs": [
    {
     "data": {
      "text/plain": [
       "Text(0.5, 1.0, 'SMOTE+ENN Score')"
      ]
     },
     "execution_count": 222,
     "metadata": {},
     "output_type": "execute_result"
    },
    {
     "data": {
      "image/png": "[encoded data removed]",
      "text/plain": [
       "<Figure size 432x288 with 1 Axes>"
      ]
     },
     "metadata": {},
     "output_type": "display_data"
    }
   ],
   "source": [
    "import seaborn as sns\n",
    "sns.set(style=\"whitegrid\")\n",
    "ax = sns.barplot(x=\"score\", y=\"SMOTE+ENN\", data=score)\n",
    "ax.set_title('SMOTE+ENN Score')"
   ]
  },
  {
   "cell_type": "markdown",
   "metadata": {},
   "source": [
    "## 3. Ensemble 시각화"
   ]
  },
  {
   "cell_type": "code",
   "execution_count": 223,
   "metadata": {},
   "outputs": [
    {
     "data": {
      "text/plain": [
       "Text(0.5, 1.0, 'EasyEnsemble Score')"
      ]
     },
     "execution_count": 223,
     "metadata": {},
     "output_type": "execute_result"
    },
    {
     "data": {
      "image/png": "[encoded data removed]",
      "text/plain": [
       "<Figure size 432x288 with 1 Axes>"
      ]
     },
     "metadata": {},
     "output_type": "display_data"
    }
   ],
   "source": [
    "import seaborn as sns\n",
    "sns.set(style=\"whitegrid\")\n",
    "ax = sns.barplot(x=\"score\", y=\"EasyEnsemble\", data=score)\n",
    "ax.set_title('EasyEnsemble Score')"
   ]
  },
  {
   "cell_type": "code",
   "execution_count": 226,
   "metadata": {},
   "outputs": [
    {
     "data": {
      "text/plain": [
       "(0.9, 1)"
      ]
     },
     "execution_count": 226,
     "metadata": {},
     "output_type": "execute_result"
    },
    {
     "data": {
      "image/png": "[encoded data removed]",
      "text/plain": [
       "<Figure size 432x288 with 1 Axes>"
      ]
     },
     "metadata": {},
     "output_type": "display_data"
    }
   ],
   "source": [
    "# 다 너무 값이 높아서 확대함.\n",
    "import seaborn as sns\n",
    "sns.set(style=\"whitegrid\")\n",
    "ax = sns.barplot(x=\"score\", y=\"EasyEnsemble\", data=score)\n",
    "ax.set_title('EasyEnsemble Score')\n",
    "ax.set_ylim([0.9, 1])"
   ]
  },
  {
   "cell_type": "code",
   "execution_count": 224,
   "metadata": {},
   "outputs": [
    {
     "data": {
      "text/plain": [
       "Text(0.5, 1.0, 'BalanceCascade Score')"
      ]
     },
     "execution_count": 224,
     "metadata": {},
     "output_type": "execute_result"
    },
    {
     "data": {
      "image/png": "[encoded data removed]",
      "text/plain": [
       "<Figure size 432x288 with 1 Axes>"
      ]
     },
     "metadata": {},
     "output_type": "display_data"
    }
   ],
   "source": [
    "import seaborn as sns\n",
    "sns.set(style=\"whitegrid\")\n",
    "ax = sns.barplot(x=\"score\", y=\"BalanceCascade\", data=score)\n",
    "ax.set_title('BalanceCascade Score')"
   ]
  },
  {
   "cell_type": "code",
   "execution_count": 232,
   "metadata": {},
   "outputs": [
    {
     "data": {
      "text/plain": [
       "(0.9985, 1)"
      ]
     },
     "execution_count": 232,
     "metadata": {},
     "output_type": "execute_result"
    },
    {
     "data": {
      "image/png": "[encoded data removed]",
      "text/plain": [
       "<Figure size 432x288 with 1 Axes>"
      ]
     },
     "metadata": {},
     "output_type": "display_data"
    }
   ],
   "source": [
    "# 다 너무 값이 높아서 확대함.\n",
    "import seaborn as sns\n",
    "sns.set(style=\"whitegrid\")\n",
    "ax = sns.barplot(x=\"score\", y=\"BalanceCascade\", data=score)\n",
    "ax.set_title('BalanceCascade Score')\n",
    "ax.set_ylim([0.9985, 1])"
   ]
  },
  {
   "cell_type": "markdown",
   "metadata": {},
   "source": [
    "## 불균형(원본)데이터 & 모델 적용 후 데이터 recall & precision 값 비교"
   ]
  },
  {
   "cell_type": "code",
   "execution_count": 235,
   "metadata": {},
   "outputs": [
    {
     "data": {
      "text/html": [
       "<div>\n",
       "<style scoped>\n",
       "    .dataframe tbody tr th:only-of-type {\n",
       "        vertical-align: middle;\n",
       "    }\n",
       "\n",
       "    .dataframe tbody tr th {\n",
       "        vertical-align: top;\n",
       "    }\n",
       "\n",
       "    .dataframe thead th {\n",
       "        text-align: right;\n",
       "    }\n",
       "</style>\n",
       "<table border=\"1\" class=\"dataframe\">\n",
       "  <thead>\n",
       "    <tr style=\"text-align: right;\">\n",
       "      <th></th>\n",
       "      <th>BaseLine</th>\n",
       "      <th>NearMiss1</th>\n",
       "      <th>NearMiss3</th>\n",
       "      <th>RandomUnderSampler</th>\n",
       "      <th>ENN</th>\n",
       "      <th>Repeated_edites_nearest_neighbor</th>\n",
       "      <th>Tomek_Link_Removal</th>\n",
       "      <th>Random_Oversampling_of_minority_class</th>\n",
       "      <th>SMOTE</th>\n",
       "      <th>SMOTE1</th>\n",
       "      <th>SMOTE2</th>\n",
       "      <th>SMOTE+TOMEK</th>\n",
       "      <th>SMOTE+ENN</th>\n",
       "      <th>EasyEnsemble</th>\n",
       "      <th>BalanceCascade</th>\n",
       "      <th>score</th>\n",
       "    </tr>\n",
       "  </thead>\n",
       "  <tbody>\n",
       "    <tr>\n",
       "      <th>accuracy</th>\n",
       "      <td>0.900166</td>\n",
       "      <td>0.272204</td>\n",
       "      <td>0.603830</td>\n",
       "      <td>0.695131</td>\n",
       "      <td>0.887360</td>\n",
       "      <td>0.865545</td>\n",
       "      <td>0.899201</td>\n",
       "      <td>0.893628</td>\n",
       "      <td>0.878699</td>\n",
       "      <td>0.881208</td>\n",
       "      <td>0.878802</td>\n",
       "      <td>0.874670</td>\n",
       "      <td>0.845352</td>\n",
       "      <td>0.990631</td>\n",
       "      <td>0.999910</td>\n",
       "      <td>accuracy</td>\n",
       "    </tr>\n",
       "    <tr>\n",
       "      <th>roc_auc</th>\n",
       "      <td>1.000000</td>\n",
       "      <td>0.475799</td>\n",
       "      <td>0.867082</td>\n",
       "      <td>0.725549</td>\n",
       "      <td>0.712786</td>\n",
       "      <td>0.717582</td>\n",
       "      <td>0.709425</td>\n",
       "      <td>0.717297</td>\n",
       "      <td>0.717297</td>\n",
       "      <td>0.717297</td>\n",
       "      <td>0.717297</td>\n",
       "      <td>0.737709</td>\n",
       "      <td>0.738127</td>\n",
       "      <td>0.999893</td>\n",
       "      <td>1.000000</td>\n",
       "      <td>roc_auc</td>\n",
       "    </tr>\n",
       "    <tr>\n",
       "      <th>f1</th>\n",
       "      <td>0.134553</td>\n",
       "      <td>0.168678</td>\n",
       "      <td>0.247605</td>\n",
       "      <td>0.288093</td>\n",
       "      <td>0.211532</td>\n",
       "      <td>0.254584</td>\n",
       "      <td>0.152197</td>\n",
       "      <td>0.193580</td>\n",
       "      <td>0.285173</td>\n",
       "      <td>0.265010</td>\n",
       "      <td>0.269830</td>\n",
       "      <td>0.281752</td>\n",
       "      <td>0.301882</td>\n",
       "      <td>0.954625</td>\n",
       "      <td>0.999543</td>\n",
       "      <td>f1</td>\n",
       "    </tr>\n",
       "    <tr>\n",
       "      <th>recall</th>\n",
       "      <td>0.078741</td>\n",
       "      <td>0.749151</td>\n",
       "      <td>0.661400</td>\n",
       "      <td>0.625881</td>\n",
       "      <td>0.153304</td>\n",
       "      <td>0.232959</td>\n",
       "      <td>0.091799</td>\n",
       "      <td>0.129538</td>\n",
       "      <td>0.245495</td>\n",
       "      <td>0.217289</td>\n",
       "      <td>0.227213</td>\n",
       "      <td>0.249412</td>\n",
       "      <td>0.339253</td>\n",
       "      <td>1.000000</td>\n",
       "      <td>1.000000</td>\n",
       "      <td>recall</td>\n",
       "    </tr>\n",
       "    <tr>\n",
       "      <th>precision</th>\n",
       "      <td>0.462069</td>\n",
       "      <td>0.095039</td>\n",
       "      <td>0.152313</td>\n",
       "      <td>0.187110</td>\n",
       "      <td>0.341081</td>\n",
       "      <td>0.280636</td>\n",
       "      <td>0.444937</td>\n",
       "      <td>0.382864</td>\n",
       "      <td>0.340148</td>\n",
       "      <td>0.339592</td>\n",
       "      <td>0.332124</td>\n",
       "      <td>0.323729</td>\n",
       "      <td>0.271928</td>\n",
       "      <td>0.913189</td>\n",
       "      <td>0.999087</td>\n",
       "      <td>precision</td>\n",
       "    </tr>\n",
       "  </tbody>\n",
       "</table>\n",
       "</div>"
      ],
      "text/plain": [
       "           BaseLine  NearMiss1  NearMiss3  RandomUnderSampler       ENN  \\\n",
       "accuracy   0.900166   0.272204   0.603830            0.695131  0.887360   \n",
       "roc_auc    1.000000   0.475799   0.867082            0.725549  0.712786   \n",
       "f1         0.134553   0.168678   0.247605            0.288093  0.211532   \n",
       "recall     0.078741   0.749151   0.661400            0.625881  0.153304   \n",
       "precision  0.462069   0.095039   0.152313            0.187110  0.341081   \n",
       "\n",
       "           Repeated_edites_nearest_neighbor  Tomek_Link_Removal  \\\n",
       "accuracy                           0.865545            0.899201   \n",
       "roc_auc                            0.717582            0.709425   \n",
       "f1                                 0.254584            0.152197   \n",
       "recall                             0.232959            0.091799   \n",
       "precision                          0.280636            0.444937   \n",
       "\n",
       "           Random_Oversampling_of_minority_class     SMOTE    SMOTE1  \\\n",
       "accuracy                                0.893628  0.878699  0.881208   \n",
       "roc_auc                                 0.717297  0.717297  0.717297   \n",
       "f1                                      0.193580  0.285173  0.265010   \n",
       "recall                                  0.129538  0.245495  0.217289   \n",
       "precision                               0.382864  0.340148  0.339592   \n",
       "\n",
       "             SMOTE2  SMOTE+TOMEK  SMOTE+ENN  EasyEnsemble  BalanceCascade  \\\n",
       "accuracy   0.878802     0.874670   0.845352      0.990631        0.999910   \n",
       "roc_auc    0.717297     0.737709   0.738127      0.999893        1.000000   \n",
       "f1         0.269830     0.281752   0.301882      0.954625        0.999543   \n",
       "recall     0.227213     0.249412   0.339253      1.000000        1.000000   \n",
       "precision  0.332124     0.323729   0.271928      0.913189        0.999087   \n",
       "\n",
       "               score  \n",
       "accuracy    accuracy  \n",
       "roc_auc      roc_auc  \n",
       "f1                f1  \n",
       "recall        recall  \n",
       "precision  precision  "
      ]
     },
     "execution_count": 235,
     "metadata": {},
     "output_type": "execute_result"
    }
   ],
   "source": [
    "score"
   ]
  },
  {
   "cell_type": "code",
   "execution_count": 236,
   "metadata": {},
   "outputs": [
    {
     "data": {
      "text/html": [
       "<div>\n",
       "<style scoped>\n",
       "    .dataframe tbody tr th:only-of-type {\n",
       "        vertical-align: middle;\n",
       "    }\n",
       "\n",
       "    .dataframe tbody tr th {\n",
       "        vertical-align: top;\n",
       "    }\n",
       "\n",
       "    .dataframe thead th {\n",
       "        text-align: right;\n",
       "    }\n",
       "</style>\n",
       "<table border=\"1\" class=\"dataframe\">\n",
       "  <thead>\n",
       "    <tr style=\"text-align: right;\">\n",
       "      <th></th>\n",
       "      <th>BaseLine</th>\n",
       "      <th>NearMiss1</th>\n",
       "      <th>NearMiss3</th>\n",
       "      <th>RandomUnderSampler</th>\n",
       "      <th>ENN</th>\n",
       "      <th>Repeated_edites_nearest_neighbor</th>\n",
       "      <th>Tomek_Link_Removal</th>\n",
       "      <th>Random_Oversampling_of_minority_class</th>\n",
       "      <th>SMOTE</th>\n",
       "      <th>SMOTE1</th>\n",
       "      <th>SMOTE2</th>\n",
       "      <th>SMOTE+TOMEK</th>\n",
       "      <th>SMOTE+ENN</th>\n",
       "      <th>EasyEnsemble</th>\n",
       "      <th>BalanceCascade</th>\n",
       "      <th>score</th>\n",
       "    </tr>\n",
       "  </thead>\n",
       "  <tbody>\n",
       "    <tr>\n",
       "      <th>recall</th>\n",
       "      <td>0.078741</td>\n",
       "      <td>0.749151</td>\n",
       "      <td>0.661400</td>\n",
       "      <td>0.625881</td>\n",
       "      <td>0.153304</td>\n",
       "      <td>0.232959</td>\n",
       "      <td>0.091799</td>\n",
       "      <td>0.129538</td>\n",
       "      <td>0.245495</td>\n",
       "      <td>0.217289</td>\n",
       "      <td>0.227213</td>\n",
       "      <td>0.249412</td>\n",
       "      <td>0.339253</td>\n",
       "      <td>1.000000</td>\n",
       "      <td>1.000000</td>\n",
       "      <td>recall</td>\n",
       "    </tr>\n",
       "    <tr>\n",
       "      <th>precision</th>\n",
       "      <td>0.462069</td>\n",
       "      <td>0.095039</td>\n",
       "      <td>0.152313</td>\n",
       "      <td>0.187110</td>\n",
       "      <td>0.341081</td>\n",
       "      <td>0.280636</td>\n",
       "      <td>0.444937</td>\n",
       "      <td>0.382864</td>\n",
       "      <td>0.340148</td>\n",
       "      <td>0.339592</td>\n",
       "      <td>0.332124</td>\n",
       "      <td>0.323729</td>\n",
       "      <td>0.271928</td>\n",
       "      <td>0.913189</td>\n",
       "      <td>0.999087</td>\n",
       "      <td>precision</td>\n",
       "    </tr>\n",
       "  </tbody>\n",
       "</table>\n",
       "</div>"
      ],
      "text/plain": [
       "           BaseLine  NearMiss1  NearMiss3  RandomUnderSampler       ENN  \\\n",
       "recall     0.078741   0.749151   0.661400            0.625881  0.153304   \n",
       "precision  0.462069   0.095039   0.152313            0.187110  0.341081   \n",
       "\n",
       "           Repeated_edites_nearest_neighbor  Tomek_Link_Removal  \\\n",
       "recall                             0.232959            0.091799   \n",
       "precision                          0.280636            0.444937   \n",
       "\n",
       "           Random_Oversampling_of_minority_class     SMOTE    SMOTE1  \\\n",
       "recall                                  0.129538  0.245495  0.217289   \n",
       "precision                               0.382864  0.340148  0.339592   \n",
       "\n",
       "             SMOTE2  SMOTE+TOMEK  SMOTE+ENN  EasyEnsemble  BalanceCascade  \\\n",
       "recall     0.227213     0.249412   0.339253      1.000000        1.000000   \n",
       "precision  0.332124     0.323729   0.271928      0.913189        0.999087   \n",
       "\n",
       "               score  \n",
       "recall        recall  \n",
       "precision  precision  "
      ]
     },
     "execution_count": 236,
     "metadata": {},
     "output_type": "execute_result"
    }
   ],
   "source": [
    "score2 = score.loc[['recall','precision'],:]\n",
    "score2"
   ]
  },
  {
   "cell_type": "code",
   "execution_count": 240,
   "metadata": {},
   "outputs": [
    {
     "data": {
      "image/png": "[encoded data removed]",
      "text/plain": [
       "<Figure size 1440x576 with 2 Axes>"
      ]
     },
     "metadata": {},
     "output_type": "display_data"
    }
   ],
   "source": [
    "f, ax = plt.subplots(1, 2, figsize=(20,8)) \n",
    "sns.barplot(x=\"score\", y=\"BaseLine\", data=score2, ax=ax[0])\n",
    "ax[0].set_title('BaseLine')\n",
    "ax[0].set_ylim([0, 0.8])\n",
    "sns.barplot(x=\"score\", y=\"NearMiss1\", data=score2, ax=ax[1])\n",
    "ax[1].set_title('NearMiss1')\n",
    "ax[1].set_ylim([0, 0.8])\n",
    "plt.show()"
   ]
  },
  {
   "cell_type": "code",
   "execution_count": 242,
   "metadata": {},
   "outputs": [
    {
     "data": {
      "image/png": "[encoded data removed]",
      "text/plain": [
       "<Figure size 1440x576 with 2 Axes>"
      ]
     },
     "metadata": {},
     "output_type": "display_data"
    }
   ],
   "source": [
    "f, ax = plt.subplots(1, 2, figsize=(20,8)) \n",
    "sns.barplot(x=\"score\", y=\"BaseLine\", data=score2, ax=ax[0])\n",
    "ax[0].set_title('BaseLine')\n",
    "ax[0].set_ylim([0, 0.7])\n",
    "sns.barplot(x=\"score\", y=\"NearMiss3\", data=score2, ax=ax[1])\n",
    "ax[1].set_title('NearMiss3')\n",
    "ax[1].set_ylim([0, 0.7])\n",
    "plt.show()"
   ]
  },
  {
   "cell_type": "code",
   "execution_count": 243,
   "metadata": {},
   "outputs": [
    {
     "data": {
      "image/png": "[encoded data removed]",
      "text/plain": [
       "<Figure size 1440x576 with 2 Axes>"
      ]
     },
     "metadata": {},
     "output_type": "display_data"
    }
   ],
   "source": [
    "f, ax = plt.subplots(1, 2, figsize=(20,8)) \n",
    "sns.barplot(x=\"score\", y=\"BaseLine\", data=score2, ax=ax[0])\n",
    "ax[0].set_title('BaseLine')\n",
    "ax[0].set_ylim([0, 0.7])\n",
    "sns.barplot(x=\"score\", y=\"RandomUnderSampler\", data=score2, ax=ax[1])\n",
    "ax[1].set_title('RandomUnderSampler')\n",
    "ax[1].set_ylim([0, 0.7])\n",
    "plt.show()"
   ]
  },
  {
   "cell_type": "code",
   "execution_count": 245,
   "metadata": {},
   "outputs": [
    {
     "data": {
      "image/png": "[encoded data removed]",
      "text/plain": [
       "<Figure size 1440x576 with 2 Axes>"
      ]
     },
     "metadata": {},
     "output_type": "display_data"
    }
   ],
   "source": [
    "f, ax = plt.subplots(1, 2, figsize=(20,8)) \n",
    "sns.barplot(x=\"score\", y=\"BaseLine\", data=score2, ax=ax[0])\n",
    "ax[0].set_title('BaseLine')\n",
    "ax[0].set_ylim([0, 0.5])\n",
    "sns.barplot(x=\"score\", y=\"ENN\", data=score2, ax=ax[1])\n",
    "ax[1].set_title('ENN')\n",
    "ax[1].set_ylim([0, 0.5])\n",
    "plt.show()"
   ]
  },
  {
   "cell_type": "code",
   "execution_count": 247,
   "metadata": {},
   "outputs": [
    {
     "data": {
      "image/png": "[encoded data removed]",
      "text/plain": [
       "<Figure size 1440x576 with 2 Axes>"
      ]
     },
     "metadata": {},
     "output_type": "display_data"
    }
   ],
   "source": [
    "f, ax = plt.subplots(1, 2, figsize=(20,8)) \n",
    "sns.barplot(x=\"score\", y=\"BaseLine\", data=score2, ax=ax[0])\n",
    "ax[0].set_title('BaseLine')\n",
    "ax[0].set_ylim([0, 0.5])\n",
    "sns.barplot(x=\"score\", y=\"Repeated_edites_nearest_neighbor\", data=score2, ax=ax[1])\n",
    "ax[1].set_title('Repeated_edites_nearest_neighbor')\n",
    "ax[1].set_ylim([0, 0.5])\n",
    "plt.show()"
   ]
  },
  {
   "cell_type": "code",
   "execution_count": 249,
   "metadata": {},
   "outputs": [
    {
     "data": {
      "image/png": "[encoded data removed]",
      "text/plain": [
       "<Figure size 1440x576 with 2 Axes>"
      ]
     },
     "metadata": {},
     "output_type": "display_data"
    }
   ],
   "source": [
    "f, ax = plt.subplots(1, 2, figsize=(20,8)) \n",
    "sns.barplot(x=\"score\", y=\"BaseLine\", data=score2, ax=ax[0])\n",
    "ax[0].set_title('BaseLine')\n",
    "ax[0].set_ylim([0, 0.5])\n",
    "sns.barplot(x=\"score\", y=\"Tomek_Link_Removal\", data=score2, ax=ax[1])\n",
    "ax[1].set_title('Tomek_Link_Removal')\n",
    "ax[1].set_ylim([0, 0.5])\n",
    "plt.show()"
   ]
  },
  {
   "cell_type": "code",
   "execution_count": 251,
   "metadata": {},
   "outputs": [
    {
     "data": {
      "image/png": "[encoded data removed]",
      "text/plain": [
       "<Figure size 1440x576 with 2 Axes>"
      ]
     },
     "metadata": {},
     "output_type": "display_data"
    }
   ],
   "source": [
    "f, ax = plt.subplots(1, 2, figsize=(20,8)) \n",
    "sns.barplot(x=\"score\", y=\"BaseLine\", data=score2, ax=ax[0])\n",
    "ax[0].set_title('BaseLine')\n",
    "ax[0].set_ylim([0, 0.5])\n",
    "sns.barplot(x=\"score\", y=\"Random_Oversampling_of_minority_class\", data=score2, ax=ax[1])\n",
    "ax[1].set_title('Random_Oversampling_of_minority_class')\n",
    "ax[1].set_ylim([0, 0.5])\n",
    "plt.show()"
   ]
  },
  {
   "cell_type": "code",
   "execution_count": 253,
   "metadata": {},
   "outputs": [
    {
     "data": {
      "image/png": "[encoded data removed]",
      "text/plain": [
       "<Figure size 1440x576 with 2 Axes>"
      ]
     },
     "metadata": {},
     "output_type": "display_data"
    }
   ],
   "source": [
    "f, ax = plt.subplots(1, 2, figsize=(20,8)) \n",
    "sns.barplot(x=\"score\", y=\"BaseLine\", data=score2, ax=ax[0])\n",
    "ax[0].set_title('BaseLine')\n",
    "ax[0].set_ylim([0, 0.5])\n",
    "sns.barplot(x=\"score\", y=\"SMOTE\", data=score2, ax=ax[1])\n",
    "ax[1].set_title('SMOTE')\n",
    "ax[1].set_ylim([0, 0.5])\n",
    "plt.show()"
   ]
  },
  {
   "cell_type": "code",
   "execution_count": 255,
   "metadata": {},
   "outputs": [
    {
     "data": {
      "image/png": "[encoded data removed]",
      "text/plain": [
       "<Figure size 1440x576 with 2 Axes>"
      ]
     },
     "metadata": {},
     "output_type": "display_data"
    }
   ],
   "source": [
    "f, ax = plt.subplots(1, 2, figsize=(20,8)) \n",
    "sns.barplot(x=\"score\", y=\"BaseLine\", data=score2, ax=ax[0])\n",
    "ax[0].set_title('BaseLine')\n",
    "ax[0].set_ylim([0, 0.5])\n",
    "sns.barplot(x=\"score\", y=\"SMOTE1\", data=score2, ax=ax[1])\n",
    "ax[1].set_title('SMOTE1')\n",
    "ax[1].set_ylim([0, 0.5])\n",
    "plt.show()"
   ]
  },
  {
   "cell_type": "code",
   "execution_count": 257,
   "metadata": {},
   "outputs": [
    {
     "data": {
      "image/png": "[encoded data removed]",
      "text/plain": [
       "<Figure size 1440x576 with 2 Axes>"
      ]
     },
     "metadata": {},
     "output_type": "display_data"
    }
   ],
   "source": [
    "f, ax = plt.subplots(1, 2, figsize=(20,8)) \n",
    "sns.barplot(x=\"score\", y=\"BaseLine\", data=score2, ax=ax[0])\n",
    "ax[0].set_title('BaseLine')\n",
    "ax[0].set_ylim([0, 0.5])\n",
    "sns.barplot(x=\"score\", y=\"SMOTE2\", data=score2, ax=ax[1])\n",
    "ax[1].set_title('SMOTE2')\n",
    "ax[1].set_ylim([0, 0.5])\n",
    "plt.show()"
   ]
  },
  {
   "cell_type": "code",
   "execution_count": 258,
   "metadata": {},
   "outputs": [
    {
     "data": {
      "image/png": "[encoded data removed]",
      "text/plain": [
       "<Figure size 1440x576 with 2 Axes>"
      ]
     },
     "metadata": {},
     "output_type": "display_data"
    }
   ],
   "source": [
    "f, ax = plt.subplots(1, 2, figsize=(20,8)) \n",
    "sns.barplot(x=\"score\", y=\"BaseLine\", data=score2, ax=ax[0])\n",
    "ax[0].set_title('BaseLine')\n",
    "ax[0].set_ylim([0, 0.5])\n",
    "sns.barplot(x=\"score\", y=\"SMOTE+TOMEK\", data=score2, ax=ax[1])\n",
    "ax[1].set_title('SMOTE+TOMEK')\n",
    "ax[1].set_ylim([0, 0.5])\n",
    "plt.show()"
   ]
  },
  {
   "cell_type": "code",
   "execution_count": 259,
   "metadata": {},
   "outputs": [
    {
     "data": {
      "image/png": "[encoded data removed]",
      "text/plain": [
       "<Figure size 1440x576 with 2 Axes>"
      ]
     },
     "metadata": {},
     "output_type": "display_data"
    }
   ],
   "source": [
    "f, ax = plt.subplots(1, 2, figsize=(20,8)) \n",
    "sns.barplot(x=\"score\", y=\"BaseLine\", data=score2, ax=ax[0])\n",
    "ax[0].set_title('BaseLine')\n",
    "ax[0].set_ylim([0, 0.5])\n",
    "sns.barplot(x=\"score\", y=\"SMOTE+ENN\", data=score2, ax=ax[1])\n",
    "ax[1].set_title('SMOTE+ENN')\n",
    "ax[1].set_ylim([0, 0.5])\n",
    "plt.show()"
   ]
  },
  {
   "cell_type": "code",
   "execution_count": 262,
   "metadata": {},
   "outputs": [
    {
     "data": {
      "image/png": "[encoded data removed]",
      "text/plain": [
       "<Figure size 1440x576 with 2 Axes>"
      ]
     },
     "metadata": {},
     "output_type": "display_data"
    }
   ],
   "source": [
    "f, ax = plt.subplots(1, 2, figsize=(20,8)) \n",
    "sns.barplot(x=\"score\", y=\"BaseLine\", data=score2, ax=ax[0])\n",
    "ax[0].set_title('BaseLine')\n",
    "ax[0].set_ylim([0, 1])\n",
    "sns.barplot(x=\"score\", y=\"EasyEnsemble\", data=score2, ax=ax[1])\n",
    "ax[1].set_title('EasyEnsemble')\n",
    "ax[1].set_ylim([0, 1])\n",
    "plt.show()"
   ]
  },
  {
   "cell_type": "code",
   "execution_count": 263,
   "metadata": {},
   "outputs": [
    {
     "data": {
      "image/png": "[encoded data removed]",
      "text/plain": [
       "<Figure size 1440x576 with 2 Axes>"
      ]
     },
     "metadata": {},
     "output_type": "display_data"
    }
   ],
   "source": [
    "f, ax = plt.subplots(1, 2, figsize=(20,8)) \n",
    "sns.barplot(x=\"score\", y=\"BaseLine\", data=score2, ax=ax[0])\n",
    "ax[0].set_title('BaseLine')\n",
    "ax[0].set_ylim([0, 1])\n",
    "sns.barplot(x=\"score\", y=\"BalanceCascade\", data=score2, ax=ax[1])\n",
    "ax[1].set_title('BalanceCascade')\n",
    "ax[1].set_ylim([0, 1])\n",
    "plt.show()"
   ]
  },
  {
   "cell_type": "code",
   "execution_count": null,
   "metadata": {},
   "outputs": [],
   "source": []
  }
 ],
 "metadata": {
  "kernelspec": {
   "display_name": "Python 3",
   "language": "python",
   "name": "python3"
  },
  "language_info": {
   "codemirror_mode": {
    "name": "ipython",
    "version": 3
   },
   "file_extension": ".py",
   "mimetype": "text/x-python",
   "name": "python",
   "nbconvert_exporter": "python",
   "pygments_lexer": "ipython3",
   "version": "3.6.8"
  }
 },
 "nbformat": 4,
 "nbformat_minor": 2
}

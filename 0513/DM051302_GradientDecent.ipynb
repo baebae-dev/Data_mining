{
 "cells": [
  {
   "cell_type": "code",
   "execution_count": null,
   "metadata": {},
   "outputs": [],
   "source": [
    "import numpy as np\n",
    "import matplotlib.pyplot as plt\n",
    "%matplotlib inline"
   ]
  },
  {
   "cell_type": "markdown",
   "metadata": {},
   "source": [
    "<font color = \"#CC3D3D\">\n",
    "## Gradient Descent (GD, 경사하강법): An illustrated example\n",
    "<br><font color = \"black\">\n",
    "\\begin{equation}\n",
    "f(x) = x^2 - 4x + 6\n",
    "\\end{equation}"
   ]
  },
  {
   "cell_type": "markdown",
   "metadata": {},
   "source": [
    "- Loss function $f(x)$를 정의"
   ]
  },
  {
   "cell_type": "code",
   "execution_count": null,
   "metadata": {},
   "outputs": [],
   "source": [
    "def f(x):\n",
    "    return x**2 - 4*x + 6"
   ]
  },
  {
   "cell_type": "markdown",
   "metadata": {},
   "source": [
    "- $f(x)$의 그래프를 그려보기 위해 `np.linspace`를 사용하여 `-5`부터 `5`까지 범위에서 `NumberOfPoints`개 만큼 등간격 grid 생성"
   ]
  },
  {
   "cell_type": "code",
   "execution_count": null,
   "metadata": {},
   "outputs": [],
   "source": [
    "NumberOfPoints = 101\n",
    "x = np.linspace(-5., 5, NumberOfPoints)\n",
    "print(x)"
   ]
  },
  {
   "cell_type": "markdown",
   "metadata": {},
   "source": [
    "- 각 grid point에서 $f(x)$를 계산"
   ]
  },
  {
   "cell_type": "code",
   "execution_count": null,
   "metadata": {},
   "outputs": [],
   "source": [
    "fx = f(x)"
   ]
  },
  {
   "cell_type": "code",
   "execution_count": null,
   "metadata": {},
   "outputs": [],
   "source": [
    "plt.plot(x,fx)\n",
    "plt.grid()\n",
    "plt.xlabel('x')\n",
    "plt.ylabel('f(x)')\n",
    "plt.title('plot of f(x)')\n",
    "plt.show()"
   ]
  },
  {
   "cell_type": "markdown",
   "metadata": {},
   "source": [
    "#### 1. Grid Search Method\n",
    "- 모든 grid point에서 값을 계산하여 $f(x)$의 최소값을 찾음"
   ]
  },
  {
   "cell_type": "code",
   "execution_count": null,
   "metadata": {},
   "outputs": [],
   "source": [
    "xid = np.argmin(fx)\n",
    "xopt = x[xid]\n",
    "print(xopt, f(xopt))"
   ]
  },
  {
   "cell_type": "code",
   "execution_count": null,
   "metadata": {},
   "outputs": [],
   "source": [
    "plt.plot(x,fx)\n",
    "plt.grid()\n",
    "plt.xlabel('x')\n",
    "plt.ylabel('f(x)')\n",
    "plt.title('plot of f(x)')\n",
    "\n",
    "plt.plot(xopt, f(xopt), 'xr')\n",
    "plt.show()"
   ]
  },
  {
   "cell_type": "markdown",
   "metadata": {},
   "source": [
    "#### 2. Gradient Descent Method"
   ]
  },
  {
   "cell_type": "markdown",
   "metadata": {},
   "source": [
    "With initial $x^{(0)}$, calculate the following equation :\n",
    "\\begin{equation}\n",
    "x^{(k+1)} = x^{(k)} - \\alpha \\nabla f(x^{(k)})\n",
    "\\end{equation}"
   ]
  },
  {
   "cell_type": "markdown",
   "metadata": {},
   "source": [
    "- f(x)의 gradient의 정의"
   ]
  },
  {
   "cell_type": "code",
   "execution_count": null,
   "metadata": {},
   "outputs": [],
   "source": [
    "def grad_fx(x):\n",
    "    return 2*x - 4"
   ]
  },
  {
   "cell_type": "markdown",
   "metadata": {},
   "source": [
    "- 주어진 `learning_rate`와 초기값 `x0`로 `MaxIter`만큼 gradient descent step을 진행\n",
    "- 매 step에서 Iteration number, $x^{(k)}, f(x^{(k)})$를 출력"
   ]
  },
  {
   "cell_type": "code",
   "execution_count": null,
   "metadata": {},
   "outputs": [],
   "source": [
    "x0 = 0.\n",
    "MaxIter = 10\n",
    "learning_rate = 0.2\n",
    "for i in range(MaxIter):\n",
    "    x1 = x0 - learning_rate * grad_fx(x0)\n",
    "    print(i, x1, f(x1))\n",
    "    x0 = x1"
   ]
  },
  {
   "cell_type": "markdown",
   "metadata": {},
   "source": [
    "- 위의 gradient descent step을 시각화"
   ]
  },
  {
   "cell_type": "code",
   "execution_count": null,
   "metadata": {},
   "outputs": [],
   "source": [
    "def gradient_descent(func, grad_func, x, x0, learning_rate=0.01, MaxIter=10, verbose=True):\n",
    "    start = x0\n",
    "    paths = [x0]\n",
    "    for i in range(MaxIter):\n",
    "        x1 = x0 - learning_rate * grad_func(x0)\n",
    "        if verbose:\n",
    "            print('{0:3d} : {1:4.3f}, {2:4.3e}'.format(i, x1, func(x1)))\n",
    "        x0 = x1\n",
    "        paths.append(x0)\n",
    "    # draw gradient descent steps   \n",
    "    plt.plot(x, func(x))\n",
    "    plt.grid()\n",
    "    plt.xlabel('x')\n",
    "    plt.ylabel('f(x)')\n",
    "    plt.title('plot of f(x)')\n",
    "    paths = np.array(paths)\n",
    "    plt.plot(paths, func(paths), 'o-')\n",
    "    plt.plot(start, func(start), 'or')\n",
    "    plt.show()"
   ]
  },
  {
   "cell_type": "code",
   "execution_count": null,
   "metadata": {},
   "outputs": [],
   "source": [
    "gradient_descent(f, grad_fx, x=np.linspace(-0.1, 3.5, NumberOfPoints), x0=0, learning_rate=0.2)"
   ]
  },
  {
   "cell_type": "markdown",
   "metadata": {},
   "source": [
    "- 위의 gradient descent 과정을 도식화"
   ]
  },
  {
   "cell_type": "markdown",
   "metadata": {},
   "source": [
    "<font color='green'>\n",
    "TO DO: Learning rate을 조정하면서 gradient descent step을 관찰하시오. "
   ]
  },
  {
   "cell_type": "code",
   "execution_count": null,
   "metadata": {},
   "outputs": [],
   "source": [
    "gradient_descent(f, grad_fx, x=np.linspace(0.5, 3.5, NumberOfPoints), x0=1.0, learning_rate=1)"
   ]
  },
  {
   "cell_type": "code",
   "execution_count": null,
   "metadata": {},
   "outputs": [],
   "source": [
    "gradient_descent(f, grad_fx, x=np.linspace(0.5, 3.5, NumberOfPoints), x0=1.0, learning_rate=0.001)"
   ]
  },
  {
   "cell_type": "code",
   "execution_count": null,
   "metadata": {},
   "outputs": [],
   "source": [
    "gradient_descent(f, grad_fx, x=np.linspace(0.5, 3.5, NumberOfPoints), x0=3.0, learning_rate=0.9)"
   ]
  },
  {
   "cell_type": "code",
   "execution_count": null,
   "metadata": {},
   "outputs": [],
   "source": [
    "gradient_descent(f, grad_fx, x=np.linspace(-4, 10, NumberOfPoints), x0=3.0, learning_rate=1.1)"
   ]
  },
  {
   "cell_type": "markdown",
   "metadata": {},
   "source": [
    "<font color = \"#CC3D3D\">\n",
    "## End"
   ]
  }
 ],
 "metadata": {
  "kernelspec": {
   "display_name": "Python 3",
   "language": "python",
   "name": "python3"
  },
  "language_info": {
   "codemirror_mode": {
    "name": "ipython",
    "version": 3
   },
   "file_extension": ".py",
   "mimetype": "text/x-python",
   "name": "python",
   "nbconvert_exporter": "python",
   "pygments_lexer": "ipython3",
   "version": "3.6.5"
  }
 },
 "nbformat": 4,
 "nbformat_minor": 2
}

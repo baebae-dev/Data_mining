{
 "cells": [
  {
   "cell_type": "markdown",
   "metadata": {},
   "source": [
    "<font color = \"#CC3D3D\">\n",
    "# EX: Apply XGBoost to ClickStream Data"
   ]
  },
  {
   "cell_type": "markdown",
   "metadata": {},
   "source": [
    "### Load classes ###"
   ]
  },
  {
   "cell_type": "code",
   "execution_count": 1,
   "metadata": {},
   "outputs": [],
   "source": [
    "# python basic classes\n",
    "import pandas as pd\n",
    "from pandas import Series, DataFrame\n",
    "import numpy as np\n",
    "import matplotlib.pyplot as plt\n",
    "%matplotlib inline\n",
    "import warnings\n",
    "warnings.filterwarnings(\"ignore\")\n",
    "\n",
    "# scikit-learn commonly used classes\n",
    "from sklearn.model_selection import train_test_split\n",
    "from sklearn.model_selection import GridSearchCV\n",
    "from sklearn.model_selection import RandomizedSearchCV\n",
    "from sklearn.metrics import classification_report\n",
    "from sklearn.preprocessing import MinMaxScaler\n",
    "from sklearn.preprocessing import StandardScaler\n",
    "from sklearn.feature_selection import SelectFromModel\n",
    "from sklearn.pipeline import Pipeline\n",
    "\n",
    "# scikit-learn popular classifiers\n",
    "from sklearn.ensemble import RandomForestClassifier\n",
    "\n",
    "# XGBoost\n",
    "from xgboost import XGBClassifier"
   ]
  },
  {
   "cell_type": "markdown",
   "metadata": {},
   "source": [
    "### Read data ###"
   ]
  },
  {
   "cell_type": "code",
   "execution_count": 2,
   "metadata": {},
   "outputs": [
    {
     "name": "stdout",
     "output_type": "stream",
     "text": [
      "<class 'pandas.core.frame.DataFrame'>\n",
      "RangeIndex: 2000 entries, 0 to 1999\n",
      "Data columns (total 40 columns):\n",
      "CUS_ID            2000 non-null int64\n",
      "CT_PORTAL         2000 non-null float64\n",
      "CT_SEARCH         2000 non-null float64\n",
      "CT_SHOP           2000 non-null float64\n",
      "CT_NEWS           2000 non-null float64\n",
      "CT_MAIL           2000 non-null float64\n",
      "CT_COMMUNITY      2000 non-null float64\n",
      "CT_BLOG_SNS       2000 non-null float64\n",
      "CT_ENTERTAIN      2000 non-null float64\n",
      "CT_FINANCE        2000 non-null float64\n",
      "CT_SHOP_INFO      2000 non-null float64\n",
      "CT_BUSINESS       2000 non-null float64\n",
      "CT_INTERNET       2000 non-null float64\n",
      "CT_DOWNLOAD       2000 non-null float64\n",
      "CT_PUBLIC         2000 non-null float64\n",
      "CT_GAME           2000 non-null float64\n",
      "CT_EDU            2000 non-null float64\n",
      "CT_ETC            2000 non-null float64\n",
      "COVERAGE          2000 non-null float64\n",
      "DWELLTIME         2000 non-null int64\n",
      "PAGEVIEWS         2000 non-null int64\n",
      "HF0005            2000 non-null float64\n",
      "HF0611            2000 non-null float64\n",
      "HF1217            2000 non-null float64\n",
      "HF1823            2000 non-null float64\n",
      "DF_MON            2000 non-null float64\n",
      "DF_TUE            2000 non-null float64\n",
      "DF_WED            2000 non-null float64\n",
      "DF_THU            2000 non-null float64\n",
      "DF_FRI            2000 non-null float64\n",
      "DF_SAT            2000 non-null float64\n",
      "DF_SUN            2000 non-null float64\n",
      "VSITES            2000 non-null int64\n",
      "SITECOV           2000 non-null float64\n",
      "VDAYS             2000 non-null int64\n",
      "DAYTIME           2000 non-null int64\n",
      "DAYCOV            2000 non-null float64\n",
      "SCH_KEYWORDS      2000 non-null int64\n",
      "SCH_TOPKEYWORD    2000 non-null object\n",
      "GENDER            2000 non-null object\n",
      "dtypes: float64(31), int64(7), object(2)\n",
      "memory usage: 625.1+ KB\n"
     ]
    }
   ],
   "source": [
    "log = pd.read_csv(\"data_clickstreams.csv\", encoding='cp949') \n",
    "log.info()"
   ]
  },
  {
   "cell_type": "markdown",
   "metadata": {},
   "source": [
    "<font color = \"blue\">\n",
    "### Feature Description: ###\n",
    "<p>\n",
    "- **CUS_ID**: 고객 ID (총 2,000명)\n",
    "- **CT_xxx**: 웹사이트 카테고리 별 체류시간 비율. 즉, 총 17개 카테고리 중에 특정 카테고리에 얼마나 머물렀는가를 비율로 계산한 값\n",
    "- **COVERAGE**: 서로 다른 웹사이트에 얼마나 다양하게 접속했는지에 대한 비율(\"서로 다른 카테고리 수/17\"로 계산)\n",
    "- **DWELLTIME**: 총 체류시간\n",
    "- **PAGEVIEWS**: 총 페이지뷰\n",
    "- **HF_xxx**: 시간대별(0-5시, 6-11시, 12-17시, 18-23시) 체류시간 비율\n",
    "- **DF_xxx**: 요일별 체류시간 비율\n",
    "- **VSITES**: 접속한 서로 다른 웹사이트의 수\n",
    "- **SITECOV**: 웹사이트 카테고리 별 체류시간 변동계수(카테고리별 체류시간의 \"표준편차/평균\" 값)\n",
    "- **VDAYS**: 총 접속 일수 \n",
    "- **DAYTIME**: 하루 평균 체류시간 \n",
    "- **DAYCOV**: 일별 변동계수(일일 체류시간의 \"표준편차/평균\" 값) \n",
    "- **SCH_KEYWORDS**: 네이버에서 검색한 검색량\n",
    "- **SCH_TOPKEYWORD**: 네이버에서 가장 많이 검색한 검색어\n",
    "- **GENDER**: 고객 성별(남자/여자). 예측하고자 하는 값."
   ]
  },
  {
   "cell_type": "code",
   "execution_count": 3,
   "metadata": {
    "scrolled": true
   },
   "outputs": [
    {
     "data": {
      "text/html": [
       "<div>\n",
       "<style scoped>\n",
       "    .dataframe tbody tr th:only-of-type {\n",
       "        vertical-align: middle;\n",
       "    }\n",
       "\n",
       "    .dataframe tbody tr th {\n",
       "        vertical-align: top;\n",
       "    }\n",
       "\n",
       "    .dataframe thead th {\n",
       "        text-align: right;\n",
       "    }\n",
       "</style>\n",
       "<table border=\"1\" class=\"dataframe\">\n",
       "  <thead>\n",
       "    <tr style=\"text-align: right;\">\n",
       "      <th></th>\n",
       "      <th>CUS_ID</th>\n",
       "      <th>CT_PORTAL</th>\n",
       "      <th>CT_SEARCH</th>\n",
       "      <th>CT_SHOP</th>\n",
       "      <th>CT_NEWS</th>\n",
       "      <th>CT_MAIL</th>\n",
       "      <th>CT_COMMUNITY</th>\n",
       "      <th>CT_BLOG_SNS</th>\n",
       "      <th>CT_ENTERTAIN</th>\n",
       "      <th>CT_FINANCE</th>\n",
       "      <th>...</th>\n",
       "      <th>DF_SAT</th>\n",
       "      <th>DF_SUN</th>\n",
       "      <th>VSITES</th>\n",
       "      <th>SITECOV</th>\n",
       "      <th>VDAYS</th>\n",
       "      <th>DAYTIME</th>\n",
       "      <th>DAYCOV</th>\n",
       "      <th>SCH_KEYWORDS</th>\n",
       "      <th>SCH_TOPKEYWORD</th>\n",
       "      <th>GENDER</th>\n",
       "    </tr>\n",
       "  </thead>\n",
       "  <tbody>\n",
       "    <tr>\n",
       "      <th>0</th>\n",
       "      <td>1</td>\n",
       "      <td>0.093</td>\n",
       "      <td>0.136</td>\n",
       "      <td>0.001</td>\n",
       "      <td>0.280</td>\n",
       "      <td>0.029</td>\n",
       "      <td>0.192</td>\n",
       "      <td>0.029</td>\n",
       "      <td>0.205</td>\n",
       "      <td>0.001</td>\n",
       "      <td>...</td>\n",
       "      <td>0.081</td>\n",
       "      <td>0.129</td>\n",
       "      <td>201</td>\n",
       "      <td>4.272</td>\n",
       "      <td>205</td>\n",
       "      <td>1746</td>\n",
       "      <td>1.481</td>\n",
       "      <td>399</td>\n",
       "      <td>타이젬</td>\n",
       "      <td>남자</td>\n",
       "    </tr>\n",
       "    <tr>\n",
       "      <th>1</th>\n",
       "      <td>2</td>\n",
       "      <td>0.059</td>\n",
       "      <td>0.118</td>\n",
       "      <td>0.323</td>\n",
       "      <td>0.028</td>\n",
       "      <td>0.119</td>\n",
       "      <td>0.017</td>\n",
       "      <td>0.072</td>\n",
       "      <td>0.015</td>\n",
       "      <td>0.011</td>\n",
       "      <td>...</td>\n",
       "      <td>0.007</td>\n",
       "      <td>0.000</td>\n",
       "      <td>573</td>\n",
       "      <td>5.434</td>\n",
       "      <td>105</td>\n",
       "      <td>7962</td>\n",
       "      <td>0.484</td>\n",
       "      <td>1346</td>\n",
       "      <td>티몬</td>\n",
       "      <td>여자</td>\n",
       "    </tr>\n",
       "    <tr>\n",
       "      <th>2</th>\n",
       "      <td>3</td>\n",
       "      <td>0.430</td>\n",
       "      <td>0.107</td>\n",
       "      <td>0.179</td>\n",
       "      <td>0.019</td>\n",
       "      <td>0.164</td>\n",
       "      <td>0.012</td>\n",
       "      <td>0.017</td>\n",
       "      <td>0.007</td>\n",
       "      <td>0.001</td>\n",
       "      <td>...</td>\n",
       "      <td>0.026</td>\n",
       "      <td>0.038</td>\n",
       "      <td>270</td>\n",
       "      <td>5.965</td>\n",
       "      <td>105</td>\n",
       "      <td>3699</td>\n",
       "      <td>0.700</td>\n",
       "      <td>329</td>\n",
       "      <td>야놀자</td>\n",
       "      <td>여자</td>\n",
       "    </tr>\n",
       "    <tr>\n",
       "      <th>3</th>\n",
       "      <td>4</td>\n",
       "      <td>0.218</td>\n",
       "      <td>0.078</td>\n",
       "      <td>0.039</td>\n",
       "      <td>0.260</td>\n",
       "      <td>0.041</td>\n",
       "      <td>0.173</td>\n",
       "      <td>0.066</td>\n",
       "      <td>0.004</td>\n",
       "      <td>0.037</td>\n",
       "      <td>...</td>\n",
       "      <td>0.054</td>\n",
       "      <td>0.037</td>\n",
       "      <td>166</td>\n",
       "      <td>4.309</td>\n",
       "      <td>107</td>\n",
       "      <td>2575</td>\n",
       "      <td>1.144</td>\n",
       "      <td>134</td>\n",
       "      <td>아이엠간지</td>\n",
       "      <td>남자</td>\n",
       "    </tr>\n",
       "    <tr>\n",
       "      <th>4</th>\n",
       "      <td>5</td>\n",
       "      <td>0.332</td>\n",
       "      <td>0.223</td>\n",
       "      <td>0.033</td>\n",
       "      <td>0.200</td>\n",
       "      <td>0.003</td>\n",
       "      <td>0.039</td>\n",
       "      <td>0.039</td>\n",
       "      <td>0.003</td>\n",
       "      <td>0.046</td>\n",
       "      <td>...</td>\n",
       "      <td>0.132</td>\n",
       "      <td>0.028</td>\n",
       "      <td>328</td>\n",
       "      <td>5.750</td>\n",
       "      <td>151</td>\n",
       "      <td>3324</td>\n",
       "      <td>1.058</td>\n",
       "      <td>511</td>\n",
       "      <td>에스티아이</td>\n",
       "      <td>남자</td>\n",
       "    </tr>\n",
       "  </tbody>\n",
       "</table>\n",
       "<p>5 rows × 40 columns</p>\n",
       "</div>"
      ],
      "text/plain": [
       "   CUS_ID  CT_PORTAL  CT_SEARCH  CT_SHOP  CT_NEWS  CT_MAIL  CT_COMMUNITY  \\\n",
       "0       1      0.093      0.136    0.001    0.280    0.029         0.192   \n",
       "1       2      0.059      0.118    0.323    0.028    0.119         0.017   \n",
       "2       3      0.430      0.107    0.179    0.019    0.164         0.012   \n",
       "3       4      0.218      0.078    0.039    0.260    0.041         0.173   \n",
       "4       5      0.332      0.223    0.033    0.200    0.003         0.039   \n",
       "\n",
       "   CT_BLOG_SNS  CT_ENTERTAIN  CT_FINANCE   ...    DF_SAT  DF_SUN  VSITES  \\\n",
       "0        0.029         0.205       0.001   ...     0.081   0.129     201   \n",
       "1        0.072         0.015       0.011   ...     0.007   0.000     573   \n",
       "2        0.017         0.007       0.001   ...     0.026   0.038     270   \n",
       "3        0.066         0.004       0.037   ...     0.054   0.037     166   \n",
       "4        0.039         0.003       0.046   ...     0.132   0.028     328   \n",
       "\n",
       "   SITECOV  VDAYS  DAYTIME  DAYCOV  SCH_KEYWORDS  SCH_TOPKEYWORD  GENDER  \n",
       "0    4.272    205     1746   1.481           399             타이젬      남자  \n",
       "1    5.434    105     7962   0.484          1346              티몬      여자  \n",
       "2    5.965    105     3699   0.700           329             야놀자      여자  \n",
       "3    4.309    107     2575   1.144           134           아이엠간지      남자  \n",
       "4    5.750    151     3324   1.058           511           에스티아이      남자  \n",
       "\n",
       "[5 rows x 40 columns]"
      ]
     },
     "execution_count": 3,
     "metadata": {},
     "output_type": "execute_result"
    }
   ],
   "source": [
    "log.head()"
   ]
  },
  {
   "cell_type": "markdown",
   "metadata": {
    "collapsed": true
   },
   "source": [
    "### Encode categorical values using one-hot encoding ###"
   ]
  },
  {
   "cell_type": "code",
   "execution_count": 4,
   "metadata": {},
   "outputs": [],
   "source": [
    "encoded_log = pd.get_dummies(log, columns=['SCH_TOPKEYWORD'])"
   ]
  },
  {
   "cell_type": "markdown",
   "metadata": {
    "collapsed": true
   },
   "source": [
    "### Split data ###"
   ]
  },
  {
   "cell_type": "code",
   "execution_count": 5,
   "metadata": {},
   "outputs": [
    {
     "data": {
      "text/plain": [
       "(2000, 1496)"
      ]
     },
     "execution_count": 5,
     "metadata": {},
     "output_type": "execute_result"
    }
   ],
   "source": [
    "encoded_log.shape"
   ]
  },
  {
   "cell_type": "code",
   "execution_count": 6,
   "metadata": {},
   "outputs": [],
   "source": [
    "dfX = encoded_log.drop(['CUS_ID','GENDER'], axis=1) # exclude 'CUS_ID' attribute & class variable\n",
    "dfy = encoded_log['GENDER']                         # class variable\n",
    "X_train, X_test, y_train, y_test = train_test_split(dfX, dfy, test_size=0.2, random_state=0)"
   ]
  },
  {
   "cell_type": "markdown",
   "metadata": {
    "collapsed": true
   },
   "source": [
    "### Tune models ###"
   ]
  },
  {
   "cell_type": "markdown",
   "metadata": {},
   "source": [
    "##### Set hyper-parameters #####"
   ]
  },
  {
   "cell_type": "code",
   "execution_count": 7,
   "metadata": {},
   "outputs": [],
   "source": [
    "rf_params = {\n",
    "    'rf__max_features': np.arange(5,10),\n",
    "    'rf__n_estimators': [100,300,500]\n",
    "}\n",
    "\n",
    "xgb_params = {\n",
    "    'xgb__subsample': np.arange(.5, 1.0, .2),\n",
    "    'xgb__max_depth': np.arange(3,10,3),\n",
    "#    'xgb__colsample_bytree': np.arange(.1,1.05,.05)\n",
    "}"
   ]
  },
  {
   "cell_type": "markdown",
   "metadata": {},
   "source": [
    "##### Make pipeline #####"
   ]
  },
  {
   "cell_type": "code",
   "execution_count": 8,
   "metadata": {},
   "outputs": [],
   "source": [
    "rf_pipeline = Pipeline([\n",
    "    (\"scaler\", StandardScaler()),\n",
    "    (\"rf\", RandomForestClassifier(random_state=0, n_jobs=-1))\n",
    "])\n",
    "\n",
    "xgb_pipeline = Pipeline([\n",
    "    (\"scaler\", StandardScaler()),\n",
    "    (\"xgb\", XGBClassifier(tree_method = 'hist', random_state=0, n_jobs=-1))\n",
    "])"
   ]
  },
  {
   "cell_type": "code",
   "execution_count": 9,
   "metadata": {},
   "outputs": [],
   "source": [
    "models = [\n",
    "    ('rf', rf_pipeline, rf_params),\n",
    "    ('xgb', xgb_pipeline, xgb_params),\n",
    "]"
   ]
  },
  {
   "cell_type": "markdown",
   "metadata": {},
   "source": [
    "##### Run grid search & CV #####"
   ]
  },
  {
   "cell_type": "code",
   "execution_count": 10,
   "metadata": {},
   "outputs": [
    {
     "name": "stdout",
     "output_type": "stream",
     "text": [
      "rf ==> 0.6475 {'rf__max_features': 7, 'rf__n_estimators': 300}\n",
      "xgb ==> 0.6725 {'xgb__max_depth': 9, 'xgb__subsample': 0.8999999999999999}\n",
      "CPU times: user 22h 47min 5s, sys: 12min 31s, total: 22h 59min 37s\n",
      "Wall time: 42min 50s\n"
     ]
    }
   ],
   "source": [
    "%%time\n",
    "tuned_models = {}\n",
    "best_score = -1\n",
    "best_model = None\n",
    "for name, model, param in models :\n",
    "    grid_search = GridSearchCV(model, param, cv=5).fit(X_train, y_train)\n",
    "    score = grid_search.score(X_test, y_test)\n",
    "    print(\"{} ==> {} {}\".format(name, score, grid_search.best_params_))\n",
    "    tuned_models[name] = grid_search\n",
    "    if score > best_score : \n",
    "        best_score = score\n",
    "        best_model = name"
   ]
  },
  {
   "cell_type": "markdown",
   "metadata": {},
   "source": [
    "<font color = \"#CC3D3D\">\n",
    "# End"
   ]
  }
 ],
 "metadata": {
  "kernelspec": {
   "display_name": "Python 3",
   "language": "python",
   "name": "python3"
  },
  "language_info": {
   "codemirror_mode": {
    "name": "ipython",
    "version": 3
   },
   "file_extension": ".py",
   "mimetype": "text/x-python",
   "name": "python",
   "nbconvert_exporter": "python",
   "pygments_lexer": "ipython3",
   "version": "3.6.5"
  }
 },
 "nbformat": 4,
 "nbformat_minor": 2
}

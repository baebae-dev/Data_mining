{
 "nbformat": 4,
 "nbformat_minor": 0,
 "metadata": {
  "colab": {
   "name": "0520 features change.ipynb의 사본",
   "version": "0.3.2",
   "provenance": [
    {
     "file_id": "1cm4MX8qZTrAT4Y2W-QhH1-d6XvUrKoPA",
     "timestamp": 1558442421862
    }
   ]
  },
  "language_info": {
   "codemirror_mode": {
    "name": "ipython",
    "version": 3
   },
   "file_extension": ".py",
   "mimetype": "text/x-python",
   "name": "python",
   "nbconvert_exporter": "python",
   "pygments_lexer": "ipython3",
   "version": "3.6.8"
  },
  "kernelspec": {
   "display_name": "Python 3",
   "language": "python",
   "name": "python3"
  }
 },
 "cells": [
  {
   "cell_type": "markdown",
   "metadata": {
    "id": "9pvb-YbTvUxf",
    "colab_type": "text"
   },
   "source": [
    "# Imports"
   ]
  },
  {
   "cell_type": "code",
   "metadata": {
    "id": "lPtAtrxKvUxg",
    "colab_type": "code",
    "colab": {}
   },
   "source": [
    "import pandas as pd\n",
    "import numpy as np\n",
    "import matplotlib.pyplot as plt\n",
    "%matplotlib inline"
   ],
   "execution_count": 0,
   "outputs": []
  },
  {
   "cell_type": "code",
   "metadata": {
    "id": "rIE1_5MbvfU8",
    "colab_type": "code",
    "outputId": "9e741e42-8985-4ef6-ffa4-f2f9f4cea8fe",
    "executionInfo": {
     "status": "ok",
     "timestamp": 1558431312076,
     "user_tz": -540,
     "elapsed": 23028,
     "user": {
      "displayName": "배유나",
      "photoUrl": "",
      "userId": "02561789843125764342"
     }
    },
    "colab": {
     "base_uri": "https://localhost:8080/",
     "height": 35
    }
   },
   "source": [
    "from google.colab import drive\n",
    "drive.mount('/gdrive', force_remount=True)"
   ],
   "execution_count": 0,
   "outputs": [
    {
     "output_type": "stream",
     "text": [
      "Mounted at /gdrive\n"
     ],
     "name": "stdout"
    }
   ]
  },
  {
   "cell_type": "markdown",
   "metadata": {
    "id": "urnEvp9gvUxk",
    "colab_type": "text"
   },
   "source": [
    "# Read Data"
   ]
  },
  {
   "cell_type": "code",
   "metadata": {
    "id": "SeDAcK1wvUxl",
    "colab_type": "code",
    "outputId": "d2011658-8798-4553-d9ac-ae48b2351edf",
    "executionInfo": {
     "status": "ok",
     "timestamp": 1558431510101,
     "user_tz": -540,
     "elapsed": 9672,
     "user": {
      "displayName": "배유나",
      "photoUrl": "",
      "userId": "02561789843125764342"
     }
    },
    "colab": {
     "base_uri": "https://localhost:8080/",
     "height": 309
    }
   },
   "source": [
    "df_train = pd.read_csv('/gdrive/My Drive/X_train.csv', encoding='cp949')\n",
    "df_test = pd.read_csv('/gdrive/My Drive/X_test.csv', encoding='cp949')\n",
    "y_train = pd.read_csv('/gdrive/My Drive/y_train.csv').gender\n",
    "IDtest = df_test.custid.unique()\n",
    "\n",
    "df_train.head()"
   ],
   "execution_count": 0,
   "outputs": [
    {
     "output_type": "execute_result",
     "data": {
      "text/html": [
       "<div>\n",
       "<style scoped>\n",
       "    .dataframe tbody tr th:only-of-type {\n",
       "        vertical-align: middle;\n",
       "    }\n",
       "\n",
       "    .dataframe tbody tr th {\n",
       "        vertical-align: top;\n",
       "    }\n",
       "\n",
       "    .dataframe thead th {\n",
       "        text-align: right;\n",
       "    }\n",
       "</style>\n",
       "<table border=\"1\" class=\"dataframe\">\n",
       "  <thead>\n",
       "    <tr style=\"text-align: right;\">\n",
       "      <th></th>\n",
       "      <th>custid</th>\n",
       "      <th>sales_date</th>\n",
       "      <th>sales_time</th>\n",
       "      <th>str_nm</th>\n",
       "      <th>goodcd</th>\n",
       "      <th>brd_nm</th>\n",
       "      <th>corner_nm</th>\n",
       "      <th>pc_nm</th>\n",
       "      <th>part_nm</th>\n",
       "      <th>team_nm</th>\n",
       "      <th>buyer_nm</th>\n",
       "      <th>import_flg</th>\n",
       "      <th>tot_amt</th>\n",
       "      <th>dis_amt</th>\n",
       "      <th>net_amt</th>\n",
       "      <th>inst_mon</th>\n",
       "      <th>inst_fee</th>\n",
       "    </tr>\n",
       "  </thead>\n",
       "  <tbody>\n",
       "    <tr>\n",
       "      <th>0</th>\n",
       "      <td>0</td>\n",
       "      <td>2000-06-25 00:00:00</td>\n",
       "      <td>1212</td>\n",
       "      <td>무역점</td>\n",
       "      <td>2116050008000</td>\n",
       "      <td>에스티로더</td>\n",
       "      <td>수입종합화장품</td>\n",
       "      <td>화장품</td>\n",
       "      <td>명품잡화</td>\n",
       "      <td>잡화가용팀</td>\n",
       "      <td>화장품</td>\n",
       "      <td>1</td>\n",
       "      <td>90000</td>\n",
       "      <td>9000</td>\n",
       "      <td>81000</td>\n",
       "      <td>3</td>\n",
       "      <td>0</td>\n",
       "    </tr>\n",
       "    <tr>\n",
       "      <th>1</th>\n",
       "      <td>0</td>\n",
       "      <td>2000-06-25 00:00:00</td>\n",
       "      <td>1242</td>\n",
       "      <td>무역점</td>\n",
       "      <td>4125440008000</td>\n",
       "      <td>시슬리</td>\n",
       "      <td>수입종합화장품</td>\n",
       "      <td>화장품</td>\n",
       "      <td>명품잡화</td>\n",
       "      <td>잡화가용팀</td>\n",
       "      <td>화장품</td>\n",
       "      <td>1</td>\n",
       "      <td>39000</td>\n",
       "      <td>3900</td>\n",
       "      <td>35100</td>\n",
       "      <td>1</td>\n",
       "      <td>0</td>\n",
       "    </tr>\n",
       "    <tr>\n",
       "      <th>2</th>\n",
       "      <td>0</td>\n",
       "      <td>2000-08-26 00:00:00</td>\n",
       "      <td>1810</td>\n",
       "      <td>본점</td>\n",
       "      <td>2116052008000</td>\n",
       "      <td>크리니크</td>\n",
       "      <td>수입종합화장품</td>\n",
       "      <td>화장품</td>\n",
       "      <td>잡화파트</td>\n",
       "      <td>잡화가용팀</td>\n",
       "      <td>화장품</td>\n",
       "      <td>1</td>\n",
       "      <td>175000</td>\n",
       "      <td>17500</td>\n",
       "      <td>157500</td>\n",
       "      <td>3</td>\n",
       "      <td>0</td>\n",
       "    </tr>\n",
       "    <tr>\n",
       "      <th>3</th>\n",
       "      <td>0</td>\n",
       "      <td>2000-08-26 00:00:00</td>\n",
       "      <td>1830</td>\n",
       "      <td>본점</td>\n",
       "      <td>4106430119900</td>\n",
       "      <td>듀퐁</td>\n",
       "      <td>수입의류</td>\n",
       "      <td>명품토탈</td>\n",
       "      <td>잡화파트</td>\n",
       "      <td>잡화가용팀</td>\n",
       "      <td>수입명품</td>\n",
       "      <td>1</td>\n",
       "      <td>455000</td>\n",
       "      <td>45500</td>\n",
       "      <td>409500</td>\n",
       "      <td>3</td>\n",
       "      <td>0</td>\n",
       "    </tr>\n",
       "    <tr>\n",
       "      <th>4</th>\n",
       "      <td>0</td>\n",
       "      <td>2000-09-03 00:00:00</td>\n",
       "      <td>1802</td>\n",
       "      <td>무역점</td>\n",
       "      <td>2139141008000</td>\n",
       "      <td>랑콤</td>\n",
       "      <td>수입종합화장품</td>\n",
       "      <td>화장품</td>\n",
       "      <td>명품잡화</td>\n",
       "      <td>잡화가용팀</td>\n",
       "      <td>화장품</td>\n",
       "      <td>0</td>\n",
       "      <td>100000</td>\n",
       "      <td>10000</td>\n",
       "      <td>90000</td>\n",
       "      <td>3</td>\n",
       "      <td>0</td>\n",
       "    </tr>\n",
       "  </tbody>\n",
       "</table>\n",
       "</div>"
      ],
      "text/plain": [
       "   custid           sales_date  sales_time  ... net_amt  inst_mon inst_fee\n",
       "0       0  2000-06-25 00:00:00        1212  ...   81000         3        0\n",
       "1       0  2000-06-25 00:00:00        1242  ...   35100         1        0\n",
       "2       0  2000-08-26 00:00:00        1810  ...  157500         3        0\n",
       "3       0  2000-08-26 00:00:00        1830  ...  409500         3        0\n",
       "4       0  2000-09-03 00:00:00        1802  ...   90000         3        0\n",
       "\n",
       "[5 rows x 17 columns]"
      ]
     },
     "metadata": {
      "tags": []
     },
     "execution_count": 4
    }
   ]
  },
  {
   "cell_type": "markdown",
   "metadata": {
    "id": "JyhmcVK3vUxr",
    "colab_type": "text"
   },
   "source": [
    "# Make features"
   ]
  },
  {
   "cell_type": "code",
   "metadata": {
    "id": "nmvYoCltvUxs",
    "colab_type": "code",
    "outputId": "00f6ae27-6813-4077-8bfe-d7da7329e0b8",
    "executionInfo": {
     "status": "ok",
     "timestamp": 1558431511713,
     "user_tz": -540,
     "elapsed": 9329,
     "user": {
      "displayName": "배유나",
      "photoUrl": "",
      "userId": "02561789843125764342"
     }
    },
    "colab": {
     "base_uri": "https://localhost:8080/",
     "height": 35
    }
   },
   "source": [
    "def g(x):\n",
    "    if len(str(x))==4:\n",
    "        return(str(x)[0:2])\n",
    "    else:\n",
    "        return(str(x)[0:1])\n",
    "\n",
    "df_train['sales_hour'] = df_train['sales_time'].apply(g)\n",
    "df_test['sales_hour'] = df_test['sales_time'].apply(g)\n",
    "\n",
    "level = 'sales_hour'\n",
    "df_train[level].nunique()"
   ],
   "execution_count": 0,
   "outputs": [
    {
     "output_type": "execute_result",
     "data": {
      "text/plain": [
       "19"
      ]
     },
     "metadata": {
      "tags": []
     },
     "execution_count": 5
    }
   ]
  },
  {
   "cell_type": "code",
   "metadata": {
    "id": "Zni-w2yivUxw",
    "colab_type": "code",
    "colab": {}
   },
   "source": [
    "df_all = pd.concat([df_train, df_test])"
   ],
   "execution_count": 0,
   "outputs": []
  },
  {
   "cell_type": "code",
   "metadata": {
    "id": "ojRB4-bgvUxz",
    "colab_type": "code",
    "outputId": "1d07eb68-c333-4351-cc26-2373c4fce68b",
    "executionInfo": {
     "status": "ok",
     "timestamp": 1558431516786,
     "user_tz": -540,
     "elapsed": 12475,
     "user": {
      "displayName": "배유나",
      "photoUrl": "",
      "userId": "02561789843125764342"
     }
    },
    "colab": {
     "base_uri": "https://localhost:8080/",
     "height": 1108
    }
   },
   "source": [
    "df_all['sdate'] = df_all.sales_date.str[:10]\n",
    "df_all[\"time\"] = df_all['sdate'].astype(str).str.cat(df_all[\"sales_time\"].astype(str), sep =\" \")\n",
    "df_all[\"time\"]"
   ],
   "execution_count": 0,
   "outputs": [
    {
     "output_type": "execute_result",
     "data": {
      "text/plain": [
       "0         2000-06-25 1212\n",
       "1         2000-06-25 1242\n",
       "2         2000-08-26 1810\n",
       "3         2000-08-26 1830\n",
       "4         2000-09-03 1802\n",
       "5         2000-09-03 1842\n",
       "6         2000-09-03 1930\n",
       "7         2000-12-13 1920\n",
       "8         2000-12-22 1910\n",
       "9         2000-12-29 1900\n",
       "10        2001-04-09 1930\n",
       "11        2000-05-13 1420\n",
       "12        2000-05-13 1550\n",
       "13        2000-05-13 1620\n",
       "14        2000-05-13 1750\n",
       "15        2000-05-14 1040\n",
       "16        2000-06-16 1530\n",
       "17        2000-06-17 1230\n",
       "18        2000-06-17 1230\n",
       "19        2000-06-21 1530\n",
       "20        2000-06-30 1120\n",
       "21        2000-06-30 1120\n",
       "22        2000-07-05 1700\n",
       "23        2000-07-06 1210\n",
       "24        2000-07-08 1150\n",
       "25        2000-09-28 1630\n",
       "26        2000-09-28 1650\n",
       "27        2000-11-05 1700\n",
       "28        2000-11-29 1530\n",
       "29        2000-11-29 1600\n",
       "               ...       \n",
       "689747    2001-04-07 1630\n",
       "689748    2001-04-19 1040\n",
       "689749    2001-04-19 1350\n",
       "689750    2001-04-19 1403\n",
       "689751    2001-04-19 1403\n",
       "689752    2001-04-19 1423\n",
       "689753    2001-04-19 1443\n",
       "689754    2001-04-19 1450\n",
       "689755    2001-04-24 1420\n",
       "689756    2001-04-24 1510\n",
       "689757    2001-02-21 1503\n",
       "689758    2000-05-07 1433\n",
       "689759    2000-05-12 1920\n",
       "689760    2000-09-07 1940\n",
       "689761    2000-10-14 1703\n",
       "689762    2000-12-07 1920\n",
       "689763    2000-12-21 1923\n",
       "689764    2001-01-22 1913\n",
       "689765    2001-01-22 1933\n",
       "689766    2001-02-03 1743\n",
       "689767    2001-02-03 1843\n",
       "689768    2000-07-02 1740\n",
       "689769    2001-04-12 1853\n",
       "689770    2001-01-31 1630\n",
       "689771    2001-01-31 1710\n",
       "689772    2001-01-31 1750\n",
       "689773    2001-01-31 1833\n",
       "689774    2001-04-14 1750\n",
       "689775    2001-04-14 1810\n",
       "689776    2001-04-15 1602\n",
       "Name: time, Length: 1726430, dtype: object"
      ]
     },
     "metadata": {
      "tags": []
     },
     "execution_count": 7
    }
   ]
  },
  {
   "cell_type": "code",
   "metadata": {
    "id": "_RUJI9spvUx3",
    "colab_type": "code",
    "colab": {}
   },
   "source": [
    "X_train1 = pd.pivot_table(df_all, index='custid', columns=level,values='tot_amt',\n",
    "                         aggfunc=np.size , fill_value=0). \\\n",
    "                         reset_index(). \\\n",
    "                         query('custid not in @IDtest'). \\\n",
    "                         drop(columns=['custid']).values\n",
    "\n",
    "X_test1 = pd.pivot_table(df_all, index='custid', columns=level,values='tot_amt',\n",
    "                         aggfunc=np.size , fill_value=0). \\\n",
    "                         reset_index(). \\\n",
    "                         query('custid  in @IDtest'). \\\n",
    "                         drop(columns=['custid']).values\n",
    "\n",
    "X_train1 = pd.DataFrame(X_train1)\n",
    "X_test1 = pd.DataFrame(X_test1)"
   ],
   "execution_count": 0,
   "outputs": []
  },
  {
   "cell_type": "code",
   "metadata": {
    "id": "81j7PpzxvUx7",
    "colab_type": "code",
    "colab": {}
   },
   "source": [
    "level = 'brd_nm'\n",
    "df_train[level].nunique()\n",
    "\n",
    "X_train2 = pd.pivot_table(df_all, index='custid', columns=level, values='tot_amt',\n",
    "                         aggfunc= np.size , fill_value=0). \\\n",
    "                         reset_index(). \\\n",
    "                         query('custid not in @IDtest'). \\\n",
    "                         drop(columns=['custid']).values\n",
    "\n",
    "X_test2 = pd.pivot_table(df_all, index='custid', columns=level, values='tot_amt',\n",
    "                         aggfunc= np.size , fill_value=0). \\\n",
    "                         reset_index(). \\\n",
    "                         query('custid in @IDtest'). \\\n",
    "                         drop(columns=['custid']).values\n",
    "\n",
    "X_train2 = pd.DataFrame(X_train2)\n",
    "X_test2 = pd.DataFrame(X_test2)"
   ],
   "execution_count": 0,
   "outputs": []
  },
  {
   "cell_type": "code",
   "metadata": {
    "id": "qTt6KLr9vUx-",
    "colab_type": "code",
    "colab": {}
   },
   "source": [
    "level = 'corner_nm'\n",
    "df_train[level].nunique()\n",
    "\n",
    "X_train3 = pd.pivot_table(df_all, index='custid', columns=level, values='tot_amt',\n",
    "                         aggfunc= np.size , fill_value=0). \\\n",
    "                         reset_index(). \\\n",
    "                         query('custid not in @IDtest'). \\\n",
    "                         drop(columns=['custid']).values\n",
    "\n",
    "X_test3 = pd.pivot_table(df_all, index='custid', columns=level, values='tot_amt',\n",
    "                         aggfunc= np.size , fill_value=0). \\\n",
    "                         reset_index(). \\\n",
    "                         query('custid in @IDtest'). \\\n",
    "                         drop(columns=['custid']).values\n",
    "\n",
    "X_train3 = pd.DataFrame(X_train3)\n",
    "X_test3 = pd.DataFrame(X_test3)"
   ],
   "execution_count": 0,
   "outputs": []
  },
  {
   "cell_type": "code",
   "metadata": {
    "id": "kaeVYJl_vUyE",
    "colab_type": "code",
    "colab": {}
   },
   "source": [
    "level = 'pc_nm'\n",
    "df_train[level].nunique()\n",
    "\n",
    "X_train4 = pd.pivot_table(df_all, index='custid', columns=level, values='tot_amt',\n",
    "                         aggfunc= np.size , fill_value=0). \\\n",
    "                         reset_index(). \\\n",
    "                         query('custid not in @IDtest'). \\\n",
    "                         drop(columns=['custid']).values\n",
    "\n",
    "X_test4 = pd.pivot_table(df_all, index='custid', columns=level, values='tot_amt',\n",
    "                         aggfunc= np.size , fill_value=0). \\\n",
    "                         reset_index(). \\\n",
    "                         query('custid in @IDtest'). \\\n",
    "                         drop(columns=['custid']).values\n",
    "\n",
    "X_train4 = pd.DataFrame(X_train4)\n",
    "X_test4 = pd.DataFrame(X_test4)"
   ],
   "execution_count": 0,
   "outputs": []
  },
  {
   "cell_type": "code",
   "metadata": {
    "id": "xxo3qOpqvUyJ",
    "colab_type": "code",
    "colab": {}
   },
   "source": [
    "level = 'team_nm'\n",
    "df_train[level].nunique()\n",
    "\n",
    "X_train6 = pd.pivot_table(df_all, index='custid', columns=level, values='tot_amt',\n",
    "                         aggfunc=np.size , fill_value=0). \\\n",
    "                         reset_index(). \\\n",
    "                         query('custid not in @IDtest'). \\\n",
    "                         drop(columns=['custid']).values\n",
    "\n",
    "X_test6 = pd.pivot_table(df_all, index='custid', columns=level, values='tot_amt',\n",
    "                         aggfunc=np.size , fill_value=0). \\\n",
    "                         reset_index(). \\\n",
    "                         query('custid in @IDtest'). \\\n",
    "                         drop(columns=['custid']).values\n",
    "\n",
    "X_train6 = pd.DataFrame(X_train6)\n",
    "X_test6 = pd.DataFrame(X_test6)"
   ],
   "execution_count": 0,
   "outputs": []
  },
  {
   "cell_type": "code",
   "metadata": {
    "id": "HrEMmDlIvUyN",
    "colab_type": "code",
    "colab": {}
   },
   "source": [
    "X_train8 = pd.pivot_table(df_all, index='custid', values='tot_amt',\n",
    "                         aggfunc=np.sum , fill_value=0). \\\n",
    "                         reset_index(). \\\n",
    "                         query('custid not in @IDtest'). \\\n",
    "                         drop(columns=['custid']).values\n",
    "\n",
    "X_test8 = pd.pivot_table(df_all, index='custid', values='tot_amt',\n",
    "                         aggfunc=np.sum , fill_value=0). \\\n",
    "                         reset_index(). \\\n",
    "                         query('custid in @IDtest'). \\\n",
    "                         drop(columns=['custid']).values\n",
    "\n",
    "X_train8 = pd.DataFrame(X_train8)\n",
    "X_test8 = pd.DataFrame(X_test8)"
   ],
   "execution_count": 0,
   "outputs": []
  },
  {
   "cell_type": "code",
   "metadata": {
    "id": "qGjQdW7hvUyP",
    "colab_type": "code",
    "colab": {}
   },
   "source": [
    "X_train9 = pd.pivot_table(df_all, index='custid', values='tot_amt',\n",
    "                         aggfunc=np.mean , fill_value=0). \\\n",
    "                         reset_index(). \\\n",
    "                         query('custid not in @IDtest'). \\\n",
    "                         drop(columns=['custid']).values\n",
    "\n",
    "X_test9 = pd.pivot_table(df_all, index='custid', values='tot_amt',\n",
    "                         aggfunc=np.mean , fill_value=0). \\\n",
    "                         reset_index(). \\\n",
    "                         query('custid in @IDtest'). \\\n",
    "                         drop(columns=['custid']).values\n",
    "\n",
    "X_train9 = pd.DataFrame(X_train9)\n",
    "X_test9 = pd.DataFrame(X_test9)"
   ],
   "execution_count": 0,
   "outputs": []
  },
  {
   "cell_type": "code",
   "metadata": {
    "id": "NgRD-NVovUyS",
    "colab_type": "code",
    "colab": {}
   },
   "source": [
    "X_train10 = pd.pivot_table(df_all, index='custid', values='dis_amt',\n",
    "                         aggfunc=np.sum , fill_value=0). \\\n",
    "                         reset_index(). \\\n",
    "                         query('custid not in @IDtest'). \\\n",
    "                         drop(columns=['custid']).values\n",
    "\n",
    "X_test10 = pd.pivot_table(df_all, index='custid', values='dis_amt',\n",
    "                         aggfunc=np.sum , fill_value=0). \\\n",
    "                         reset_index(). \\\n",
    "                         query('custid in @IDtest'). \\\n",
    "                         drop(columns=['custid']).values\n",
    "\n",
    "X_train10 = pd.DataFrame(X_train10)\n",
    "X_test10 = pd.DataFrame(X_test10)"
   ],
   "execution_count": 0,
   "outputs": []
  },
  {
   "cell_type": "code",
   "metadata": {
    "id": "LfG226MvvUyV",
    "colab_type": "code",
    "colab": {}
   },
   "source": [
    "X_train11 = pd.pivot_table(df_all, index='custid', values='dis_amt',\n",
    "                         aggfunc=np.mean , fill_value=0). \\\n",
    "                         reset_index(). \\\n",
    "                         query('custid not in @IDtest'). \\\n",
    "                         drop(columns=['custid']).values\n",
    "\n",
    "X_test11 = pd.pivot_table(df_all, index='custid', values='dis_amt',\n",
    "                         aggfunc=np.mean , fill_value=0). \\\n",
    "                         reset_index(). \\\n",
    "                         query('custid in @IDtest'). \\\n",
    "                         drop(columns=['custid']).values\n",
    "\n",
    "X_train11 = pd.DataFrame(X_train11)\n",
    "X_test11 = pd.DataFrame(X_test11)"
   ],
   "execution_count": 0,
   "outputs": []
  },
  {
   "cell_type": "code",
   "metadata": {
    "id": "JlN40iWivUyY",
    "colab_type": "code",
    "colab": {}
   },
   "source": [
    "X_train12 = pd.pivot_table(df_all, index='custid', values='net_amt',\n",
    "                         aggfunc=np.sum , fill_value=0). \\\n",
    "                         reset_index(). \\\n",
    "                         query('custid not in @IDtest'). \\\n",
    "                         drop(columns=['custid']).values\n",
    "\n",
    "X_test12 = pd.pivot_table(df_all, index='custid', values='net_amt',\n",
    "                         aggfunc=np.sum , fill_value=0). \\\n",
    "                         reset_index(). \\\n",
    "                         query('custid in @IDtest'). \\\n",
    "                         drop(columns=['custid']).values\n",
    "\n",
    "X_train12 = pd.DataFrame(X_train12)\n",
    "X_test12 = pd.DataFrame(X_test12)"
   ],
   "execution_count": 0,
   "outputs": []
  },
  {
   "cell_type": "code",
   "metadata": {
    "id": "ajTfOvNZvUyb",
    "colab_type": "code",
    "colab": {}
   },
   "source": [
    "X_train13 = pd.pivot_table(df_all, index='custid', values='net_amt',\n",
    "                         aggfunc=np.mean , fill_value=0). \\\n",
    "                         reset_index(). \\\n",
    "                         query('custid not in @IDtest'). \\\n",
    "                         drop(columns=['custid']).values\n",
    "\n",
    "X_test13 = pd.pivot_table(df_all, index='custid', values='net_amt',\n",
    "                         aggfunc=np.mean , fill_value=0). \\\n",
    "                         reset_index(). \\\n",
    "                         query('custid in @IDtest'). \\\n",
    "                         drop(columns=['custid']).values\n",
    "\n",
    "X_train13 = pd.DataFrame(X_train13)\n",
    "X_test13 = pd.DataFrame(X_test13)"
   ],
   "execution_count": 0,
   "outputs": []
  },
  {
   "cell_type": "code",
   "metadata": {
    "id": "Lq8tnxSMvUyf",
    "colab_type": "code",
    "colab": {}
   },
   "source": [
    "X_train14 = pd.pivot_table(df_all, index='custid', values='inst_mon',\n",
    "                         aggfunc=np.sum , fill_value=0). \\\n",
    "                         reset_index(). \\\n",
    "                         query('custid not in @IDtest'). \\\n",
    "                         drop(columns=['custid']).values\n",
    "\n",
    "X_test14 = pd.pivot_table(df_all, index='custid', values='inst_mon',\n",
    "                         aggfunc=np.sum , fill_value=0). \\\n",
    "                         reset_index(). \\\n",
    "                         query('custid in @IDtest'). \\\n",
    "                         drop(columns=['custid']).values\n",
    "\n",
    "X_train14 = pd.DataFrame(X_train14)\n",
    "X_test14 = pd.DataFrame(X_test14)"
   ],
   "execution_count": 0,
   "outputs": []
  },
  {
   "cell_type": "code",
   "metadata": {
    "id": "ysiwOUx1vUyk",
    "colab_type": "code",
    "colab": {}
   },
   "source": [
    "X_train15 = pd.pivot_table(df_all, index='custid', values='inst_mon',\n",
    "                         aggfunc=np.mean , fill_value=0). \\\n",
    "                         reset_index(). \\\n",
    "                         query('custid not in @IDtest'). \\\n",
    "                         drop(columns=['custid']).values\n",
    "\n",
    "X_test15 = pd.pivot_table(df_all, index='custid', values='inst_mon',\n",
    "                         aggfunc=np.mean , fill_value=0). \\\n",
    "                         reset_index(). \\\n",
    "                         query('custid in @IDtest'). \\\n",
    "                         drop(columns=['custid']).values\n",
    "\n",
    "X_train15 = pd.DataFrame(X_train15)\n",
    "X_test15 = pd.DataFrame(X_test15)"
   ],
   "execution_count": 0,
   "outputs": []
  },
  {
   "cell_type": "markdown",
   "metadata": {
    "id": "4NjXzfjKvUyq",
    "colab_type": "text"
   },
   "source": [
    "## Merging"
   ]
  },
  {
   "cell_type": "code",
   "metadata": {
    "id": "t-jKEaS8vUys",
    "colab_type": "code",
    "colab": {}
   },
   "source": [
    "X_train = pd.concat([X_train1,X_train2],axis=1)\n",
    "X_train = pd.concat([X_train,X_train3],axis=1)\n",
    "X_train = pd.concat([X_train,X_train4],axis=1)\n",
    "#X_train = pd.concat([X_train,X_train5],axis=1)\n",
    "X_train = pd.concat([X_train,X_train6],axis=1)\n",
    "#X_train = pd.concat([X_train,X_train7],axis=1)\n",
    "X_train = pd.concat([X_train,X_train8],axis=1)\n",
    "X_train = pd.concat([X_train,X_train9],axis=1)\n",
    "X_train = pd.concat([X_train,X_train10],axis=1)\n",
    "X_train = pd.concat([X_train,X_train11],axis=1)\n",
    "X_train = pd.concat([X_train,X_train12],axis=1)\n",
    "X_train = pd.concat([X_train,X_train13],axis=1)\n",
    "X_train = pd.concat([X_train,X_train14],axis=1)\n",
    "X_train = pd.concat([X_train,X_train15],axis=1)\n",
    "\n",
    "\n",
    "X_test = pd.concat([X_test1,X_test2],axis=1)\n",
    "X_test = pd.concat([X_test,X_test3],axis=1)\n",
    "X_test = pd.concat([X_test,X_test4],axis=1)\n",
    "#X_test = pd.concat([X_test,X_test5],axis=1)\n",
    "X_test = pd.concat([X_test,X_test6],axis=1)\n",
    "#X_test = pd.concat([X_test,X_test7],axis=1)\n",
    "X_test = pd.concat([X_test,X_test8],axis=1)\n",
    "X_test = pd.concat([X_test,X_test9],axis=1)\n",
    "X_test = pd.concat([X_test,X_test10],axis=1)\n",
    "X_test = pd.concat([X_test,X_test11],axis=1)\n",
    "X_test = pd.concat([X_test,X_test12],axis=1)\n",
    "X_test = pd.concat([X_test,X_test13],axis=1)\n",
    "X_test = pd.concat([X_test,X_test14],axis=1)\n",
    "X_test = pd.concat([X_test,X_test15],axis=1)"
   ],
   "execution_count": 0,
   "outputs": []
  },
  {
   "cell_type": "code",
   "metadata": {
    "id": "8-KDOVvZvUyw",
    "colab_type": "code",
    "outputId": "63b54999-a4e2-4c78-a5fa-e81412888a52",
    "executionInfo": {
     "status": "ok",
     "timestamp": 1558431609182,
     "user_tz": -540,
     "elapsed": 98061,
     "user": {
      "displayName": "배유나",
      "photoUrl": "",
      "userId": "02561789843125764342"
     }
    },
    "colab": {
     "base_uri": "https://localhost:8080/",
     "height": 52
    }
   },
   "source": [
    "print(X_train.shape)\n",
    "print(X_test.shape)"
   ],
   "execution_count": 0,
   "outputs": [
    {
     "output_type": "stream",
     "text": [
      "(30000, 2326)\n",
      "(19995, 2326)\n"
     ],
     "name": "stdout"
    }
   ]
  },
  {
   "cell_type": "code",
   "metadata": {
    "id": "UMuB_zsUvUy1",
    "colab_type": "code",
    "colab": {}
   },
   "source": [
    "X_train.columns = list(range(0,2326))\n",
    "X_test.columns = list(range(0,2326))"
   ],
   "execution_count": 0,
   "outputs": []
  },
  {
   "cell_type": "markdown",
   "metadata": {
    "id": "CcsJ3X31vUy4",
    "colab_type": "text"
   },
   "source": [
    "# Yuna"
   ]
  },
  {
   "cell_type": "code",
   "metadata": {
    "id": "-cIpiApavUy4",
    "colab_type": "code",
    "colab": {}
   },
   "source": [
    "features = []"
   ],
   "execution_count": 0,
   "outputs": []
  },
  {
   "cell_type": "code",
   "metadata": {
    "id": "f1PtwXR8vUy8",
    "colab_type": "code",
    "colab": {}
   },
   "source": [
    "#평균 구매시간\n",
    "df_all['hour']=df_all['sales_time']//100\n",
    "\n",
    "f = df_all.groupby('custid')['hour'].agg([('평균구매시간', 'mean')]).reset_index()\n",
    "f.iloc[:,1] = f.iloc[:,1].apply(round, args=(1,))\n",
    "features.append(f)\n",
    "\n",
    "#퇴근 시간 관련 구매건수\n",
    "a=pd.pivot_table(df_all, index='custid', columns='hour', values='tot_amt', \n",
    "                   aggfunc=np.size, fill_value=0).reset_index()\n",
    "\n",
    "aa=a.iloc[:,[1,2,3,4,5,6,7,8,10,11,12,13]].sum(axis=1)\n",
    "ab=a.iloc[:,[14,15,16,17,18]].sum(axis=1)\n",
    "ac=a.iloc[:,[1,2,3,4,5,6,7,8,10,11,12,13,14,15,16,17,18]].sum(axis=1)\n",
    "ap=pd.DataFrame({'custid':a['custid'],'퇴근 전 구매건수':aa,'퇴근 후 구매건수':ab,'총 구매건수':ac})\n",
    "ap['근무시간 구매건수 비율']=ap['퇴근 전 구매건수']/ap['총 구매건수'].fillna(0)\n",
    "ap=ap.fillna(0)\n",
    "ap['퇴근 후 구매건수 비율']=ap['퇴근 후 구매건수']/ap['총 구매건수'].fillna(0)\n",
    "ap=ap.fillna(0)\n",
    "f=ap.iloc[:,[0,1,2,4,5]]\n",
    "features.append(f)\n",
    "\n",
    "#충동구매 여부\n",
    "f1 = df_all.groupby('custid')['hour'].agg([('평균구매시간', 'mean')]).reset_index()\n",
    "f1.iloc[:,1] = f1.iloc[:,1].apply(round, args=(0,))\n",
    "f2=df_all.groupby(['custid','hour'])['tot_amt'].agg([('구매건수','size')]).reset_index()\n",
    "f3=pd.merge(f1,f2,on='custid')\n",
    "f3['rate']=f3['평균구매시간']/f3['hour']\n",
    "\n",
    "m1=f3.query('0<=rate<=1').groupby('custid')['구매건수'].agg([('평균 구매시간 내 구매건수','size')]).reset_index()\n",
    "m2=f3.query('1<=rate').groupby('custid')['구매건수'].agg([('평균 구매시간 외 구매건수','size')]).reset_index()\n",
    "m=pd.merge(m1,m2,on='custid')\n",
    "m['평균 시간 구매비율']=m['평균 구매시간 내 구매건수']/m['평균 구매시간 외 구매건수']\n",
    "m['충동구매 여부']=np.where(m['평균 시간 구매비율']<=1,'no','yes')\n",
    "f = pd.get_dummies(m, columns=['충동구매 여부'])  # This method performs One-hot-encoding\n",
    "features.append(f)\n",
    "\n",
    "#충동구매 건수\n",
    "f=f3.query('1<=rate').groupby('custid')['구매건수'].agg([('충동구매 건수','sum')]).reset_index()\n",
    "features.append(f)\n",
    "\n",
    "#여성용,남성용 제품 중 여성용품 구매비율\n",
    "a=pd.pivot_table(df_all, index='custid', columns='part_nm', values='tot_amt', \n",
    "                   aggfunc=np.size, fill_value=0).reset_index()\n",
    "women_brand = ['여성캐주얼','여성의류파트','여성정장','여성캐쥬얼']\n",
    "man_bran = ['남성정장스포츠','남성의류']\n",
    "f['여성용품 구매 비율']=a.loc[:,women_brand].sum(axis=1)/len(women_brand+man_bran)\n",
    "f=f.iloc[:,[0,2]]\n",
    "features.append(f)\n",
    "\n",
    "#여성용,남성용 제품 중 남성용품 구매비율\n",
    "a=pd.pivot_table(df_all, index='custid', columns='part_nm', values='tot_amt', \n",
    "                   aggfunc=np.size, fill_value=0).reset_index()\n",
    "women_brand = ['여성캐주얼','여성의류파트','여성정장','여성캐쥬얼']\n",
    "man_bran = ['남성정장스포츠','남성의류']\n",
    "f['남성용품 구매 비율']=a.loc[:,man_bran].sum(axis=1)/len(women_brand+man_bran)\n",
    "f=f.iloc[:,[0,2]]\n",
    "features.append(f)\n",
    "\n",
    "#총 구매건수\n",
    "f = df_all.groupby('custid')['tot_amt'].agg([('구매건수', 'size')]).reset_index()\n",
    "features.append(f)\n",
    "\n",
    "# 구매다양성\n",
    "n = df_all.corner_nm.nunique()\n",
    "f = df_all.groupby('custid')['brd_nm'].agg([('구매상품다양성', lambda x: len(x.unique()) / n)]).reset_index()\n",
    "features.append(f)\n",
    "\n",
    "#내점일수\n",
    "df_all['sdate'] = df_all.sales_date.str[:10]\n",
    "f = df_all.groupby(by = 'custid')['sdate'].agg([('내점일수','nunique')]).reset_index()\n",
    "features.append(f)\n",
    "\n",
    "#수입상품 구매비율\n",
    "x = df_all[df_all['import_flg'] == 1].groupby('custid').size() / df_all.groupby('custid').size()\n",
    "f = x.reset_index().rename(columns={0: '수입상품_구매비율'}).fillna(0)\n",
    "f.iloc[:,1] = (f.iloc[:,1]*100).apply(round, args=(1,))\n",
    "features.append(f)\n",
    "\n",
    "#주말방문 비율\n",
    "def fw(x):\n",
    "    k = x.dayofweek\n",
    "    if k <= 4 :\n",
    "        return('주중_방문')\n",
    "    else :\n",
    "        return('주말_방문')    \n",
    "    \n",
    "df = df_all.copy()\n",
    "df = df.drop_duplicates(['custid','sales_date'])\n",
    "\n",
    "df['week'] = pd.to_datetime(df.sales_date).apply(fw)\n",
    "df = pd.pivot_table(df, index='custid', columns='week', values='tot_amt', \n",
    "                   aggfunc=np.size, fill_value=0).reset_index()\n",
    "df['주말방문비율'] = ((df.iloc[:,1] / (df.iloc[:,1]+df.iloc[:,2]))*100).apply(round, args=(1,))\n",
    "f = df.copy().iloc[:,[0,-1]]\n",
    "features.append(f)"
   ],
   "execution_count": 0,
   "outputs": []
  },
  {
   "cell_type": "code",
   "metadata": {
    "id": "kFgqK-GfvUy-",
    "colab_type": "code",
    "colab": {}
   },
   "source": [
    "#계절별 구매건수\n",
    "def f1(x):\n",
    "    k = x.month\n",
    "    if 3 <= k <= 5 :\n",
    "        return('봄-구매건수')\n",
    "    elif 6 <= k <= 8 :\n",
    "        return('여름-구매건수')\n",
    "    elif 9 <= k <= 11 :    \n",
    "        return('가을-구매건수')\n",
    "    else :\n",
    "        return('겨울-구매건수')    \n",
    "    \n",
    "df_all['season'] = pd.to_datetime(df_all.sales_date).apply(f1)\n",
    "f = pd.pivot_table(df_all, index='custid', columns='season', values='tot_amt', \n",
    "                   aggfunc=np.size, fill_value=0).reset_index()\n",
    "features.append(f)\n",
    "\n",
    "# 아점저 시간대별 구매건수\n",
    "def f2(x):\n",
    "    if 9 <= x <= 12 :\n",
    "        return('아침_구매건수')\n",
    "    elif 13 <= x <= 17 :\n",
    "        return('점심_구매건수')\n",
    "    else :\n",
    "        return('저녁_구매건수')  # datatime 필드가 시간 형식에 맞지 않은 값을 갖는 경우 저녁시간으로 처리\n",
    "\n",
    "df_all['timeslot'] = (df_all.sales_time // 100).apply(f2)\n",
    "f = pd.pivot_table(df_all, index='custid', columns='timeslot', values='tot_amt', \n",
    "                   aggfunc=np.size, fill_value=0).reset_index()\n",
    "features.append(f)\n",
    "\n",
    "#방문 빈도성\n",
    "df_all['month']=pd.to_datetime(df_all.sales_date).dt.month\n",
    "a=df_all.groupby('custid')['month'].agg([('가장 최근 구매 달','max')]).reset_index()\n",
    "b=df_all.groupby('custid')['month'].agg([('가장 예전 구매 달','min')]).reset_index()\n",
    "c=df_all.groupby('custid')['month'].agg([('구매를 한 달의 수','nunique')]).reset_index()\n",
    "a['방문빈도성']=round((a['가장 최근 구매 달']-b['가장 예전 구매 달'])/c['구매를 한 달의 수'],1)\n",
    "f=a.iloc[:,[0,2]]\n",
    "features.append(f)\n",
    "\n",
    "#최대 할부개월수\n",
    "f=df_all.groupby('custid')['inst_mon'].agg([('최대할부개월수', 'max')]).reset_index()\n",
    "features.append(f)\n",
    "\n",
    "# 브랜드 평중도\n",
    "a['브랜드 편중도']=df_all.groupby('custid')['brd_nm'].agg([('구매 브랜드 수','nunique')]).reset_index().iloc[:,1]/df_all['brd_nm'].nunique()\n",
    "f=a.iloc[:,[0,3]]\n",
    "features.append(f)\n",
    "\n",
    "#내점당 평균 구매건수\n",
    "f = df_all.groupby('custid')['sales_date'].agg([('하','value_counts')]).reset_index()\n",
    "f= f.groupby('custid')['하'].agg([('내점당 평균 구매건수','mean')]).reset_index()\n",
    "f['내점당 평균 구매건수'] = round(f['내점당 평균 구매건수'],2)\n",
    "features.append(f)\n",
    "\n",
    "# 새로운 시간대별 구매건수\n",
    "def f2(x):\n",
    "    if 901 <= x < 1200 :\n",
    "        return('12시 이전_구매건수')\n",
    "    elif 1200 <= x < 1400 :\n",
    "        return('12~2시_구매건수')\n",
    "    elif 1400 <= x < 1600 :\n",
    "        return('2~4시_구매건수')\n",
    "    elif 1600 <= x < 1800 :\n",
    "        return('4~6시_구매건수')\n",
    "    else :\n",
    "        return('6시이후_구매건수')  \n",
    "\n",
    "df_all['timeslot2'] = df_all.sales_time.apply(f2)\n",
    "\n",
    "f = pd.pivot_table(df_all, index='custid', columns='timeslot2', values='tot_amt',\n",
    "                   aggfunc=np.size, fill_value=0).reset_index()\n",
    "features.append(f)"
   ],
   "execution_count": 0,
   "outputs": []
  },
  {
   "cell_type": "code",
   "metadata": {
    "id": "Cy4GbxttvUzA",
    "colab_type": "code",
    "colab": {}
   },
   "source": [
    "#총 방문기간\n",
    "df_all['sdate'] = df_all.sales_date.str[:10]\n",
    "def visit_period(x) :\n",
    "    max_date = pd.to_datetime(x.max()).to_julian_date()\n",
    "    min_date = pd.to_datetime(x.min()).to_julian_date()\n",
    "    return max_date - min_date\n",
    "\n",
    "f = df_all.groupby('custid')['sdate'].agg([('총방문기간',visit_period)]).reset_index()\n",
    "features.append(f)\n",
    "\n",
    "#평균 방문주기\n",
    "df_all['sdate'] = df_all.sales_date.str[:10]\n",
    "def visit_cycle(x) :\n",
    "    max_date = pd.to_datetime(x.max()).to_julian_date()\n",
    "    min_date = pd.to_datetime(x.min()).to_julian_date()\n",
    "    visit_count = x.count()\n",
    "    return (max_date - min_date)/visit_count\n",
    "\n",
    "f = df_all.groupby('custid')['sdate'].agg([('평균방문주기',visit_cycle)]).reset_index()\n",
    "features.append(f)\n",
    "\n",
    "#평균 구매가격\n",
    "f = df_all.groupby('custid')['tot_amt'].agg([('평균구매가격', 'mean')]).reset_index()\n",
    "features.append(f)\n",
    "\n",
    "#평균 할부개월수\n",
    "f = df_all.groupby('custid')['inst_mon'].agg([('평균할부개월수', 'mean')]).reset_index()\n",
    "f.iloc[:,1] = f.iloc[:,1].apply(round, args=(1,))\n",
    "features.append(f)\n",
    "\n",
    "#이용지점 다양성\n",
    "n = 4\n",
    "f = df_all.groupby('custid')['str_nm'].agg([('매장이용다양성', lambda x: len(x.unique()) / n)]).reset_index()\n",
    "features.append(f)\n",
    "\n",
    "# 새로운 요일별 구매건수\n",
    "def f2(x):\n",
    "    k = x.dayofweek\n",
    "    if k <= 2 :\n",
    "        return('월화수_구매건수')\n",
    "    elif 3 <= k < 5 :\n",
    "        return('목금_구매건수')\n",
    "    elif 5 <= k < 6 :\n",
    "        return('토_구매건수')\n",
    "    else :\n",
    "        return('일_구매건수')    \n",
    "    \n",
    "df_all['요일2'] = pd.to_datetime(df_all.sales_date).apply(f2)\n",
    "f = pd.pivot_table(df_all, index='custid', columns='요일2', values='tot_amt', \n",
    "                   aggfunc=np.size, fill_value=0).reset_index()\n",
    "features.append(f)\n",
    "\n",
    "# 시즌 변화 월기준의 구매건수\n",
    "def f1(x):\n",
    "    k = x.month\n",
    "    if 2 <= k <= 4 :\n",
    "        return('234월_구매건수')\n",
    "    elif 5 <= k <= 7 :\n",
    "        return('567월_구매건수')\n",
    "    elif 8 <= k <= 10 :\n",
    "        return('8910월_구매건수')\n",
    "    else :\n",
    "        return('11121월_구매건수')    \n",
    "    \n",
    "df_all['season2'] = pd.to_datetime(df_all.sales_date).apply(f1)\n",
    "f = pd.pivot_table(df_all, index='custid', columns='season2', values='tot_amt', \n",
    "                   aggfunc=np.size, fill_value=0).reset_index()\n",
    "features.append(f)\n",
    "\n",
    "# 평균 할인 금액\n",
    "f = df_all.groupby('custid')['dis_amt'].agg([('평균할인금액', 'mean')]).reset_index()\n",
    "f.iloc[:,1] = f.iloc[:,1].apply(round, args=(1,))\n",
    "features.append(f)\n",
    "\n",
    "#실제 구매금액\n",
    "f = df_all.groupby('custid')['net_amt'].agg([('실제구매금액', 'sum')]).reset_index()\n",
    "f.iloc[:,1] = f.iloc[:,1].apply(round, args=(1,))\n",
    "features.append(f)\n",
    "\n",
    "#실제 구매금액 평균\n",
    "f = df_all.groupby('custid')['net_amt'].agg([('실제구매금액평균', 'mean')]).reset_index()\n",
    "f.iloc[:,1] = f.iloc[:,1].apply(round, args=(1,))\n",
    "features.append(f)"
   ],
   "execution_count": 0,
   "outputs": []
  },
  {
   "cell_type": "code",
   "metadata": {
    "id": "VEgO4EeBvUzC",
    "colab_type": "code",
    "colab": {}
   },
   "source": [
    "#구입지점 빈도값 도출\n",
    "f = pd.pivot_table(df_all, index='custid', columns='str_nm', values='tot_amt', \n",
    "                   aggfunc=np.size, fill_value=0).reset_index()\n",
    "features.append(f)\n",
    "\n",
    "# 총 구매액\n",
    "f = df_all.groupby('custid')['tot_amt'].agg([('총구매액', 'sum')]).reset_index()\n",
    "features.append(f)\n",
    "\n",
    "#쇼핑시간\n",
    "df_all.loc[456697,\"sales_time\"] = 1530\n",
    "df_all[\"time\"] = df_all['sdate'].astype(str).str.cat(df_all[\"sales_time\"].astype(str), sep =\" \") \n",
    "df_all[\"time\"] = pd.to_datetime(df_all.time, format='%Y-%m-%d %H%M')\n",
    "f = df_all.groupby(['sdate','custid'])['time'].agg([('time', ['min','max'])]).reset_index()\n",
    "f['shopping_time'] = (f['time']['max'] - f['time']['min']).dt.total_seconds()\n",
    "f.drop(['sdate','time'], axis=1, inplace=True,level=0)\n",
    "f = f.groupby(['custid'])['shopping_time'].agg([('shopping_time_mean','mean')]).reset_index()\n",
    "features.append(f)\n",
    "\n",
    "# 구매 파트 변수의 각 파트의 빈도값 도출\n",
    "f = pd.pivot_table(df_all, index='custid', columns='part_nm', values='tot_amt', \n",
    "                   aggfunc=np.size, fill_value=0).reset_index()\n",
    "features.append(f)\n",
    "\n",
    "# 구매제품 변수의 각 파트의 빈도값 도출\n",
    "f = pd.pivot_table(df_all, index='custid', columns='buyer_nm', values='tot_amt', \n",
    "                   aggfunc=np.size, fill_value=0).reset_index()\n",
    "features.append(f)"
   ],
   "execution_count": 0,
   "outputs": []
  },
  {
   "cell_type": "code",
   "metadata": {
    "id": "XP-u1tMKvUzE",
    "colab_type": "code",
    "colab": {}
   },
   "source": [
    "#화장품 구매비율\n",
    "df = df_all.groupby(['sdate','custid'])['time'].agg([('time', ['min','max'])]).reset_index()\n",
    "df['shopping_time'] = (df['time']['max'] - df['time']['min']).dt.total_seconds()\n",
    "df.drop(['sdate','time'], axis=1, inplace=True,level=0)\n",
    "df = df.groupby(['custid'])['shopping_time'].agg([('평균쇼핑시간','mean')]).reset_index()\n",
    "features.append(df)"
   ],
   "execution_count": 0,
   "outputs": []
  },
  {
   "cell_type": "code",
   "metadata": {
    "id": "ibLsucx8vUzH",
    "colab_type": "code",
    "colab": {}
   },
   "source": [
    "df = df_all.groupby(['custid','part_nm'])['tot_amt'].agg([('tot_amt_part', 'sum')]).reset_index()\n",
    "df['part_nm'] = np.where(df.part_nm.str.contains('남성'), '남성', '여성')\n",
    "df=df.pivot_table(values='tot_amt_part', index=df.custid, columns='part_nm', aggfunc='first',fill_value=0).reset_index()\n",
    "df['남성파트구매비율'] = (df['남성'] / (df['남성'] + df['여성'])) * 100\n",
    "df = df.fillna(0)\n",
    "features.append(df.iloc[:,[0,-1]])"
   ],
   "execution_count": 0,
   "outputs": []
  },
  {
   "cell_type": "code",
   "metadata": {
    "id": "kG18lJFKvUzJ",
    "colab_type": "code",
    "colab": {}
   },
   "source": [
    "#지점별 구매총\n",
    "df = df_all.groupby(['custid','str_nm'])['tot_amt'].agg([('tot_amt_str', 'sum')]).reset_index()\n",
    "df =df.pivot_table(values='tot_amt_str', index=df.custid, columns='str_nm', aggfunc='first', fill_value=0).reset_index()\n",
    "features.append(df)"
   ],
   "execution_count": 0,
   "outputs": []
  },
  {
   "cell_type": "code",
   "metadata": {
    "id": "qpHohtPIvUzM",
    "colab_type": "code",
    "colab": {}
   },
   "source": [
    "#마지막거래후경과일\n",
    "from datetime import timedelta as dt\n",
    "df = df_all.groupby(['custid'])['sales_date'].agg([('sales_date', 'max')]).reset_index()\n",
    "df['마지막거래후경과일'] = (pd.to_datetime(df.sales_date) - pd.to_datetime(df_all.sales_date.min())).dt.days\n",
    "features.append(df.iloc[:,[0,-1]])"
   ],
   "execution_count": 0,
   "outputs": []
  },
  {
   "cell_type": "code",
   "metadata": {
    "id": "LNBba8FdvUzO",
    "colab_type": "code",
    "colab": {}
   },
   "source": [
    "#일평균구매액\n",
    "test2 = df_all.groupby(['sales_date','custid'])['tot_amt'].agg([('day_amt', 'sum')]).reset_index()\n",
    "test2 = test2.groupby(['custid'])['day_amt'].agg([('일평균구매액', 'mean')]).reset_index()\n",
    "features.append(test2)"
   ],
   "execution_count": 0,
   "outputs": []
  },
  {
   "cell_type": "code",
   "metadata": {
    "id": "DhpCvSOBvUzS",
    "colab_type": "code",
    "colab": {}
   },
   "source": [
    "#일평균구매건수\n",
    "df = df_all.groupby(['sales_date','custid'])['custid'].agg([('day_visit', 'count')]).reset_index()\n",
    "f = df.groupby(['custid'])['day_visit'].agg([('일평균구매건수', 'mean')]).reset_index()\n",
    "features.append(f)"
   ],
   "execution_count": 0,
   "outputs": []
  },
  {
   "cell_type": "code",
   "metadata": {
    "id": "dKHzoFetvUzV",
    "colab_type": "code",
    "colab": {}
   },
   "source": [
    "f = df_all.groupby('custid').agg({\n",
    "    'tot_amt': [('최대구매액', 'max')],\n",
    "    'dis_amt': [('dis_sum', 'sum'),('dis_mean', 'mean')],\n",
    "    'inst_mon': [('최대할부개월수', 'max')],\n",
    "    'brd_nm': [('구매상품다양성비', lambda x: x.nunique()/x.count())],\n",
    "    'import_flg': [('수입상품_구매수', 'sum')],\n",
    "    'sales_date': [('내점비율',lambda x: x.str[:10].nunique()/x.count())],\n",
    "    'sales_time': [('저녁시간구입비율', lambda x: np.count_nonzero(x.astype(np.int)[(x>1800)|(x<900)])/ x.count())],\n",
    "    }).reset_index()\n",
    "features.append(f)"
   ],
   "execution_count": 0,
   "outputs": []
  },
  {
   "cell_type": "markdown",
   "metadata": {
    "id": "JN-0ont5vUza",
    "colab_type": "text"
   },
   "source": [
    "# Data Split"
   ]
  },
  {
   "cell_type": "code",
   "metadata": {
    "id": "XKuqT2h_vUzc",
    "colab_type": "code",
    "outputId": "75ffb40c-49b3-458f-f0a6-37726079e310",
    "executionInfo": {
     "status": "ok",
     "timestamp": 1558431910613,
     "user_tz": -540,
     "elapsed": 376861,
     "user": {
      "displayName": "배유나",
      "photoUrl": "",
      "userId": "02561789843125764342"
     }
    },
    "colab": {
     "base_uri": "https://localhost:8080/",
     "height": 143
    }
   },
   "source": [
    "X_train3 = pd.DataFrame({'custid': df_train.custid.unique()})\n",
    "for f in features :\n",
    "    X_train3 = pd.merge(X_train3, f, how='left',on='custid')\n",
    "display(X_train3.shape)\n",
    "\n",
    "X_test3 = pd.DataFrame({'custid': df_test.custid.unique()})\n",
    "for f in features :\n",
    "    X_test3 = pd.merge(X_test3, f, how='left',on='custid')\n",
    "display(X_test3.shape)"
   ],
   "execution_count": 0,
   "outputs": [
    {
     "output_type": "stream",
     "text": [
      "/usr/local/lib/python3.6/dist-packages/pandas/core/reshape/merge.py:522: UserWarning: merging between different levels can give an unintended result (1 levels on the left, 2 on the right)\n",
      "  warnings.warn(msg, UserWarning)\n",
      "/usr/local/lib/python3.6/dist-packages/pandas/core/generic.py:3812: PerformanceWarning: dropping on a non-lexsorted multi-index without a level parameter may impact performance.\n",
      "  new_axis = axis.drop(labels, errors=errors)\n"
     ],
     "name": "stderr"
    },
    {
     "output_type": "display_data",
     "data": {
      "text/plain": [
       "(30000, 142)"
      ]
     },
     "metadata": {
      "tags": []
     }
    },
    {
     "output_type": "display_data",
     "data": {
      "text/plain": [
       "(19995, 142)"
      ]
     },
     "metadata": {
      "tags": []
     }
    }
   ]
  },
  {
   "cell_type": "markdown",
   "metadata": {
    "id": "Ae0LrIVVvUzk",
    "colab_type": "text"
   },
   "source": [
    "# Make Fearures more"
   ]
  },
  {
   "cell_type": "code",
   "metadata": {
    "id": "reNFg-_ZvUzk",
    "colab_type": "code",
    "colab": {}
   },
   "source": [
    "#평균할인율 산출\n",
    "X_train3[\"평균할인율\"] = (X_train3[\"평균할인금액\"] / X_train3[\"평균구매가격\"])*100\n",
    "X_test3[\"평균할인율\"] = (X_test3[\"평균할인금액\"] / X_test3[\"평균구매가격\"])*100\n",
    "\n",
    "#주말 요일별 구매비율\n",
    "X_train3[\"토_비율\"] = (X_train3[\"토_구매건수\"] / X_train3[\"구매건수\"])*100\n",
    "X_train3[\"일_비율\"] = (X_train3[\"일_구매건수\"] / X_train3[\"구매건수\"])*100\n",
    "X_test3[\"토_비율\"] = (X_test3[\"토_구매건수\"] / X_test3[\"구매건수\"])*100\n",
    "X_test3[\"일_비율\"] = (X_test3[\"일_구매건수\"] / X_test3[\"구매건수\"])*100"
   ],
   "execution_count": 0,
   "outputs": []
  },
  {
   "cell_type": "code",
   "metadata": {
    "id": "0Jh3A2gQvUzn",
    "colab_type": "code",
    "colab": {}
   },
   "source": [
    "# 동일 구입파트 합쳐줌\n",
    "X_train3['가정용품R']=X_train3['가정용품']+X_train3['가정용품파트']\n",
    "X_train3['공산품R']=X_train3['공산품']+X_train3['공산품파트']\n",
    "X_train3['로얄부띠끄R']=X_train3['로얄부띠끄']+X_train3['로얄부틱']\n",
    "X_train3['생식품R']=X_train3['생식품']+X_train3['생식품파트']\n",
    "X_train3['스포츠캐주얼R']=X_train3['스포츠캐주얼']+X_train3['스포츠캐쥬얼']\n",
    "X_train3['여성캐주얼R']=X_train3['여성캐주얼']+X_train3['여성캐쥬얼']\n",
    "X_train3['잡화R']=X_train3['잡화']+X_train3['잡화파트']\n",
    "\n",
    "X_test3['가정용품R']=X_test3['가정용품']+X_test3['가정용품파트']\n",
    "X_test3['공산품R']=X_test3['공산품']+X_test3['공산품파트']\n",
    "X_test3['로얄부띠끄R']=X_test3['로얄부띠끄']+X_test3['로얄부틱']\n",
    "X_test3['생식품R']=X_test3['생식품']+X_test3['생식품파트']\n",
    "X_test3['스포츠캐주얼R']=X_test3['스포츠캐주얼']+X_test3['스포츠캐쥬얼']\n",
    "X_test3['여성캐주얼R']=X_test3['여성캐주얼']+X_test3['여성캐쥬얼']\n",
    "X_test3['잡화R']=X_test3['잡화']+X_test3['잡화파트']"
   ],
   "execution_count": 0,
   "outputs": []
  },
  {
   "cell_type": "code",
   "metadata": {
    "id": "VXroyrxrvUzq",
    "colab_type": "code",
    "colab": {}
   },
   "source": [
    "# 각성별 구입건수가 많은 파트 묶어주기\n",
    "X_train3['남성파트']=X_train3['가정용품R']+X_train3['공산품R']+X_train3['생식품R']+X_train3['케주얼,구두,아동']\n",
    "X_test3['남성파트']=X_test3['가정용품R']+X_test3['공산품R']+X_test3['생식품R']+X_test3['케주얼,구두,아동']\n",
    "X_train3['여성파트']=X_train3['여성캐주얼']+X_train3['영캐릭터']+X_train3['영플라자']+X_train3['패션잡화'] \n",
    "X_test3['여성파트']=X_test3['여성캐주얼']+X_test3['영캐릭터']+X_test3['영플라자']+X_test3['패션잡화'] "
   ],
   "execution_count": 0,
   "outputs": []
  },
  {
   "cell_type": "code",
   "metadata": {
    "id": "bdU09lqgvUzt",
    "colab_type": "code",
    "colab": {}
   },
   "source": [
    "# 1206 새로운 변수 리코드하고 추가하기\n",
    "def f1(x):\n",
    "    if  x <= 2000000 :\n",
    "        return('1')\n",
    "    elif 2000001 <= x < 5000000 :\n",
    "        return('2')\n",
    "    else :\n",
    "        return('3')  \n",
    "\n",
    "X_train3['총구매액B'] = X_train3.총구매액.apply(f1)\n",
    "X_train3['총구매액B'] = X_train3['총구매액B'].astype(int)"
   ],
   "execution_count": 0,
   "outputs": []
  },
  {
   "cell_type": "code",
   "metadata": {
    "id": "IJ2oo2rvvUzw",
    "colab_type": "code",
    "colab": {}
   },
   "source": [
    "def f1(x):\n",
    "    if  x <= 2000000 :\n",
    "        return('1')\n",
    "    elif 2000001 <= x < 5000000 :\n",
    "        return('2')\n",
    "    else :\n",
    "        return('3')  \n",
    "\n",
    "X_test3['총구매액B'] = X_test3.총구매액.apply(f1)\n",
    "X_test3['총구매액B'] = X_test3['총구매액B'].astype(int)"
   ],
   "execution_count": 0,
   "outputs": []
  },
  {
   "cell_type": "code",
   "metadata": {
    "id": "0A3bmNWyvUzz",
    "colab_type": "code",
    "colab": {}
   },
   "source": [
    "def f1(x):\n",
    "    if  x <= 1500 :\n",
    "        return('4')\n",
    "    elif 1501 <= x < 1600 :\n",
    "        return('3')\n",
    "    elif 1601 <= x < 1700 :\n",
    "        return('2')\n",
    "    else :\n",
    "        return('1')  \n",
    "\n",
    "X_train3['평균구매시간B'] = X_train3.평균구매시간.apply(f1)\n",
    "X_train3['평균구매시간B'] = X_train3['평균구매시간B'].astype(int)"
   ],
   "execution_count": 0,
   "outputs": []
  },
  {
   "cell_type": "code",
   "metadata": {
    "id": "30o0RxmBvUz1",
    "colab_type": "code",
    "colab": {}
   },
   "source": [
    "def f1(x):\n",
    "    if  x <= 1500 :\n",
    "        return('4')\n",
    "    elif 1501 <= x < 1600 :\n",
    "        return('3')\n",
    "    elif 1601 <= x < 1700 :\n",
    "        return('2')\n",
    "    else :\n",
    "        return('1')  \n",
    "\n",
    "X_test3['평균구매시간B'] = X_test3.평균구매시간.apply(f1)\n",
    "X_test3['평균구매시간B'] = X_test3['평균구매시간B'].astype(int)"
   ],
   "execution_count": 0,
   "outputs": []
  },
  {
   "cell_type": "code",
   "metadata": {
    "id": "LwM3hSZivUz9",
    "colab_type": "code",
    "colab": {}
   },
   "source": [
    "def f1(x):\n",
    "    if  x <= 2 :\n",
    "        return('1')\n",
    "    elif 2.0001 <= x < 3 :\n",
    "        return('2')\n",
    "    elif 3.0001 <= x < 4 :\n",
    "        return('3')\n",
    "    elif 4.0001 <= x < 5 :\n",
    "        return('4')\n",
    "    else :\n",
    "        return('5')  \n",
    "\n",
    "X_train3['평균할인율B'] = X_train3.평균할인율.apply(f1)\n",
    "X_train3['평균할인율B'] = X_train3['평균할인율B'].astype(int)"
   ],
   "execution_count": 0,
   "outputs": []
  },
  {
   "cell_type": "code",
   "metadata": {
    "id": "ioVZNyuhvU0C",
    "colab_type": "code",
    "colab": {}
   },
   "source": [
    "def f1(x):\n",
    "    if  x <= 2 :\n",
    "        return('1')\n",
    "    elif 2.0001 <= x < 3 :\n",
    "        return('2')\n",
    "    elif 3.0001 <= x < 4 :\n",
    "        return('3')\n",
    "    elif 4.0001 <= x < 5 :\n",
    "        return('4')\n",
    "    else :\n",
    "        return('5')  \n",
    "\n",
    "X_test3['평균할인율B'] = X_test3.평균할인율.apply(f1)\n",
    "X_test3['평균할인율B'] = X_test3['평균할인율B'].astype(int)"
   ],
   "execution_count": 0,
   "outputs": []
  },
  {
   "cell_type": "code",
   "metadata": {
    "id": "vtJRaGIcvU0F",
    "colab_type": "code",
    "colab": {}
   },
   "source": [
    "def f1(x):\n",
    "    if  x < 1 :\n",
    "        return('1')\n",
    "    elif 1 <= x <= 10 :\n",
    "        return('2')\n",
    "    elif 11 <= x <= 20 :\n",
    "        return('3')\n",
    "    else :\n",
    "        return('4')  \n",
    "\n",
    "X_train3['남성파트B'] = X_train3.남성파트.apply(f1)\n",
    "X_train3['남성파트B'] = X_train3['남성파트B'].astype(int)"
   ],
   "execution_count": 0,
   "outputs": []
  },
  {
   "cell_type": "code",
   "metadata": {
    "id": "VtT2zIAjvU0I",
    "colab_type": "code",
    "colab": {}
   },
   "source": [
    "def f1(x):\n",
    "    if  x < 1 :\n",
    "        return('1')\n",
    "    elif 1 <= x <= 10 :\n",
    "        return('2')\n",
    "    elif 11 <= x <= 20 :\n",
    "        return('3')\n",
    "    else :\n",
    "        return('4')  \n",
    "\n",
    "X_test3['남성파트B'] = X_test3.남성파트.apply(f1)\n",
    "X_test3['남성파트B'] = X_test3['남성파트B'].astype(int)"
   ],
   "execution_count": 0,
   "outputs": []
  },
  {
   "cell_type": "code",
   "metadata": {
    "id": "knIxIKE9vU0P",
    "colab_type": "code",
    "colab": {}
   },
   "source": [
    "def f1(x):\n",
    "    if  x < 1 :\n",
    "        return('3')\n",
    "    elif 1 <= x <= 4 :\n",
    "        return('2')\n",
    "    else :\n",
    "        return('1')  \n",
    "\n",
    "X_train3['여성파트B'] = X_train3.여성파트.apply(f1)\n",
    "X_train3['여성파트B'] = X_train3['여성파트B'].astype(int)"
   ],
   "execution_count": 0,
   "outputs": []
  },
  {
   "cell_type": "code",
   "metadata": {
    "id": "XncRU5HavU0R",
    "colab_type": "code",
    "colab": {}
   },
   "source": [
    "def f1(x):\n",
    "    if  x < 1 :\n",
    "        return('3')\n",
    "    elif 1 <= x <= 4 :\n",
    "        return('2')\n",
    "    else :\n",
    "        return('1')  \n",
    "\n",
    "X_test3['여성파트B'] = X_test3.여성파트.apply(f1)\n",
    "X_test3['여성파트B'] = X_test3['여성파트B'].astype(int)"
   ],
   "execution_count": 0,
   "outputs": []
  },
  {
   "cell_type": "code",
   "metadata": {
    "id": "Lblp7g2DvU0T",
    "colab_type": "code",
    "colab": {}
   },
   "source": [
    "X_train3['구매_시간'] = X_train3['총구매액B'] * X_train3['평균구매시간B']\n",
    "X_train3['구매_할인'] = X_train3['총구매액B'] * X_train3['평균할인율B']\n",
    "X_train3['할인_시간'] = X_train3['평균구매시간B'] * X_train3['평균할인율B']\n",
    "X_train3['구매_할인_시간'] = X_train3['평균구매시간B'] * X_train3['평균할인율B']* X_train3['총구매액B']\n",
    "X_train3['남성_여성'] = X_train3['남성파트B'] * X_train3['여성파트B']\n",
    "X_train3['구매_남성'] = X_train3['총구매액B'] * X_train3['남성파트B']\n",
    "X_train3['구매_여성'] = X_train3['총구매액B'] * X_train3['여성파트B']\n",
    "X_train3['할인_남성'] = X_train3['평균할인율B'] * X_train3['남성파트B']\n",
    "X_train3['할인_여성'] = X_train3['평균할인율B'] * X_train3['여성파트B']\n",
    "X_train3['시간_남성'] = X_train3['평균구매시간B'] * X_train3['남성파트B']\n",
    "X_train3['시간_여성'] = X_train3['평균구매시간B'] * X_train3['여성파트B']\n",
    "\n",
    "X_test3['구매_시간'] = X_test3['총구매액B'] * X_test3['평균구매시간B']\n",
    "X_test3['구매_할인'] = X_test3['총구매액B'] * X_test3['평균할인율B']\n",
    "X_test3['할인_시간'] = X_test3['평균구매시간B'] * X_test3['평균할인율B']\n",
    "X_test3['구매_할인_시간'] = X_test3['평균구매시간B'] * X_test3['평균할인율B']* X_test3['총구매액B']\n",
    "X_test3['남성_여성'] = X_test3['남성파트B'] * X_test3['여성파트B']\n",
    "X_test3['구매_남성'] = X_test3['총구매액B'] * X_test3['남성파트B']\n",
    "X_test3['구매_여성'] = X_test3['총구매액B'] * X_test3['여성파트B']\n",
    "X_test3['할인_남성'] = X_test3['평균할인율B'] * X_test3['남성파트B']\n",
    "X_test3['할인_여성'] = X_test3['평균할인율B'] * X_test3['여성파트B']\n",
    "X_test3['시간_남성'] = X_test3['평균구매시간B'] * X_test3['남성파트B']\n",
    "X_test3['시간_여성'] = X_test3['평균구매시간B'] * X_test3['여성파트B']"
   ],
   "execution_count": 0,
   "outputs": []
  },
  {
   "cell_type": "code",
   "metadata": {
    "id": "G83TAVt2vU0X",
    "colab_type": "code",
    "colab": {}
   },
   "source": [
    "# 치우친 데이터 로그 치환하기\n",
    "f = X_train3.총구매액.where(X_train3.총구매액>=0, other=0)\n",
    "f = np.log(f+1)\n",
    "X_train3.총구매액 = f\n",
    "\n",
    "f = X_test3.총구매액.where(X_test3.총구매액>=0, other=0)\n",
    "f = np.log(f+1)\n",
    "X_test3.총구매액 = f\n",
    "\n",
    "f = X_train3.평균구매가격.where(X_train3.평균구매가격>=0, other=0)\n",
    "f = np.log(f+1)\n",
    "X_train3.평균구매가격 = f\n",
    "\n",
    "f = X_test3.평균구매가격.where(X_test3.평균구매가격>=0, other=0)\n",
    "f = np.log(f+1)\n",
    "X_test3.평균구매가격 = f\n",
    "\n",
    "f = X_train3.구매건수.where(X_train3.구매건수>=0, other=0)\n",
    "f = np.log(f+1)\n",
    "X_train3.구매건수 = f\n",
    "\n",
    "f = X_test3.구매건수.where(X_test3.구매건수>=0, other=0)\n",
    "f = np.log(f+1)\n",
    "X_test3.구매건수 = f\n",
    "\n",
    "f = X_train3.내점일수.where(X_train3.내점일수>=0, other=0)\n",
    "f = np.log(f+1)\n",
    "X_train3.내점일수 = f\n",
    "\n",
    "f = X_test3.내점일수.where(X_test3.내점일수>=0, other=0)\n",
    "f = np.log(f+1)\n",
    "X_test3.내점일수 = f\n",
    "\n",
    "\n",
    "f = X_train3.실제구매금액평균.where(X_train3.실제구매금액평균>=0, other=0)\n",
    "f = np.log(f+1)\n",
    "X_train3.실제구매금액평균 = f\n",
    "\n",
    "f = X_test3.실제구매금액평균.where(X_test3.실제구매금액평균>=0, other=0)\n",
    "f = np.log(f+1)\n",
    "X_test3.실제구매금액평균 = f\n",
    "\n",
    "f = X_train3.실제구매금액.where(X_train3.실제구매금액>=0, other=0)\n",
    "f = np.log(f+1)\n",
    "X_train3.실제구매금액 = f\n",
    "\n",
    "f = X_test3.실제구매금액.where(X_test3.실제구매금액>=0, other=0)\n",
    "f = np.log(f+1)\n",
    "X_test3.실제구매금액 = f"
   ],
   "execution_count": 0,
   "outputs": []
  },
  {
   "cell_type": "code",
   "metadata": {
    "id": "7Fp1_X74vU0a",
    "colab_type": "code",
    "colab": {}
   },
   "source": [
    "IDtest = X_test3.custid;\n",
    "X_train3.drop(['custid'], axis=1, inplace=True)\n",
    "X_test3.drop(['custid'], axis=1, inplace=True)"
   ],
   "execution_count": 0,
   "outputs": []
  },
  {
   "cell_type": "code",
   "metadata": {
    "id": "O0qm6RvdvU0e",
    "colab_type": "code",
    "outputId": "7e0a8962-3614-44ee-9d9e-d98e04e48b84",
    "executionInfo": {
     "status": "ok",
     "timestamp": 1558431911680,
     "user_tz": -540,
     "elapsed": 359144,
     "user": {
      "displayName": "배유나",
      "photoUrl": "",
      "userId": "02561789843125764342"
     }
    },
    "colab": {
     "base_uri": "https://localhost:8080/",
     "height": 35
    }
   },
   "source": [
    "print( X_train3.shape , X_test3.shape)"
   ],
   "execution_count": 0,
   "outputs": [
    {
     "output_type": "stream",
     "text": [
      "(30000, 169) (19995, 169)\n"
     ],
     "name": "stdout"
    }
   ]
  },
  {
   "cell_type": "code",
   "metadata": {
    "id": "-JbOUx2XvU0k",
    "colab_type": "code",
    "outputId": "a18970eb-a3ca-41ea-edcb-1570a27c418e",
    "executionInfo": {
     "status": "ok",
     "timestamp": 1558431911681,
     "user_tz": -540,
     "elapsed": 358443,
     "user": {
      "displayName": "배유나",
      "photoUrl": "",
      "userId": "02561789843125764342"
     }
    },
    "colab": {
     "base_uri": "https://localhost:8080/",
     "height": 52
    }
   },
   "source": [
    "print(X_train.shape)\n",
    "print(X_test.shape)"
   ],
   "execution_count": 0,
   "outputs": [
    {
     "output_type": "stream",
     "text": [
      "(30000, 2326)\n",
      "(19995, 2326)\n"
     ],
     "name": "stdout"
    }
   ]
  },
  {
   "cell_type": "markdown",
   "metadata": {
    "id": "DBS05tsH-Ndg",
    "colab_type": "text"
   },
   "source": []
  },
  {
   "cell_type": "code",
   "metadata": {
    "id": "XcCtZQLG-NGS",
    "colab_type": "code",
    "colab": {}
   },
   "source": [],
   "execution_count": 0,
   "outputs": []
  },
  {
   "cell_type": "code",
   "metadata": {
    "id": "DXQZCPTO-MtY",
    "colab_type": "code",
    "colab": {}
   },
   "source": [],
   "execution_count": 0,
   "outputs": []
  },
  {
   "cell_type": "code",
   "metadata": {
    "id": "-J8f3qzU-Lam",
    "colab_type": "code",
    "colab": {}
   },
   "source": [],
   "execution_count": 0,
   "outputs": []
  },
  {
   "cell_type": "markdown",
   "metadata": {
    "id": "dAEN0NTjwvZN",
    "colab_type": "text"
   },
   "source": [
    "# 데이터 머징\n"
   ]
  },
  {
   "cell_type": "code",
   "metadata": {
    "id": "N0-nUjMbwtc9",
    "colab_type": "code",
    "outputId": "05d81a9c-000d-403e-e565-a93b10832ce9",
    "executionInfo": {
     "status": "ok",
     "timestamp": 1558432002155,
     "user_tz": -540,
     "elapsed": 2467,
     "user": {
      "displayName": "배유나",
      "photoUrl": "",
      "userId": "02561789843125764342"
     }
    },
    "colab": {
     "base_uri": "https://localhost:8080/",
     "height": 52
    }
   },
   "source": [
    "X_train_all=pd.concat([X_train,X_train3],axis=1) \n",
    "X_test_all=pd.concat([X_test,X_test3],axis=1)\n",
    "\n",
    "print(X_train_all.shape) \n",
    "print(X_test_all.shape)"
   ],
   "execution_count": 0,
   "outputs": [
    {
     "output_type": "stream",
     "text": [
      "(30000, 2495)\n",
      "(19995, 2495)\n"
     ],
     "name": "stdout"
    }
   ]
  },
  {
   "cell_type": "code",
   "metadata": {
    "id": "HYlacSiYwoOw",
    "colab_type": "code",
    "colab": {}
   },
   "source": [
    "X_train_all.columns = list(range(0,2495 )) \n",
    "X_test_all.columns = list(range(0,2495 ))"
   ],
   "execution_count": 0,
   "outputs": []
  },
  {
   "cell_type": "code",
   "metadata": {
    "id": "CgYOWBTRvU00",
    "colab_type": "code",
    "outputId": "ca3ae2fa-2647-4680-8aa0-0484c16a6644",
    "executionInfo": {
     "status": "error",
     "timestamp": 1558432045115,
     "user_tz": -540,
     "elapsed": 29500,
     "user": {
      "displayName": "배유나",
      "photoUrl": "",
      "userId": "02561789843125764342"
     }
    },
    "colab": {
     "base_uri": "https://localhost:8080/",
     "height": 2465
    }
   },
   "source": [
    "X_train_all.to_csv('X_train_all.csv')\n",
    "X_test_all.to_csv('X_test_all.csv')"
   ],
   "execution_count": 0,
   "outputs": [
    {
     "output_type": "error",
     "ename": "SystemError",
     "evalue": "ignored",
     "traceback": [
      "\u001B[0;31m---------------------------------------------------------------------------\u001B[0m",
      "\u001B[0;31mKeyboardInterrupt\u001B[0m                         Traceback (most recent call last)",
      "\u001B[0;31mKeyboardInterrupt\u001B[0m: ",
      "\nThe above exception was the direct cause of the following exception:\n",
      "\u001B[0;31mSystemError\u001B[0m                               Traceback (most recent call last)",
      "\u001B[0;31mSystemError\u001B[0m: <built-in method item of numpy.ndarray object at 0x7f06e7c176c0> returned a result with an error set",
      "\nThe above exception was the direct cause of the following exception:\n",
      "\u001B[0;31mSystemError\u001B[0m                               Traceback (most recent call last)",
      "\u001B[0;31mSystemError\u001B[0m: <built-in method item of numpy.ndarray object at 0x7f06e7c176c0> returned a result with an error set",
      "\nThe above exception was the direct cause of the following exception:\n",
      "\u001B[0;31mSystemError\u001B[0m                               Traceback (most recent call last)",
      "\u001B[0;31mSystemError\u001B[0m: <built-in method item of numpy.ndarray object at 0x7f06e7c176c0> returned a result with an error set",
      "\nThe above exception was the direct cause of the following exception:\n",
      "\u001B[0;31mSystemError\u001B[0m                               Traceback (most recent call last)",
      "\u001B[0;31mSystemError\u001B[0m: <built-in method item of numpy.ndarray object at 0x7f06e7c176c0> returned a result with an error set",
      "\nThe above exception was the direct cause of the following exception:\n",
      "\u001B[0;31mSystemError\u001B[0m                               Traceback (most recent call last)",
      "\u001B[0;31mSystemError\u001B[0m: <built-in method item of numpy.ndarray object at 0x7f06e7c176c0> returned a result with an error set",
      "\nThe above exception was the direct cause of the following exception:\n",
      "\u001B[0;31mSystemError\u001B[0m                               Traceback (most recent call last)",
      "\u001B[0;31mSystemError\u001B[0m: <built-in method item of numpy.ndarray object at 0x7f06e7c176c0> returned a result with an error set",
      "\nThe above exception was the direct cause of the following exception:\n",
      "\u001B[0;31mSystemError\u001B[0m                               Traceback (most recent call last)",
      "\u001B[0;31mSystemError\u001B[0m: <built-in method item of numpy.ndarray object at 0x7f06e7c176c0> returned a result with an error set",
      "\nThe above exception was the direct cause of the following exception:\n",
      "\u001B[0;31mSystemError\u001B[0m                               Traceback (most recent call last)",
      "\u001B[0;31mSystemError\u001B[0m: <built-in method item of numpy.ndarray object at 0x7f06e7c176c0> returned a result with an error set",
      "\nThe above exception was the direct cause of the following exception:\n",
      "\u001B[0;31mSystemError\u001B[0m                               Traceback (most recent call last)",
      "\u001B[0;31mSystemError\u001B[0m: <built-in method item of numpy.ndarray object at 0x7f06e7c176c0> returned a result with an error set",
      "\nThe above exception was the direct cause of the following exception:\n",
      "\u001B[0;31mSystemError\u001B[0m                               Traceback (most recent call last)",
      "\u001B[0;31mSystemError\u001B[0m: <built-in method item of numpy.ndarray object at 0x7f06e7c176c0> returned a result with an error set",
      "\nThe above exception was the direct cause of the following exception:\n",
      "\u001B[0;31mSystemError\u001B[0m                               Traceback (most recent call last)",
      "\u001B[0;31mSystemError\u001B[0m: <built-in method item of numpy.ndarray object at 0x7f06e7c176c0> returned a result with an error set",
      "\nThe above exception was the direct cause of the following exception:\n",
      "\u001B[0;31mSystemError\u001B[0m                               Traceback (most recent call last)",
      "\u001B[0;31mSystemError\u001B[0m: <built-in method item of numpy.ndarray object at 0x7f06e7c176c0> returned a result with an error set",
      "\nThe above exception was the direct cause of the following exception:\n",
      "\u001B[1;30;43m... (31개의 스택 항목을 건너뛰었습니다. sys.last_value 및 sys.last_traceback을(를) 사용하여 자세히 검토하세요.) ...\u001B[0m",
      "\u001B[0;31mSystemError\u001B[0m: <built-in method item of numpy.ndarray object at 0x7f06e7c176c0> returned a result with an error set",
      "\nThe above exception was the direct cause of the following exception:\n",
      "\u001B[0;31mSystemError\u001B[0m                               Traceback (most recent call last)",
      "\u001B[0;31mSystemError\u001B[0m: <built-in method item of numpy.ndarray object at 0x7f06e7c176c0> returned a result with an error set",
      "\nThe above exception was the direct cause of the following exception:\n",
      "\u001B[0;31mSystemError\u001B[0m                               Traceback (most recent call last)",
      "\u001B[0;31mSystemError\u001B[0m: <built-in method item of numpy.ndarray object at 0x7f06e7c176c0> returned a result with an error set",
      "\nThe above exception was the direct cause of the following exception:\n",
      "\u001B[0;31mSystemError\u001B[0m                               Traceback (most recent call last)",
      "\u001B[0;31mSystemError\u001B[0m: <built-in method item of numpy.ndarray object at 0x7f06e7c176c0> returned a result with an error set",
      "\nThe above exception was the direct cause of the following exception:\n",
      "\u001B[0;31mSystemError\u001B[0m                               Traceback (most recent call last)",
      "\u001B[0;31mSystemError\u001B[0m: <built-in method item of numpy.ndarray object at 0x7f06e7c176c0> returned a result with an error set",
      "\nThe above exception was the direct cause of the following exception:\n",
      "\u001B[0;31mSystemError\u001B[0m                               Traceback (most recent call last)",
      "\u001B[0;31mSystemError\u001B[0m: <built-in method item of numpy.ndarray object at 0x7f06e7c176c0> returned a result with an error set",
      "\nThe above exception was the direct cause of the following exception:\n",
      "\u001B[0;31mSystemError\u001B[0m                               Traceback (most recent call last)",
      "\u001B[0;31mSystemError\u001B[0m: <built-in method item of numpy.ndarray object at 0x7f06e7c176c0> returned a result with an error set",
      "\nThe above exception was the direct cause of the following exception:\n",
      "\u001B[0;31mSystemError\u001B[0m                               Traceback (most recent call last)",
      "\u001B[0;31mSystemError\u001B[0m: <built-in method item of numpy.ndarray object at 0x7f06e7c176c0> returned a result with an error set",
      "\nThe above exception was the direct cause of the following exception:\n",
      "\u001B[0;31mSystemError\u001B[0m                               Traceback (most recent call last)",
      "\u001B[0;31mSystemError\u001B[0m: <built-in method item of numpy.ndarray object at 0x7f06e7c176c0> returned a result with an error set",
      "\nThe above exception was the direct cause of the following exception:\n",
      "\u001B[0;31mSystemError\u001B[0m                               Traceback (most recent call last)",
      "\u001B[0;31mSystemError\u001B[0m: <built-in method item of numpy.ndarray object at 0x7f06e7c176c0> returned a result with an error set",
      "\nThe above exception was the direct cause of the following exception:\n",
      "\u001B[0;31mSystemError\u001B[0m                               Traceback (most recent call last)",
      "\u001B[0;31mSystemError\u001B[0m: <built-in method item of numpy.ndarray object at 0x7f06e7c176c0> returned a result with an error set",
      "\nThe above exception was the direct cause of the following exception:\n",
      "\u001B[0;31mSystemError\u001B[0m                               Traceback (most recent call last)",
      "\u001B[0;32m<ipython-input-57-0b58f167105f>\u001B[0m in \u001B[0;36m<module>\u001B[0;34m()\u001B[0m\n\u001B[0;32m----> 1\u001B[0;31m \u001B[0mX_train_all\u001B[0m\u001B[0;34m.\u001B[0m\u001B[0mto_csv\u001B[0m\u001B[0;34m(\u001B[0m\u001B[0;34m'X_train_all.csv'\u001B[0m\u001B[0;34m)\u001B[0m\u001B[0;34m\u001B[0m\u001B[0;34m\u001B[0m\u001B[0m\n\u001B[0m\u001B[1;32m      2\u001B[0m \u001B[0mX_test_all\u001B[0m\u001B[0;34m.\u001B[0m\u001B[0mto_csv\u001B[0m\u001B[0;34m(\u001B[0m\u001B[0;34m'X_test_all.csv'\u001B[0m\u001B[0;34m)\u001B[0m\u001B[0;34m\u001B[0m\u001B[0;34m\u001B[0m\u001B[0m\n",
      "\u001B[0;32m/usr/local/lib/python3.6/dist-packages/pandas/core/generic.py\u001B[0m in \u001B[0;36mto_csv\u001B[0;34m(self, path_or_buf, sep, na_rep, float_format, columns, header, index, index_label, mode, encoding, compression, quoting, quotechar, line_terminator, chunksize, tupleize_cols, date_format, doublequote, escapechar, decimal)\u001B[0m\n\u001B[1;32m   3018\u001B[0m                                  \u001B[0mdoublequote\u001B[0m\u001B[0;34m=\u001B[0m\u001B[0mdoublequote\u001B[0m\u001B[0;34m,\u001B[0m\u001B[0;34m\u001B[0m\u001B[0;34m\u001B[0m\u001B[0m\n\u001B[1;32m   3019\u001B[0m                                  escapechar=escapechar, decimal=decimal)\n\u001B[0;32m-> 3020\u001B[0;31m         \u001B[0mformatter\u001B[0m\u001B[0;34m.\u001B[0m\u001B[0msave\u001B[0m\u001B[0;34m(\u001B[0m\u001B[0;34m)\u001B[0m\u001B[0;34m\u001B[0m\u001B[0;34m\u001B[0m\u001B[0m\n\u001B[0m\u001B[1;32m   3021\u001B[0m \u001B[0;34m\u001B[0m\u001B[0m\n\u001B[1;32m   3022\u001B[0m         \u001B[0;32mif\u001B[0m \u001B[0mpath_or_buf\u001B[0m \u001B[0;32mis\u001B[0m \u001B[0;32mNone\u001B[0m\u001B[0;34m:\u001B[0m\u001B[0;34m\u001B[0m\u001B[0;34m\u001B[0m\u001B[0m\n",
      "\u001B[0;32m/usr/local/lib/python3.6/dist-packages/pandas/io/formats/csvs.py\u001B[0m in \u001B[0;36msave\u001B[0;34m(self)\u001B[0m\n\u001B[1;32m    170\u001B[0m                 \u001B[0mself\u001B[0m\u001B[0;34m.\u001B[0m\u001B[0mwriter\u001B[0m \u001B[0;34m=\u001B[0m \u001B[0mUnicodeWriter\u001B[0m\u001B[0;34m(\u001B[0m\u001B[0mf\u001B[0m\u001B[0;34m,\u001B[0m \u001B[0;34m**\u001B[0m\u001B[0mwriter_kwargs\u001B[0m\u001B[0;34m)\u001B[0m\u001B[0;34m\u001B[0m\u001B[0;34m\u001B[0m\u001B[0m\n\u001B[1;32m    171\u001B[0m \u001B[0;34m\u001B[0m\u001B[0m\n\u001B[0;32m--> 172\u001B[0;31m             \u001B[0mself\u001B[0m\u001B[0;34m.\u001B[0m\u001B[0m_save\u001B[0m\u001B[0;34m(\u001B[0m\u001B[0;34m)\u001B[0m\u001B[0;34m\u001B[0m\u001B[0;34m\u001B[0m\u001B[0m\n\u001B[0m\u001B[1;32m    173\u001B[0m \u001B[0;34m\u001B[0m\u001B[0m\n\u001B[1;32m    174\u001B[0m         \u001B[0;32mfinally\u001B[0m\u001B[0;34m:\u001B[0m\u001B[0;34m\u001B[0m\u001B[0;34m\u001B[0m\u001B[0m\n",
      "\u001B[0;32m/usr/local/lib/python3.6/dist-packages/pandas/io/formats/csvs.py\u001B[0m in \u001B[0;36m_save\u001B[0;34m(self)\u001B[0m\n\u001B[1;32m    286\u001B[0m                 \u001B[0;32mbreak\u001B[0m\u001B[0;34m\u001B[0m\u001B[0;34m\u001B[0m\u001B[0m\n\u001B[1;32m    287\u001B[0m \u001B[0;34m\u001B[0m\u001B[0m\n\u001B[0;32m--> 288\u001B[0;31m             \u001B[0mself\u001B[0m\u001B[0;34m.\u001B[0m\u001B[0m_save_chunk\u001B[0m\u001B[0;34m(\u001B[0m\u001B[0mstart_i\u001B[0m\u001B[0;34m,\u001B[0m \u001B[0mend_i\u001B[0m\u001B[0;34m)\u001B[0m\u001B[0;34m\u001B[0m\u001B[0;34m\u001B[0m\u001B[0m\n\u001B[0m\u001B[1;32m    289\u001B[0m \u001B[0;34m\u001B[0m\u001B[0m\n\u001B[1;32m    290\u001B[0m     \u001B[0;32mdef\u001B[0m \u001B[0m_save_chunk\u001B[0m\u001B[0;34m(\u001B[0m\u001B[0mself\u001B[0m\u001B[0;34m,\u001B[0m \u001B[0mstart_i\u001B[0m\u001B[0;34m,\u001B[0m \u001B[0mend_i\u001B[0m\u001B[0;34m)\u001B[0m\u001B[0;34m:\u001B[0m\u001B[0;34m\u001B[0m\u001B[0;34m\u001B[0m\u001B[0m\n",
      "\u001B[0;32m/usr/local/lib/python3.6/dist-packages/pandas/io/formats/csvs.py\u001B[0m in \u001B[0;36m_save_chunk\u001B[0;34m(self, start_i, end_i)\u001B[0m\n\u001B[1;32m    300\u001B[0m                                   \u001B[0mdecimal\u001B[0m\u001B[0;34m=\u001B[0m\u001B[0mself\u001B[0m\u001B[0;34m.\u001B[0m\u001B[0mdecimal\u001B[0m\u001B[0;34m,\u001B[0m\u001B[0;34m\u001B[0m\u001B[0;34m\u001B[0m\u001B[0m\n\u001B[1;32m    301\u001B[0m                                   \u001B[0mdate_format\u001B[0m\u001B[0;34m=\u001B[0m\u001B[0mself\u001B[0m\u001B[0;34m.\u001B[0m\u001B[0mdate_format\u001B[0m\u001B[0;34m,\u001B[0m\u001B[0;34m\u001B[0m\u001B[0;34m\u001B[0m\u001B[0m\n\u001B[0;32m--> 302\u001B[0;31m                                   quoting=self.quoting)\n\u001B[0m\u001B[1;32m    303\u001B[0m \u001B[0;34m\u001B[0m\u001B[0m\n\u001B[1;32m    304\u001B[0m             \u001B[0;32mfor\u001B[0m \u001B[0mcol_loc\u001B[0m\u001B[0;34m,\u001B[0m \u001B[0mcol\u001B[0m \u001B[0;32min\u001B[0m \u001B[0mzip\u001B[0m\u001B[0;34m(\u001B[0m\u001B[0mb\u001B[0m\u001B[0;34m.\u001B[0m\u001B[0mmgr_locs\u001B[0m\u001B[0;34m,\u001B[0m \u001B[0md\u001B[0m\u001B[0;34m)\u001B[0m\u001B[0;34m:\u001B[0m\u001B[0;34m\u001B[0m\u001B[0;34m\u001B[0m\u001B[0m\n",
      "\u001B[0;32m/usr/local/lib/python3.6/dist-packages/pandas/core/internals/blocks.py\u001B[0m in \u001B[0;36mto_native_types\u001B[0;34m(self, slicer, na_rep, quoting, **kwargs)\u001B[0m\n\u001B[1;32m    739\u001B[0m \u001B[0;34m\u001B[0m\u001B[0m\n\u001B[1;32m    740\u001B[0m         \u001B[0;32mif\u001B[0m \u001B[0;32mnot\u001B[0m \u001B[0mself\u001B[0m\u001B[0;34m.\u001B[0m\u001B[0mis_object\u001B[0m \u001B[0;32mand\u001B[0m \u001B[0;32mnot\u001B[0m \u001B[0mquoting\u001B[0m\u001B[0;34m:\u001B[0m\u001B[0;34m\u001B[0m\u001B[0;34m\u001B[0m\u001B[0m\n\u001B[0;32m--> 741\u001B[0;31m             \u001B[0mvalues\u001B[0m \u001B[0;34m=\u001B[0m \u001B[0mvalues\u001B[0m\u001B[0;34m.\u001B[0m\u001B[0mastype\u001B[0m\u001B[0;34m(\u001B[0m\u001B[0mstr\u001B[0m\u001B[0;34m)\u001B[0m\u001B[0;34m\u001B[0m\u001B[0;34m\u001B[0m\u001B[0m\n\u001B[0m\u001B[1;32m    742\u001B[0m         \u001B[0;32melse\u001B[0m\u001B[0;34m:\u001B[0m\u001B[0;34m\u001B[0m\u001B[0;34m\u001B[0m\u001B[0m\n\u001B[1;32m    743\u001B[0m             \u001B[0mvalues\u001B[0m \u001B[0;34m=\u001B[0m \u001B[0mnp\u001B[0m\u001B[0;34m.\u001B[0m\u001B[0marray\u001B[0m\u001B[0;34m(\u001B[0m\u001B[0mvalues\u001B[0m\u001B[0;34m,\u001B[0m \u001B[0mdtype\u001B[0m\u001B[0;34m=\u001B[0m\u001B[0;34m'object'\u001B[0m\u001B[0;34m)\u001B[0m\u001B[0;34m\u001B[0m\u001B[0;34m\u001B[0m\u001B[0m\n",
      "\u001B[0;31mSystemError\u001B[0m: <built-in method item of numpy.ndarray object at 0x7f06e7c176c0> returned a result with an error set"
     ]
    }
   ]
  },
  {
   "cell_type": "markdown",
   "metadata": {
    "id": "6d4DE-dgvU03",
    "colab_type": "text"
   },
   "source": [
    "# 여기 까지 데이ㅓ 저장!!"
   ]
  },
  {
   "cell_type": "markdown",
   "metadata": {
    "id": "-Qe4Og0GyMnM",
    "colab_type": "text"
   },
   "source": [
    "# Build Models"
   ]
  },
  {
   "cell_type": "code",
   "metadata": {
    "id": "zIJewwi3x7tt",
    "colab_type": "code",
    "colab": {}
   },
   "source": [
    "from xgboost import XGBClassifier\n",
    "import sys, warnings\n",
    "if not sys.warnoptions: warnings.simplefilter(\"ignore\")\n",
    "    \n",
    "model = XGBClassifier(\n",
    "  learning_rate =0.1,\n",
    "  n_estimators=1000,\n",
    "  max_depth=5,\n",
    "  min_child_weight=1,\n",
    "  gamma=0,\n",
    "  subsample=0.8,\n",
    "  colsample_bytree=0.8,\n",
    "  objective= 'binary:logistic',\n",
    "  nthread=4,\n",
    "  scale_pos_weight=1,\n",
    "  seed=27,\n",
    "n_jobs=-1)"
   ],
   "execution_count": 0,
   "outputs": []
  },
  {
   "cell_type": "code",
   "metadata": {
    "id": "xOaaqEcBx7qn",
    "colab_type": "code",
    "colab": {}
   },
   "source": [
    "model.fit(X_train,y_train)\n",
    "\n",
    "pred = model.predict_proba(X_test)[:,1]\n",
    "fname = 'submissions_OHE_0521_ForEnsemble_XGB.csv'\n",
    "submissions = pd.concat([pd.Series(IDtest, name=\"custid\"), pd.Series(pred, name=\"gender\")] ,axis=1)\n",
    "submissions.to_csv(fname, index=False)\n",
    "print(\"'{}' is ready to submit.\" .format(fname))"
   ],
   "execution_count": 0,
   "outputs": []
  },
  {
   "cell_type": "code",
   "metadata": {
    "id": "Gw4nqOl-x7oZ",
    "colab_type": "code",
    "colab": {}
   },
   "source": [
    "from lightgbm import LGBMClassifier\n",
    "\n",
    "LightGBM = LGBMClassifier(\n",
    "        n_estimators=300,\n",
    "        num_leaves=15,\n",
    "        colsample_bytree=.8,\n",
    "        subsample=.8,\n",
    "        max_depth=7,\n",
    "        reg_alpha=.1,\n",
    "        reg_lambda=.1,\n",
    "        min_split_gain=.01,\n",
    "        n_job=-1)"
   ],
   "execution_count": 0,
   "outputs": []
  },
  {
   "cell_type": "code",
   "metadata": {
    "id": "Q5JOaFeax7mX",
    "colab_type": "code",
    "colab": {}
   },
   "source": [
    "LightGBM.fit(X_train,y_train)\n",
    "\n",
    "pred = LightGBM.predict_proba(X_test)[:,1]\n",
    "fname = 'submissions_OHE_0521_ForEnsemble_LightGBM.csv'\n",
    "submissions = pd.concat([pd.Series(IDtest, name=\"custid\"), pd.Series(pred, name=\"gender\")] ,axis=1)\n",
    "submissions.to_csv(fname, index=False)\n",
    "print(\"'{}' is ready to submit.\" .format(fname))"
   ],
   "execution_count": 0,
   "outputs": []
  },
  {
   "cell_type": "code",
   "metadata": {
    "id": "dRnzkWG3yB77",
    "colab_type": "code",
    "colab": {}
   },
   "source": [
    "from sklearn.ensemble import GradientBoostingClassifier\n",
    "import sys, warnings\n",
    "if not sys.warnoptions: warnings.simplefilter(\"ignore\")\n",
    "    \n",
    "    \n",
    "GBM = GradientBoostingClassifier(criterion='friedman_mse', init=None,\n",
    " learning_rate=0.1, loss='deviance', max_depth=3,\n",
    " max_features=None, max_leaf_nodes=None,\n",
    " min_impurity_split=1e-07, min_samples_leaf=1,\n",
    " min_samples_split=2, min_weight_fraction_leaf=0.0,\n",
    " n_estimators=100, presort='auto', random_state=None,\n",
    " subsample=1.0, verbose=0, warm_start=False)"
   ],
   "execution_count": 0,
   "outputs": []
  },
  {
   "cell_type": "code",
   "metadata": {
    "id": "x3vt9jIpyB5s",
    "colab_type": "code",
    "colab": {}
   },
   "source": [
    "GBM.fit(X_train,y_train)\n",
    "\n",
    "pred = GBM.predict_proba(X_test)[:,1]\n",
    "fname = 'submissions_OHE_0521_ForEnsemble_GBM.csv'\n",
    "submissions = pd.concat([pd.Series(IDtest, name=\"custid\"), pd.Series(pred, name=\"gender\")] ,axis=1)\n",
    "submissions.to_csv(fname, index=False)\n",
    "print(\"'{}' is ready to submit.\" .format(fname))"
   ],
   "execution_count": 0,
   "outputs": []
  },
  {
   "cell_type": "markdown",
   "metadata": {
    "id": "mWqQ72hayG8_",
    "colab_type": "text"
   },
   "source": [
    "# voting"
   ]
  },
  {
   "cell_type": "code",
   "metadata": {
    "id": "RFVInv5cyByP",
    "colab_type": "code",
    "outputId": "8bf67092-df5b-48bd-ad7b-56df0af4a445",
    "executionInfo": {
     "status": "ok",
     "timestamp": 1558434167751,
     "user_tz": -540,
     "elapsed": 1270087,
     "user": {
      "displayName": "배유나",
      "photoUrl": "",
      "userId": "02561789843125764342"
     }
    },
    "colab": {
     "base_uri": "https://localhost:8080/",
     "height": 3575
    }
   },
   "source": [
    "from sklearn.ensemble import VotingClassifier\n",
    "voting = VotingClassifier([('xgb',model), ('LightGBM', LightGBM),('GBM', GBM)], voting='soft')\n",
    "voting.fit(X_train, y_train)\n",
    "\n",
    "pred = voting.predict_proba(X_test)[:,1]\n",
    "fname = '/gdrive/My Drive/submissions_OHE_0521_ForEnsemble_voting(2).csv'\n",
    "submissions = pd.concat([pd.Series(IDtest, name=\"custid\"), pd.Series(pred, name=\"gender\")] ,axis=1)\n",
    "submissions.to_csv(fname, index=False)\n",
    "print(\"'{}' is ready to submit.\" .format(fname))"
   ],
   "execution_count": 0,
   "outputs": [
    {
     "output_type": "stream",
     "text": [
      "/usr/local/lib/python3.6/dist-packages/sklearn/tree/tree.py:283: DeprecationWarning: The min_impurity_split parameter is deprecated. Its default value will change from 1e-7 to 0 in version 0.23, and it will be removed in 0.25. Use the min_impurity_decrease parameter instead.\n",
      "  DeprecationWarning)\n",
      "/usr/local/lib/python3.6/dist-packages/sklearn/tree/tree.py:283: DeprecationWarning: The min_impurity_split parameter is deprecated. Its default value will change from 1e-7 to 0 in version 0.23, and it will be removed in 0.25. Use the min_impurity_decrease parameter instead.\n",
      "  DeprecationWarning)\n",
      "/usr/local/lib/python3.6/dist-packages/sklearn/tree/tree.py:283: DeprecationWarning: The min_impurity_split parameter is deprecated. Its default value will change from 1e-7 to 0 in version 0.23, and it will be removed in 0.25. Use the min_impurity_decrease parameter instead.\n",
      "  DeprecationWarning)\n",
      "/usr/local/lib/python3.6/dist-packages/sklearn/tree/tree.py:283: DeprecationWarning: The min_impurity_split parameter is deprecated. Its default value will change from 1e-7 to 0 in version 0.23, and it will be removed in 0.25. Use the min_impurity_decrease parameter instead.\n",
      "  DeprecationWarning)\n",
      "/usr/local/lib/python3.6/dist-packages/sklearn/tree/tree.py:283: DeprecationWarning: The min_impurity_split parameter is deprecated. Its default value will change from 1e-7 to 0 in version 0.23, and it will be removed in 0.25. Use the min_impurity_decrease parameter instead.\n",
      "  DeprecationWarning)\n",
      "/usr/local/lib/python3.6/dist-packages/sklearn/tree/tree.py:283: DeprecationWarning: The min_impurity_split parameter is deprecated. Its default value will change from 1e-7 to 0 in version 0.23, and it will be removed in 0.25. Use the min_impurity_decrease parameter instead.\n",
      "  DeprecationWarning)\n",
      "/usr/local/lib/python3.6/dist-packages/sklearn/tree/tree.py:283: DeprecationWarning: The min_impurity_split parameter is deprecated. Its default value will change from 1e-7 to 0 in version 0.23, and it will be removed in 0.25. Use the min_impurity_decrease parameter instead.\n",
      "  DeprecationWarning)\n",
      "/usr/local/lib/python3.6/dist-packages/sklearn/tree/tree.py:283: DeprecationWarning: The min_impurity_split parameter is deprecated. Its default value will change from 1e-7 to 0 in version 0.23, and it will be removed in 0.25. Use the min_impurity_decrease parameter instead.\n",
      "  DeprecationWarning)\n",
      "/usr/local/lib/python3.6/dist-packages/sklearn/tree/tree.py:283: DeprecationWarning: The min_impurity_split parameter is deprecated. Its default value will change from 1e-7 to 0 in version 0.23, and it will be removed in 0.25. Use the min_impurity_decrease parameter instead.\n",
      "  DeprecationWarning)\n",
      "/usr/local/lib/python3.6/dist-packages/sklearn/tree/tree.py:283: DeprecationWarning: The min_impurity_split parameter is deprecated. Its default value will change from 1e-7 to 0 in version 0.23, and it will be removed in 0.25. Use the min_impurity_decrease parameter instead.\n",
      "  DeprecationWarning)\n",
      "/usr/local/lib/python3.6/dist-packages/sklearn/tree/tree.py:283: DeprecationWarning: The min_impurity_split parameter is deprecated. Its default value will change from 1e-7 to 0 in version 0.23, and it will be removed in 0.25. Use the min_impurity_decrease parameter instead.\n",
      "  DeprecationWarning)\n",
      "/usr/local/lib/python3.6/dist-packages/sklearn/tree/tree.py:283: DeprecationWarning: The min_impurity_split parameter is deprecated. Its default value will change from 1e-7 to 0 in version 0.23, and it will be removed in 0.25. Use the min_impurity_decrease parameter instead.\n",
      "  DeprecationWarning)\n",
      "/usr/local/lib/python3.6/dist-packages/sklearn/tree/tree.py:283: DeprecationWarning: The min_impurity_split parameter is deprecated. Its default value will change from 1e-7 to 0 in version 0.23, and it will be removed in 0.25. Use the min_impurity_decrease parameter instead.\n",
      "  DeprecationWarning)\n",
      "/usr/local/lib/python3.6/dist-packages/sklearn/tree/tree.py:283: DeprecationWarning: The min_impurity_split parameter is deprecated. Its default value will change from 1e-7 to 0 in version 0.23, and it will be removed in 0.25. Use the min_impurity_decrease parameter instead.\n",
      "  DeprecationWarning)\n",
      "/usr/local/lib/python3.6/dist-packages/sklearn/tree/tree.py:283: DeprecationWarning: The min_impurity_split parameter is deprecated. Its default value will change from 1e-7 to 0 in version 0.23, and it will be removed in 0.25. Use the min_impurity_decrease parameter instead.\n",
      "  DeprecationWarning)\n",
      "/usr/local/lib/python3.6/dist-packages/sklearn/tree/tree.py:283: DeprecationWarning: The min_impurity_split parameter is deprecated. Its default value will change from 1e-7 to 0 in version 0.23, and it will be removed in 0.25. Use the min_impurity_decrease parameter instead.\n",
      "  DeprecationWarning)\n",
      "/usr/local/lib/python3.6/dist-packages/sklearn/tree/tree.py:283: DeprecationWarning: The min_impurity_split parameter is deprecated. Its default value will change from 1e-7 to 0 in version 0.23, and it will be removed in 0.25. Use the min_impurity_decrease parameter instead.\n",
      "  DeprecationWarning)\n",
      "/usr/local/lib/python3.6/dist-packages/sklearn/tree/tree.py:283: DeprecationWarning: The min_impurity_split parameter is deprecated. Its default value will change from 1e-7 to 0 in version 0.23, and it will be removed in 0.25. Use the min_impurity_decrease parameter instead.\n",
      "  DeprecationWarning)\n",
      "/usr/local/lib/python3.6/dist-packages/sklearn/tree/tree.py:283: DeprecationWarning: The min_impurity_split parameter is deprecated. Its default value will change from 1e-7 to 0 in version 0.23, and it will be removed in 0.25. Use the min_impurity_decrease parameter instead.\n",
      "  DeprecationWarning)\n",
      "/usr/local/lib/python3.6/dist-packages/sklearn/tree/tree.py:283: DeprecationWarning: The min_impurity_split parameter is deprecated. Its default value will change from 1e-7 to 0 in version 0.23, and it will be removed in 0.25. Use the min_impurity_decrease parameter instead.\n",
      "  DeprecationWarning)\n",
      "/usr/local/lib/python3.6/dist-packages/sklearn/tree/tree.py:283: DeprecationWarning: The min_impurity_split parameter is deprecated. Its default value will change from 1e-7 to 0 in version 0.23, and it will be removed in 0.25. Use the min_impurity_decrease parameter instead.\n",
      "  DeprecationWarning)\n",
      "/usr/local/lib/python3.6/dist-packages/sklearn/tree/tree.py:283: DeprecationWarning: The min_impurity_split parameter is deprecated. Its default value will change from 1e-7 to 0 in version 0.23, and it will be removed in 0.25. Use the min_impurity_decrease parameter instead.\n",
      "  DeprecationWarning)\n",
      "/usr/local/lib/python3.6/dist-packages/sklearn/tree/tree.py:283: DeprecationWarning: The min_impurity_split parameter is deprecated. Its default value will change from 1e-7 to 0 in version 0.23, and it will be removed in 0.25. Use the min_impurity_decrease parameter instead.\n",
      "  DeprecationWarning)\n",
      "/usr/local/lib/python3.6/dist-packages/sklearn/tree/tree.py:283: DeprecationWarning: The min_impurity_split parameter is deprecated. Its default value will change from 1e-7 to 0 in version 0.23, and it will be removed in 0.25. Use the min_impurity_decrease parameter instead.\n",
      "  DeprecationWarning)\n",
      "/usr/local/lib/python3.6/dist-packages/sklearn/tree/tree.py:283: DeprecationWarning: The min_impurity_split parameter is deprecated. Its default value will change from 1e-7 to 0 in version 0.23, and it will be removed in 0.25. Use the min_impurity_decrease parameter instead.\n",
      "  DeprecationWarning)\n",
      "/usr/local/lib/python3.6/dist-packages/sklearn/tree/tree.py:283: DeprecationWarning: The min_impurity_split parameter is deprecated. Its default value will change from 1e-7 to 0 in version 0.23, and it will be removed in 0.25. Use the min_impurity_decrease parameter instead.\n",
      "  DeprecationWarning)\n",
      "/usr/local/lib/python3.6/dist-packages/sklearn/tree/tree.py:283: DeprecationWarning: The min_impurity_split parameter is deprecated. Its default value will change from 1e-7 to 0 in version 0.23, and it will be removed in 0.25. Use the min_impurity_decrease parameter instead.\n",
      "  DeprecationWarning)\n",
      "/usr/local/lib/python3.6/dist-packages/sklearn/tree/tree.py:283: DeprecationWarning: The min_impurity_split parameter is deprecated. Its default value will change from 1e-7 to 0 in version 0.23, and it will be removed in 0.25. Use the min_impurity_decrease parameter instead.\n",
      "  DeprecationWarning)\n",
      "/usr/local/lib/python3.6/dist-packages/sklearn/tree/tree.py:283: DeprecationWarning: The min_impurity_split parameter is deprecated. Its default value will change from 1e-7 to 0 in version 0.23, and it will be removed in 0.25. Use the min_impurity_decrease parameter instead.\n",
      "  DeprecationWarning)\n",
      "/usr/local/lib/python3.6/dist-packages/sklearn/tree/tree.py:283: DeprecationWarning: The min_impurity_split parameter is deprecated. Its default value will change from 1e-7 to 0 in version 0.23, and it will be removed in 0.25. Use the min_impurity_decrease parameter instead.\n",
      "  DeprecationWarning)\n",
      "/usr/local/lib/python3.6/dist-packages/sklearn/tree/tree.py:283: DeprecationWarning: The min_impurity_split parameter is deprecated. Its default value will change from 1e-7 to 0 in version 0.23, and it will be removed in 0.25. Use the min_impurity_decrease parameter instead.\n",
      "  DeprecationWarning)\n",
      "/usr/local/lib/python3.6/dist-packages/sklearn/tree/tree.py:283: DeprecationWarning: The min_impurity_split parameter is deprecated. Its default value will change from 1e-7 to 0 in version 0.23, and it will be removed in 0.25. Use the min_impurity_decrease parameter instead.\n",
      "  DeprecationWarning)\n",
      "/usr/local/lib/python3.6/dist-packages/sklearn/tree/tree.py:283: DeprecationWarning: The min_impurity_split parameter is deprecated. Its default value will change from 1e-7 to 0 in version 0.23, and it will be removed in 0.25. Use the min_impurity_decrease parameter instead.\n",
      "  DeprecationWarning)\n",
      "/usr/local/lib/python3.6/dist-packages/sklearn/tree/tree.py:283: DeprecationWarning: The min_impurity_split parameter is deprecated. Its default value will change from 1e-7 to 0 in version 0.23, and it will be removed in 0.25. Use the min_impurity_decrease parameter instead.\n",
      "  DeprecationWarning)\n",
      "/usr/local/lib/python3.6/dist-packages/sklearn/tree/tree.py:283: DeprecationWarning: The min_impurity_split parameter is deprecated. Its default value will change from 1e-7 to 0 in version 0.23, and it will be removed in 0.25. Use the min_impurity_decrease parameter instead.\n",
      "  DeprecationWarning)\n",
      "/usr/local/lib/python3.6/dist-packages/sklearn/tree/tree.py:283: DeprecationWarning: The min_impurity_split parameter is deprecated. Its default value will change from 1e-7 to 0 in version 0.23, and it will be removed in 0.25. Use the min_impurity_decrease parameter instead.\n",
      "  DeprecationWarning)\n",
      "/usr/local/lib/python3.6/dist-packages/sklearn/tree/tree.py:283: DeprecationWarning: The min_impurity_split parameter is deprecated. Its default value will change from 1e-7 to 0 in version 0.23, and it will be removed in 0.25. Use the min_impurity_decrease parameter instead.\n",
      "  DeprecationWarning)\n",
      "/usr/local/lib/python3.6/dist-packages/sklearn/tree/tree.py:283: DeprecationWarning: The min_impurity_split parameter is deprecated. Its default value will change from 1e-7 to 0 in version 0.23, and it will be removed in 0.25. Use the min_impurity_decrease parameter instead.\n",
      "  DeprecationWarning)\n",
      "/usr/local/lib/python3.6/dist-packages/sklearn/tree/tree.py:283: DeprecationWarning: The min_impurity_split parameter is deprecated. Its default value will change from 1e-7 to 0 in version 0.23, and it will be removed in 0.25. Use the min_impurity_decrease parameter instead.\n",
      "  DeprecationWarning)\n",
      "/usr/local/lib/python3.6/dist-packages/sklearn/tree/tree.py:283: DeprecationWarning: The min_impurity_split parameter is deprecated. Its default value will change from 1e-7 to 0 in version 0.23, and it will be removed in 0.25. Use the min_impurity_decrease parameter instead.\n",
      "  DeprecationWarning)\n",
      "/usr/local/lib/python3.6/dist-packages/sklearn/tree/tree.py:283: DeprecationWarning: The min_impurity_split parameter is deprecated. Its default value will change from 1e-7 to 0 in version 0.23, and it will be removed in 0.25. Use the min_impurity_decrease parameter instead.\n",
      "  DeprecationWarning)\n",
      "/usr/local/lib/python3.6/dist-packages/sklearn/tree/tree.py:283: DeprecationWarning: The min_impurity_split parameter is deprecated. Its default value will change from 1e-7 to 0 in version 0.23, and it will be removed in 0.25. Use the min_impurity_decrease parameter instead.\n",
      "  DeprecationWarning)\n",
      "/usr/local/lib/python3.6/dist-packages/sklearn/tree/tree.py:283: DeprecationWarning: The min_impurity_split parameter is deprecated. Its default value will change from 1e-7 to 0 in version 0.23, and it will be removed in 0.25. Use the min_impurity_decrease parameter instead.\n",
      "  DeprecationWarning)\n",
      "/usr/local/lib/python3.6/dist-packages/sklearn/tree/tree.py:283: DeprecationWarning: The min_impurity_split parameter is deprecated. Its default value will change from 1e-7 to 0 in version 0.23, and it will be removed in 0.25. Use the min_impurity_decrease parameter instead.\n",
      "  DeprecationWarning)\n",
      "/usr/local/lib/python3.6/dist-packages/sklearn/tree/tree.py:283: DeprecationWarning: The min_impurity_split parameter is deprecated. Its default value will change from 1e-7 to 0 in version 0.23, and it will be removed in 0.25. Use the min_impurity_decrease parameter instead.\n",
      "  DeprecationWarning)\n",
      "/usr/local/lib/python3.6/dist-packages/sklearn/tree/tree.py:283: DeprecationWarning: The min_impurity_split parameter is deprecated. Its default value will change from 1e-7 to 0 in version 0.23, and it will be removed in 0.25. Use the min_impurity_decrease parameter instead.\n",
      "  DeprecationWarning)\n",
      "/usr/local/lib/python3.6/dist-packages/sklearn/tree/tree.py:283: DeprecationWarning: The min_impurity_split parameter is deprecated. Its default value will change from 1e-7 to 0 in version 0.23, and it will be removed in 0.25. Use the min_impurity_decrease parameter instead.\n",
      "  DeprecationWarning)\n",
      "/usr/local/lib/python3.6/dist-packages/sklearn/tree/tree.py:283: DeprecationWarning: The min_impurity_split parameter is deprecated. Its default value will change from 1e-7 to 0 in version 0.23, and it will be removed in 0.25. Use the min_impurity_decrease parameter instead.\n",
      "  DeprecationWarning)\n",
      "/usr/local/lib/python3.6/dist-packages/sklearn/tree/tree.py:283: DeprecationWarning: The min_impurity_split parameter is deprecated. Its default value will change from 1e-7 to 0 in version 0.23, and it will be removed in 0.25. Use the min_impurity_decrease parameter instead.\n",
      "  DeprecationWarning)\n",
      "/usr/local/lib/python3.6/dist-packages/sklearn/tree/tree.py:283: DeprecationWarning: The min_impurity_split parameter is deprecated. Its default value will change from 1e-7 to 0 in version 0.23, and it will be removed in 0.25. Use the min_impurity_decrease parameter instead.\n",
      "  DeprecationWarning)\n",
      "/usr/local/lib/python3.6/dist-packages/sklearn/tree/tree.py:283: DeprecationWarning: The min_impurity_split parameter is deprecated. Its default value will change from 1e-7 to 0 in version 0.23, and it will be removed in 0.25. Use the min_impurity_decrease parameter instead.\n",
      "  DeprecationWarning)\n",
      "/usr/local/lib/python3.6/dist-packages/sklearn/tree/tree.py:283: DeprecationWarning: The min_impurity_split parameter is deprecated. Its default value will change from 1e-7 to 0 in version 0.23, and it will be removed in 0.25. Use the min_impurity_decrease parameter instead.\n",
      "  DeprecationWarning)\n",
      "/usr/local/lib/python3.6/dist-packages/sklearn/tree/tree.py:283: DeprecationWarning: The min_impurity_split parameter is deprecated. Its default value will change from 1e-7 to 0 in version 0.23, and it will be removed in 0.25. Use the min_impurity_decrease parameter instead.\n",
      "  DeprecationWarning)\n",
      "/usr/local/lib/python3.6/dist-packages/sklearn/tree/tree.py:283: DeprecationWarning: The min_impurity_split parameter is deprecated. Its default value will change from 1e-7 to 0 in version 0.23, and it will be removed in 0.25. Use the min_impurity_decrease parameter instead.\n",
      "  DeprecationWarning)\n",
      "/usr/local/lib/python3.6/dist-packages/sklearn/tree/tree.py:283: DeprecationWarning: The min_impurity_split parameter is deprecated. Its default value will change from 1e-7 to 0 in version 0.23, and it will be removed in 0.25. Use the min_impurity_decrease parameter instead.\n",
      "  DeprecationWarning)\n",
      "/usr/local/lib/python3.6/dist-packages/sklearn/tree/tree.py:283: DeprecationWarning: The min_impurity_split parameter is deprecated. Its default value will change from 1e-7 to 0 in version 0.23, and it will be removed in 0.25. Use the min_impurity_decrease parameter instead.\n",
      "  DeprecationWarning)\n",
      "/usr/local/lib/python3.6/dist-packages/sklearn/tree/tree.py:283: DeprecationWarning: The min_impurity_split parameter is deprecated. Its default value will change from 1e-7 to 0 in version 0.23, and it will be removed in 0.25. Use the min_impurity_decrease parameter instead.\n",
      "  DeprecationWarning)\n",
      "/usr/local/lib/python3.6/dist-packages/sklearn/tree/tree.py:283: DeprecationWarning: The min_impurity_split parameter is deprecated. Its default value will change from 1e-7 to 0 in version 0.23, and it will be removed in 0.25. Use the min_impurity_decrease parameter instead.\n",
      "  DeprecationWarning)\n",
      "/usr/local/lib/python3.6/dist-packages/sklearn/tree/tree.py:283: DeprecationWarning: The min_impurity_split parameter is deprecated. Its default value will change from 1e-7 to 0 in version 0.23, and it will be removed in 0.25. Use the min_impurity_decrease parameter instead.\n",
      "  DeprecationWarning)\n",
      "/usr/local/lib/python3.6/dist-packages/sklearn/tree/tree.py:283: DeprecationWarning: The min_impurity_split parameter is deprecated. Its default value will change from 1e-7 to 0 in version 0.23, and it will be removed in 0.25. Use the min_impurity_decrease parameter instead.\n",
      "  DeprecationWarning)\n",
      "/usr/local/lib/python3.6/dist-packages/sklearn/tree/tree.py:283: DeprecationWarning: The min_impurity_split parameter is deprecated. Its default value will change from 1e-7 to 0 in version 0.23, and it will be removed in 0.25. Use the min_impurity_decrease parameter instead.\n",
      "  DeprecationWarning)\n",
      "/usr/local/lib/python3.6/dist-packages/sklearn/tree/tree.py:283: DeprecationWarning: The min_impurity_split parameter is deprecated. Its default value will change from 1e-7 to 0 in version 0.23, and it will be removed in 0.25. Use the min_impurity_decrease parameter instead.\n",
      "  DeprecationWarning)\n",
      "/usr/local/lib/python3.6/dist-packages/sklearn/tree/tree.py:283: DeprecationWarning: The min_impurity_split parameter is deprecated. Its default value will change from 1e-7 to 0 in version 0.23, and it will be removed in 0.25. Use the min_impurity_decrease parameter instead.\n",
      "  DeprecationWarning)\n",
      "/usr/local/lib/python3.6/dist-packages/sklearn/tree/tree.py:283: DeprecationWarning: The min_impurity_split parameter is deprecated. Its default value will change from 1e-7 to 0 in version 0.23, and it will be removed in 0.25. Use the min_impurity_decrease parameter instead.\n",
      "  DeprecationWarning)\n",
      "/usr/local/lib/python3.6/dist-packages/sklearn/tree/tree.py:283: DeprecationWarning: The min_impurity_split parameter is deprecated. Its default value will change from 1e-7 to 0 in version 0.23, and it will be removed in 0.25. Use the min_impurity_decrease parameter instead.\n",
      "  DeprecationWarning)\n",
      "/usr/local/lib/python3.6/dist-packages/sklearn/tree/tree.py:283: DeprecationWarning: The min_impurity_split parameter is deprecated. Its default value will change from 1e-7 to 0 in version 0.23, and it will be removed in 0.25. Use the min_impurity_decrease parameter instead.\n",
      "  DeprecationWarning)\n",
      "/usr/local/lib/python3.6/dist-packages/sklearn/tree/tree.py:283: DeprecationWarning: The min_impurity_split parameter is deprecated. Its default value will change from 1e-7 to 0 in version 0.23, and it will be removed in 0.25. Use the min_impurity_decrease parameter instead.\n",
      "  DeprecationWarning)\n",
      "/usr/local/lib/python3.6/dist-packages/sklearn/tree/tree.py:283: DeprecationWarning: The min_impurity_split parameter is deprecated. Its default value will change from 1e-7 to 0 in version 0.23, and it will be removed in 0.25. Use the min_impurity_decrease parameter instead.\n",
      "  DeprecationWarning)\n",
      "/usr/local/lib/python3.6/dist-packages/sklearn/tree/tree.py:283: DeprecationWarning: The min_impurity_split parameter is deprecated. Its default value will change from 1e-7 to 0 in version 0.23, and it will be removed in 0.25. Use the min_impurity_decrease parameter instead.\n",
      "  DeprecationWarning)\n",
      "/usr/local/lib/python3.6/dist-packages/sklearn/tree/tree.py:283: DeprecationWarning: The min_impurity_split parameter is deprecated. Its default value will change from 1e-7 to 0 in version 0.23, and it will be removed in 0.25. Use the min_impurity_decrease parameter instead.\n",
      "  DeprecationWarning)\n",
      "/usr/local/lib/python3.6/dist-packages/sklearn/tree/tree.py:283: DeprecationWarning: The min_impurity_split parameter is deprecated. Its default value will change from 1e-7 to 0 in version 0.23, and it will be removed in 0.25. Use the min_impurity_decrease parameter instead.\n",
      "  DeprecationWarning)\n",
      "/usr/local/lib/python3.6/dist-packages/sklearn/tree/tree.py:283: DeprecationWarning: The min_impurity_split parameter is deprecated. Its default value will change from 1e-7 to 0 in version 0.23, and it will be removed in 0.25. Use the min_impurity_decrease parameter instead.\n",
      "  DeprecationWarning)\n",
      "/usr/local/lib/python3.6/dist-packages/sklearn/tree/tree.py:283: DeprecationWarning: The min_impurity_split parameter is deprecated. Its default value will change from 1e-7 to 0 in version 0.23, and it will be removed in 0.25. Use the min_impurity_decrease parameter instead.\n",
      "  DeprecationWarning)\n",
      "/usr/local/lib/python3.6/dist-packages/sklearn/tree/tree.py:283: DeprecationWarning: The min_impurity_split parameter is deprecated. Its default value will change from 1e-7 to 0 in version 0.23, and it will be removed in 0.25. Use the min_impurity_decrease parameter instead.\n",
      "  DeprecationWarning)\n",
      "/usr/local/lib/python3.6/dist-packages/sklearn/tree/tree.py:283: DeprecationWarning: The min_impurity_split parameter is deprecated. Its default value will change from 1e-7 to 0 in version 0.23, and it will be removed in 0.25. Use the min_impurity_decrease parameter instead.\n",
      "  DeprecationWarning)\n",
      "/usr/local/lib/python3.6/dist-packages/sklearn/tree/tree.py:283: DeprecationWarning: The min_impurity_split parameter is deprecated. Its default value will change from 1e-7 to 0 in version 0.23, and it will be removed in 0.25. Use the min_impurity_decrease parameter instead.\n",
      "  DeprecationWarning)\n",
      "/usr/local/lib/python3.6/dist-packages/sklearn/tree/tree.py:283: DeprecationWarning: The min_impurity_split parameter is deprecated. Its default value will change from 1e-7 to 0 in version 0.23, and it will be removed in 0.25. Use the min_impurity_decrease parameter instead.\n",
      "  DeprecationWarning)\n",
      "/usr/local/lib/python3.6/dist-packages/sklearn/tree/tree.py:283: DeprecationWarning: The min_impurity_split parameter is deprecated. Its default value will change from 1e-7 to 0 in version 0.23, and it will be removed in 0.25. Use the min_impurity_decrease parameter instead.\n",
      "  DeprecationWarning)\n",
      "/usr/local/lib/python3.6/dist-packages/sklearn/tree/tree.py:283: DeprecationWarning: The min_impurity_split parameter is deprecated. Its default value will change from 1e-7 to 0 in version 0.23, and it will be removed in 0.25. Use the min_impurity_decrease parameter instead.\n",
      "  DeprecationWarning)\n",
      "/usr/local/lib/python3.6/dist-packages/sklearn/tree/tree.py:283: DeprecationWarning: The min_impurity_split parameter is deprecated. Its default value will change from 1e-7 to 0 in version 0.23, and it will be removed in 0.25. Use the min_impurity_decrease parameter instead.\n",
      "  DeprecationWarning)\n",
      "/usr/local/lib/python3.6/dist-packages/sklearn/tree/tree.py:283: DeprecationWarning: The min_impurity_split parameter is deprecated. Its default value will change from 1e-7 to 0 in version 0.23, and it will be removed in 0.25. Use the min_impurity_decrease parameter instead.\n",
      "  DeprecationWarning)\n",
      "/usr/local/lib/python3.6/dist-packages/sklearn/tree/tree.py:283: DeprecationWarning: The min_impurity_split parameter is deprecated. Its default value will change from 1e-7 to 0 in version 0.23, and it will be removed in 0.25. Use the min_impurity_decrease parameter instead.\n",
      "  DeprecationWarning)\n",
      "/usr/local/lib/python3.6/dist-packages/sklearn/tree/tree.py:283: DeprecationWarning: The min_impurity_split parameter is deprecated. Its default value will change from 1e-7 to 0 in version 0.23, and it will be removed in 0.25. Use the min_impurity_decrease parameter instead.\n",
      "  DeprecationWarning)\n",
      "/usr/local/lib/python3.6/dist-packages/sklearn/tree/tree.py:283: DeprecationWarning: The min_impurity_split parameter is deprecated. Its default value will change from 1e-7 to 0 in version 0.23, and it will be removed in 0.25. Use the min_impurity_decrease parameter instead.\n",
      "  DeprecationWarning)\n",
      "/usr/local/lib/python3.6/dist-packages/sklearn/tree/tree.py:283: DeprecationWarning: The min_impurity_split parameter is deprecated. Its default value will change from 1e-7 to 0 in version 0.23, and it will be removed in 0.25. Use the min_impurity_decrease parameter instead.\n",
      "  DeprecationWarning)\n",
      "/usr/local/lib/python3.6/dist-packages/sklearn/tree/tree.py:283: DeprecationWarning: The min_impurity_split parameter is deprecated. Its default value will change from 1e-7 to 0 in version 0.23, and it will be removed in 0.25. Use the min_impurity_decrease parameter instead.\n",
      "  DeprecationWarning)\n",
      "/usr/local/lib/python3.6/dist-packages/sklearn/tree/tree.py:283: DeprecationWarning: The min_impurity_split parameter is deprecated. Its default value will change from 1e-7 to 0 in version 0.23, and it will be removed in 0.25. Use the min_impurity_decrease parameter instead.\n",
      "  DeprecationWarning)\n",
      "/usr/local/lib/python3.6/dist-packages/sklearn/tree/tree.py:283: DeprecationWarning: The min_impurity_split parameter is deprecated. Its default value will change from 1e-7 to 0 in version 0.23, and it will be removed in 0.25. Use the min_impurity_decrease parameter instead.\n",
      "  DeprecationWarning)\n",
      "/usr/local/lib/python3.6/dist-packages/sklearn/tree/tree.py:283: DeprecationWarning: The min_impurity_split parameter is deprecated. Its default value will change from 1e-7 to 0 in version 0.23, and it will be removed in 0.25. Use the min_impurity_decrease parameter instead.\n",
      "  DeprecationWarning)\n",
      "/usr/local/lib/python3.6/dist-packages/sklearn/tree/tree.py:283: DeprecationWarning: The min_impurity_split parameter is deprecated. Its default value will change from 1e-7 to 0 in version 0.23, and it will be removed in 0.25. Use the min_impurity_decrease parameter instead.\n",
      "  DeprecationWarning)\n",
      "/usr/local/lib/python3.6/dist-packages/sklearn/tree/tree.py:283: DeprecationWarning: The min_impurity_split parameter is deprecated. Its default value will change from 1e-7 to 0 in version 0.23, and it will be removed in 0.25. Use the min_impurity_decrease parameter instead.\n",
      "  DeprecationWarning)\n",
      "/usr/local/lib/python3.6/dist-packages/sklearn/tree/tree.py:283: DeprecationWarning: The min_impurity_split parameter is deprecated. Its default value will change from 1e-7 to 0 in version 0.23, and it will be removed in 0.25. Use the min_impurity_decrease parameter instead.\n",
      "  DeprecationWarning)\n",
      "/usr/local/lib/python3.6/dist-packages/sklearn/tree/tree.py:283: DeprecationWarning: The min_impurity_split parameter is deprecated. Its default value will change from 1e-7 to 0 in version 0.23, and it will be removed in 0.25. Use the min_impurity_decrease parameter instead.\n",
      "  DeprecationWarning)\n",
      "/usr/local/lib/python3.6/dist-packages/sklearn/tree/tree.py:283: DeprecationWarning: The min_impurity_split parameter is deprecated. Its default value will change from 1e-7 to 0 in version 0.23, and it will be removed in 0.25. Use the min_impurity_decrease parameter instead.\n",
      "  DeprecationWarning)\n",
      "/usr/local/lib/python3.6/dist-packages/sklearn/tree/tree.py:283: DeprecationWarning: The min_impurity_split parameter is deprecated. Its default value will change from 1e-7 to 0 in version 0.23, and it will be removed in 0.25. Use the min_impurity_decrease parameter instead.\n",
      "  DeprecationWarning)\n",
      "/usr/local/lib/python3.6/dist-packages/sklearn/tree/tree.py:283: DeprecationWarning: The min_impurity_split parameter is deprecated. Its default value will change from 1e-7 to 0 in version 0.23, and it will be removed in 0.25. Use the min_impurity_decrease parameter instead.\n",
      "  DeprecationWarning)\n",
      "/usr/local/lib/python3.6/dist-packages/sklearn/tree/tree.py:283: DeprecationWarning: The min_impurity_split parameter is deprecated. Its default value will change from 1e-7 to 0 in version 0.23, and it will be removed in 0.25. Use the min_impurity_decrease parameter instead.\n",
      "  DeprecationWarning)\n",
      "/usr/local/lib/python3.6/dist-packages/sklearn/tree/tree.py:283: DeprecationWarning: The min_impurity_split parameter is deprecated. Its default value will change from 1e-7 to 0 in version 0.23, and it will be removed in 0.25. Use the min_impurity_decrease parameter instead.\n",
      "  DeprecationWarning)\n",
      "/usr/local/lib/python3.6/dist-packages/sklearn/tree/tree.py:283: DeprecationWarning: The min_impurity_split parameter is deprecated. Its default value will change from 1e-7 to 0 in version 0.23, and it will be removed in 0.25. Use the min_impurity_decrease parameter instead.\n",
      "  DeprecationWarning)\n",
      "/usr/local/lib/python3.6/dist-packages/sklearn/tree/tree.py:283: DeprecationWarning: The min_impurity_split parameter is deprecated. Its default value will change from 1e-7 to 0 in version 0.23, and it will be removed in 0.25. Use the min_impurity_decrease parameter instead.\n",
      "  DeprecationWarning)\n"
     ],
     "name": "stderr"
    },
    {
     "output_type": "stream",
     "text": [
      "'submissions_OHE_0521_ForEnsemble_voting(2).csv' is ready to submit.\n"
     ],
     "name": "stdout"
    }
   ]
  },
  {
   "cell_type": "markdown",
   "metadata": {
    "id": "aQIBOHsHyI04",
    "colab_type": "text"
   },
   "source": [
    "# Esemble"
   ]
  },
  {
   "cell_type": "code",
   "metadata": {
    "id": "nZJWSfr3yBv0",
    "colab_type": "code",
    "colab": {}
   },
   "source": [
    "# light gbm gradient boosting기하평균 앙상블\n",
    "from sklearn.metrics import roc_curve\n",
    "from sklearn.metrics import auc\n",
    "\n",
    "import pandas as pd\n",
    "from pandas import Series, DataFrame\n",
    "import numpy as np\n",
    "\n",
    "\n",
    "xgb = pd.read_csv('submissions_OHE_0521_ForEnsemble_XGB.csv')\n",
    "gbm= pd.read_csv('submissions_OHE_0521_ForEnsemble_GBM.csv')\n",
    "light= pd.read_csv('submissions_OHE_0521_ForEnsemble_LightGBM_tuning.csv')\n",
    "\n",
    "\n",
    "xgb = np.array(xgb.gender)\n",
    "gbm = np.array(gbm.gender)\n",
    "light = np.array(light.gender)\n",
    "IDtest = df_test.custid.unique()\n",
    "\n",
    "\n",
    "from scipy.stats.mstats import gmean\n",
    "\n",
    "TEST = gmean([xgb,gbm,light],axis=0)\n",
    "TEST[3]\n",
    "\n",
    "\n",
    "fname = 'submissions_OHE_0521_Ensemble.csv'\n",
    "submissions = pd.concat([pd.Series(IDtest, name=\"custid\"), pd.Series(TEST, name=\"gender\")] ,axis=1)\n",
    "submissions.to_csv(fname, index=False)\n",
    "print(\"'{}' is ready to submit.\" .format(fname))"
   ],
   "execution_count": 0,
   "outputs": []
  },
  {
   "cell_type": "code",
   "metadata": {
    "id": "5QPQsL_Qx7kg",
    "colab_type": "code",
    "outputId": "5d0b4c43-e4bb-4ed1-e9e9-39e1ccacac42",
    "executionInfo": {
     "status": "ok",
     "timestamp": 1558434662264,
     "user_tz": -540,
     "elapsed": 940,
     "user": {
      "displayName": "배유나",
      "photoUrl": "",
      "userId": "02561789843125764342"
     }
    },
    "colab": {
     "base_uri": "https://localhost:8080/",
     "height": 35
    }
   },
   "source": [
    "fname = '/gdrive/My Drive/submissions_OHE_0521_ForEnsemble_voting(2).csv'\n",
    "submissions = pd.concat([pd.Series(IDtest, name=\"custid\"), pd.Series(pred, name=\"gender\")] ,axis=1)\n",
    "submissions.to_csv(fname, index=False)\n",
    "print(\"'{}' is ready to submit.\" .format(fname))"
   ],
   "execution_count": 0,
   "outputs": [
    {
     "output_type": "stream",
     "text": [
      "'/gdrive/My Drive/submissions_OHE_0521_ForEnsemble_voting(2).csv' is ready to submit.\n"
     ],
     "name": "stdout"
    }
   ]
  },
  {
   "cell_type": "markdown",
   "metadata": {
    "id": "YID-XzZKvU1q",
    "colab_type": "text"
   },
   "source": [
    "# End"
   ]
  }
 ]
}

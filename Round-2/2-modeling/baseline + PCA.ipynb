{
 "cells": [
  {
   "cell_type": "markdown",
   "metadata": {},
   "source": [
    "# Base Line + PCA"
   ]
  },
  {
   "cell_type": "code",
   "execution_count": 1,
   "metadata": {},
   "outputs": [
    {
     "name": "stderr",
     "output_type": "stream",
     "text": [
      "Using TensorFlow backend.\n"
     ]
    }
   ],
   "source": [
    "# base\n",
    "import pandas as pd\n",
    "import numpy as np\n",
    "from datetime import datetime\n",
    "import time\n",
    "import random\n",
    "from collections import Counter\n",
    "import collections\n",
    "\n",
    "# word2vec\n",
    "from gensim.models.word2vec import Word2Vec\n",
    "\n",
    "# error\n",
    "import sys, warnings\n",
    "if not sys.warnoptions: warnings.simplefilter(\"ignore\")\n",
    "    \n",
    "# accuracy measure\n",
    "from sklearn import *\n",
    "from sklearn.metrics import *\n",
    "from sklearn.preprocessing import StandardScaler\n",
    "\n",
    "# param search\n",
    "from sklearn.model_selection import *\n",
    "\n",
    "# training and testing data split\n",
    "from sklearn.model_selection import *\n",
    "\n",
    "# Boosting Model\n",
    "from sklearn.ensemble import *\n",
    "from xgboost import XGBClassifier\n",
    "from lightgbm import LGBMClassifier\n",
    "from sklearn.discriminant_analysis import LinearDiscriminantAnalysis\n",
    "from sklearn.linear_model import LogisticRegression\n",
    "from sklearn.neighbors import KNeighborsClassifier\n",
    "from sklearn.tree import DecisionTreeClassifier\n",
    "from sklearn.neural_network import MLPClassifier\n",
    "from sklearn.svm import SVC\n",
    "\n",
    "# model save\n",
    "import pickle\n",
    "from sklearn.externals import *\n",
    "\n",
    "# visualization\n",
    "import matplotlib.pyplot as plt\n",
    "import seaborn as sns\n",
    "plt.rc('font', family='nanumgothic')\n",
    "plt.rc('axes', unicode_minus=False)\n",
    "sns.set(style='white', context='notebook', palette='deep')\n",
    "import seaborn as sns\n",
    "%matplotlib inline\n",
    "\n",
    "\n",
    "# Neural\n",
    "from keras import *\n",
    "from keras.models import Sequential\n",
    "from keras.callbacks import EarlyStopping\n",
    "from keras.layers import *\n",
    "from keras.optimizers import *\n",
    "\n",
    "# PCA\n",
    "from sklearn.decomposition import PCA"
   ]
  },
  {
   "cell_type": "code",
   "execution_count": 2,
   "metadata": {},
   "outputs": [],
   "source": [
    "# load data & concat\n",
    "tr_train = pd.read_csv('X_train.csv', encoding='cp949')\n",
    "tr_test = pd.read_csv('X_test.csv', encoding='cp949')\n",
    "tr = pd.concat([tr_train, tr_test])"
   ]
  },
  {
   "cell_type": "code",
   "execution_count": 3,
   "metadata": {},
   "outputs": [],
   "source": [
    "# 당일판매금액 = 판매금액 / 할부개월수\n",
    "tr['real_amt']= tr.tot_amt / tr.inst_mon\n",
    "\n",
    "# 할인율 = (할인금액 / 판매금액) * 100\n",
    "tr['dist_rate'] = (tr['dis_amt']/tr['tot_amt'])*100\n",
    "\n",
    "# 판매날짜\n",
    "tr.loc[456697,\"sales_time\"] = 1530\n",
    "tr['sdate'] = tr.sales_date.str[:10]\n",
    "\n",
    "# 판매시간\n",
    "tr[\"time\"] = tr['sdate'].astype(str).str.cat(tr[\"sales_time\"].astype(str), sep =\" \")\n",
    "tr[\"time\"] = pd.to_datetime(tr.time, format='%Y-%m-%d %H%M')"
   ]
  },
  {
   "cell_type": "markdown",
   "metadata": {},
   "source": [
    "## 1. Feature Engineering"
   ]
  },
  {
   "cell_type": "markdown",
   "metadata": {},
   "source": [
    "### 1.1 Baseline"
   ]
  },
  {
   "cell_type": "code",
   "execution_count": 4,
   "metadata": {},
   "outputs": [],
   "source": [
    "features = []"
   ]
  },
  {
   "cell_type": "code",
   "execution_count": 5,
   "metadata": {},
   "outputs": [],
   "source": [
    "# 평균할인율\n",
    "df = tr.groupby('custid')['dist_rate'].agg([('평균할인율', 'mean')]).reset_index()\n",
    "features.append(df)\n",
    "\n",
    "# 평균구매시간\n",
    "df = tr.groupby(['custid'])['sales_time'].agg([('평균구매시간대', 'mean')]).reset_index()\n",
    "features.append(df)\n",
    "\n",
    "# 평균할인금액\n",
    "df = tr.groupby('custid')['dis_amt'].agg([('평균할인금액', 'mean')]).reset_index()\n",
    "df.iloc[:,1] = df.iloc[:,1].apply(round, args=(1,))\n",
    "features.append(df)\n",
    "\n",
    "# 평균쇼핑시간\n",
    "df = tr.groupby(['sdate','custid'])['time'].agg([('time', ['min','max'])]).reset_index()\n",
    "df['shopping_time'] = (df['time']['max'] - df['time']['min']).dt.total_seconds()\n",
    "df.drop(['sdate','time'], axis=1, inplace=True,level=0)\n",
    "df = df.groupby(['custid'])['shopping_time'].agg([('평균쇼핑시간','mean')]).reset_index()\n",
    "features.append(df)\n",
    "\n",
    "# 평균구매가격\n",
    "df = tr.groupby('custid')['tot_amt'].agg([('평균구매가격', 'mean')]).reset_index()\n",
    "features.append(df)\n",
    "\n",
    "# 평균할부개월수\n",
    "df = tr.groupby('custid')['inst_mon'].agg([('평균할부개월수', 'mean')]).reset_index()\n",
    "df.iloc[:,1] = df.iloc[:,1].apply(round, args=(1,))\n",
    "features.append(df)\n",
    "\n",
    "# 일평균구매건수\n",
    "df = tr.groupby(['sales_date','custid'])['custid'].agg([('day_visit', 'count')]).reset_index()\n",
    "df = df.groupby(['custid'])['day_visit'].agg([('일평균구매건수', 'mean')]).reset_index()\n",
    "features.append(df)\n",
    "\n",
    "# 일평균구매액\n",
    "df = tr.groupby(['sales_date','custid'])['tot_amt'].agg([('day_amt', 'sum')]).reset_index()\n",
    "df = df.groupby(['custid'])['day_amt'].agg([('일평균구매액', 'mean')]).reset_index()\n",
    "features.append(df)\n",
    "\n",
    "# 남성파트 구매비율\n",
    "df = tr.groupby(['custid','part_nm'])['tot_amt'].agg([('tot_amt_part', 'sum')]).reset_index()\n",
    "df['part_nm'] = np.where(df.part_nm.str.contains('남성'), '남성', '여성')\n",
    "df = df.pivot_table(values='tot_amt_part', index=df.custid, columns='part_nm', aggfunc='first',fill_value=0).reset_index()\n",
    "df['남성파트구매비율'] = (df['남성'] / (df['남성'] + df['여성'])) * 100\n",
    "df = df.fillna(0)\n",
    "features.append(df.iloc[:,[0,-1]])\n",
    "\n",
    "# 화장품구매비율 \n",
    "df = tr.groupby(['custid','corner_nm'])['tot_amt'].agg([('tot_amt_corner', 'sum')]).reset_index()\n",
    "df['corner_nm'] = np.where(df.corner_nm.str.contains('화장품'), '화장품', '비화장품')\n",
    "df = df.pivot_table(values='tot_amt_corner', index=df.custid, columns='corner_nm', aggfunc='first',fill_value=0).reset_index()\n",
    "df['화장품비율'] = (df['화장품'] / (df['화장품'] + df['비화장품'])) * 100\n",
    "df = df.fillna(0)\n",
    "features.append(df.iloc[:,[0,-1]])\n",
    "\n",
    "# 수입상품구매비율\n",
    "x = tr[tr['import_flg'] == 1].groupby('custid').size() / tr.groupby('custid').size()\n",
    "df = x.reset_index().rename(columns={0: '수입상품구매비율'}).fillna(0)\n",
    "df.iloc[:,1] = (df.iloc[:,1]*100).apply(round, args=(1,))\n",
    "features.append(df)\n",
    "\n",
    "# 할부대비평균실구매액\n",
    "df = tr.groupby('custid')['real_amt'].agg([('할부대비평균실구매', 'mean')]).reset_index()\n",
    "features.append(df)\n",
    "\n",
    "# 수입상품 구매총액\n",
    "df = tr.groupby(['custid'])['import_flg'].agg([('수입상품구매총액', 'sum')]).reset_index()\n",
    "features.append(df)\n",
    "\n",
    "# 마지막거래후경과일\n",
    "df = tr.groupby(['custid'])['sales_date'].agg([('sales_date', 'max')]).reset_index()\n",
    "df['마지막거래후경과일'] = (pd.to_datetime(df.sales_date) - pd.to_datetime(tr.sales_date.min())).dt.days\n",
    "features.append(df.iloc[:,[0,-1]])\n",
    "\n",
    "# 총구매액\n",
    "df = tr.groupby('custid')['tot_amt'].agg([('총구매액', 'sum')]).reset_index()\n",
    "features.append(df)\n",
    "\n",
    "# 총구매건수\n",
    "df = tr.groupby('custid')['tot_amt'].agg([('총구매건수', 'size')]).reset_index()\n",
    "features.append(df)\n",
    "\n",
    "# 구매제품다양성\n",
    "n = tr.corner_nm.nunique()\n",
    "df = tr.groupby('custid')['brd_nm'].agg([('구매상품다양성', lambda x: len(x.unique()) / n)]).reset_index()\n",
    "features.append(df)\n",
    "\n",
    "# 매장이용다양성\n",
    "n = tr.str_nm.nunique()\n",
    "df = tr.groupby('custid')['str_nm'].agg([('매장이용다양성', lambda x: len(x.unique()) / n)]).reset_index()\n",
    "features.append(df)\n",
    "\n",
    "# 내점일수\n",
    "tr['sdate'] = tr.sales_date.str[:10]\n",
    "df = tr.groupby(by = 'custid')['sdate'].agg([('내점일수','nunique')]).reset_index()\n",
    "features.append(df)\n",
    "\n",
    "# 요일구매패턴 + 주말방문비율\n",
    "def fw(x):\n",
    "    k = x.dayofweek\n",
    "    if k <= 4 :\n",
    "        return('주중_방문')\n",
    "    else :\n",
    "        return('주말_방문')    \n",
    "    \n",
    "df = tr.copy()\n",
    "df = df.drop_duplicates(['custid','sales_date'])\n",
    "\n",
    "df['week'] = pd.to_datetime(df.sales_date).apply(fw)\n",
    "df = pd.pivot_table(df, index='custid', columns='week', values='tot_amt', \n",
    "                   aggfunc=np.size, fill_value=0).reset_index()\n",
    "df['주말방문비율'] = ((df.iloc[:,1] / (df.iloc[:,1]+df.iloc[:,2]))*100).apply(round, args=(1,))\n",
    "features.append(df.iloc[:,[0,-1]])\n",
    "\n",
    "#  계절별 구매건수: Spring(3~5)/Summer(6~8)/Fall(9-11)/Winter(12~2)\n",
    "def f1(x):\n",
    "    k = x.month\n",
    "    if 3 <= k <= 5 :\n",
    "        return('봄-구매건수')\n",
    "    elif 6 <= k <= 8 :\n",
    "        return('여름-구매건수')\n",
    "    elif 9 <= k <= 11 :    \n",
    "        return('가을-구매건수')\n",
    "    else :\n",
    "        return('겨울-구매건수')    \n",
    "    \n",
    "tr['season'] = pd.to_datetime(tr.sales_date).apply(f1)\n",
    "df = pd.pivot_table(tr, index='custid', columns='season', values='tot_amt', \n",
    "                   aggfunc=np.size, fill_value=0).reset_index()\n",
    "features.append(df)\n",
    "\n",
    "# 시간대별 구매건수: Morning(09~12)/Afternoon/(13~17)/Evening(18-20)\n",
    "def f2(x):\n",
    "    if 9 <= x <= 12 :\n",
    "        return('아침_구매건수')\n",
    "    elif 13 <= x <= 17 :\n",
    "        return('점심_구매건수')\n",
    "    else :\n",
    "        return('저녁_구매건수')  # datatime 필드가 시간 형식에 맞지 않은 값을 갖는 경우 저녁시간으로 처리\n",
    "\n",
    "tr['timeslot'] = tr.sales_date.str.split(' |:', expand=True).iloc[:,1].astype(int).apply(f2)\n",
    "df = pd.pivot_table(tr, index='custid', columns='timeslot', values='tot_amt', \n",
    "                   aggfunc=np.size).reset_index()\n",
    "features.append(df)\n",
    "\n",
    "# 요일별 구매건수\n",
    "def f2(x):\n",
    "    k = x.dayofweek\n",
    "    if k <= 2 :\n",
    "        return('월화수_구매건수')\n",
    "    elif 3 <= k < 5 :\n",
    "        return('목금_구매건수')\n",
    "    elif 5 <= k < 6 :\n",
    "        return('토_구매건수')\n",
    "    else :\n",
    "        return('일_구매건수')    \n",
    "    \n",
    "tr['요일2'] = pd.to_datetime(tr.sales_date).apply(f2)\n",
    "df = pd.pivot_table(tr, index='custid', columns='요일2', values='tot_amt', \n",
    "                   aggfunc=np.size, fill_value=0).reset_index()\n",
    "features.append(df)\n",
    "\n",
    "# 계절별 구매 건수 -> 앞당김\n",
    "def f1(x):\n",
    "    k = x.month\n",
    "    if 2 <= k <= 4 :\n",
    "        return('234월_구매건수')\n",
    "    elif 5 <= k <= 7 :\n",
    "        return('567월_구매건수')\n",
    "    elif 8 <= k <= 10 :\n",
    "        return('8910월_구매건수')\n",
    "    else :\n",
    "        return('11121월_구매건수')    \n",
    "    \n",
    "tr['season2'] = pd.to_datetime(tr.sales_date).apply(f1)\n",
    "df = pd.pivot_table(tr, index='custid', columns='season2', values='tot_amt', \n",
    "                   aggfunc=np.size, fill_value=0).reset_index()\n",
    "features.append(df)\n",
    "\n",
    "# 시간대별 구매건수\n",
    "def f2(x):\n",
    "    if 901 <= x < 1200 :\n",
    "        return('12시 이전_구매건수')\n",
    "    elif 1200 <= x < 1400 :\n",
    "        return('12~2시_구매건수')\n",
    "    elif 1400 <= x < 1600 :\n",
    "        return('2~4시_구매건수')\n",
    "    elif 1600 <= x < 1800 :\n",
    "        return('4~6시_구매건수')\n",
    "    else :\n",
    "        return('6시이후_구매건수')  \n",
    "\n",
    "tr['timeslot2'] = tr.sales_time.apply(f2)\n",
    "df = pd.pivot_table(tr, index='custid', columns='timeslot2', values='tot_amt',\n",
    "                   aggfunc=np.size, fill_value=0).reset_index()\n",
    "features.append(df)\n",
    "\n",
    "# 최대구매액, 최대할인액, 평균할인액, 최대할부개월수, 구매상품다양성비, 수입상품구매수, 내점비율, 저녁시간구입비율\n",
    "df = tr.groupby('custid').agg({\n",
    "    'tot_amt': [('최대구매액', 'max')],\n",
    "    'dis_amt': [('dis_sum', 'sum'),('dis_mean', 'mean')],\n",
    "    'inst_mon': [('최대할부개월수', 'max')],\n",
    "    'brd_nm': [('구매상품다양성비', lambda x: x.nunique()/x.count())],\n",
    "    'import_flg': [('수입상품_구매수', 'sum')],\n",
    "    'sales_date': [('내점비율',lambda x: x.str[:10].nunique()/x.count())],\n",
    "    'sales_time': [('저녁시간구입비율', lambda x: np.count_nonzero(x.astype(np.int)[(x>1800)|(x<900)])/ x.count())],\n",
    "    }).reset_index()\n",
    "features.append(df)"
   ]
  },
  {
   "cell_type": "markdown",
   "metadata": {},
   "source": [
    "### 1.2. PCA Feature"
   ]
  },
  {
   "cell_type": "markdown",
   "metadata": {},
   "source": [
    "다양한 파라미터로 실험 가능\n",
    "* pca : max_seq = 300 / max_d = 40 / vc = 0.80"
   ]
  },
  {
   "cell_type": "code",
   "execution_count": 6,
   "metadata": {},
   "outputs": [],
   "source": [
    "def dummy_to_pca(tr, column_name:str, x, y, z) :\n",
    "    \n",
    "    max_seq = x\n",
    "    max_d = y\n",
    "    vc = z\n",
    "    \n",
    "    col_count = tr.groupby(column_name)[column_name].count()\n",
    "    if len(col_count) > max_seq:\n",
    "        tops = col_count.sort_values(ascending=False)[0:max_seq].index\n",
    "        f =tr.loc[tr[column_name].isin(tops)][['custid', column_name]]\n",
    "    else:\n",
    "        tops = col_count.index\n",
    "        f =tr[['custid', column_name]]\n",
    "    f = pd.get_dummies(f, columns=[column_name])  \n",
    "    f = f.groupby('custid').mean()\n",
    "    if len(tops) < max_d:\n",
    "        max_d = len(tops)\n",
    "    pca = PCA(n_components=max_d)\n",
    "    pca.fit(f)\n",
    "    cumsum = np.cumsum(pca.explained_variance_ratio_)\n",
    "    #print(cumsum)\n",
    "    num_d = np.argmax(cumsum >= z) + 1\n",
    "    if num_d == 1:\n",
    "        num_d = max_d\n",
    "    pca = PCA(n_components=num_d)    \n",
    "    result = pca.fit_transform(f)\n",
    "    result = pd.DataFrame(result)\n",
    "    result.columns = [column_name + '_' + str(column) for column in result.columns]\n",
    "    result.index = f.index\n",
    "    return result.reset_index()"
   ]
  },
  {
   "cell_type": "code",
   "execution_count": 7,
   "metadata": {},
   "outputs": [],
   "source": [
    "f = dummy_to_pca(tr, 'brd_nm', 300, 40, 0.8); features.append(f)\n",
    "f = dummy_to_pca(tr, 'corner_nm',300, 40, 0.8); features.append(f)\n",
    "f = dummy_to_pca(tr, 'goodcd',300, 40, 0.8); features.append(f)\n",
    "#f = dummy_to_pca(tr, 'pc_nm',300, 40, 0.8); features.append(f)\n",
    "#f = dummy_to_pca(tr, 'part_nm',300, 40, 0.8); features.append(f)\n",
    "#f = dummy_to_pca(tr, 'buyer_nm',300, 40, 0.8); features.append(f)\n",
    "#f = dummy_to_pca(tr, 'team_nm',300, 40, 0.8); features.append(f)\n",
    "#f = dummy_to_pca(tr, 'str_nm',300, 40, 0.8); features.append(f)\n",
    "\n",
    "tr['month'] = pd.to_datetime(tr['sales_date']).dt.month.astype(str)\n",
    "f = dummy_to_pca(tr, 'month',300, 40, 0.8); features.append(f)\n",
    "\n",
    "tr['week'] = pd.to_datetime(tr['sales_date']).dt.dayofweek.astype(str)\n",
    "f = dummy_to_pca(tr, 'week',300, 40, 0.8); features.append(f)\n",
    "\n",
    "tr['time'] = np.floor(tr['sales_time']/100).astype(int).astype(str)\n",
    "f = dummy_to_pca(tr, 'time',300, 40, 0.8); features.append(f)"
   ]
  },
  {
   "cell_type": "markdown",
   "metadata": {},
   "source": [
    "### 1.3 Pivot Table"
   ]
  },
  {
   "cell_type": "code",
   "execution_count": 25,
   "metadata": {},
   "outputs": [],
   "source": [
    "def makePivot(col,value):\n",
    "    \n",
    "    # test id\n",
    "    IDtest = list(range(30000,49995))\n",
    "    \n",
    "    train = pd.pivot_table(tr, index = 'custid', columns=col, values= value,\n",
    "                           fill_value=0).reset_index(). \\\n",
    "                             query('custid not in @IDtest').drop(columns=['custid'])\n",
    "    test = pd.pivot_table(tr, index='custid', columns=col, values = value,\n",
    "                          fill_value=0).reset_index(). \\\n",
    "                             query('custid in @IDtest').drop(columns=['custid'])\n",
    "        \n",
    "    return train, test"
   ]
  },
  {
   "cell_type": "code",
   "execution_count": 26,
   "metadata": {},
   "outputs": [],
   "source": [
    "train_1, test_1 = makePivot('str_nm','tot_amt')\n",
    "train_2, test_2 = makePivot('pc_nm','tot_amt')\n",
    "train_3, test_3 = makePivot('part_nm','tot_amt')\n",
    "train_4, test_4 = makePivot('team_nm','tot_amt')\n",
    "train_5, test_5 = makePivot('buyer_nm','tot_amt')"
   ]
  },
  {
   "cell_type": "markdown",
   "metadata": {},
   "source": [
    "### 1.4 결합 : Base Feature + PCA Feature + Pivot table"
   ]
  },
  {
   "cell_type": "code",
   "execution_count": 27,
   "metadata": {},
   "outputs": [
    {
     "name": "stderr",
     "output_type": "stream",
     "text": [
      "C:\\ProgramData\\Anaconda3\\lib\\site-packages\\pandas\\core\\reshape\\merge.py:544: UserWarning: merging between different levels can give an unintended result (1 levels on the left, 2 on the right)\n",
      "  warnings.warn(msg, UserWarning)\n",
      "C:\\ProgramData\\Anaconda3\\lib\\site-packages\\pandas\\core\\reshape\\merge.py:544: UserWarning: merging between different levels can give an unintended result (1 levels on the left, 2 on the right)\n",
      "  warnings.warn(msg, UserWarning)\n"
     ]
    },
    {
     "name": "stdout",
     "output_type": "stream",
     "text": [
      "(30000, 186) (19995, 186)\n"
     ]
    }
   ],
   "source": [
    "train_X = pd.DataFrame({'custid': tr_train.custid.unique()})\n",
    "for f in features :\n",
    "    train_X = pd.merge(train_X, f, how='left',on='custid')\n",
    "\n",
    "train_X = train_X.set_index('custid')\n",
    "test_X = pd.DataFrame({'custid': tr_test.custid.unique()})\n",
    "for f in features :\n",
    "    test_X = pd.merge(test_X, f, how='left',on='custid')\n",
    "\n",
    "    \n",
    "test_X = test_X.set_index('custid')\n",
    "print(train_X.shape, test_X.shape)"
   ]
  },
  {
   "cell_type": "code",
   "execution_count": 28,
   "metadata": {},
   "outputs": [
    {
     "name": "stdout",
     "output_type": "stream",
     "text": [
      "(30000, 339) (19995, 339)\n"
     ]
    }
   ],
   "source": [
    "# pivot + pca\n",
    "X_train = pd.concat([train_X, train_1, train_2, train_3, train_4, train_5], axis = 1) \n",
    "X_test = pd.concat([test_X, test_1, test_2, test_3, test_4, test_5], axis = 1)\n",
    "\n",
    "print(X_train.shape, X_test.shape)"
   ]
  },
  {
   "cell_type": "markdown",
   "metadata": {},
   "source": [
    "### 1.5 파생변수"
   ]
  },
  {
   "cell_type": "code",
   "execution_count": 29,
   "metadata": {},
   "outputs": [
    {
     "name": "stdout",
     "output_type": "stream",
     "text": [
      "(30000, 350) (19995, 350)\n"
     ]
    }
   ],
   "source": [
    "X_train['평균내점구매액'] = X_train['총구매액']/X_train['내점일수']\n",
    "X_train['주중방문비율'] = (100 - X_train['주말방문비율'])\n",
    "X_train['국내상품_구매비율'] = (100 - X_train['수입상품구매비율'])\n",
    "X_train['할부구매가격'] = X_train['평균구매가격'] / X_train['평균할부개월수']\n",
    "X_train['구매상품다양성'] = X_train['총구매액'] / X_train['구매상품다양성']\n",
    "X_train['주말방문수'] = (X_train['주말방문비율'] * X_train['내점일수']) / 100\n",
    "X_train['주말방문수'] = X_train['주말방문수'].astype('int64')\n",
    "X_train['주중방문수'] = X_train['내점일수'] - X_train['주말방문수']\n",
    "X_train['주중방문수'] = X_train['주중방문수'].astype('int64')\n",
    "X_train['내점당평균구매건수'] = X_train['총구매건수']/X_train['내점일수']\n",
    "X_train['주중구매액'] = X_train['총구매액']*(X_train['주중방문비율']/100)\n",
    "X_train['주말구매액'] = X_train['총구매액'] - X_train['주중구매액']\n",
    "X_train[\"평균할인율\"] = (X_train[\"평균할인금액\"] / X_train[\"평균구매가격\"])*100\n",
    "X_test['평균내점구매액'] = X_test['총구매액']/X_test['내점일수']\n",
    "X_train[\"토_비율\"] = (X_train[\"토_구매건수\"] / X_train[\"총구매건수\"])*100\n",
    "X_train[\"일_비율\"] = (X_train[\"일_구매건수\"] / X_train[\"총구매건수\"])*100\n",
    "\n",
    "X_test['주중방문비율'] = (100 - X_test['주말방문비율'])\n",
    "X_test['국내상품_구매비율'] = (100 - X_test['수입상품구매비율'])\n",
    "X_test['할부구매가격'] = X_test['평균구매가격'] / X_test['평균할부개월수']\n",
    "X_test['구매상품다양성'] = X_test['총구매액'] / X_test['구매상품다양성']\n",
    "X_test['주말방문수'] = (X_test['주말방문비율'] * X_test['내점일수']) / 100\n",
    "X_test['주말방문수'] = X_test['주말방문수'].astype('int64')\n",
    "X_test['주중방문수'] = X_test['내점일수'] - X_test['주말방문수']\n",
    "X_test['주중방문수'] = X_test['주중방문수'].astype('int64')\n",
    "X_test['내점당평균구매건수'] = X_test['총구매건수']/X_test['내점일수']\n",
    "X_test['주중구매액'] = X_test['총구매액']*(X_test['주중방문비율']/100)\n",
    "X_test['주말구매액'] = X_test['총구매액'] - X_test['주중구매액']\n",
    "X_test[\"평균할인율\"] = (X_test[\"평균할인금액\"] / X_test[\"평균구매가격\"])*100\n",
    "X_test[\"토_비율\"] = (X_test[\"토_구매건수\"] / X_test[\"총구매건수\"])*100\n",
    "X_test[\"일_비율\"] = (X_test[\"일_구매건수\"] / X_test[\"총구매건수\"])*100\n",
    "\n",
    "X_train.fillna(0, inplace=True)\n",
    "X_test.fillna(0, inplace=True)\n",
    "\n",
    "print(X_train.shape, X_test.shape)"
   ]
  },
  {
   "cell_type": "markdown",
   "metadata": {},
   "source": [
    "## 2. 데이터 전처리"
   ]
  },
  {
   "cell_type": "code",
   "execution_count": 40,
   "metadata": {},
   "outputs": [],
   "source": [
    "scaler = StandardScaler()\n",
    "X_train = scaler.fit_transform(X_train)\n",
    "X_test = scaler.fit_transform(X_test)"
   ]
  },
  {
   "cell_type": "markdown",
   "metadata": {},
   "source": [
    "## 3. 여러 모델 시험"
   ]
  },
  {
   "cell_type": "code",
   "execution_count": 41,
   "metadata": {},
   "outputs": [],
   "source": [
    "y_train = pd.read_csv('y_train.csv', encoding = 'cp949').gender"
   ]
  },
  {
   "cell_type": "code",
   "execution_count": 42,
   "metadata": {},
   "outputs": [],
   "source": [
    "# kfold\n",
    "kfold = StratifiedKFold(n_splits=5)\n",
    "\n",
    "# random seed\n",
    "random_state = 1234"
   ]
  },
  {
   "cell_type": "code",
   "execution_count": 43,
   "metadata": {},
   "outputs": [
    {
     "name": "stdout",
     "output_type": "stream",
     "text": [
      "<class 'sklearn.svm.classes.SVC'>\n",
      "\n",
      "--- 827 seconds ---\n",
      "<class 'xgboost.sklearn.XGBClassifier'>\n",
      "\n",
      "--- 97 seconds ---\n",
      "<class 'lightgbm.sklearn.LGBMClassifier'>\n",
      "\n",
      "--- 26 seconds ---\n",
      "<class 'sklearn.ensemble.forest.RandomForestClassifier'>\n",
      "\n",
      "--- 6 seconds ---\n",
      "<class 'sklearn.ensemble.gradient_boosting.GradientBoostingClassifier'>\n",
      "\n",
      "--- 136 seconds ---\n",
      "<class 'sklearn.neural_network.multilayer_perceptron.MLPClassifier'>\n",
      "\n",
      "--- 120 seconds ---\n",
      "<class 'sklearn.neighbors.classification.KNeighborsClassifier'>\n",
      "\n",
      "--- 150 seconds ---\n",
      "<class 'sklearn.linear_model.logistic.LogisticRegression'>\n",
      "\n",
      "--- 20 seconds ---\n",
      "<class 'sklearn.discriminant_analysis.LinearDiscriminantAnalysis'>\n",
      "\n",
      "--- 6 seconds ---\n",
      "\n",
      "--- 1389 seconds ---\n"
     ]
    },
    {
     "data": {
      "image/png": "[encoded data removed]",
      "text/plain": [
       "<Figure size 432x288 with 1 Axes>"
      ]
     },
     "metadata": {
      "needs_background": "light"
     },
     "output_type": "display_data"
    }
   ],
   "source": [
    "st_time = time.time() \n",
    "\n",
    "# append classifier\n",
    "classifiers = []\n",
    "classifiers.append(SVC(random_state=random_state))\n",
    "classifiers.append(XGBClassifier())\n",
    "classifiers.append(LGBMClassifier())\n",
    "classifiers.append(RandomForestClassifier(random_state=random_state))\n",
    "classifiers.append(GradientBoostingClassifier(random_state=random_state))\n",
    "classifiers.append(MLPClassifier(random_state=random_state))\n",
    "classifiers.append(KNeighborsClassifier())\n",
    "classifiers.append(LogisticRegression(random_state = random_state))\n",
    "classifiers.append(LinearDiscriminantAnalysis())\n",
    "\n",
    "# Train each model\n",
    "cv_results = []\n",
    "for classifier in classifiers :\n",
    "    start_time = time.time() \n",
    "    print(classifier.__class__)\n",
    "    cv_results.append(cross_val_score(classifier, X_train, y = y_train, scoring = \"roc_auc\", cv = kfold, n_jobs=-1))\n",
    "    print(\"\\n--- %s seconds ---\" %(round(time.time() - start_time)))\n",
    "\n",
    "cv_means = []\n",
    "cv_std = []\n",
    "\n",
    "# result\n",
    "for cv_result in cv_results:\n",
    "    cv_means.append(cv_result.mean())\n",
    "    cv_std.append(cv_result.std())\n",
    "\n",
    "cv_res = pd.DataFrame({\"CrossValMeans\":cv_means,\"CrossValerrors\": cv_std,\"Algorithm\":[\"SVC\",\"XGB\",'LGBM',\"RandomForest\",\"GradientBoosting\",\"MultipleLayerPerceptron\",\"KNeighboors\",\"LogisticRegression\",\"LinearDiscriminantAnalysis\"]})\n",
    "\n",
    "# visualization\n",
    "g = sns.barplot(\"CrossValMeans\",\"Algorithm\",data = cv_res, palette=\"Set3\",orient = \"h\",**{'xerr':cv_std})\n",
    "g.set_xlabel(\"Mean Accuracy\")\n",
    "g = g.set_title(\"Cross validation scores\")\n",
    "\n",
    "print(\"\\n--- %s seconds ---\" %(round(time.time() - st_time)))"
   ]
  },
  {
   "cell_type": "code",
   "execution_count": 45,
   "metadata": {},
   "outputs": [
    {
     "data": {
      "text/html": [
       "<div>\n",
       "<style scoped>\n",
       "    .dataframe tbody tr th:only-of-type {\n",
       "        vertical-align: middle;\n",
       "    }\n",
       "\n",
       "    .dataframe tbody tr th {\n",
       "        vertical-align: top;\n",
       "    }\n",
       "\n",
       "    .dataframe thead th {\n",
       "        text-align: right;\n",
       "    }\n",
       "</style>\n",
       "<table border=\"1\" class=\"dataframe\">\n",
       "  <thead>\n",
       "    <tr style=\"text-align: right;\">\n",
       "      <th></th>\n",
       "      <th>CrossValMeans</th>\n",
       "      <th>CrossValerrors</th>\n",
       "      <th>Algorithm</th>\n",
       "    </tr>\n",
       "  </thead>\n",
       "  <tbody>\n",
       "    <tr>\n",
       "      <th>1</th>\n",
       "      <td>0.699767</td>\n",
       "      <td>0.004553</td>\n",
       "      <td>XGB</td>\n",
       "    </tr>\n",
       "    <tr>\n",
       "      <th>4</th>\n",
       "      <td>0.698102</td>\n",
       "      <td>0.004661</td>\n",
       "      <td>GradientBoosting</td>\n",
       "    </tr>\n",
       "    <tr>\n",
       "      <th>2</th>\n",
       "      <td>0.694561</td>\n",
       "      <td>0.005442</td>\n",
       "      <td>LGBM</td>\n",
       "    </tr>\n",
       "    <tr>\n",
       "      <th>8</th>\n",
       "      <td>0.688638</td>\n",
       "      <td>0.004108</td>\n",
       "      <td>LinearDiscriminantAnalysis</td>\n",
       "    </tr>\n",
       "    <tr>\n",
       "      <th>7</th>\n",
       "      <td>0.688497</td>\n",
       "      <td>0.004668</td>\n",
       "      <td>LogisticRegression</td>\n",
       "    </tr>\n",
       "    <tr>\n",
       "      <th>0</th>\n",
       "      <td>0.667052</td>\n",
       "      <td>0.006204</td>\n",
       "      <td>SVC</td>\n",
       "    </tr>\n",
       "    <tr>\n",
       "      <th>3</th>\n",
       "      <td>0.623078</td>\n",
       "      <td>0.010345</td>\n",
       "      <td>RandomForest</td>\n",
       "    </tr>\n",
       "    <tr>\n",
       "      <th>5</th>\n",
       "      <td>0.601618</td>\n",
       "      <td>0.003364</td>\n",
       "      <td>MultipleLayerPerceptron</td>\n",
       "    </tr>\n",
       "    <tr>\n",
       "      <th>6</th>\n",
       "      <td>0.590637</td>\n",
       "      <td>0.006242</td>\n",
       "      <td>KNeighboors</td>\n",
       "    </tr>\n",
       "  </tbody>\n",
       "</table>\n",
       "</div>"
      ],
      "text/plain": [
       "   CrossValMeans  CrossValerrors                   Algorithm\n",
       "1       0.699767        0.004553                         XGB\n",
       "4       0.698102        0.004661            GradientBoosting\n",
       "2       0.694561        0.005442                        LGBM\n",
       "8       0.688638        0.004108  LinearDiscriminantAnalysis\n",
       "7       0.688497        0.004668          LogisticRegression\n",
       "0       0.667052        0.006204                         SVC\n",
       "3       0.623078        0.010345                RandomForest\n",
       "5       0.601618        0.003364     MultipleLayerPerceptron\n",
       "6       0.590637        0.006242                 KNeighboors"
      ]
     },
     "execution_count": 45,
     "metadata": {},
     "output_type": "execute_result"
    }
   ],
   "source": [
    "cv_res.sort_values('CrossValMeans', ascending=False)"
   ]
  },
  {
   "cell_type": "markdown",
   "metadata": {},
   "source": [
    "## 4. 본격적인 모델 학습"
   ]
  },
  {
   "cell_type": "markdown",
   "metadata": {},
   "source": [
    "### 4.1 Xgboost"
   ]
  },
  {
   "cell_type": "code",
   "execution_count": 91,
   "metadata": {},
   "outputs": [],
   "source": [
    "def train_xgb(train_data, test_data) :\n",
    "    \n",
    "    global xgb_best\n",
    "    global xgb\n",
    "    \n",
    "    # start time\n",
    "    start_time = time.time() \n",
    "\n",
    "    # xgboost\n",
    "    XGB = XGBClassifier(random_state=random_state)\n",
    "\n",
    "    # search parameter              \n",
    "    param_grid = {'n_estimators' : [100],'learning_rate': [0.03],\n",
    "                  'max_depth': [3],'min_child_weight' : [1],\n",
    "                  'objective' : ['binary:logistic']}\n",
    "\n",
    "    xgb = GridSearchCV(XGB, param_grid = param_grid, cv = 5, scoring = \"accuracy\", n_jobs = -1, verbose = 1)\n",
    "\n",
    "    # train\n",
    "    xgb.fit(train_data, y_train)\n",
    "\n",
    "    # best model\n",
    "    xgb_best = xgb.best_estimator_\n",
    "    print('* best parameter : {}'.format(xgb.best_estimator_))\n",
    "\n",
    "    # Best score\n",
    "    print('* best score : {}'.format(xgb.best_score_))\n",
    "    \n",
    "    # score\n",
    "    pred = xgb.predict_proba(X_train)[:,1]\n",
    "    score = roc_auc_score(y_train, pred)\n",
    "    print('* score {}'.format(score))\n",
    "\n",
    "    # predict\n",
    "    xgb_pred = xgb_best.predict_proba(test_data)[:,1]\n",
    "\n",
    "    # time check\n",
    "    print(\"\\n\\n--- %s seconds ---\" %(round(time.time() - start_time)))\n",
    "    \n",
    "    # return\n",
    "    return xgb_pred"
   ]
  },
  {
   "cell_type": "markdown",
   "metadata": {},
   "source": [
    "### 4.2 GBM"
   ]
  },
  {
   "cell_type": "code",
   "execution_count": 92,
   "metadata": {},
   "outputs": [],
   "source": [
    "def train_gbm(train_data, test_data) :\n",
    "    \n",
    "    global gbc_best\n",
    "    global gbc\n",
    "    \n",
    "    # start time\n",
    "    start_time = time.time() \n",
    "\n",
    "    # grid search\n",
    "    param_grid = {'loss' : [\"deviance\"],'n_estimators' : [100],'learning_rate': [0.05],\n",
    "                  'max_depth': [1],'max_features': [3] }\n",
    "\n",
    "    # Gradient boosting tunning\n",
    "    GBC = GradientBoostingClassifier()\n",
    "\n",
    "    # grid search\n",
    "    gbc = GridSearchCV(GBC, param_grid = param_grid, cv = 5, scoring = \"accuracy\", n_jobs = -1, verbose = 2)\n",
    "\n",
    "    # train\n",
    "    gbc.fit(train_data,y_train)\n",
    "\n",
    "    # best model\n",
    "    gbc_best = gbc.best_estimator_\n",
    "    print('best parameter : {}'.format(gbc.best_estimator_))\n",
    "\n",
    "    # Best score\n",
    "    print('best score : {}'.format(gbc.best_score_))\n",
    "    \n",
    "    # score\n",
    "    pred = gbc.predict_proba(X_train)[:,1]\n",
    "    score = roc_auc_score(y_train, pred)\n",
    "    print('* score {}'.format(score))    \n",
    "\n",
    "    # predict\n",
    "    gbm_pred = gbc_best.predict_proba(test_data)[:,1]\n",
    "\n",
    "    # time checkb\n",
    "    print(\"--- %s seconds ---\" %(round(time.time() - start_time)))\n",
    "    \n",
    "    return gbm_pred"
   ]
  },
  {
   "cell_type": "markdown",
   "metadata": {},
   "source": [
    "### 4.3 Light GBM"
   ]
  },
  {
   "cell_type": "code",
   "execution_count": 93,
   "metadata": {},
   "outputs": [],
   "source": [
    "def train_lgb(train_data, test_data):\n",
    "    \n",
    "    global lgbm\n",
    "    global lgbm_best\n",
    "    \n",
    "    # start time\n",
    "    start_time = time.time() \n",
    "    \n",
    "    # grid search\n",
    "    param_grid = {'n_estimators' : [1000],'learning_rate': [0.01],\n",
    "                  'max_depth': [5],'reg_alpha': [0.1],'reg_lambda': [1],'num_leaves' : [15]}\n",
    "    \n",
    "    # lgbm\n",
    "    LGBM = LGBMClassifier()\n",
    "    \n",
    "    # model\n",
    "    lgbm = GridSearchCV(LGBM, param_grid = param_grid, cv = 5, scoring=\"roc_auc\", n_jobs = -1, verbose = 1)\n",
    "\n",
    "    # train\n",
    "    lgbm.fit(train_data, y_train)\n",
    "    \n",
    "    # Best score\n",
    "    print('best score : {}'.format(lgbm.best_score_))\n",
    "    \n",
    "    # score\n",
    "    pred = lgbm.predict_proba(X_train)[:,1]\n",
    "    score = roc_auc_score(y_train, pred)\n",
    "    print('* score {}'.format(score))        \n",
    "    \n",
    "    # pred       \n",
    "    lgb_pred = lgbm.predict_proba(test_data)[:,1]\n",
    "    \n",
    "    # time check\n",
    "    print(\"\\n\\n--- %s seconds ---\" %(round(time.time() - start_time)))\n",
    "    \n",
    "    return lgb_pred"
   ]
  },
  {
   "cell_type": "markdown",
   "metadata": {},
   "source": [
    "## 4. Ensemble"
   ]
  },
  {
   "cell_type": "code",
   "execution_count": 94,
   "metadata": {},
   "outputs": [],
   "source": [
    "def my_ensemble(train_data, test_data) :\n",
    "    \n",
    "    # start time\n",
    "    start_time = time.time()\n",
    "    \n",
    "    global xgb_pred\n",
    "    global gbc_pred\n",
    "    global lgbm_pred\n",
    "    \n",
    "    # xgb\n",
    "    xgb_pred = train_xgb(train_data, test_data)\n",
    "    \n",
    "    # lgbm \n",
    "    lgbm_pred = train_lgb(train_data, test_data)\n",
    "    \n",
    "    # gbc\n",
    "    gbc_pred = train_gbm(train_data,test_data)\n",
    "        \n",
    "    # ensemble\n",
    "    pred = (xgb_pred + lgbm_pred + gbc_pred) / 3\n",
    "    \n",
    "    # time check\n",
    "    print(\"\\n\\n--- %s seconds ---\" %(round(time.time() - start_time)))\n",
    "    \n",
    "    return pred"
   ]
  },
  {
   "cell_type": "code",
   "execution_count": 95,
   "metadata": {},
   "outputs": [
    {
     "name": "stdout",
     "output_type": "stream",
     "text": [
      "Fitting 5 folds for each of 1 candidates, totalling 5 fits\n"
     ]
    },
    {
     "name": "stderr",
     "output_type": "stream",
     "text": [
      "[Parallel(n_jobs=-1)]: Using backend LokyBackend with 8 concurrent workers.\n",
      "[Parallel(n_jobs=-1)]: Done   2 out of   5 | elapsed:  1.6min remaining:  2.4min\n",
      "[Parallel(n_jobs=-1)]: Done   5 out of   5 | elapsed:  1.6min finished\n"
     ]
    },
    {
     "name": "stdout",
     "output_type": "stream",
     "text": [
      "* best parameter : XGBClassifier(base_score=0.5, booster='gbtree', colsample_bylevel=1,\n",
      "       colsample_bytree=1, gamma=0, learning_rate=0.03, max_delta_step=0,\n",
      "       max_depth=3, min_child_weight=1, missing=None, n_estimators=100,\n",
      "       n_jobs=1, nthread=None, objective='binary:logistic',\n",
      "       random_state=1234, reg_alpha=0, reg_lambda=1, scale_pos_weight=1,\n",
      "       seed=None, silent=True, subsample=1)\n",
      "* best score : 0.7114666666666667\n",
      "* score 0.7069091384276713\n",
      "\n",
      "\n",
      "--- 159 seconds ---\n",
      "Fitting 5 folds for each of 1 candidates, totalling 5 fits\n"
     ]
    },
    {
     "name": "stderr",
     "output_type": "stream",
     "text": [
      "[Parallel(n_jobs=-1)]: Using backend LokyBackend with 8 concurrent workers.\n",
      "[Parallel(n_jobs=-1)]: Done   2 out of   5 | elapsed:  2.2min remaining:  3.3min\n",
      "[Parallel(n_jobs=-1)]: Done   5 out of   5 | elapsed:  2.3min finished\n"
     ]
    },
    {
     "name": "stdout",
     "output_type": "stream",
     "text": [
      "best score : 0.7018307455450675\n",
      "* score 0.7935527210323063\n",
      "\n",
      "\n",
      "--- 225 seconds ---\n",
      "Fitting 5 folds for each of 1 candidates, totalling 5 fits\n"
     ]
    },
    {
     "name": "stderr",
     "output_type": "stream",
     "text": [
      "[Parallel(n_jobs=-1)]: Using backend LokyBackend with 8 concurrent workers.\n",
      "[Parallel(n_jobs=-1)]: Done   2 out of   5 | elapsed:    2.9s remaining:    4.3s\n",
      "[Parallel(n_jobs=-1)]: Done   5 out of   5 | elapsed:    2.9s remaining:    0.0s\n",
      "[Parallel(n_jobs=-1)]: Done   5 out of   5 | elapsed:    2.9s finished\n"
     ]
    },
    {
     "name": "stdout",
     "output_type": "stream",
     "text": [
      "best parameter : GradientBoostingClassifier(criterion='friedman_mse', init=None,\n",
      "              learning_rate=0.05, loss='deviance', max_depth=1,\n",
      "              max_features=3, max_leaf_nodes=None,\n",
      "              min_impurity_decrease=0.0, min_impurity_split=None,\n",
      "              min_samples_leaf=1, min_samples_split=2,\n",
      "              min_weight_fraction_leaf=0.0, n_estimators=100,\n",
      "              n_iter_no_change=None, presort='auto', random_state=None,\n",
      "              subsample=1.0, tol=0.0001, validation_fraction=0.1,\n",
      "              verbose=0, warm_start=False)\n",
      "best score : 0.6961333333333334\n",
      "* score 0.6589355674882453\n",
      "--- 5 seconds ---\n",
      "\n",
      "\n",
      "--- 388 seconds ---\n"
     ]
    }
   ],
   "source": [
    "pred = my_ensemble(X_train, X_test)"
   ]
  },
  {
   "cell_type": "markdown",
   "metadata": {},
   "source": [
    "## 5. Submission"
   ]
  },
  {
   "cell_type": "code",
   "execution_count": 49,
   "metadata": {},
   "outputs": [
    {
     "data": {
      "text/plain": [
       "'05-23'"
      ]
     },
     "metadata": {},
     "output_type": "display_data"
    }
   ],
   "source": [
    "# time check\n",
    "dt = datetime.today().strftime(\"%m-%d\") ; display(dt)\n",
    "\n",
    "# test_custid\n",
    "test_custid = list(range(30000, 49995))"
   ]
  },
  {
   "cell_type": "code",
   "execution_count": 50,
   "metadata": {},
   "outputs": [
    {
     "name": "stdout",
     "output_type": "stream",
     "text": [
      "submission shape : (19995, 2)\n",
      "'./submission/05-23pca + xgb.csv' is ready to submit.\n"
     ]
    }
   ],
   "source": [
    "fname = './submission/' + dt + 'pca + xgb.csv'\n",
    "submissions = pd.concat([pd.Series(test_custid, name=\"custid\"), pd.Series(pred , name=\"gender\")] ,axis=1)\n",
    "submissions.to_csv(fname, index=False)\n",
    "\n",
    "print('submission shape : {}'.format(submissions.shape))\n",
    "print(\"'{}' is ready to submit.\" .format(fname))"
   ]
  }
 ],
 "metadata": {
  "kernelspec": {
   "display_name": "Python 3",
   "language": "python",
   "name": "python3"
  },
  "language_info": {
   "codemirror_mode": {
    "name": "ipython",
    "version": 3
   },
   "file_extension": ".py",
   "mimetype": "text/x-python",
   "name": "python",
   "nbconvert_exporter": "python",
   "pygments_lexer": "ipython3",
   "version": "3.7.1"
  },
  "toc": {
   "base_numbering": 1,
   "nav_menu": {},
   "number_sections": false,
   "sideBar": true,
   "skip_h1_title": true,
   "title_cell": "Table of Contents",
   "title_sidebar": "Contents",
   "toc_cell": false,
   "toc_position": {},
   "toc_section_display": true,
   "toc_window_display": true
  }
 },
 "nbformat": 4,
 "nbformat_minor": 2
}

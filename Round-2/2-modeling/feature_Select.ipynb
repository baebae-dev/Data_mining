{
 "cells": [
  {
   "cell_type": "code",
   "execution_count": 77,
   "metadata": {},
   "outputs": [],
   "source": [
    "import pandas as pd\n",
    "import numpy as np\n",
    "import matplotlib.pyplot as plt\n",
    "%matplotlib inline"
   ]
  },
  {
   "cell_type": "code",
   "execution_count": 78,
   "metadata": {},
   "outputs": [
    {
     "data": {
      "text/html": [
       "<div>\n",
       "<style scoped>\n",
       "    .dataframe tbody tr th:only-of-type {\n",
       "        vertical-align: middle;\n",
       "    }\n",
       "\n",
       "    .dataframe tbody tr th {\n",
       "        vertical-align: top;\n",
       "    }\n",
       "\n",
       "    .dataframe thead th {\n",
       "        text-align: right;\n",
       "    }\n",
       "</style>\n",
       "<table border=\"1\" class=\"dataframe\">\n",
       "  <thead>\n",
       "    <tr style=\"text-align: right;\">\n",
       "      <th></th>\n",
       "      <th>custid</th>\n",
       "      <th>sales_date</th>\n",
       "      <th>sales_time</th>\n",
       "      <th>str_nm</th>\n",
       "      <th>goodcd</th>\n",
       "      <th>brd_nm</th>\n",
       "      <th>corner_nm</th>\n",
       "      <th>pc_nm</th>\n",
       "      <th>part_nm</th>\n",
       "      <th>team_nm</th>\n",
       "      <th>buyer_nm</th>\n",
       "      <th>import_flg</th>\n",
       "      <th>tot_amt</th>\n",
       "      <th>dis_amt</th>\n",
       "      <th>net_amt</th>\n",
       "      <th>inst_mon</th>\n",
       "      <th>inst_fee</th>\n",
       "    </tr>\n",
       "  </thead>\n",
       "  <tbody>\n",
       "    <tr>\n",
       "      <th>0</th>\n",
       "      <td>0</td>\n",
       "      <td>2000-06-25 00:00:00</td>\n",
       "      <td>1212</td>\n",
       "      <td>무역점</td>\n",
       "      <td>2116050008000</td>\n",
       "      <td>에스티로더</td>\n",
       "      <td>수입종합화장품</td>\n",
       "      <td>화장품</td>\n",
       "      <td>명품잡화</td>\n",
       "      <td>잡화가용팀</td>\n",
       "      <td>화장품</td>\n",
       "      <td>1</td>\n",
       "      <td>90000</td>\n",
       "      <td>9000</td>\n",
       "      <td>81000</td>\n",
       "      <td>3</td>\n",
       "      <td>0</td>\n",
       "    </tr>\n",
       "    <tr>\n",
       "      <th>1</th>\n",
       "      <td>0</td>\n",
       "      <td>2000-06-25 00:00:00</td>\n",
       "      <td>1242</td>\n",
       "      <td>무역점</td>\n",
       "      <td>4125440008000</td>\n",
       "      <td>시슬리</td>\n",
       "      <td>수입종합화장품</td>\n",
       "      <td>화장품</td>\n",
       "      <td>명품잡화</td>\n",
       "      <td>잡화가용팀</td>\n",
       "      <td>화장품</td>\n",
       "      <td>1</td>\n",
       "      <td>39000</td>\n",
       "      <td>3900</td>\n",
       "      <td>35100</td>\n",
       "      <td>1</td>\n",
       "      <td>0</td>\n",
       "    </tr>\n",
       "    <tr>\n",
       "      <th>2</th>\n",
       "      <td>0</td>\n",
       "      <td>2000-08-26 00:00:00</td>\n",
       "      <td>1810</td>\n",
       "      <td>본점</td>\n",
       "      <td>2116052008000</td>\n",
       "      <td>크리니크</td>\n",
       "      <td>수입종합화장품</td>\n",
       "      <td>화장품</td>\n",
       "      <td>잡화파트</td>\n",
       "      <td>잡화가용팀</td>\n",
       "      <td>화장품</td>\n",
       "      <td>1</td>\n",
       "      <td>175000</td>\n",
       "      <td>17500</td>\n",
       "      <td>157500</td>\n",
       "      <td>3</td>\n",
       "      <td>0</td>\n",
       "    </tr>\n",
       "    <tr>\n",
       "      <th>3</th>\n",
       "      <td>0</td>\n",
       "      <td>2000-08-26 00:00:00</td>\n",
       "      <td>1830</td>\n",
       "      <td>본점</td>\n",
       "      <td>4106430119900</td>\n",
       "      <td>듀퐁</td>\n",
       "      <td>수입의류</td>\n",
       "      <td>명품토탈</td>\n",
       "      <td>잡화파트</td>\n",
       "      <td>잡화가용팀</td>\n",
       "      <td>수입명품</td>\n",
       "      <td>1</td>\n",
       "      <td>455000</td>\n",
       "      <td>45500</td>\n",
       "      <td>409500</td>\n",
       "      <td>3</td>\n",
       "      <td>0</td>\n",
       "    </tr>\n",
       "    <tr>\n",
       "      <th>4</th>\n",
       "      <td>0</td>\n",
       "      <td>2000-09-03 00:00:00</td>\n",
       "      <td>1802</td>\n",
       "      <td>무역점</td>\n",
       "      <td>2139141008000</td>\n",
       "      <td>랑콤</td>\n",
       "      <td>수입종합화장품</td>\n",
       "      <td>화장품</td>\n",
       "      <td>명품잡화</td>\n",
       "      <td>잡화가용팀</td>\n",
       "      <td>화장품</td>\n",
       "      <td>0</td>\n",
       "      <td>100000</td>\n",
       "      <td>10000</td>\n",
       "      <td>90000</td>\n",
       "      <td>3</td>\n",
       "      <td>0</td>\n",
       "    </tr>\n",
       "  </tbody>\n",
       "</table>\n",
       "</div>"
      ],
      "text/plain": [
       "   custid           sales_date  sales_time str_nm         goodcd brd_nm  \\\n",
       "0       0  2000-06-25 00:00:00        1212    무역점  2116050008000  에스티로더   \n",
       "1       0  2000-06-25 00:00:00        1242    무역점  4125440008000    시슬리   \n",
       "2       0  2000-08-26 00:00:00        1810     본점  2116052008000   크리니크   \n",
       "3       0  2000-08-26 00:00:00        1830     본점  4106430119900     듀퐁   \n",
       "4       0  2000-09-03 00:00:00        1802    무역점  2139141008000     랑콤   \n",
       "\n",
       "  corner_nm pc_nm part_nm team_nm buyer_nm  import_flg  tot_amt  dis_amt  \\\n",
       "0   수입종합화장품   화장품    명품잡화   잡화가용팀      화장품           1    90000     9000   \n",
       "1   수입종합화장품   화장품    명품잡화   잡화가용팀      화장품           1    39000     3900   \n",
       "2   수입종합화장품   화장품    잡화파트   잡화가용팀      화장품           1   175000    17500   \n",
       "3      수입의류  명품토탈    잡화파트   잡화가용팀     수입명품           1   455000    45500   \n",
       "4   수입종합화장품   화장품    명품잡화   잡화가용팀      화장품           0   100000    10000   \n",
       "\n",
       "   net_amt  inst_mon  inst_fee  \n",
       "0    81000         3         0  \n",
       "1    35100         1         0  \n",
       "2   157500         3         0  \n",
       "3   409500         3         0  \n",
       "4    90000         3         0  "
      ]
     },
     "execution_count": 78,
     "metadata": {},
     "output_type": "execute_result"
    }
   ],
   "source": [
    "df_train = pd.read_csv('X_train.csv', encoding='cp949')\n",
    "df_test = pd.read_csv('X_test.csv', encoding='cp949')\n",
    "y_train = pd.read_csv('y_train.csv').gender\n",
    "IDtest = df_test.custid.unique()\n",
    "\n",
    "df_train.head()"
   ]
  },
  {
   "cell_type": "code",
   "execution_count": 79,
   "metadata": {},
   "outputs": [],
   "source": [
    "df_all = pd.concat([df_train, df_test])"
   ]
  },
  {
   "cell_type": "code",
   "execution_count": 80,
   "metadata": {},
   "outputs": [],
   "source": [
    "df_all['sdate'] = df_all.sales_date.str[:10]\n",
    "df_all[\"time\"] = df_all['sdate'].astype(str).str.cat(df_all[\"sales_time\"].astype(str), sep =\" \")\n",
    "df_all[\"time\"]\n",
    "\n",
    "def g(x):\n",
    "    if len(str(x))==4:\n",
    "        return(str(x)[0:2])\n",
    "    else:\n",
    "        return(str(x)[0:1])\n",
    "\n",
    "df_all['sales_hour'] = df_all['sales_time'].apply(g)\n",
    "df_all['sales_hour'] = df_all['sales_time'].apply(g)"
   ]
  },
  {
   "cell_type": "code",
   "execution_count": 81,
   "metadata": {},
   "outputs": [],
   "source": [
    "df=df_all.groupby('goodcd')['tot_amt'].size().reset_index()\n",
    "good=df.query('tot_amt>=30')['goodcd']"
   ]
  },
  {
   "cell_type": "code",
   "execution_count": 82,
   "metadata": {},
   "outputs": [],
   "source": [
    "goodcd=df_all.query('goodcd in @good')"
   ]
  },
  {
   "cell_type": "code",
   "execution_count": 109,
   "metadata": {},
   "outputs": [],
   "source": [
    "features=[]"
   ]
  },
  {
   "cell_type": "code",
   "execution_count": 110,
   "metadata": {},
   "outputs": [],
   "source": [
    "f=pd.pivot_table(index='custid',columns='goodcd',values='tot_amt',aggfunc=np.size, fill_value=0,data=goodcd).reset_index()\n",
    "features.append(f)"
   ]
  },
  {
   "cell_type": "markdown",
   "metadata": {},
   "source": [
    "# 0.56대 변수"
   ]
  },
  {
   "cell_type": "code",
   "execution_count": 111,
   "metadata": {},
   "outputs": [],
   "source": [
    "#평균 구매시간\n",
    "df_all['hour']=df_all['sales_time']//100\n",
    "\n",
    "f = df_all.groupby('custid')['hour'].agg([('평균구매시간', 'mean')]).reset_index()\n",
    "f.iloc[:,1] = f.iloc[:,1].apply(round, args=(1,))\n",
    "features.append(f)"
   ]
  },
  {
   "cell_type": "code",
   "execution_count": 112,
   "metadata": {},
   "outputs": [],
   "source": [
    "#충동구매 건수\n",
    "f1 = df_all.groupby('custid')['hour'].agg([('평균구매시간', 'mean')]).reset_index()\n",
    "f1.iloc[:,1] = f1.iloc[:,1].apply(round, args=(0,))\n",
    "f2=df_all.groupby(['custid','hour'])['tot_amt'].agg([('구매건수','size')]).reset_index()\n",
    "f3=pd.merge(f1,f2,on='custid')\n",
    "f3['rate']=f3['평균구매시간']/f3['hour']\n",
    "\n",
    "m1=f3.query('0<=rate<=1').groupby('custid')['구매건수'].agg([('평균 구매시간 내 구매건수','size')]).reset_index()\n",
    "m2=f3.query('1<=rate').groupby('custid')['구매건수'].agg([('평균 구매시간 외 구매건수','size')]).reset_index()\n",
    "m=pd.merge(m1,m2,on='custid')\n",
    "m['평균 시간 구매비율']=m['평균 구매시간 내 구매건수']/m['평균 구매시간 외 구매건수']\n",
    "m['충동구매 여부']=np.where(m['평균 시간 구매비율']<=1,'no','yes')\n",
    "f = pd.get_dummies(m, columns=['충동구매 여부']) \n",
    "f=f3.query('1<=rate').groupby('custid')['구매건수'].agg([('충동구매 건수','sum')]).reset_index()\n",
    "features.append(f)"
   ]
  },
  {
   "cell_type": "code",
   "execution_count": 113,
   "metadata": {},
   "outputs": [],
   "source": [
    "#여성용,남성용 제품 중 남성용품 구매비율\n",
    "a=pd.pivot_table(df_all, index='custid', columns='part_nm', values='tot_amt', \n",
    "                   aggfunc=np.size, fill_value=0).reset_index()\n",
    "women_brand = ['여성캐주얼','여성의류파트','여성정장','여성캐쥬얼']\n",
    "man_bran = ['남성정장스포츠','남성의류']\n",
    "f['남성용품 구매 비율']=a.loc[:,man_bran].sum(axis=1)/len(women_brand+man_bran)\n",
    "f=f.iloc[:,[0,2]]\n",
    "features.append(f)"
   ]
  },
  {
   "cell_type": "code",
   "execution_count": 114,
   "metadata": {},
   "outputs": [],
   "source": [
    "#계절별 구매건수\n",
    "def f1(x):\n",
    "    k = x.month\n",
    "    if 3 <= k <= 5 :\n",
    "        return('봄-구매건수')\n",
    "    elif 6 <= k <= 8 :\n",
    "        return('여름-구매건수')\n",
    "    elif 9 <= k <= 11 :    \n",
    "        return('가을-구매건수')\n",
    "    else :\n",
    "        return('겨울-구매건수')    \n",
    "    \n",
    "df_all['season'] = pd.to_datetime(df_all.sales_date).apply(f1)\n",
    "f = pd.pivot_table(df_all, index='custid', columns='season', values='tot_amt', \n",
    "                   aggfunc=np.size, fill_value=0).reset_index()\n",
    "features.append(f)"
   ]
  },
  {
   "cell_type": "code",
   "execution_count": 115,
   "metadata": {},
   "outputs": [],
   "source": [
    "# 아점저 시간대별 구매건수\n",
    "def f2(x):\n",
    "    if 9 <= x <= 12 :\n",
    "        return('아침_구매건수')\n",
    "    elif 13 <= x <= 17 :\n",
    "        return('점심_구매건수')\n",
    "    else :\n",
    "        return('저녁_구매건수')  # datatime 필드가 시간 형식에 맞지 않은 값을 갖는 경우 저녁시간으로 처리\n",
    "\n",
    "df_all['timeslot'] = (df_all.sales_time // 100).apply(f2)\n",
    "f = pd.pivot_table(df_all, index='custid', columns='timeslot', values='tot_amt', \n",
    "                   aggfunc=np.size, fill_value=0).reset_index()\n",
    "features.append(f)"
   ]
  },
  {
   "cell_type": "code",
   "execution_count": 116,
   "metadata": {},
   "outputs": [],
   "source": [
    "# 새로운 시간대별 구매건수\n",
    "def f2(x):\n",
    "    if 901 <= x < 1200 :\n",
    "        return('12시 이전_구매건수')\n",
    "    elif 1200 <= x < 1400 :\n",
    "        return('12~2시_구매건수')\n",
    "    elif 1400 <= x < 1600 :\n",
    "        return('2~4시_구매건수')\n",
    "    elif 1600 <= x < 1800 :\n",
    "        return('4~6시_구매건수')\n",
    "    else :\n",
    "        return('6시이후_구매건수')  \n",
    "\n",
    "df_all['timeslot2'] = df_all.sales_time.apply(f2)\n",
    "\n",
    "f = pd.pivot_table(df_all, index='custid', columns='timeslot2', values='tot_amt',\n",
    "                   aggfunc=np.size, fill_value=0).reset_index()\n",
    "features.append(f)"
   ]
  },
  {
   "cell_type": "code",
   "execution_count": 117,
   "metadata": {},
   "outputs": [],
   "source": [
    "# 새로운 요일별 구매건수\n",
    "def f2(x):\n",
    "    k = x.dayofweek\n",
    "    if k <= 2 :\n",
    "        return('월화수_구매건수')\n",
    "    elif 3 <= k < 5 :\n",
    "        return('목금_구매건수')\n",
    "    elif 5 <= k < 6 :\n",
    "        return('토_구매건수')\n",
    "    else :\n",
    "        return('일_구매건수')    \n",
    "    \n",
    "df_all['요일2'] = pd.to_datetime(df_all.sales_date).apply(f2)\n",
    "f = pd.pivot_table(df_all, index='custid', columns='요일2', values='tot_amt', \n",
    "                   aggfunc=np.size, fill_value=0).reset_index()\n",
    "features.append(f)"
   ]
  },
  {
   "cell_type": "code",
   "execution_count": 118,
   "metadata": {},
   "outputs": [],
   "source": [
    "# 시즌 변화 월기준의 구매건수\n",
    "def f1(x):\n",
    "    k = x.month\n",
    "    if 2 <= k <= 4 :\n",
    "        return('234월_구매건수')\n",
    "    elif 5 <= k <= 7 :\n",
    "        return('567월_구매건수')\n",
    "    elif 8 <= k <= 10 :\n",
    "        return('8910월_구매건수')\n",
    "    else :\n",
    "        return('11121월_구매건수')    \n",
    "    \n",
    "df_all['season2'] = pd.to_datetime(df_all.sales_date).apply(f1)\n",
    "f = pd.pivot_table(df_all, index='custid', columns='season2', values='tot_amt', \n",
    "                   aggfunc=np.size, fill_value=0).reset_index()\n",
    "features.append(f)"
   ]
  },
  {
   "cell_type": "code",
   "execution_count": 119,
   "metadata": {},
   "outputs": [],
   "source": [
    "#실제 구매금액\n",
    "f = df_all.groupby('custid')['net_amt'].agg([('실제구매금액', 'sum')]).reset_index()\n",
    "f.iloc[:,1] = f.iloc[:,1].apply(round, args=(1,))\n",
    "features.append(f)"
   ]
  },
  {
   "cell_type": "code",
   "execution_count": 120,
   "metadata": {},
   "outputs": [],
   "source": [
    "# 총 구매액\n",
    "f = df_all.groupby('custid')['tot_amt'].agg([('총구매액', 'sum')]).reset_index()\n",
    "features.append(f)"
   ]
  },
  {
   "cell_type": "code",
   "execution_count": 121,
   "metadata": {},
   "outputs": [],
   "source": [
    "# 구매 파트 변수의 각 파트의 빈도값 도출\n",
    "f = pd.pivot_table(df_all, index='custid', columns='part_nm', values='tot_amt', \n",
    "                   aggfunc=np.size, fill_value=0).reset_index()\n",
    "features.append(f)\n",
    "\n",
    "# 구매제품 변수의 각 파트의 빈도값 도출\n",
    "f = pd.pivot_table(df_all, index='custid', columns='buyer_nm', values='tot_amt', \n",
    "                   aggfunc=np.size, fill_value=0).reset_index()\n",
    "features.append(f)"
   ]
  },
  {
   "cell_type": "code",
   "execution_count": 122,
   "metadata": {},
   "outputs": [],
   "source": [
    "df = df_all.groupby(['custid','part_nm'])['tot_amt'].agg([('tot_amt_part', 'sum')]).reset_index()\n",
    "df['part_nm'] = np.where(df.part_nm.str.contains('남성'), '남성', '여성')\n",
    "df=df.pivot_table(values='tot_amt_part', index=df.custid, columns='part_nm', aggfunc='first',fill_value=0).reset_index()\n",
    "df['남성파트구매비율'] = (df['남성'] / (df['남성'] + df['여성'])) * 100\n",
    "df = df.fillna(0)\n",
    "features.append(df.iloc[:,[0,-1]])"
   ]
  },
  {
   "cell_type": "code",
   "execution_count": 123,
   "metadata": {},
   "outputs": [],
   "source": [
    "#지점별 구매총\n",
    "df = df_all.groupby(['custid','str_nm'])['tot_amt'].agg([('tot_amt_str', 'sum')]).reset_index()\n",
    "df =df.pivot_table(values='tot_amt_str', index=df.custid, columns='str_nm', aggfunc='first', fill_value=0).reset_index()\n",
    "features.append(df)"
   ]
  },
  {
   "cell_type": "code",
   "execution_count": 124,
   "metadata": {},
   "outputs": [],
   "source": [
    "#커널변수\n",
    "f = df_all.groupby('custid').agg({\n",
    "    'tot_amt': [('최대구매액', 'max')],\n",
    "    'dis_amt': [('dis_sum', 'sum'),('dis_mean', 'mean')],\n",
    "    'inst_mon': [('최대할부개월수', 'max')],\n",
    "    'brd_nm': [('구매상품다양성비', lambda x: x.nunique()/x.count())],\n",
    "    'import_flg': [('수입상품_구매수', 'sum')],\n",
    "    'sales_date': [('내점비율',lambda x: x.str[:10].nunique()/x.count())],\n",
    "    'sales_time': [('저녁시간구입비율', lambda x: np.count_nonzero(x.astype(np.int)[(x>1800)|(x<900)])/ x.count())],\n",
    "    }).reset_index()\n",
    "features.append(f)"
   ]
  },
  {
   "cell_type": "code",
   "execution_count": 125,
   "metadata": {},
   "outputs": [],
   "source": [
    "#총 구매건수\n",
    "f = df_all.groupby('custid')['tot_amt'].agg([('구매건수', 'size')]).reset_index()\n",
    "features.append(f)"
   ]
  },
  {
   "cell_type": "code",
   "execution_count": 170,
   "metadata": {},
   "outputs": [
    {
     "data": {
      "text/plain": [
       "(30000, 5108)"
      ]
     },
     "metadata": {},
     "output_type": "display_data"
    },
    {
     "data": {
      "text/plain": [
       "(19995, 5108)"
      ]
     },
     "metadata": {},
     "output_type": "display_data"
    }
   ],
   "source": [
    "X_train_y = pd.DataFrame({'custid': df_train.custid.unique()})\n",
    "for f in features :\n",
    "    X_train_y = pd.merge(X_train_y, f, how='left',on='custid')\n",
    "display(X_train_y.shape)\n",
    "\n",
    "X_test_y = pd.DataFrame({'custid': df_test.custid.unique()})\n",
    "for f in features :\n",
    "    X_test_y = pd.merge(X_test_y, f, how='left',on='custid')\n",
    "display(X_test_y.shape)"
   ]
  },
  {
   "cell_type": "code",
   "execution_count": 173,
   "metadata": {},
   "outputs": [],
   "source": [
    "#주말 요일별 구매비율\n",
    "X_train_y[\"토_비율\"] = (X_train_y[\"토_구매건수\"] / X_train_y[\"구매건수\"])*100\n",
    "X_train_y[\"일_비율\"] = (X_train_y[\"일_구매건수\"] / X_train_y[\"구매건수\"])*100\n",
    "X_test_y[\"토_비율\"] = (X_test_y[\"토_구매건수\"] / X_test_y[\"구매건수\"])*100\n",
    "X_test_y[\"일_비율\"] = (X_test_y[\"일_구매건수\"] / X_test_y[\"구매건수\"])*100"
   ]
  },
  {
   "cell_type": "code",
   "execution_count": 133,
   "metadata": {},
   "outputs": [
    {
     "data": {
      "text/plain": [
       "(30000, 5110)"
      ]
     },
     "execution_count": 133,
     "metadata": {},
     "output_type": "execute_result"
    }
   ],
   "source": [
    "X_train_y.shape"
   ]
  },
  {
   "cell_type": "markdown",
   "metadata": {},
   "source": [
    "from sklearn.model_selection import train_test_split\n",
    "y_train = pd.read_csv('y_train.csv').gender\n",
    "\n",
    "X_train, X_test, y_train, y_test = train_test_split(\n",
    "    X_train_y, y_train, random_state=0)\n",
    "\n",
    "# Learn XGB\n",
    "from xgboost import XGBClassifier\n",
    "import sys, warnings\n",
    "if not sys.warnoptions: warnings.simplefilter(\"ignore\")\n",
    "\n",
    "model = XGBClassifier(random_state=0, n_jobs=-1)\n",
    "model.fit(X_train, y_train)\n",
    "\n",
    "from sklearn.metrics import roc_auc_score\n",
    "pred = model.predict_proba(X_test)[:,1]\n",
    "pred\n",
    "print(roc_auc_score(y_test, pred))"
   ]
  },
  {
   "cell_type": "code",
   "execution_count": 174,
   "metadata": {},
   "outputs": [],
   "source": [
    "# 동일 구입파트 합쳐줌\n",
    "X_train_y['가정용품R']=X_train_y['가정용품']+X_train_y['가정용품파트']\n",
    "X_train_y['공산품R']=X_train_y['공산품']+X_train_y['공산품파트']\n",
    "X_train_y['로얄부띠끄R']=X_train_y['로얄부띠끄']+X_train_y['로얄부틱']\n",
    "X_train_y['생식품R']=X_train_y['생식품']+X_train_y['생식품파트']\n",
    "X_train_y['스포츠캐주얼R']=X_train_y['스포츠캐주얼']+X_train_y['스포츠캐쥬얼']\n",
    "X_train_y['여성캐주얼R']=X_train_y['여성캐주얼']+X_train_y['여성캐쥬얼']\n",
    "X_train_y['잡화R']=X_train_y['잡화']+X_train_y['잡화파트']\n",
    "\n",
    "X_test_y['가정용품R']=X_test_y['가정용품']+X_test_y['가정용품파트']\n",
    "X_test_y['공산품R']=X_test_y['공산품']+X_test_y['공산품파트']\n",
    "X_test_y['로얄부띠끄R']=X_test_y['로얄부띠끄']+X_test_y['로얄부틱']\n",
    "X_test_y['생식품R']=X_test_y['생식품']+X_test_y['생식품파트']\n",
    "X_test_y['스포츠캐주얼R']=X_test_y['스포츠캐주얼']+X_test_y['스포츠캐쥬얼']\n",
    "X_test_y['여성캐주얼R']=X_test_y['여성캐주얼']+X_test_y['여성캐쥬얼']\n",
    "X_test_y['잡화R']=X_test_y['잡화']+X_test_y['잡화파트']"
   ]
  },
  {
   "cell_type": "code",
   "execution_count": 175,
   "metadata": {},
   "outputs": [],
   "source": [
    "# 각성별 구입건수가 많은 파트 묶어주기\n",
    "X_train_y['남성파트']=X_train_y['가정용품R']+X_train_y['공산품R']+X_train_y['생식품R']+X_train_y['케주얼,구두,아동']\n",
    "X_test_y['남성파트']=X_test_y['가정용품R']+X_test_y['공산품R']+X_test_y['생식품R']+X_test_y['케주얼,구두,아동']\n",
    "X_train_y['여성파트']=X_train_y['여성캐주얼']+X_train_y['영캐릭터']+X_train_y['영플라자']+X_train_y['패션잡화'] \n",
    "X_test_y['여성파트']=X_test_y['여성캐주얼']+X_test_y['영캐릭터']+X_test_y['영플라자']+X_test_y['패션잡화'] "
   ]
  },
  {
   "cell_type": "code",
   "execution_count": 176,
   "metadata": {},
   "outputs": [],
   "source": [
    "# 1206 새로운 변수 리코드하고 추가하기\n",
    "def f1(x):\n",
    "    if  x <= 2000000 :\n",
    "        return('1')\n",
    "    elif 2000001 <= x < 5000000 :\n",
    "        return('2')\n",
    "    else :\n",
    "        return('3')  \n",
    "\n",
    "X_train_y['총구매액B'] = X_train_y.총구매액.apply(f1)\n",
    "X_train_y['총구매액B'] = X_train_y['총구매액B'].astype(int)"
   ]
  },
  {
   "cell_type": "code",
   "execution_count": 177,
   "metadata": {},
   "outputs": [],
   "source": [
    "def f1(x):\n",
    "    if  x <= 2000000 :\n",
    "        return('1')\n",
    "    elif 2000001 <= x < 5000000 :\n",
    "        return('2')\n",
    "    else :\n",
    "        return('3')  \n",
    "\n",
    "X_test_y['총구매액B'] = X_test_y.총구매액.apply(f1)\n",
    "X_test_y['총구매액B'] = X_test_y['총구매액B'].astype(int)"
   ]
  },
  {
   "cell_type": "code",
   "execution_count": 178,
   "metadata": {},
   "outputs": [],
   "source": [
    "def f1(x):\n",
    "    if  x <= 1500 :\n",
    "        return('4')\n",
    "    elif 1501 <= x < 1600 :\n",
    "        return('3')\n",
    "    elif 1601 <= x < 1700 :\n",
    "        return('2')\n",
    "    else :\n",
    "        return('1')  \n",
    "\n",
    "X_train_y['평균구매시간B'] = X_train_y.평균구매시간.apply(f1)\n",
    "X_train_y['평균구매시간B'] = X_train_y['평균구매시간B'].astype(int)"
   ]
  },
  {
   "cell_type": "code",
   "execution_count": 179,
   "metadata": {},
   "outputs": [],
   "source": [
    "def f1(x):\n",
    "    if  x <= 1500 :\n",
    "        return('4')\n",
    "    elif 1501 <= x < 1600 :\n",
    "        return('3')\n",
    "    elif 1601 <= x < 1700 :\n",
    "        return('2')\n",
    "    else :\n",
    "        return('1')  \n",
    "\n",
    "X_test_y['평균구매시간B'] = X_test_y.평균구매시간.apply(f1)\n",
    "X_test_y['평균구매시간B'] = X_test_y['평균구매시간B'].astype(int)"
   ]
  },
  {
   "cell_type": "code",
   "execution_count": 180,
   "metadata": {},
   "outputs": [],
   "source": [
    "def f1(x):\n",
    "    if  x < 1 :\n",
    "        return('1')\n",
    "    elif 1 <= x <= 10 :\n",
    "        return('2')\n",
    "    elif 11 <= x <= 20 :\n",
    "        return('3')\n",
    "    else :\n",
    "        return('4')  \n",
    "\n",
    "X_train_y['남성파트B'] = X_train_y.남성파트.apply(f1)\n",
    "X_train_y['남성파트B'] = X_train_y['남성파트B'].astype(int)"
   ]
  },
  {
   "cell_type": "code",
   "execution_count": 181,
   "metadata": {},
   "outputs": [],
   "source": [
    "def f1(x):\n",
    "    if  x < 1 :\n",
    "        return('1')\n",
    "    elif 1 <= x <= 10 :\n",
    "        return('2')\n",
    "    elif 11 <= x <= 20 :\n",
    "        return('3')\n",
    "    else :\n",
    "        return('4')  \n",
    "\n",
    "X_test_y['남성파트B'] = X_test_y.남성파트.apply(f1)\n",
    "X_test_y['남성파트B'] = X_test_y['남성파트B'].astype(int)"
   ]
  },
  {
   "cell_type": "code",
   "execution_count": 182,
   "metadata": {},
   "outputs": [],
   "source": [
    "def f1(x):\n",
    "    if  x < 1 :\n",
    "        return('3')\n",
    "    elif 1 <= x <= 4 :\n",
    "        return('2')\n",
    "    else :\n",
    "        return('1')  \n",
    "\n",
    "X_train_y['여성파트B'] = X_train_y.여성파트.apply(f1)\n",
    "X_train_y['여성파트B'] = X_train_y['여성파트B'].astype(int)"
   ]
  },
  {
   "cell_type": "code",
   "execution_count": 183,
   "metadata": {},
   "outputs": [],
   "source": [
    "def f1(x):\n",
    "    if  x < 1 :\n",
    "        return('3')\n",
    "    elif 1 <= x <= 4 :\n",
    "        return('2')\n",
    "    else :\n",
    "        return('1')  \n",
    "\n",
    "X_test_y['여성파트B'] = X_test_y.여성파트.apply(f1)\n",
    "X_test_y['여성파트B'] = X_test_y['여성파트B'].astype(int)"
   ]
  },
  {
   "cell_type": "code",
   "execution_count": 184,
   "metadata": {},
   "outputs": [],
   "source": [
    "X_train_y['구매_시간'] = X_train_y['총구매액B'] * X_train_y['평균구매시간B']\n",
    "X_train_y['남성_여성'] = X_train_y['남성파트B'] * X_train_y['여성파트B']\n",
    "X_train_y['구매_남성'] = X_train_y['총구매액B'] * X_train_y['남성파트B']\n",
    "X_train_y['구매_여성'] = X_train_y['총구매액B'] * X_train_y['여성파트B']\n",
    "X_train_y['시간_남성'] = X_train_y['평균구매시간B'] * X_train_y['남성파트B']\n",
    "X_train_y['시간_여성'] = X_train_y['평균구매시간B'] * X_train_y['여성파트B']\n",
    "\n",
    "X_test_y['구매_시간'] = X_test_y['총구매액B'] * X_test_y['평균구매시간B']\n",
    "X_test_y['남성_여성'] = X_test_y['남성파트B'] * X_test_y['여성파트B']\n",
    "X_test_y['구매_남성'] = X_test_y['총구매액B'] * X_test_y['남성파트B']\n",
    "X_test_y['구매_여성'] = X_test_y['총구매액B'] * X_test_y['여성파트B']\n",
    "X_test_y['시간_남성'] = X_test_y['평균구매시간B'] * X_test_y['남성파트B']\n",
    "X_test_y['시간_여성'] = X_test_y['평균구매시간B'] * X_test_y['여성파트B']"
   ]
  },
  {
   "cell_type": "code",
   "execution_count": 171,
   "metadata": {},
   "outputs": [],
   "source": [
    "# 치우친 데이터 로그 치환하기\n",
    "f = X_train_y.총구매액.where(X_train_y.총구매액>=0, other=0)\n",
    "f = np.log(f+1)\n",
    "X_train_y.총구매액 = f\n",
    "\n",
    "f = X_test_y.총구매액.where(X_test_y.총구매액>=0, other=0)\n",
    "f = np.log(f+1)\n",
    "X_test_y.총구매액 = f\n",
    "\n",
    "#f = X_train_y.평균구매가격.where(X_train_y.평균구매가격>=0, other=0)\n",
    "#f = np.log(f+1)\n",
    "#X_train_y.평균구매가격 = f\n",
    "\n",
    "#f = X_test_y.평균구매가격.where(X_test_y.평균구매가격>=0, other=0)\n",
    "#f = np.log(f+1)\n",
    "#X_test_y.평균구매가격 = f\n",
    "\n",
    "f = X_train_y.구매건수.where(X_train_y.구매건수>=0, other=0)\n",
    "f = np.log(f+1)\n",
    "X_train_y.구매건수 = f\n",
    "\n",
    "f = X_test_y.구매건수.where(X_test_y.구매건수>=0, other=0)\n",
    "f = np.log(f+1)\n",
    "X_test_y.구매건수 = f\n",
    "\n",
    "#f = X_train_y.내점일수.where(X_train_y.내점일수>=0, other=0)\n",
    "#f = np.log(f+1)\n",
    "#X_train_y.내점일수 = f\n",
    "\n",
    "#f = X_test_y.내점일수.where(X_test_y.내점일수>=0, other=0)\n",
    "#f = np.log(f+1)\n",
    "#X_test_y.내점일수 = f\n",
    "\n",
    "\n",
    "#f = X_train_y.실제구매금액평균.where(X_train_y.실제구매금액평균>=0, other=0)\n",
    "#f = np.log(f+1)\n",
    "#X_train_y.실제구매금액평균 = f\n",
    "\n",
    "#f = X_test_y.실제구매금액평균.where(X_test_y.실제구매금액평균>=0, other=0)\n",
    "#f = np.log(f+1)\n",
    "#X_test_y.실제구매금액평균 = f\n",
    "\n",
    "f = X_train_y.실제구매금액.where(X_train_y.실제구매금액>=0, other=0)\n",
    "f = np.log(f+1)\n",
    "X_train_y.실제구매금액 = f\n",
    "\n",
    "f = X_test_y.실제구매금액.where(X_test_y.실제구매금액>=0, other=0)\n",
    "f = np.log(f+1)\n",
    "X_test_y.실제구매금액 = f"
   ]
  },
  {
   "cell_type": "code",
   "execution_count": 185,
   "metadata": {},
   "outputs": [],
   "source": [
    "IDtest = X_test_y.custid;\n",
    "X_train_y.drop(['custid'], axis=1, inplace=True)\n",
    "X_test_y.drop(['custid'], axis=1, inplace=True)"
   ]
  },
  {
   "cell_type": "code",
   "execution_count": 186,
   "metadata": {},
   "outputs": [
    {
     "name": "stdout",
     "output_type": "stream",
     "text": [
      "(30000, 5128)\n",
      "(19995, 5128)\n"
     ]
    }
   ],
   "source": [
    "print(X_train_y.shape)\n",
    "print(X_test_y.shape)"
   ]
  },
  {
   "cell_type": "markdown",
   "metadata": {},
   "source": [
    "# 피벗 나열"
   ]
  },
  {
   "cell_type": "code",
   "execution_count": 187,
   "metadata": {},
   "outputs": [],
   "source": [
    "X_train12 = pd.pivot_table(df_all, index='custid', values='net_amt',\n",
    "                         aggfunc=np.sum , fill_value=0). \\\n",
    "                         reset_index(). \\\n",
    "                         query('custid not in @IDtest'). \\\n",
    "                         drop(columns=['custid']).values\n",
    "\n",
    "X_test12 = pd.pivot_table(df_all, index='custid', values='net_amt',\n",
    "                         aggfunc=np.sum , fill_value=0). \\\n",
    "                         reset_index(). \\\n",
    "                         query('custid in @IDtest'). \\\n",
    "                         drop(columns=['custid']).values\n",
    "\n",
    "X_train12 = pd.DataFrame(X_train12)\n",
    "X_test12 = pd.DataFrame(X_test12)"
   ]
  },
  {
   "cell_type": "code",
   "execution_count": 188,
   "metadata": {},
   "outputs": [],
   "source": [
    "X_train8 = pd.pivot_table(df_all, index='custid', values='tot_amt',\n",
    "                         aggfunc=np.sum , fill_value=0). \\\n",
    "                         reset_index(). \\\n",
    "                         query('custid not in @IDtest'). \\\n",
    "                         drop(columns=['custid']).values\n",
    "\n",
    "X_test8 = pd.pivot_table(df_all, index='custid', values='tot_amt',\n",
    "                         aggfunc=np.sum , fill_value=0). \\\n",
    "                         reset_index(). \\\n",
    "                         query('custid in @IDtest'). \\\n",
    "                         drop(columns=['custid']).values\n",
    "\n",
    "X_train8 = pd.DataFrame(X_train8)\n",
    "X_test8 = pd.DataFrame(X_test8)"
   ]
  },
  {
   "cell_type": "code",
   "execution_count": 189,
   "metadata": {},
   "outputs": [],
   "source": [
    "level = 'team_nm'\n",
    "df_train[level].nunique()\n",
    "\n",
    "X_train6 = pd.pivot_table(df_all, index='custid', columns=level, values='tot_amt',\n",
    "                         aggfunc=np.size , fill_value=0). \\\n",
    "                         reset_index(). \\\n",
    "                         query('custid not in @IDtest'). \\\n",
    "                         drop(columns=['custid']).values\n",
    "\n",
    "X_test6 = pd.pivot_table(df_all, index='custid', columns=level, values='tot_amt',\n",
    "                         aggfunc=np.size , fill_value=0). \\\n",
    "                         reset_index(). \\\n",
    "                         query('custid in @IDtest'). \\\n",
    "                         drop(columns=['custid']).values\n",
    "\n",
    "X_train6 = pd.DataFrame(X_train6)\n",
    "X_test6 = pd.DataFrame(X_test6)"
   ]
  },
  {
   "cell_type": "code",
   "execution_count": 190,
   "metadata": {},
   "outputs": [],
   "source": [
    "level = 'pc_nm'\n",
    "df_train[level].nunique()\n",
    "\n",
    "X_train4 = pd.pivot_table(df_all, index='custid', columns=level, values='tot_amt',\n",
    "                         aggfunc= np.size , fill_value=0). \\\n",
    "                         reset_index(). \\\n",
    "                         query('custid not in @IDtest'). \\\n",
    "                         drop(columns=['custid']).values\n",
    "\n",
    "X_test4 = pd.pivot_table(df_all, index='custid', columns=level, values='tot_amt',\n",
    "                         aggfunc= np.size , fill_value=0). \\\n",
    "                         reset_index(). \\\n",
    "                         query('custid in @IDtest'). \\\n",
    "                         drop(columns=['custid']).values\n",
    "\n",
    "X_train4 = pd.DataFrame(X_train4)\n",
    "X_test4 = pd.DataFrame(X_test4)"
   ]
  },
  {
   "cell_type": "code",
   "execution_count": 191,
   "metadata": {},
   "outputs": [],
   "source": [
    "level = 'corner_nm'\n",
    "df_train[level].nunique()\n",
    "\n",
    "X_train3 = pd.pivot_table(df_all, index='custid', columns=level, values='tot_amt',\n",
    "                         aggfunc= np.size , fill_value=0). \\\n",
    "                         reset_index(). \\\n",
    "                         query('custid not in @IDtest'). \\\n",
    "                         drop(columns=['custid']).values\n",
    "\n",
    "X_test3 = pd.pivot_table(df_all, index='custid', columns=level, values='tot_amt',\n",
    "                         aggfunc= np.size , fill_value=0). \\\n",
    "                         reset_index(). \\\n",
    "                         query('custid in @IDtest'). \\\n",
    "                         drop(columns=['custid']).values\n",
    "\n",
    "X_train3 = pd.DataFrame(X_train3)\n",
    "X_test3 = pd.DataFrame(X_test3)"
   ]
  },
  {
   "cell_type": "code",
   "execution_count": 192,
   "metadata": {},
   "outputs": [],
   "source": [
    "level = 'brd_nm'\n",
    "df_train[level].nunique()\n",
    "\n",
    "X_train2 = pd.pivot_table(df_all, index='custid', columns=level, values='tot_amt',\n",
    "                         aggfunc= np.size , fill_value=0). \\\n",
    "                         reset_index(). \\\n",
    "                         query('custid not in @IDtest'). \\\n",
    "                         drop(columns=['custid']).values\n",
    "\n",
    "X_test2 = pd.pivot_table(df_all, index='custid', columns=level, values='tot_amt',\n",
    "                         aggfunc= np.size , fill_value=0). \\\n",
    "                         reset_index(). \\\n",
    "                         query('custid in @IDtest'). \\\n",
    "                         drop(columns=['custid']).values\n",
    "\n",
    "X_train2 = pd.DataFrame(X_train2)\n",
    "X_test2 = pd.DataFrame(X_test2)"
   ]
  },
  {
   "cell_type": "code",
   "execution_count": 196,
   "metadata": {},
   "outputs": [],
   "source": [
    "df_all['sdate'] = df_all.sales_date.str[:10]\n",
    "df_all[\"time\"] = df_all['sdate'].astype(str).str.cat(df_all[\"sales_time\"].astype(str), sep =\" \")\n",
    "df_all[\"time\"]\n",
    "\n",
    "def g(x):\n",
    "    if len(str(x))==4:\n",
    "        return(str(x)[0:2])\n",
    "    else:\n",
    "        return(str(x)[0:1])\n",
    "\n",
    "df_train['sales_hour'] = df_train['sales_time'].apply(g)\n",
    "df_train['sales_hour'] = df_train['sales_time'].apply(g)"
   ]
  },
  {
   "cell_type": "code",
   "execution_count": null,
   "metadata": {},
   "outputs": [],
   "source": [
    "level = 'sales_hour'\n",
    "df_train[level].nunique()\n",
    "X_train1 = pd.pivot_table(df_all, index='custid', columns=level,values='tot_amt',\n",
    "                         aggfunc=np.size , fill_value=0). \\\n",
    "                         reset_index(). \\\n",
    "                         query('custid not in @IDtest'). \\\n",
    "                         drop(columns=['custid']).values\n",
    "\n",
    "X_test1 = pd.pivot_table(df_all, index='custid', columns=level,values='tot_amt',\n",
    "                         aggfunc=np.size , fill_value=0). \\\n",
    "                         reset_index(). \\\n",
    "                         query('custid  in @IDtest'). \\\n",
    "                         drop(columns=['custid']).values\n",
    "\n",
    "X_train1 = pd.DataFrame(X_train1)\n",
    "X_test1 = pd.DataFrame(X_test1)"
   ]
  },
  {
   "cell_type": "code",
   "execution_count": null,
   "metadata": {},
   "outputs": [],
   "source": [
    "X_train = pd.concat([X_train1,X_train2],axis=1)\n",
    "X_train = pd.concat([X_train,X_train3],axis=1)\n",
    "X_train = pd.concat([X_train,X_train4],axis=1)\n",
    "#X_train = pd.concat([X_train,X_train5],axis=1)\n",
    "X_train = pd.concat([X_train,X_train6],axis=1)\n",
    "#X_train = pd.concat([X_train,X_train7],axis=1)\n",
    "X_train = pd.concat([X_train,X_train8],axis=1)\n",
    "#X_train = pd.concat([X_train,X_train9],axis=1)\n",
    "#X_train = pd.concat([X_train,X_train10],axis=1)\n",
    "#X_train = pd.concat([X_train,X_train11],axis=1)\n",
    "X_train = pd.concat([X_train,X_train12],axis=1)\n",
    "#X_train = pd.concat([X_train,X_train13],axis=1)\n",
    "#X_train = pd.concat([X_train,X_train14],axis=1)\n",
    "#X_train = pd.concat([X_train,X_train15],axis=1)\n",
    "\n",
    "\n",
    "X_test = pd.concat([X_test1,X_test2],axis=1)\n",
    "X_test = pd.concat([X_test,X_test3],axis=1)\n",
    "X_test = pd.concat([X_test,X_test4],axis=1)\n",
    "#X_test = pd.concat([X_test,X_test5],axis=1)\n",
    "X_test = pd.concat([X_test,X_test6],axis=1)\n",
    "#X_test = pd.concat([X_test,X_test7],axis=1)\n",
    "X_test = pd.concat([X_test,X_test8],axis=1)\n",
    "#X_test = pd.concat([X_test,X_test9],axis=1)\n",
    "#X_test = pd.concat([X_test,X_test10],axis=1)\n",
    "#X_test = pd.concat([X_test,X_test11],axis=1)\n",
    "X_test = pd.concat([X_test,X_test12],axis=1)\n",
    "#X_test = pd.concat([X_test,X_test13],axis=1)\n",
    "#X_test = pd.concat([X_test,X_test14],axis=1)\n",
    "#X_test = pd.concat([X_test,X_test15],axis=1)"
   ]
  },
  {
   "cell_type": "code",
   "execution_count": null,
   "metadata": {},
   "outputs": [],
   "source": [
    "print(X_train.shape)\n",
    "print(X_test.shape)"
   ]
  },
  {
   "cell_type": "code",
   "execution_count": null,
   "metadata": {},
   "outputs": [],
   "source": [
    "X_train_all=pd.concat([X_train,X_train_y],axis=1) \n",
    "X_test_all=pd.concat([X_test,X_test_y],axis=1)\n",
    "\n",
    "print(X_train_all.shape) \n",
    "print(X_test_all.shape)"
   ]
  },
  {
   "cell_type": "code",
   "execution_count": null,
   "metadata": {},
   "outputs": [],
   "source": []
  }
 ],
 "metadata": {
  "kernelspec": {
   "display_name": "Python 3",
   "language": "python",
   "name": "python3"
  },
  "language_info": {
   "codemirror_mode": {
    "name": "ipython",
    "version": 3
   },
   "file_extension": ".py",
   "mimetype": "text/x-python",
   "name": "python",
   "nbconvert_exporter": "python",
   "pygments_lexer": "ipython3",
   "version": "3.6.8"
  }
 },
 "nbformat": 4,
 "nbformat_minor": 2
}

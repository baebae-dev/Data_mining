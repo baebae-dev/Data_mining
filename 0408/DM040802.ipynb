{
 "cells": [
  {
   "cell_type": "markdown",
   "metadata": {},
   "source": [
    "<font color = \"#CC3D3D\">\n",
    "## The effects of Feature engineering"
   ]
  },
  {
   "cell_type": "code",
   "execution_count": null,
   "metadata": {},
   "outputs": [],
   "source": [
    "import warnings\n",
    "warnings.filterwarnings(\"ignore\", category=DeprecationWarning)"
   ]
  },
  {
   "cell_type": "code",
   "execution_count": null,
   "metadata": {},
   "outputs": [],
   "source": [
    "import pandas as pd\n",
    "import numpy as np\n",
    "from sklearn.model_selection import GridSearchCV\n",
    "import matplotlib.pyplot as plt\n",
    "%matplotlib inline\n",
    "\n",
    "from sklearn.tree import DecisionTreeClassifier\n",
    "from sklearn.ensemble import RandomForestClassifier\n",
    "from sklearn.ensemble import GradientBoostingClassifier"
   ]
  },
  {
   "cell_type": "code",
   "execution_count": null,
   "metadata": {},
   "outputs": [],
   "source": [
    "choice = int(input())\n",
    "\n",
    "if choice == 1: \n",
    "    model = DecisionTreeClassifier(random_state=0)\n",
    "elif choice == 2:\n",
    "    model = RandomForestClassifier(random_state=0)\n",
    "else:\n",
    "    model = GradientBoostingClassifier(random_state=0)"
   ]
  },
  {
   "cell_type": "code",
   "execution_count": null,
   "metadata": {},
   "outputs": [],
   "source": [
    "def model_perf(X_train, X_test, y_train, y_test):\n",
    "    print(model.fit(X_train, y_train).score(X_test, y_test))\n",
    "    \n",
    "def get_data(ftrain, ftest, freal):\n",
    "    df_train = pd.read_csv(ftrain, encoding='cp949')\n",
    "    df_test = pd.read_csv(ftest, encoding='cp949')\n",
    "    df_real = pd.read_csv(freal, usecols=[1])\n",
    "    \n",
    "    X_train = df_train.drop(['CUS_ID', 'GENDER'], axis=1)\n",
    "    y_train = df_train['GENDER']\n",
    "    X_test = df_test.drop(['CUS_ID'], axis=1)\n",
    "    y_test = df_real['GENDER']\n",
    "    return((X_train, X_test, y_train, y_test))"
   ]
  },
  {
   "cell_type": "markdown",
   "metadata": {},
   "source": [
    "### Modeling with poor features"
   ]
  },
  {
   "cell_type": "code",
   "execution_count": null,
   "metadata": {},
   "outputs": [],
   "source": [
    "X_train, X_test, y_train, y_test = get_data('train_base.csv', 'test_base.csv', 'test_y.csv')\n",
    "model_perf(X_train, X_test, y_train, y_test)"
   ]
  },
  {
   "cell_type": "markdown",
   "metadata": {},
   "source": [
    "### Modeling with good features"
   ]
  },
  {
   "cell_type": "code",
   "execution_count": null,
   "metadata": {},
   "outputs": [],
   "source": [
    "X_train, X_test, y_train, y_test = get_data('train_6964.csv', 'test_6964.csv', 'test_y.csv')\n",
    "model_perf(X_train, X_test, y_train, y_test)"
   ]
  },
  {
   "cell_type": "markdown",
   "metadata": {},
   "source": [
    "### Feature Engineering"
   ]
  },
  {
   "cell_type": "markdown",
   "metadata": {},
   "source": [
    "##### Univariate Non-linear transformations"
   ]
  },
  {
   "cell_type": "code",
   "execution_count": null,
   "metadata": {},
   "outputs": [],
   "source": [
    "X_train, X_test, y_train, y_test = get_data('train_6964.csv', 'test_6964.csv', 'test_y.csv')\n",
    "\n",
    "plt.subplot(211)\n",
    "X_train.man.hist(bins=20, figsize=(8,6))\n",
    "plt.subplot(212)\n",
    "X_train.man.add(1).apply(np.log).hist(bins=20)"
   ]
  },
  {
   "cell_type": "code",
   "execution_count": null,
   "metadata": {},
   "outputs": [],
   "source": [
    "X_train = np.log(X_train + 1)\n",
    "X_test = np.log(X_test + 1)\n",
    "# np.exp(), np.sin()\n",
    "\n",
    "model_perf(X_train, X_test, y_train, y_test)"
   ]
  },
  {
   "cell_type": "markdown",
   "metadata": {},
   "source": [
    "##### Interactions and Polynomials"
   ]
  },
  {
   "cell_type": "code",
   "execution_count": null,
   "metadata": {},
   "outputs": [],
   "source": [
    "from sklearn.preprocessing import PolynomialFeatures\n",
    "\n",
    "X_train, X_test, y_train, y_test = get_data('train_6964.csv', 'test_6964.csv', 'test_y.csv')\n",
    "\n",
    "poly = PolynomialFeatures(degree=2, include_bias=True).fit(X_train)\n",
    "X_train = poly.transform(X_train)\n",
    "X_test = poly.transform(X_test)\n",
    "# poly.get_feature_names()\n",
    "\n",
    "model_perf(X_train, X_test, y_train, y_test)"
   ]
  },
  {
   "cell_type": "markdown",
   "metadata": {},
   "source": [
    "##### All together"
   ]
  },
  {
   "cell_type": "code",
   "execution_count": null,
   "metadata": {},
   "outputs": [],
   "source": [
    "X_train, X_test, y_train, y_test = get_data('train_6964.csv', 'test_6964.csv', 'test_y.csv')\n",
    "\n",
    "# Polynomial features, first\n",
    "poly = PolynomialFeatures(degree=2, include_bias=True).fit(X_train)\n",
    "X_train = poly.transform(X_train)\n",
    "X_test = poly.transform(X_test)\n",
    "\n",
    "# Log transformations\n",
    "X_train = np.log(X_train + 1)\n",
    "X_test = np.log(X_test + 1)\n",
    "\n",
    "model_perf(X_train, X_test, y_train, y_test)"
   ]
  },
  {
   "cell_type": "markdown",
   "metadata": {},
   "source": [
    "<font color = \"#CC3D3D\">\n",
    "## End"
   ]
  }
 ],
 "metadata": {
  "kernelspec": {
   "display_name": "Python 3",
   "language": "python",
   "name": "python3"
  },
  "language_info": {
   "codemirror_mode": {
    "name": "ipython",
    "version": 3
   },
   "file_extension": ".py",
   "mimetype": "text/x-python",
   "name": "python",
   "nbconvert_exporter": "python",
   "pygments_lexer": "ipython3",
   "version": "3.6.5"
  }
 },
 "nbformat": 4,
 "nbformat_minor": 2
}

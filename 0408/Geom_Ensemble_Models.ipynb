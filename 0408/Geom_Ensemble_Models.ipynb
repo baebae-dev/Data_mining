{
 "cells": [
  {
   "cell_type": "markdown",
   "metadata": {},
   "source": [
    "## Creating ensembles from submission files: geometric averaging"
   ]
  },
  {
   "cell_type": "code",
   "execution_count": 3,
   "metadata": {},
   "outputs": [],
   "source": [
    "# 사용법: \n",
    "# 1) 스크립트를 실행하기 전에 Ensemble 폴더를 먼저 만듭니다. \n",
    "# 2) 앙상블할 submission 화일을 Ensemble 폴더에 저장합니다.\n",
    "# 3) 실행하면 현재 폴더에 앙상블한 submission 화일이 생성됩니다.\n",
    "#\n",
    "# 주) 이 스크립트는 Kaggle Kernel에서 실행할 수 없고 여러분의 Jupyter Notebook에서 실행해야 합니다.\n",
    "\n",
    "import pandas as pd\n",
    "import numpy as np\n",
    "import os\n",
    "\n",
    "folder = 'Ensemble'\n",
    "nf = 0\n",
    "for f in os.listdir(folder):\n",
    "    ext = os.path.splitext(f)[-1]\n",
    "    if ext == '.csv': \n",
    "        s = pd.read_csv(folder+\"/\"+f)\n",
    "    else: \n",
    "        continue\n",
    "    if len(s.columns) !=2:\n",
    "        continue\n",
    "    if nf == 0: \n",
    "        slist = s\n",
    "    else: \n",
    "        slist = pd.merge(slist, s, on=\"custid\")\n",
    "    nf += 1\n",
    "\n",
    "if nf >= 2:\n",
    "    pred = 1\n",
    "    for j in range(nf): pred = pred * slist.iloc[:,j+1] \n",
    "    pred = pred**(1/nf)\n",
    "\n",
    "    submit = pd.DataFrame({'custid': slist.custid, 'gender': pred})\n",
    "    t = pd.Timestamp.now()\n",
    "    fname = \"submission_ES_\" + str(t.month) + str(t.day) + \"_\" + str(t.hour) + str(t.minute) + \".csv\"\n",
    "    submit.to_csv(fname, index=False)"
   ]
  },
  {
   "cell_type": "markdown",
   "metadata": {},
   "source": [
    "## End"
   ]
  }
 ],
 "metadata": {
  "kernelspec": {
   "display_name": "Python 3",
   "language": "python",
   "name": "python3"
  },
  "language_info": {
   "codemirror_mode": {
    "name": "ipython",
    "version": 3
   },
   "file_extension": ".py",
   "mimetype": "text/x-python",
   "name": "python",
   "nbconvert_exporter": "python",
   "pygments_lexer": "ipython3",
   "version": "3.6.5"
  }
 },
 "nbformat": 4,
 "nbformat_minor": 2
}

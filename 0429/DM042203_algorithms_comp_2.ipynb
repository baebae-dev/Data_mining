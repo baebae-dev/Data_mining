{
 "cells": [
  {
   "cell_type": "markdown",
   "metadata": {},
   "source": [
    "<font color=#CC3D3D>\n",
    "## Performance Comparison between Tree-based Algorithms\n",
    "<p>\n",
    "- Decision Tree *vs.* Random Forest *vs.* Gradient Boosting *vs.* XGBoost *vs.* LightGBM"
   ]
  },
  {
   "cell_type": "code",
   "execution_count": null,
   "metadata": {},
   "outputs": [],
   "source": [
    "import numpy as np\n",
    "from sklearn import datasets\n",
    "from sklearn.model_selection import train_test_split\n",
    "import warnings\n",
    "warnings.filterwarnings(\"ignore\")"
   ]
  },
  {
   "cell_type": "markdown",
   "metadata": {},
   "source": [
    "#### 비교할 알고리즘(모듈) 추가와 객체화"
   ]
  },
  {
   "cell_type": "code",
   "execution_count": null,
   "metadata": {},
   "outputs": [],
   "source": [
    "from sklearn.tree import DecisionTreeClassifier\n",
    "from sklearn.ensemble import BaggingClassifier, RandomForestClassifier, GradientBoostingClassifier\n",
    "from xgboost import XGBClassifier\n",
    "from lightgbm import LGBMClassifier\n",
    "\n",
    "models = [\n",
    "    DecisionTreeClassifier(random_state=0),\n",
    "    RandomForestClassifier(random_state=0), \n",
    "    GradientBoostingClassifier(),\n",
    "    XGBClassifier(tree_method = 'hist', random_state=0),\n",
    "    LGBMClassifier(),\n",
    "]"
   ]
  },
  {
   "cell_type": "markdown",
   "metadata": {},
   "source": [
    "#### 샘플과 속성의 갯수를 변경하면서 성능 측정"
   ]
  },
  {
   "cell_type": "code",
   "execution_count": null,
   "metadata": {},
   "outputs": [],
   "source": [
    "%%time\n",
    "\n",
    "accuracy = [] \n",
    "\n",
    "for m in models :\n",
    "    count = 0\n",
    "    for s in range(1000, 5000, 1000) :\n",
    "        for f in range(10, 50, 10) :\n",
    "            X, y = datasets.make_classification(n_samples=s, n_features=f, random_state=0)\n",
    "            X_train, X_test, y_train, y_test = train_test_split(X, y, test_size=0.3, random_state=0)\n",
    "            accuracy.append(m.fit(X_train, y_train).score(X_test, y_test))\n",
    "            count += 1\n",
    "\n",
    "acc = np.array(accuracy).reshape(-1, count)\n",
    "for i, m in enumerate(models) :\n",
    "    print(\"%s %.5f(%.5f)\" % (type(m).__name__, acc[i].mean(), acc[i].std()))"
   ]
  },
  {
   "cell_type": "markdown",
   "metadata": {},
   "source": [
    "<font color=#CC3D3D>\n",
    "## End"
   ]
  }
 ],
 "metadata": {
  "kernelspec": {
   "display_name": "Python 3",
   "language": "python",
   "name": "python3"
  },
  "language_info": {
   "codemirror_mode": {
    "name": "ipython",
    "version": 3
   },
   "file_extension": ".py",
   "mimetype": "text/x-python",
   "name": "python",
   "nbconvert_exporter": "python",
   "pygments_lexer": "ipython3",
   "version": "3.6.5"
  }
 },
 "nbformat": 4,
 "nbformat_minor": 2
}
